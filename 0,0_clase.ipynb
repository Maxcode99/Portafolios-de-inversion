{
 "cells": [
  {
   "cell_type": "markdown",
   "id": "70782451",
   "metadata": {},
   "source": [
    "# Módulo 1: Introducción\n",
    "\n",
    "## Herramientas básicas de python\n",
    "\n",
    "### Actividad 1: En clase \n",
    "\n",
    "* Entender estructuras básicas:\n",
    "    * Notebooks.\n",
    "    * Tipos de datos en Python.\n",
    "    * Algunas de las librerías/herramientas utilizadas en DS para manipulación de datos.\n",
    "        * Pandas.\n",
    "        * Numpy.\n",
    "        * Matplotlib.\n",
    "        * Apply.\n",
    "* Partiendo del objeto `df` generado en clase generar: \n",
    "    * Promedio acumulado agrupado por usuario considerando _lag_ de un dato (que para un mismo usuario no se considere el dato de la fila en cuestión). \n",
    "\n",
    "### Actividad 2: Autónoma\n",
    "\n",
    "* Mediante un `dict comprehension`:\n",
    "    * Iterar y llenar un diccionario con un for loop que itere sobre un `range(10)`. \n",
    "    * Los índices del diccionario deberan tener el formato `col#` donde `#` será el número de columna (puedes obtenerlo de la iteración del `for`). \n",
    "    * Cada uno de los valores del diccionario será una serie de 10 números aleatorios normalmente distribuidos generados con `numpy`, la media (`loc`) de estos datos deberá de ser del índice en cuestión (lo obtendrás de la iteración del for) y la desviación estándar (`scale`) deberá de ser el índice multiplicado por 10. \n",
    "    * Al final el diccionario tendrá una forma similar a esta:\n",
    "    \n",
    "    `{col0: [10 números aleatorios con media 0 y desviación 0],\n",
    "       col1: [10 números aleatorios con media 1 y desviación 10], \n",
    "       ...,\n",
    "       col9: [10 números aleatorios con media 9 y desviación 90]}`\n",
    "* A tu diccionario obtenido del punto anterior, le agregarás un `key` que lleve por nombre \"usuarios\". El valor será la lista de los siguientes usuarios: `['a', 'b', 'b', 'c', 'd', 'd', 'e', 'f', 'f', 'f']`.\n",
    "* El diccionario ya con los usuarios lo convertirás en un `pandas.DataFrame`. \n",
    "* Con ese DataFrame obtendrás: \n",
    "    * El valor que esté en el índice \"3\" de la columna \"col4\". \n",
    "    * La mediana agrupada por usuario con un lag (shift) de dos periodos y una expansión (expanding) de un periodo. \n",
    "    * Responder: ¿Por qué solo el usuario `f` tiene un valor no nulo? \n"
   ]
  },
  {
   "cell_type": "markdown",
   "id": "fbe98457",
   "metadata": {},
   "source": [
    "## Iniciando con los notebooks\n",
    "\n",
    "Este es un jupyter notebook. \n",
    "\n",
    "Funciona como un lugar donde puedes hacer código y ver inmediatamente los resultados (siendo éstos código, gráficas u otro) pero también escribir texto, insertar imágenes, fórmulas, etcétera.\n",
    " \n",
    " "
   ]
  },
  {
   "cell_type": "markdown",
   "id": "4774ff84",
   "metadata": {},
   "source": [
    "### Ecuaciones \n",
    "\n",
    "Podemos agregar ecuaciones en Jupyter con el uso de $\\LaTeX$.\n",
    "\n",
    "Con el siguiente código en el tipo de celda `Raw NBConvert` generaríamos dos ecuaciones: "
   ]
  },
  {
   "cell_type": "raw",
   "id": "806949a1",
   "metadata": {},
   "source": [
    "\n",
    "\\begin{align}\n",
    "    \\begin{split}\n",
    "        y &= mx + b \\\\\n",
    "        x &= \\frac{y - b}{m}\n",
    "    \\end{split}\n",
    "\\end{align}\n"
   ]
  },
  {
   "cell_type": "markdown",
   "id": "57aeafa0",
   "metadata": {},
   "source": [
    "El mismo código en el tipo de celda `Markdown` produciría las siguientes ecuaciones: "
   ]
  },
  {
   "cell_type": "markdown",
   "id": "e7e1f94c",
   "metadata": {},
   "source": [
    "\\begin{align}\n",
    "    \\begin{split}\n",
    "        y &= mx + b \\\\\n",
    "        x &= \\frac{y - b}{m}\n",
    "    \\end{split}\n",
    "\\end{align}\n"
   ]
  },
  {
   "cell_type": "markdown",
   "id": "52a84df7",
   "metadata": {},
   "source": [
    "### Texto en distintos tamaños\n",
    "Podemos escribir texto \"normal\" y además títulos con el símbolo `#`. "
   ]
  },
  {
   "cell_type": "markdown",
   "id": "73bbcbef",
   "metadata": {},
   "source": [
    "El siguiente código en `Raw NBConvert`:"
   ]
  },
  {
   "cell_type": "raw",
   "id": "075a5bfc",
   "metadata": {},
   "source": [
    "Texto normal\n",
    "\n",
    "#### Título\n",
    "\n",
    "##### Otro título\n",
    "\n",
    "###### Otro título"
   ]
  },
  {
   "cell_type": "markdown",
   "id": "b0901f1d",
   "metadata": {},
   "source": [
    "Produciría lo siguiente en `Markdown`: "
   ]
  },
  {
   "cell_type": "markdown",
   "id": "69aab644",
   "metadata": {},
   "source": [
    "Texto normal\n",
    "\n",
    "#### Título\n",
    "\n",
    "##### Otro título\n",
    "\n",
    "###### Otro título"
   ]
  },
  {
   "cell_type": "markdown",
   "id": "3fdf43fc",
   "metadata": {},
   "source": [
    "### Código\n",
    "\n",
    "Este notebook tiene un `kernel` de python. En resumidas cuentas, eso nos permitirá ejecutar python en en este notebook. "
   ]
  },
  {
   "cell_type": "markdown",
   "id": "23d8aa31",
   "metadata": {},
   "source": [
    "### Tipos de datos básicos\n",
    "* Cadenas de texto (`str`).\n",
    "* Números\n",
    "    * Enteros (`int`).\n",
    "    * Flotantes (`float`).\n",
    "* Secuencias\n",
    "    * Listas (representadas por `[...]`).\n",
    "    * Tuplas (representadas por `(...)`).\n",
    "    * Rangos (representadas por `range`). \n",
    "* Mapping\n",
    "    * Diccionarios (representados por `{...}`)\n",
    "* Booleanos\n"
   ]
  },
  {
   "cell_type": "markdown",
   "id": "8547159c",
   "metadata": {},
   "source": [
    "## Cadenas de texto\n",
    "\n",
    "Las cadenas de texto son versátiles en Python, tanto que incluso podemos hacer operaciones con ellas. "
   ]
  },
  {
   "cell_type": "code",
   "execution_count": 2,
   "id": "0d5a25db",
   "metadata": {},
   "outputs": [],
   "source": [
    "cadena = 'Estoy estudiando '\n",
    "cadena2 = 'Ingeniería Financiera'"
   ]
  },
  {
   "cell_type": "code",
   "execution_count": null,
   "id": "d2e71bad",
   "metadata": {},
   "outputs": [],
   "source": []
  },
  {
   "cell_type": "markdown",
   "id": "ad869a84",
   "metadata": {},
   "source": [
    "Podemos agregar datos dentro de un string y que éste sea manipulable."
   ]
  },
  {
   "cell_type": "code",
   "execution_count": 4,
   "id": "c54198d0",
   "metadata": {},
   "outputs": [],
   "source": []
  },
  {
   "cell_type": "code",
   "execution_count": null,
   "id": "a18332e5",
   "metadata": {},
   "outputs": [],
   "source": []
  },
  {
   "cell_type": "markdown",
   "id": "e1749ed5",
   "metadata": {},
   "source": [
    "Y además generar _fstrings_, que son cadenas manipulables nuevas en Python3. \n",
    "\n",
    "Estas strings se caracterizan por anteponer una `f` antes de su generación y proveer de una lectura más sencilla. "
   ]
  },
  {
   "cell_type": "code",
   "execution_count": 8,
   "id": "cc134659",
   "metadata": {},
   "outputs": [],
   "source": []
  },
  {
   "cell_type": "code",
   "execution_count": null,
   "id": "1bcaa01e",
   "metadata": {},
   "outputs": [],
   "source": []
  },
  {
   "cell_type": "markdown",
   "id": "b37e0c31",
   "metadata": {},
   "source": [
    "## Objetos básicos en python \n",
    "\n",
    "#### Listas\n",
    "Las listas son objetos en python de size `n`. Las listas pueden albergar enteros, textos o booleanos. \n"
   ]
  },
  {
   "cell_type": "code",
   "execution_count": 11,
   "id": "1681f49a",
   "metadata": {},
   "outputs": [
    {
     "data": {
      "text/plain": [
       "[1, 2, 3, 4]"
      ]
     },
     "execution_count": 11,
     "metadata": {},
     "output_type": "execute_result"
    }
   ],
   "source": [
    "mi_lista = [1, 2, 3, 4]\n",
    "mi_lista"
   ]
  },
  {
   "cell_type": "code",
   "execution_count": null,
   "id": "e7fc12b8",
   "metadata": {},
   "outputs": [],
   "source": []
  },
  {
   "cell_type": "code",
   "execution_count": 13,
   "id": "7d09a52a",
   "metadata": {},
   "outputs": [
    {
     "data": {
      "text/plain": [
       "['hola', 'mundo']"
      ]
     },
     "execution_count": 13,
     "metadata": {},
     "output_type": "execute_result"
    }
   ],
   "source": [
    "mi_lista_textos = ['hola', 'mundo']\n",
    "mi_lista_textos"
   ]
  },
  {
   "cell_type": "markdown",
   "id": "f0c470a7",
   "metadata": {},
   "source": [
    "A las listas se les puede agregar o eliminar elementos con `append` o `remove`."
   ]
  },
  {
   "cell_type": "code",
   "execution_count": 1,
   "id": "c926ea19",
   "metadata": {},
   "outputs": [],
   "source": [
    "# Agregando el \"5\" a \"mi_lista\"\n"
   ]
  },
  {
   "cell_type": "code",
   "execution_count": 2,
   "id": "c3721e39",
   "metadata": {},
   "outputs": [],
   "source": [
    "# Eliminando el \"3\" a \"mi_lista\"\n"
   ]
  },
  {
   "cell_type": "markdown",
   "id": "fc85a0b5",
   "metadata": {},
   "source": [
    "A su vez las listas pueden tener posiciones (iniciando desde el cero) y posiciones inversas (iniciando desde el -1). "
   ]
  },
  {
   "cell_type": "code",
   "execution_count": 3,
   "id": "c7e9f0d8",
   "metadata": {},
   "outputs": [],
   "source": [
    "# Primer posición\n"
   ]
  },
  {
   "cell_type": "code",
   "execution_count": 4,
   "id": "30be340b",
   "metadata": {},
   "outputs": [],
   "source": [
    "# Última posición \n"
   ]
  },
  {
   "cell_type": "markdown",
   "id": "40b822fa",
   "metadata": {},
   "source": [
    "Podemos agregar un compendio de posiciones utilizando el símbolo \"dos puntos\" (`:`)."
   ]
  },
  {
   "cell_type": "code",
   "execution_count": null,
   "id": "5e7949c7",
   "metadata": {},
   "outputs": [],
   "source": []
  },
  {
   "cell_type": "markdown",
   "id": "5a1e3d13",
   "metadata": {},
   "source": [
    "Notar que el extremo derecho no es incluyente. Podemos usar doble \"dos puntos\" para llegar hasta el final.  "
   ]
  },
  {
   "cell_type": "code",
   "execution_count": null,
   "id": "a3bab784",
   "metadata": {},
   "outputs": [],
   "source": []
  },
  {
   "cell_type": "markdown",
   "id": "2d815f95",
   "metadata": {},
   "source": [
    "#### Diccionarios\n",
    "Los diccionarios son usados para guardar valores en pares de la forma `{llave: valor}`. \n",
    "\n",
    "Algunos ejemplos de un diccionario pueden ser las notas en una clase: \n",
    "\n",
    "```\n",
    "{Alumno1: 6, Alumno2: 10, Alumno3: 9}\n",
    "\n",
    "```\n"
   ]
  },
  {
   "cell_type": "code",
   "execution_count": 27,
   "id": "728436fe",
   "metadata": {},
   "outputs": [
    {
     "data": {
      "text/plain": [
       "{'alumno1': 6, 'alumno2': 10, 'alumno3': 9}"
      ]
     },
     "execution_count": 27,
     "metadata": {},
     "output_type": "execute_result"
    }
   ],
   "source": [
    "mi_dict = {'alumno1': 6, 'alumno2': 10, 'alumno3': 9}\n",
    "mi_dict"
   ]
  },
  {
   "cell_type": "markdown",
   "id": "086a10a3",
   "metadata": {},
   "source": [
    "Se puede acceder a estos diccionarios con el nombre del `key` (el que antecede los dos puntos)."
   ]
  },
  {
   "cell_type": "code",
   "execution_count": 5,
   "id": "5e361996",
   "metadata": {},
   "outputs": [],
   "source": [
    "# Encontrando la calificación del alumno3\n"
   ]
  },
  {
   "cell_type": "markdown",
   "id": "33b920ba",
   "metadata": {},
   "source": [
    "Se puede usar el método `get` para buscar un key en el diccionario y que devuelva un valor _default_ si no existe ese key. Ese valor _default_ se puede modificar. \n"
   ]
  },
  {
   "cell_type": "code",
   "execution_count": 6,
   "id": "5ee95dfe",
   "metadata": {},
   "outputs": [],
   "source": [
    "# Encontrando calificación del alumno4\n"
   ]
  },
  {
   "cell_type": "code",
   "execution_count": 7,
   "id": "d3c3eb1c",
   "metadata": {},
   "outputs": [],
   "source": [
    "# Modificando el valor default\n"
   ]
  },
  {
   "cell_type": "markdown",
   "id": "a2050f38",
   "metadata": {},
   "source": [
    "#### List/dict comprehension\n",
    "\n",
    "Esta es una de las formas _pythónicas_ de trabajar pues nos permite mezclar _loops_ y al mismo tiempo generar alguno de estos objetos. "
   ]
  },
  {
   "cell_type": "code",
   "execution_count": 8,
   "id": "f6329ba2",
   "metadata": {},
   "outputs": [],
   "source": [
    "# Lista\n"
   ]
  },
  {
   "cell_type": "code",
   "execution_count": 9,
   "id": "8923041e",
   "metadata": {},
   "outputs": [],
   "source": [
    "# Diccionario\n"
   ]
  },
  {
   "cell_type": "markdown",
   "id": "625a62b6",
   "metadata": {},
   "source": [
    "## Recordando ciclos\n",
    "\n",
    "Así como en todos los lenguajes, Python tiene diversas formas de iteración. Veremos estructura de los ciclos `for` y `while`. \n",
    "\n",
    "#### Ciclo for\n",
    "El ciclo `for` itera sobre un iterable. Un iterable es un objeto sobre el cual, como su nombre lo dice, se puede iterar. Éste puede ser una lista, una tupla, un `range` o un `items` (dentro de un diccionario). \n"
   ]
  },
  {
   "cell_type": "code",
   "execution_count": 10,
   "id": "7a797703",
   "metadata": {},
   "outputs": [],
   "source": [
    "# Iterando sobre una lista\n"
   ]
  },
  {
   "cell_type": "code",
   "execution_count": 11,
   "id": "503e3ec3",
   "metadata": {},
   "outputs": [],
   "source": [
    "# Iterando sobre un range\n"
   ]
  },
  {
   "cell_type": "code",
   "execution_count": 12,
   "id": "3e333ede",
   "metadata": {},
   "outputs": [],
   "source": [
    "# Iterando sobre items de un diccionario\n"
   ]
  },
  {
   "cell_type": "markdown",
   "id": "b1e9f651",
   "metadata": {},
   "source": [
    "#### Ciclo `while`\n",
    "El ciclo `while`, como su nombre lo dice, itera mientras una condición se cumpla. ´\b"
   ]
  },
  {
   "cell_type": "code",
   "execution_count": null,
   "id": "08221cb7",
   "metadata": {},
   "outputs": [],
   "source": []
  },
  {
   "cell_type": "markdown",
   "id": "907c03be",
   "metadata": {},
   "source": [
    "## Introduciendo librerías principales: Pandas, Numpy y Matplotlib\n",
    "\n",
    "### Pandas \n",
    "\n",
    "_Pandas_ es una librería que nos permite manejar datos de forma tabular. \n",
    "\n",
    "Los objetos que pandas nos brinda son instanciables con distintas funcionalidades, desde muy básicas como _promedio, sumas, absolutos_ entre otros hasta funciones más complejas como gráficos diversos, descripción de la data, etcétera. \n",
    "\n",
    "El objeto básico de pandas es un _pandas.DataFrame_. Esta es una forma tabular de ver la información que consta de filas y columnas, éstas pueden ser de múltiplos tipos.\n",
    "\n",
    "Más en la documentación oficial: https://pandas.pydata.org/docs/ \n",
    "Repositorio: https://github.com/pandas-dev/pandas "
   ]
  },
  {
   "cell_type": "code",
   "execution_count": 7,
   "id": "46de7f98",
   "metadata": {},
   "outputs": [],
   "source": [
    "# Importemos una librería para generar fechas\n",
    "import datetime\n",
    "\n",
    "# Importemos la librería pandas\n",
    "import pandas as pd\n",
    "\n",
    "# Generemos diccionario con distintos tipos de dato.\n",
    "raw_data = {'col_numerica': [1, 2, -3, 4, -5],\n",
    "            'col_texto': ['text1', 'text2', 'text3', 'text4', 'text5'],\n",
    "            'col_booleans': [True, True, False, True, False],\n",
    "            'col_fechas': [datetime.date(2020, 7, 28), datetime.date(2020, 7, 29),\n",
    "                           datetime.date(2020, 7, 30), datetime.date(2020, 7, 31),\n",
    "                          datetime.date(2020, 7, 28)]}\n",
    "\n",
    "# Imprimamos nuestro diccionario\n",
    "\n",
    "\n",
    "# Generemos una tabla con pandas a partir de ese diccionario\n"
   ]
  },
  {
   "cell_type": "code",
   "execution_count": 6,
   "id": "4aa6ae4b-4edc-451c-935a-8820798cd8a4",
   "metadata": {},
   "outputs": [
    {
     "name": "stdout",
     "output_type": "stream",
     "text": [
      "Collecting pandas\n",
      "  Obtaining dependency information for pandas from https://files.pythonhosted.org/packages/e3/59/35a2892bf09ded9c1bf3804461efe772836a5261ef5dfb4e264ce813ff99/pandas-2.0.3-cp310-cp310-manylinux_2_17_x86_64.manylinux2014_x86_64.whl.metadata\n",
      "  Downloading pandas-2.0.3-cp310-cp310-manylinux_2_17_x86_64.manylinux2014_x86_64.whl.metadata (18 kB)\n",
      "Requirement already satisfied: python-dateutil>=2.8.2 in /home/dell/my_project_dir/my_project_env/lib/python3.10/site-packages (from pandas) (2.8.2)\n",
      "Collecting pytz>=2020.1 (from pandas)\n",
      "  Downloading pytz-2023.3-py2.py3-none-any.whl (502 kB)\n",
      "\u001b[2K     \u001b[38;2;114;156;31m━━━━━━━━━━━━━━━━━━━━━━━━━━━━━━━━━━━━━━━\u001b[0m \u001b[32m502.3/502.3 kB\u001b[0m \u001b[31m2.2 MB/s\u001b[0m eta \u001b[36m0:00:00\u001b[0m MB/s\u001b[0m eta \u001b[36m0:00:01\u001b[0m:01\u001b[0m\n",
      "\u001b[?25hCollecting tzdata>=2022.1 (from pandas)\n",
      "  Downloading tzdata-2023.3-py2.py3-none-any.whl (341 kB)\n",
      "\u001b[2K     \u001b[38;2;114;156;31m━━━━━━━━━━━━━━━━━━━━━━━━━━━━━━━━━━━━━━━\u001b[0m \u001b[32m341.8/341.8 kB\u001b[0m \u001b[31m3.1 MB/s\u001b[0m eta \u001b[36m0:00:00\u001b[0m[31m3.1 MB/s\u001b[0m eta \u001b[36m0:00:01\u001b[0m\n",
      "\u001b[?25hCollecting numpy>=1.21.0 (from pandas)\n",
      "  Obtaining dependency information for numpy>=1.21.0 from https://files.pythonhosted.org/packages/71/3c/3b1981c6a1986adc9ee7db760c0c34ea5b14ac3da9ecfcf1ea2a4ec6c398/numpy-1.25.2-cp310-cp310-manylinux_2_17_x86_64.manylinux2014_x86_64.whl.metadata\n",
      "  Downloading numpy-1.25.2-cp310-cp310-manylinux_2_17_x86_64.manylinux2014_x86_64.whl.metadata (5.6 kB)\n",
      "Requirement already satisfied: six>=1.5 in /home/dell/my_project_dir/my_project_env/lib/python3.10/site-packages (from python-dateutil>=2.8.2->pandas) (1.16.0)\n",
      "Downloading pandas-2.0.3-cp310-cp310-manylinux_2_17_x86_64.manylinux2014_x86_64.whl (12.3 MB)\n",
      "\u001b[2K   \u001b[38;2;114;156;31m━━━━━━━━━━━━━━━━━━━━━━━━━━━━━━━━━━━━━━━━\u001b[0m \u001b[32m12.3/12.3 MB\u001b[0m \u001b[31m3.0 MB/s\u001b[0m eta \u001b[36m0:00:00\u001b[0mm eta \u001b[36m0:00:01\u001b[0m[36m0:00:01\u001b[0m\n",
      "\u001b[?25hDownloading numpy-1.25.2-cp310-cp310-manylinux_2_17_x86_64.manylinux2014_x86_64.whl (18.2 MB)\n",
      "\u001b[2K   \u001b[38;2;114;156;31m━━━━━━━━━━━━━━━━━━━━━━━━━━━━━━━━━━━━━━━━\u001b[0m \u001b[32m18.2/18.2 MB\u001b[0m \u001b[31m4.9 MB/s\u001b[0m eta \u001b[36m0:00:00\u001b[0mm eta \u001b[36m0:00:01\u001b[0m[36m0:00:01\u001b[0m\n",
      "\u001b[?25hInstalling collected packages: pytz, tzdata, numpy, pandas\n",
      "Successfully installed numpy-1.25.2 pandas-2.0.3 pytz-2023.3 tzdata-2023.3\n"
     ]
    }
   ],
   "source": [
    "!pip install pandas"
   ]
  },
  {
   "cell_type": "code",
   "execution_count": 3,
   "id": "744cbdfc",
   "metadata": {},
   "outputs": [],
   "source": [
    "# Veamos tipos de datos por columna\n"
   ]
  },
  {
   "cell_type": "code",
   "execution_count": 38,
   "id": "c9daf19f",
   "metadata": {},
   "outputs": [
    {
     "data": {
      "text/plain": [
       "pandas.core.frame.DataFrame"
      ]
     },
     "execution_count": 38,
     "metadata": {},
     "output_type": "execute_result"
    }
   ],
   "source": [
    "# ¿Qué sucede si buscamos el type de la variable \"df\"?\n",
    "type(df)"
   ]
  },
  {
   "cell_type": "markdown",
   "id": "1fd470cc",
   "metadata": {},
   "source": [
    "#### Operaciones básicas con pandas\n",
    "`Pandas` nos permite hacer cálculos de manera muy sencilla aplicable a todas los valores por columna o por renglón incluso. \n",
    "\n",
    "Supongamos que queremos acceder a columnas distintas, podemos hacerlo de dos formas diferentes: \n",
    "\n",
    "* Con el nombre de la columna entre comillas.\n",
    "* Con el nombre de la columna precedido y seguido de puntos. "
   ]
  },
  {
   "cell_type": "code",
   "execution_count": 180,
   "id": "50e472be",
   "metadata": {},
   "outputs": [],
   "source": [
    "df = pd.DataFrame({\"value\": [3, 1, 2, None, 4, 5, 7, 9],\n",
    "                   'user': ['a', 'a', 'b', 'b', 'c', 'a', 'b', 'c'],\n",
    "                  'date': [datetime.date(2020, 7, 28), datetime.date(2020, 7, 29),\n",
    "                           datetime.date(2020, 7, 30), datetime.date(2020, 7, 31),\n",
    "                          datetime.date(2020, 7, 28),\n",
    "                          datetime.date(2020, 8, 28),\n",
    "                          datetime.date(2020, 9, 28),\n",
    "                          datetime.date(2020, 10, 28)]})"
   ]
  },
  {
   "cell_type": "code",
   "execution_count": null,
   "id": "ccbb6c19",
   "metadata": {},
   "outputs": [],
   "source": []
  },
  {
   "cell_type": "code",
   "execution_count": 15,
   "id": "87045f80",
   "metadata": {},
   "outputs": [],
   "source": [
    "# Promedio\n"
   ]
  },
  {
   "cell_type": "code",
   "execution_count": 16,
   "id": "c377fb45",
   "metadata": {},
   "outputs": [],
   "source": [
    "# Otra forma de acceder a la misma columna y seguir sacando el promedio\n"
   ]
  },
  {
   "cell_type": "code",
   "execution_count": 17,
   "id": "3f9aed50",
   "metadata": {},
   "outputs": [],
   "source": [
    "# Mediana\n"
   ]
  },
  {
   "cell_type": "code",
   "execution_count": 18,
   "id": "cb6637af",
   "metadata": {},
   "outputs": [],
   "source": [
    "# Cuenta\n"
   ]
  },
  {
   "cell_type": "code",
   "execution_count": 19,
   "id": "fcddf0ff",
   "metadata": {},
   "outputs": [],
   "source": [
    "# Operaciones anidadas: La mediana de los absolutos\n"
   ]
  },
  {
   "cell_type": "markdown",
   "id": "e5745753",
   "metadata": {},
   "source": [
    "Podemos acceder además a coordenadas específicas. Hay dos métodos principales: `loc` y `iloc`. \n",
    "\n",
    "* `loc`\n",
    "    * Nos permite acceder vía índices, esto es, con el \"indicador\" de cada renglón.\n",
    "    * Nos permite acceder mediante el nombre directo de columnas.\n",
    "* `iloc`\n",
    "    * Nos permite acceder por posiciones sin importar el nombre del índice o columna. "
   ]
  },
  {
   "cell_type": "code",
   "execution_count": 20,
   "id": "f31e1657",
   "metadata": {},
   "outputs": [],
   "source": [
    "# Accediendo a una matriz usando .loc\n"
   ]
  },
  {
   "cell_type": "code",
   "execution_count": 21,
   "id": "ee663d6f",
   "metadata": {},
   "outputs": [],
   "source": [
    "# Accediendo a una matriz usando .iloc\n"
   ]
  },
  {
   "cell_type": "markdown",
   "id": "5ff22d1e",
   "metadata": {},
   "source": [
    "Hasta aquí hemos usado algunos de los componentes más básicos de Pandas, a continuación veremos otras herramientas muy utilizadas en ciencia de datos, éstas son:\n",
    "\n",
    "* `Groupby` + `Aggregate`. \n",
    "* `Mask`.\n",
    "* `Shift`.\n",
    "* `Expanding`.\n",
    "* `Apply`.\n"
   ]
  },
  {
   "cell_type": "markdown",
   "id": "d988ae0a",
   "metadata": {},
   "source": [
    "#### `Groupby` + `Aggregate`\n",
    "\n",
    "Como su nombre lo dice, `groupby` nos ayudará a agrupar. Podremos a partir de cierta agrupación calcular cosas de manera masiva y sin tener que hacer loops o algo por el estilo. "
   ]
  },
  {
   "cell_type": "code",
   "execution_count": 22,
   "id": "b0d582d3",
   "metadata": {},
   "outputs": [],
   "source": [
    "# Agrupación por usuario\n"
   ]
  },
  {
   "cell_type": "markdown",
   "id": "980ecd24",
   "metadata": {},
   "source": [
    "Se genera un objeto sobre el cual podremos calcular cosas con (1) `aggregate` o sin éste. \n",
    "\n",
    "El formato con `aggregate` será así: `{columna(s): función(es)}`. Si se adjuntan varias columnas o funciones podremos usar `dict comprehension` para el llenado eficiente. "
   ]
  },
  {
   "cell_type": "code",
   "execution_count": 23,
   "id": "58f082a4",
   "metadata": {},
   "outputs": [],
   "source": [
    "# Con aggregate\n",
    "\n"
   ]
  },
  {
   "cell_type": "markdown",
   "id": "150d653e",
   "metadata": {},
   "source": [
    "Podemos no utilizar aggregate pero esto implicará que utilizaremos una única función y la lectura se dificultará un poco."
   ]
  },
  {
   "cell_type": "code",
   "execution_count": 24,
   "id": "1fd09baa",
   "metadata": {},
   "outputs": [],
   "source": [
    "# Sin aggregate\n"
   ]
  },
  {
   "cell_type": "markdown",
   "id": "a49be650",
   "metadata": {},
   "source": [
    "#### `Mask` \n",
    "\n",
    "Este comando nos ayudará a reemplazar valores **dada una condición.**\n"
   ]
  },
  {
   "cell_type": "code",
   "execution_count": 25,
   "id": "00af0059",
   "metadata": {},
   "outputs": [],
   "source": [
    "# Haremos una copia para no afectar el frame original\n"
   ]
  },
  {
   "cell_type": "code",
   "execution_count": 26,
   "id": "86f128db",
   "metadata": {},
   "outputs": [],
   "source": [
    "# Comando sin reemplazo\n"
   ]
  },
  {
   "cell_type": "code",
   "execution_count": 27,
   "id": "39a82adb",
   "metadata": {},
   "outputs": [],
   "source": [
    "# Comando con reemplazo\n"
   ]
  },
  {
   "cell_type": "markdown",
   "id": "04c20653",
   "metadata": {},
   "source": [
    "#### `Shift` \n",
    "\n",
    "Este comando nos ayudará a desplazar elementos en un `DataFrame`. Es útil para generación de variables y evitar un fenónemo conocido como `leakage` (lo abordaremos a detalle más adelante). \n"
   ]
  },
  {
   "cell_type": "code",
   "execution_count": null,
   "id": "ee8d26ee",
   "metadata": {},
   "outputs": [],
   "source": []
  },
  {
   "cell_type": "code",
   "execution_count": null,
   "id": "50202d61",
   "metadata": {},
   "outputs": [],
   "source": []
  },
  {
   "cell_type": "markdown",
   "id": "63aa2dee",
   "metadata": {},
   "source": [
    "El comando puede funcionar con periodos (filas) o bien con tiempo. Cuando se filtra por tiempo hay que cuidar el índice para que éste sea leído como una fecha. "
   ]
  },
  {
   "cell_type": "code",
   "execution_count": null,
   "id": "590faa53",
   "metadata": {},
   "outputs": [],
   "source": []
  },
  {
   "cell_type": "code",
   "execution_count": 198,
   "id": "d8bcc63c",
   "metadata": {},
   "outputs": [],
   "source": [
    "# Copia del frame\n",
    "\n",
    "\n",
    "# Nos aseguramos que la fecha sea leída como tal y que esté en el índice\n"
   ]
  },
  {
   "cell_type": "code",
   "execution_count": null,
   "id": "98553c76",
   "metadata": {},
   "outputs": [],
   "source": []
  },
  {
   "cell_type": "markdown",
   "id": "d5be06db",
   "metadata": {},
   "source": [
    "#### `Expanding`\n",
    "\n",
    "Este comando, como su nombre lo dice, hace una expansión de `n` periodos mínimos para posteriormente generar un cálculo. \n",
    "\n",
    "Si se aplican cálculos posteriores "
   ]
  },
  {
   "cell_type": "code",
   "execution_count": null,
   "id": "59cdfb9a",
   "metadata": {},
   "outputs": [],
   "source": []
  },
  {
   "cell_type": "code",
   "execution_count": null,
   "id": "11a309d3",
   "metadata": {},
   "outputs": [],
   "source": []
  },
  {
   "cell_type": "code",
   "execution_count": null,
   "id": "3fa88ca6",
   "metadata": {},
   "outputs": [],
   "source": []
  },
  {
   "cell_type": "markdown",
   "id": "41aaeb2b",
   "metadata": {},
   "source": [
    "Este comando no hará el cálculo con solo el parámetro `min_periods`, sino que lo hará con _al menos `min_periods`_. "
   ]
  },
  {
   "cell_type": "code",
   "execution_count": 29,
   "id": "dc337be4",
   "metadata": {},
   "outputs": [],
   "source": [
    "# Intentando con al menos 2 periodos\n"
   ]
  },
  {
   "cell_type": "markdown",
   "id": "d7bdb05d",
   "metadata": {},
   "source": [
    "Observamos que el dato de la primera fila no tiene información pues no hay dos elementos para ser calculado (contando esa fila)."
   ]
  },
  {
   "cell_type": "markdown",
   "id": "0716b49d",
   "metadata": {},
   "source": [
    "#### `Apply`\n",
    "\n",
    "Este comando nos permite aplicar funciones a una serie de filas y/o columnas sin necesidad de uso de ciclos. \n",
    "\n",
    "Como _input_ podemos usar funciones prestablecidas o bien funciones `lambda`. \n",
    "\n",
    "Las funciones `lambda` son funciones locales que no se podrán utilizar más que en la línea de código donde existen, se usan de manera temporal. "
   ]
  },
  {
   "cell_type": "code",
   "execution_count": null,
   "id": "1a382437",
   "metadata": {},
   "outputs": [],
   "source": []
  },
  {
   "cell_type": "code",
   "execution_count": 30,
   "id": "13da04ba",
   "metadata": {},
   "outputs": [],
   "source": [
    "# Usando función lambda\n"
   ]
  },
  {
   "cell_type": "code",
   "execution_count": 31,
   "id": "ef6694c1",
   "metadata": {},
   "outputs": [],
   "source": [
    "# Definiendo una función y aplicándola\n",
    "\n",
    "\n",
    "# Aplicándola\n"
   ]
  },
  {
   "cell_type": "markdown",
   "id": "bf98c6ef",
   "metadata": {},
   "source": [
    "### Gráficos con Pandas\n",
    "`Pandas` además nos permite generar gráficos de una manera muy sencilla. \n",
    "\n",
    "Grafiquemos a continuación la columna `value`. "
   ]
  },
  {
   "cell_type": "code",
   "execution_count": 32,
   "id": "94c13684",
   "metadata": {},
   "outputs": [],
   "source": [
    "# Gráficos con pandas\n",
    "\n"
   ]
  },
  {
   "cell_type": "markdown",
   "id": "a7d187c1",
   "metadata": {},
   "source": [
    "### Numpy \n",
    "\n",
    "Numpy es una librería que nos permite generar arreglos de distintos tipos (vectores, matrices) y además tiene diversas implementaciones para generar números aleatorios o realizar operaciones básicas (promedios, correlaciones, etc.).\n",
    "\n",
    "Numpy usa como estructura básica el _array_, según su propia documentación, ésta es más rápida de acceder y usa menos recursos que la lista clásica de Python. \n",
    "\n",
    "Referencia: https://numpy.org/doc/stable/ Repositorio: https://github.com/numpy/numpy"
   ]
  },
  {
   "cell_type": "code",
   "execution_count": 214,
   "id": "b6eee50c",
   "metadata": {},
   "outputs": [
    {
     "data": {
      "text/plain": [
       "array([1, 2, 3, 4, 5])"
      ]
     },
     "execution_count": 214,
     "metadata": {},
     "output_type": "execute_result"
    }
   ],
   "source": [
    "# Importamos la librería\n",
    "import numpy as np\n",
    "\n",
    "# Generamos un array\n",
    "array = np.array([1, 2, 3, 4, 5])\n",
    "array"
   ]
  },
  {
   "cell_type": "code",
   "execution_count": 33,
   "id": "19792429",
   "metadata": {},
   "outputs": [],
   "source": [
    "# Promedio:\n"
   ]
  },
  {
   "cell_type": "code",
   "execution_count": 34,
   "id": "1924b0bd",
   "metadata": {},
   "outputs": [],
   "source": [
    "# Mediana:\n"
   ]
  },
  {
   "cell_type": "markdown",
   "id": "8002e942",
   "metadata": {},
   "source": [
    "Podemos pensar una matriz como una serie de arreglos (`array`). Hay maneras diferentes de generarlas, por lo pronto nos quedaremos con esta. "
   ]
  },
  {
   "cell_type": "code",
   "execution_count": 35,
   "id": "1aa1fcc4",
   "metadata": {},
   "outputs": [],
   "source": [
    "# Matrices\n"
   ]
  },
  {
   "cell_type": "markdown",
   "id": "2d79bdd3",
   "metadata": {},
   "source": [
    "Así como en pandas, podemos acceder a la matriz de la forma renglón, columna."
   ]
  },
  {
   "cell_type": "code",
   "execution_count": 36,
   "id": "7a603f03",
   "metadata": {},
   "outputs": [],
   "source": [
    "# Accediendo a una matriz\n"
   ]
  },
  {
   "cell_type": "markdown",
   "id": "b5c8a1d9",
   "metadata": {},
   "source": [
    "Numpy es una librería que tiene muchas herramientas, una de ellas es la generación de números aleatorios.\n",
    "\n",
    "Esto involucra conocimientos de probabilitad y estadística, por lo pronto solo usaremos la implementación sin meternos al detalle ni forma de la distribución. "
   ]
  },
  {
   "cell_type": "code",
   "execution_count": 38,
   "id": "1822d41f",
   "metadata": {},
   "outputs": [],
   "source": [
    "# Generando una distribución de 100 números aleatorios ~N(0, 1)\n",
    "\n",
    "\n",
    "# Estableceremos una semilla\n",
    "\n",
    "\n",
    "# Generación de los números\n"
   ]
  },
  {
   "cell_type": "code",
   "execution_count": null,
   "id": "f7297ce0",
   "metadata": {},
   "outputs": [],
   "source": []
  },
  {
   "cell_type": "code",
   "execution_count": null,
   "id": "40e18be4",
   "metadata": {},
   "outputs": [],
   "source": []
  },
  {
   "cell_type": "markdown",
   "id": "241154ea",
   "metadata": {},
   "source": [
    "Hagamos un ligero _benchmark_ de tiempo entre el promedio sobre una lista de 100,000 elementos."
   ]
  },
  {
   "cell_type": "code",
   "execution_count": 39,
   "id": "d3f4f9dd",
   "metadata": {},
   "outputs": [],
   "source": [
    "n = 100000\n",
    "aleatorios = np.random.normal(size=n)\n",
    "aleatorios_lista = list(np.random.normal(size=n))\n",
    "\n",
    "# Importar librería para medir tiempos\n",
    "import time\n",
    "\n",
    "\n",
    "tic = time.time()\n",
    "np.mean(aleatorios_lista)\n",
    "# sum(aleatorios_lista) / len(aleatorios_lista)\n",
    "toc = time.time()\n",
    "medicion = toc - tic\n",
    "\n",
    "print(f'El tiempo en la lista de {n} elementos es de: {medicion}')\n",
    "\n",
    "tic = time.time()\n",
    "np.mean(aleatorios)\n",
    "toc = time.time()\n",
    "\n",
    "medicion = toc - tic\n",
    "\n",
    "print(f'El tiempo en el array de {n} elementos es de: {medicion}')"
   ]
  },
  {
   "cell_type": "markdown",
   "id": "2b4b89a2",
   "metadata": {},
   "source": [
    "Se observa que hay una diferencia importante. "
   ]
  },
  {
   "cell_type": "markdown",
   "id": "fd890e37",
   "metadata": {},
   "source": [
    "### Matplotlib\n",
    "Matplotlib es una librería que nos permite, como su nombre lo dice, graficar distinto tipo de figuras, desde series de tiempo, histogramas, boxplots, etcétera. \n",
    "\n",
    "Para generar las gráficas hay dos formas \"cómunes\" para hacerlo, usando `ax` o usando directamente `plt`. \n",
    "\n",
    "Más información: https://matplotlib.org/ Repo: https://github.com/matplotlib/matplotlib"
   ]
  },
  {
   "cell_type": "code",
   "execution_count": 40,
   "id": "a2d53497",
   "metadata": {},
   "outputs": [],
   "source": [
    "# Importamos librería\n",
    "import matplotlib.pyplot as plt\n",
    "\n",
    "# Definiendo las figuras. \n",
    "\n",
    "\n",
    "# Generando la línea\n",
    "\n",
    "\n",
    "# Generando una cuadrícula\n",
    "\n",
    "\n",
    "# Agregando leyenda\n",
    "\n"
   ]
  },
  {
   "cell_type": "code",
   "execution_count": 41,
   "id": "5be44580",
   "metadata": {},
   "outputs": [],
   "source": [
    "# Usando plt\n",
    "\n",
    "# Definimos figura\n",
    "\n",
    "\n",
    "# Generamos la línea\n",
    "\n",
    "\n",
    "# Agregamos leyenda\n",
    "\n",
    "\n",
    "# Agregamos cuadrícula\n",
    "\n"
   ]
  },
  {
   "cell_type": "markdown",
   "id": "3024ef79",
   "metadata": {},
   "source": [
    "### Actividad 1: Agrupación de datos por usuario\n",
    "\n",
    "* Partiendo del objeto df generado en clase generar:\n",
    "    * Promedio acumulado agrupado por usuario considerando lag de un dato (que para un mismo usuario no se considere el dato de la fila en cuestión)."
   ]
  },
  {
   "cell_type": "code",
   "execution_count": null,
   "id": "b975c234",
   "metadata": {},
   "outputs": [],
   "source": []
  },
  {
   "cell_type": "markdown",
   "id": "6fa8f616",
   "metadata": {},
   "source": [
    "Para poder lograr el objetivo necesitamos:\n",
    "* Ordenar los datos por fecha **ascendente**.\n",
    "* Agrupar por usuario. \n",
    "* _Laggear_ nuestros datos para que en el cálculo del promedio no consideremos el dato actual. \n",
    "* Expandir nuestros datos para que mantengamos dimensionalidad del frame original y siempre consideremos un dato para el cálculo. \n"
   ]
  },
  {
   "cell_type": "markdown",
   "id": "87d7ce9f",
   "metadata": {},
   "source": [
    "Ordenando por fecha. "
   ]
  },
  {
   "cell_type": "code",
   "execution_count": null,
   "id": "6dbbe0e9",
   "metadata": {},
   "outputs": [],
   "source": []
  },
  {
   "cell_type": "markdown",
   "id": "22a803c3",
   "metadata": {},
   "source": [
    "Agrupar. "
   ]
  },
  {
   "cell_type": "code",
   "execution_count": null,
   "id": "5504f0b2",
   "metadata": {},
   "outputs": [],
   "source": []
  },
  {
   "cell_type": "markdown",
   "id": "ea9ddfc6",
   "metadata": {},
   "source": [
    "En este punto tenemos un objeto, por lo que usaremos un `apply` y dentro de éste los siguientes pasos. \n",
    "\n",
    "Al hacer un `apply` sobre un objeto agrupado, le estaremos aplicando la función (la que definamos en el `apply`) a **todos los subconjuntos agrupados**. En este caso, aplicaremos la función a cada set de usuarios. "
   ]
  },
  {
   "cell_type": "code",
   "execution_count": 42,
   "id": "658134d6",
   "metadata": {},
   "outputs": [],
   "source": [
    "# Aplicando una función lambda\n",
    "# Función lambda con shift y expand de un periodo.\n",
    "\n",
    "\n"
   ]
  },
  {
   "cell_type": "code",
   "execution_count": null,
   "id": "15369a1c",
   "metadata": {},
   "outputs": [],
   "source": []
  },
  {
   "cell_type": "markdown",
   "id": "aec968d0",
   "metadata": {},
   "source": [
    "Agregamos a nuestro frame original para comparar. "
   ]
  },
  {
   "cell_type": "code",
   "execution_count": null,
   "id": "944a9f1d",
   "metadata": {},
   "outputs": [],
   "source": []
  }
 ],
 "metadata": {
  "kernelspec": {
   "display_name": "Python 3 (ipykernel)",
   "language": "python",
   "name": "python3"
  },
  "language_info": {
   "codemirror_mode": {
    "name": "ipython",
    "version": 3
   },
   "file_extension": ".py",
   "mimetype": "text/x-python",
   "name": "python",
   "nbconvert_exporter": "python",
   "pygments_lexer": "ipython3",
   "version": "3.10.12"
  }
 },
 "nbformat": 4,
 "nbformat_minor": 5
}
