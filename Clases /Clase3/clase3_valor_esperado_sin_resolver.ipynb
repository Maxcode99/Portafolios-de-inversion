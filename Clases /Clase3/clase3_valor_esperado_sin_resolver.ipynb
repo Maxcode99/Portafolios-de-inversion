{
 "cells": [
  {
   "cell_type": "markdown",
   "id": "6d0a99f5",
   "metadata": {},
   "source": [
    "# Valor esperado"
   ]
  },
  {
   "cell_type": "markdown",
   "id": "01a1950d",
   "metadata": {},
   "source": [
    "### Volado \n",
    "\n",
    "\n",
    "Crea un programa para simular la siguiente apeusta. \n",
    "\n",
    "Agila 100 y -100 sello\n"
   ]
  },
  {
   "cell_type": "code",
   "execution_count": 25,
   "id": "d8e5c3d6",
   "metadata": {},
   "outputs": [],
   "source": [
    "import random\n",
    "import pandas as pd\n",
    "import matplotlib.pyplot as plt"
   ]
  },
  {
   "cell_type": "code",
   "execution_count": 26,
   "id": "9fc02bff",
   "metadata": {},
   "outputs": [],
   "source": [
    "#### Programa"
   ]
  },
  {
   "cell_type": "code",
   "execution_count": 27,
   "id": "60258f02",
   "metadata": {},
   "outputs": [
    {
     "name": "stdout",
     "output_type": "stream",
     "text": [
      "-100\n"
     ]
    }
   ],
   "source": [
    "resultados = [-100, 100]\n",
    "pesos = [0.5, 0.5]\n",
    "random.choices(resultados, weights = pesos)[0]\n",
    "print(volado) "
   ]
  },
  {
   "cell_type": "code",
   "execution_count": 28,
   "id": "d997d3f4-1e19-4fe9-bd55-76d2073afa00",
   "metadata": {},
   "outputs": [
    {
     "data": {
      "text/plain": [
       "int"
      ]
     },
     "execution_count": 28,
     "metadata": {},
     "output_type": "execute_result"
    }
   ],
   "source": [
    "type(volado)"
   ]
  },
  {
   "cell_type": "code",
   "execution_count": 29,
   "id": "a5714043",
   "metadata": {},
   "outputs": [],
   "source": [
    "#### Crea una función para simular el programa, input: lista de resultados y pesos"
   ]
  },
  {
   "cell_type": "code",
   "execution_count": 35,
   "id": "f0f80a31",
   "metadata": {},
   "outputs": [],
   "source": [
    "def apuesta (resultados, pesos): \n",
    "    return random.choices(resultados, weights = pesos)[0]"
   ]
  },
  {
   "cell_type": "code",
   "execution_count": null,
   "id": "53d8848c",
   "metadata": {},
   "outputs": [],
   "source": []
  },
  {
   "cell_type": "code",
   "execution_count": 36,
   "id": "ecc7d857",
   "metadata": {},
   "outputs": [
    {
     "data": {
      "text/plain": [
       "100"
      ]
     },
     "execution_count": 36,
     "metadata": {},
     "output_type": "execute_result"
    }
   ],
   "source": [
    "### Prueba la función\n",
    "apuesta(resultados, pesos) \n"
   ]
  },
  {
   "cell_type": "code",
   "execution_count": null,
   "id": "a235e13a",
   "metadata": {},
   "outputs": [],
   "source": []
  },
  {
   "cell_type": "code",
   "execution_count": 37,
   "id": "f2d7150b",
   "metadata": {},
   "outputs": [],
   "source": [
    "### Prueba la función para 10,000 casos\n",
    "resultado_apuesta = []\n",
    "for i in range(1000):\n",
    "    resultado_apuesta.append(apuesta(resultados, pesos))"
   ]
  },
  {
   "cell_type": "code",
   "execution_count": 38,
   "id": "7c6e9405",
   "metadata": {},
   "outputs": [
    {
     "data": {
      "text/plain": [
       "-600"
      ]
     },
     "execution_count": 38,
     "metadata": {},
     "output_type": "execute_result"
    }
   ],
   "source": [
    "#### ¿Cuanto hubieras ganado?\n",
    "import numpy as np \n",
    "np.sum(resultado_apuesta) "
   ]
  },
  {
   "cell_type": "code",
   "execution_count": 6,
   "id": "efff638c",
   "metadata": {},
   "outputs": [],
   "source": [
    "### ¿Cuál es la ganancia promedio?"
   ]
  },
  {
   "cell_type": "code",
   "execution_count": 41,
   "id": "f4869f58",
   "metadata": {},
   "outputs": [
    {
     "data": {
      "text/html": [
       "<div>\n",
       "<style scoped>\n",
       "    .dataframe tbody tr th:only-of-type {\n",
       "        vertical-align: middle;\n",
       "    }\n",
       "\n",
       "    .dataframe tbody tr th {\n",
       "        vertical-align: top;\n",
       "    }\n",
       "\n",
       "    .dataframe thead th {\n",
       "        text-align: right;\n",
       "    }\n",
       "</style>\n",
       "<table border=\"1\" class=\"dataframe\">\n",
       "  <thead>\n",
       "    <tr style=\"text-align: right;\">\n",
       "      <th></th>\n",
       "      <th>resultado_apuesta</th>\n",
       "    </tr>\n",
       "  </thead>\n",
       "  <tbody>\n",
       "    <tr>\n",
       "      <th>0</th>\n",
       "      <td>100</td>\n",
       "    </tr>\n",
       "    <tr>\n",
       "      <th>1</th>\n",
       "      <td>-100</td>\n",
       "    </tr>\n",
       "    <tr>\n",
       "      <th>2</th>\n",
       "      <td>-100</td>\n",
       "    </tr>\n",
       "    <tr>\n",
       "      <th>3</th>\n",
       "      <td>-100</td>\n",
       "    </tr>\n",
       "    <tr>\n",
       "      <th>4</th>\n",
       "      <td>100</td>\n",
       "    </tr>\n",
       "  </tbody>\n",
       "</table>\n",
       "</div>"
      ],
      "text/plain": [
       "   resultado_apuesta\n",
       "0                100\n",
       "1               -100\n",
       "2               -100\n",
       "3               -100\n",
       "4                100"
      ]
     },
     "execution_count": 41,
     "metadata": {},
     "output_type": "execute_result"
    }
   ],
   "source": [
    "### Grafica de promedio acumulado\n",
    "df = pd.DataFrame()\n",
    "df['resultado_apuesta'] = resultado_apuesta\n",
    "df.expanding().mean()\n",
    "df.head()\n"
   ]
  },
  {
   "cell_type": "code",
   "execution_count": 42,
   "id": "5d295074-f15e-4a78-86a3-fe741af29054",
   "metadata": {},
   "outputs": [
    {
     "data": {
      "text/plain": [
       "[<matplotlib.lines.Line2D at 0x7f92632b3e50>]"
      ]
     },
     "execution_count": 42,
     "metadata": {},
     "output_type": "execute_result"
    },
    {
     "data": {
      "image/png": "[encoded data removed]",
      "text/plain": [
       "<Figure size 640x480 with 1 Axes>"
      ]
     },
     "metadata": {},
     "output_type": "display_data"
    }
   ],
   "source": [
    "plt.plot(df.expanding().mean())"
   ]
  },
  {
   "cell_type": "markdown",
   "id": "ada3d7a8",
   "metadata": {},
   "source": [
    "### Volado \n",
    "\n",
    "\n",
    "Crea un programa para simular la siguiente apuesta. \n",
    "\n",
    "Agila 150 y -100 sello\n",
    "\n",
    "¿Cuál conviene? "
   ]
  },
  {
   "cell_type": "code",
   "execution_count": 53,
   "id": "f03d4f6b",
   "metadata": {},
   "outputs": [],
   "source": [
    "resultados = [150, -100] \n",
    "probabilidades = [0.5, 0.5] \n",
    "\n",
    "resultado_apuesta = [] \n",
    "for i in range(10000):\n",
    "    resultado_apuesta.append(apuesta(resultados, probabilidades))\n",
    "\n",
    "df1 = pd.DataFrame()\n",
    "df1['resultado_apuesta'] = resultado_apuesta"
   ]
  },
  {
   "cell_type": "code",
   "execution_count": 54,
   "id": "664d90db",
   "metadata": {},
   "outputs": [
    {
     "data": {
      "text/plain": [
       "241750"
      ]
     },
     "execution_count": 54,
     "metadata": {},
     "output_type": "execute_result"
    }
   ],
   "source": [
    "df1.resultado_apuesta.sum()"
   ]
  },
  {
   "cell_type": "code",
   "execution_count": 55,
   "id": "667fbd28",
   "metadata": {},
   "outputs": [
    {
     "data": {
      "text/plain": [
       "[<matplotlib.lines.Line2D at 0x7f92607168c0>]"
      ]
     },
     "execution_count": 55,
     "metadata": {},
     "output_type": "execute_result"
    },
    {
     "data": {
      "image/png": "[encoded data removed]",
      "text/plain": [
       "<Figure size 640x480 with 1 Axes>"
      ]
     },
     "metadata": {},
     "output_type": "display_data"
    }
   ],
   "source": [
    "plt.plot(df1.resultado_apuesta.expanding().mean())"
   ]
  },
  {
   "cell_type": "code",
   "execution_count": null,
   "id": "3cecfe57",
   "metadata": {},
   "outputs": [],
   "source": []
  },
  {
   "cell_type": "code",
   "execution_count": null,
   "id": "81a915ef",
   "metadata": {},
   "outputs": [],
   "source": []
  },
  {
   "cell_type": "markdown",
   "id": "f3b90723",
   "metadata": {},
   "source": [
    "### Volado \n",
    "\n",
    "\n",
    "Crea un programa para simular la siguiente apeusta. \n",
    "\n",
    "Agila 100 y -100 sello\n",
    "\n",
    "Pero la moneda está invertida, 60% Aguila y 40% sello"
   ]
  },
  {
   "cell_type": "code",
   "execution_count": 57,
   "id": "67e2b9ec",
   "metadata": {},
   "outputs": [
    {
     "data": {
      "text/plain": [
       "resultado_apuesta    18.82\n",
       "dtype: float64"
      ]
     },
     "execution_count": 57,
     "metadata": {},
     "output_type": "execute_result"
    }
   ],
   "source": [
    "resultados = [100, -100] \n",
    "probabilidades = [0.6, 0.4] \n",
    "\n",
    "resultado_apuesta = [] \n",
    "for i in range(10000):\n",
    "    resultado_apuesta.append(apuesta(resultados, probabilidades))\n",
    "\n",
    "df2= pd.DataFrame()\n",
    "df2['resultado_apuesta'] = resultado_apuesta\n",
    "df2.mean()"
   ]
  },
  {
   "cell_type": "code",
   "execution_count": 62,
   "id": "e688931c",
   "metadata": {},
   "outputs": [
    {
     "data": {
      "text/plain": [
       "[<matplotlib.lines.Line2D at 0x7f92602fd270>]"
      ]
     },
     "execution_count": 62,
     "metadata": {},
     "output_type": "execute_result"
    },
    {
     "data": {
      "image/png": "[encoded data removed]",
      "text/plain": [
       "<Figure size 640x480 with 1 Axes>"
      ]
     },
     "metadata": {},
     "output_type": "display_data"
    }
   ],
   "source": [
    "plt.plot(df2.resultado_apuesta.expanding().mean(), label = 'Valor esperado1')\n",
    "plt.plot(df1.resultado_apuesta.expanding().mean(), label = 'Valor esperado2')"
   ]
  },
  {
   "cell_type": "code",
   "execution_count": null,
   "id": "4dfac16c",
   "metadata": {},
   "outputs": [],
   "source": []
  },
  {
   "cell_type": "code",
   "execution_count": null,
   "id": "d1b82f09",
   "metadata": {},
   "outputs": [],
   "source": []
  },
  {
   "cell_type": "code",
   "execution_count": null,
   "id": "f9d5429d",
   "metadata": {},
   "outputs": [],
   "source": []
  },
  {
   "cell_type": "markdown",
   "id": "94af1867",
   "metadata": {},
   "source": [
    "### Definición, valor esperado\n",
    "\n",
    "\n",
    "\n"
   ]
  },
  {
   "cell_type": "markdown",
   "id": "02262c17",
   "metadata": {},
   "source": [
    "El valor esperado se define como:\n",
    "\n",
    "$$E[x]= p_1 x_1 + p_2 x2 + p_3 x3 + ... p_n x_n $$\n",
    "\n",
    "\n",
    "Resumiendo:\n",
    "\n",
    "$$E[x]=\\sum_{j=1}^{m}p_jx_j,$$\n",
    "\n",
    "\n",
    "¿Qué pasa cuando las probabilidades son iguales en cada caso?\n",
    "\n",
    "El valor esperado se convierte en el promedio\n",
    "\n",
    "$$E[x]= \\frac{1}{n} \\sum_{j=1}^{m}x_j,$$\n"
   ]
  },
  {
   "cell_type": "code",
   "execution_count": 82,
   "id": "a751aaf8",
   "metadata": {},
   "outputs": [
    {
     "data": {
      "text/plain": [
       "0.0"
      ]
     },
     "execution_count": 82,
     "metadata": {},
     "output_type": "execute_result"
    }
   ],
   "source": [
    "# Calcula el valor esperado de : 50% Aguila, 50% sello, 100 y -100\n",
    "vel = 0.5 * 100 + 0.5 * -100 \n",
    "vel "
   ]
  },
  {
   "cell_type": "code",
   "execution_count": 77,
   "id": "67f595f9",
   "metadata": {},
   "outputs": [
    {
     "data": {
      "text/plain": [
       "20.0"
      ]
     },
     "execution_count": 77,
     "metadata": {},
     "output_type": "execute_result"
    }
   ],
   "source": [
    "# Calcula el valor esperado de : 60% Aguila, 40% sello, 100 y -100\n",
    "vel2 = 0.6 * 100 + 0.4 * -100 \n",
    "vel"
   ]
  },
  {
   "cell_type": "code",
   "execution_count": 68,
   "id": "ae183b24",
   "metadata": {},
   "outputs": [
    {
     "data": {
      "text/plain": [
       "50.0"
      ]
     },
     "execution_count": 68,
     "metadata": {},
     "output_type": "execute_result"
    }
   ],
   "source": [
    "# Calcula el valor esperado de : 60% Aguila, 40% sello, 150 y -100\n",
    "ve3 = 0.6 * 150 + 0.4 * -100 \n",
    "ve3"
   ]
  },
  {
   "cell_type": "code",
   "execution_count": null,
   "id": "cf21eef7",
   "metadata": {},
   "outputs": [],
   "source": [
    "### Valida empiricamente los resultados anteriores"
   ]
  },
  {
   "cell_type": "code",
   "execution_count": null,
   "id": "69dfe832",
   "metadata": {},
   "outputs": [],
   "source": []
  },
  {
   "cell_type": "code",
   "execution_count": null,
   "id": "73c9cddb",
   "metadata": {},
   "outputs": [],
   "source": []
  },
  {
   "cell_type": "code",
   "execution_count": null,
   "id": "fa9bfa39",
   "metadata": {},
   "outputs": [],
   "source": []
  },
  {
   "cell_type": "markdown",
   "id": "e08d1830",
   "metadata": {},
   "source": [
    "## Varianza\n",
    "\n",
    "La varianza se define como el vaor esperado de una variable aleatoria menos la diferencia de su valor esperado al cuadrado.\n",
    "\n",
    "$$Var(x) = E[(x - E[x])^2]$$\n",
    "\n",
    "\n",
    "Esto es equivalente a:\n",
    "\n",
    "$$Var[x]=\\sum_{j=1}^{m}p_j  (x - E[X])^2,$$\n",
    "\n",
    "\n",
    "¿Qué pasa cuando las probabilidades son iguales en cada caso?\n",
    "\n",
    "$$Var[x]= \\frac{1}{n} \\sum_{j=1}^{m} (x - E[X])^2,$$\n",
    "\n",
    "Le llamamos volatilidad a la raíz cuadrada de la varianza\n",
    "\n",
    "$$\\sigma = \\sqrt{Var[x]}$$\n",
    "\n",
    "\n"
   ]
  },
  {
   "cell_type": "code",
   "execution_count": 70,
   "id": "a7350438",
   "metadata": {},
   "outputs": [
    {
     "data": {
      "text/plain": [
       "10000.663666366636"
      ]
     },
     "execution_count": 70,
     "metadata": {},
     "output_type": "execute_result"
    }
   ],
   "source": [
    "# Calcula el varianza de : 50% Aguila, 50% sello, 100 y -100\n",
    "resultados = [100, -100] \n",
    "probabilidades = [0.5, 0.5] \n",
    "\n",
    "resultado_apuesta = [] \n",
    "for i in range(10000):\n",
    "    resultado_apuesta.append(apuesta(resultados, probabilidades))\n",
    "\n",
    "df1 = pd.DataFrame()\n",
    "df1['resultado_apuesta'] = resultado_apuesta\n",
    "\n",
    "df1.resultado_apuesta.var()\n",
    "\n"
   ]
  },
  {
   "cell_type": "code",
   "execution_count": 85,
   "id": "351c7d1e-01cb-4d56-8954-d77ad8463494",
   "metadata": {},
   "outputs": [
    {
     "data": {
      "text/plain": [
       "100.0"
      ]
     },
     "execution_count": 85,
     "metadata": {},
     "output_type": "execute_result"
    }
   ],
   "source": [
    "var1 =(0.5 * ((100 - vel) **2)) + (0.5 * ((-100 - vel) ** 2))\n",
    "vol = np.sqrt(var1)\n",
    "vol"
   ]
  },
  {
   "cell_type": "code",
   "execution_count": 87,
   "id": "ed418f1d",
   "metadata": {},
   "outputs": [
    {
     "data": {
      "text/plain": [
       "20.0"
      ]
     },
     "execution_count": 87,
     "metadata": {},
     "output_type": "execute_result"
    }
   ],
   "source": [
    "# Calcula el varianza de : 60% Aguila, 40% sello, 100 y -100\n",
    "vel2"
   ]
  },
  {
   "cell_type": "code",
   "execution_count": 89,
   "id": "2b599c10-f40c-40e0-9d8e-96be7ef4adbf",
   "metadata": {},
   "outputs": [
    {
     "data": {
      "text/plain": [
       "9600.0"
      ]
     },
     "execution_count": 89,
     "metadata": {},
     "output_type": "execute_result"
    }
   ],
   "source": [
    "var2 = (0.6 * ((100 - vel2) ** 2))  + (0.4 * ((-100 -vel2) ** 2))\n",
    "var2"
   ]
  },
  {
   "cell_type": "code",
   "execution_count": 93,
   "id": "9350b568-78c7-4b8d-877b-4ce74e2e9058",
   "metadata": {},
   "outputs": [
    {
     "data": {
      "text/plain": [
       "97.97958971132712"
      ]
     },
     "execution_count": 93,
     "metadata": {},
     "output_type": "execute_result"
    }
   ],
   "source": [
    "vol2 = np.sqrt(var2)\n",
    "vol2"
   ]
  },
  {
   "cell_type": "code",
   "execution_count": 14,
   "id": "175876e2",
   "metadata": {},
   "outputs": [],
   "source": [
    "# Calcula el varianza de : 60% Aguila, 40% sello, 150 y -100"
   ]
  },
  {
   "cell_type": "code",
   "execution_count": 95,
   "id": "473f2178-8144-4adc-8e27-1c90e5ea161e",
   "metadata": {},
   "outputs": [
    {
     "data": {
      "text/plain": [
       "122.47448713915891"
      ]
     },
     "execution_count": 95,
     "metadata": {},
     "output_type": "execute_result"
    }
   ],
   "source": [
    "var3 = 0.6 * (150 - ve3) ** 2 + 0.4 * (-100 - ve3) ** 2\n",
    "vol3 = np.sqrt(var3) \n",
    "vol3"
   ]
  },
  {
   "cell_type": "markdown",
   "id": "c7d8bf55",
   "metadata": {},
   "source": [
    "## Ejercicio \n",
    "\n",
    "**Calcula el valor esperado y la varianza de estas distintas probabilidades**\n",
    "\n",
    "Posibles resultados de un dado: \n",
    "[1, 2, 3, 4, 5, 6]\n",
    "\n",
    "\n",
    "1- Misma probabilidad :  [1/6, 1/6, 1/6, 1/6, 1/6, 1/6]\n",
    "\n",
    "Resultado: [20, 10, 10, 10, 10, 20]\n",
    "\n",
    "\n",
    "2- Distinta probabilidad\n",
    "Probabilidad: [7/12, 1/12, 1/12, 1/12, 1/12, 1/12]\n",
    "\n",
    "Resultado: [20, 10, 10, 10, 10, 20]\n",
    "\n"
   ]
  },
  {
   "cell_type": "code",
   "execution_count": 102,
   "id": "7de6e99c",
   "metadata": {},
   "outputs": [
    {
     "data": {
      "text/plain": [
       "13.333333333333332"
      ]
     },
     "execution_count": 102,
     "metadata": {},
     "output_type": "execute_result"
    }
   ],
   "source": [
    "### apuesta 1 \n",
    "ve_dado1 = (1/6) * 20 + (1/6) * 10 + (1/6) * 10 + (1/6) * 10 + (1/6) * 10 + (1/6)  * 20 \n",
    "ve_dado1"
   ]
  },
  {
   "cell_type": "code",
   "execution_count": 105,
   "id": "89e84dce",
   "metadata": {},
   "outputs": [
    {
     "data": {
      "text/plain": [
       "4.714045207910317"
      ]
     },
     "execution_count": 105,
     "metadata": {},
     "output_type": "execute_result"
    }
   ],
   "source": [
    "var_dado1 = (\n",
    "    1/6)  * (20 - ve_dado1) ** 2 + (\n",
    "    1/6)  * (10 - ve_dado1) ** 2 + (\n",
    "    1/6)  * (10 - ve_dado1) ** 2 + (\n",
    "    1/6)  * (10 - ve_dado1) ** 2 + (\n",
    "    1/6)  * (10 - ve_dado1) ** 2 + (\n",
    "    1/6)  * (20 - ve_dado1) ** 2 \n",
    "    \n",
    "vol_dado1 = np.sqrt(var_dado1)\n",
    "vol_dado1"
   ]
  },
  {
   "cell_type": "markdown",
   "id": "da351570-fccc-4f00-b912-35ad109c0310",
   "metadata": {},
   "source": [
    "# apuesta 2 "
   ]
  },
  {
   "cell_type": "code",
   "execution_count": 115,
   "id": "44051297-54ba-495a-bdb6-87ea22edb998",
   "metadata": {},
   "outputs": [
    {
     "data": {
      "text/plain": [
       "16.66666666666667"
      ]
     },
     "execution_count": 115,
     "metadata": {},
     "output_type": "execute_result"
    }
   ],
   "source": [
    "### apuesta 1 \n",
    "ve_dado2 = (7/12) * 20 + (1/12) * 10 + (1/12) * 10 + (1/12) * 10 + (1/12) * 10 + (1/12)  * 20 \n",
    "ve_dado2"
   ]
  },
  {
   "cell_type": "code",
   "execution_count": 114,
   "id": "1d4a2a90-2822-406f-9022-8243f0a84f5e",
   "metadata": {},
   "outputs": [
    {
     "data": {
      "text/plain": [
       "4.714045207910317"
      ]
     },
     "execution_count": 114,
     "metadata": {},
     "output_type": "execute_result"
    }
   ],
   "source": [
    "# apuesta 2 \n",
    "var_dado2 = (\n",
    "    7/12)  * (20 - ve_dado2) ** 2 + (\n",
    "    1/12)  * (10 - ve_dado2) ** 2 + (\n",
    "    1/12)  * (10 - ve_dado2) ** 2 + (\n",
    "    1/12)  * (10 - ve_dado2) ** 2 + (\n",
    "    1/12)  * (10 - ve_dado2) ** 2 + (\n",
    "    1/12)  * (20 - ve_dado2) ** 2 \n",
    "    \n",
    "vol_dado2= np.sqrt(var_dado2)\n",
    "vol_dado2"
   ]
  },
  {
   "cell_type": "code",
   "execution_count": null,
   "id": "2288a849-22b4-47c8-b712-1fa4c965e22b",
   "metadata": {},
   "outputs": [],
   "source": []
  }
 ],
 "metadata": {
  "kernelspec": {
   "display_name": "Python 3 (ipykernel)",
   "language": "python",
   "name": "python3"
  },
  "language_info": {
   "codemirror_mode": {
    "name": "ipython",
    "version": 3
   },
   "file_extension": ".py",
   "mimetype": "text/x-python",
   "name": "python",
   "nbconvert_exporter": "python",
   "pygments_lexer": "ipython3",
   "version": "3.10.12"
  }
 },
 "nbformat": 4,
 "nbformat_minor": 5
}
