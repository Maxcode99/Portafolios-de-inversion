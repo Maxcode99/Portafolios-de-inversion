{
 "cells": [
  {
   "cell_type": "markdown",
   "id": "6d0a99f5",
   "metadata": {},
   "source": [
    "# Repaso media, varianza y covarianza"
   ]
  },
  {
   "cell_type": "code",
   "execution_count": 22,
   "id": "20ce59c9",
   "metadata": {},
   "outputs": [
    {
     "data": {
      "text/html": [
       "<div>\n",
       "<style scoped>\n",
       "    .dataframe tbody tr th:only-of-type {\n",
       "        vertical-align: middle;\n",
       "    }\n",
       "\n",
       "    .dataframe tbody tr th {\n",
       "        vertical-align: top;\n",
       "    }\n",
       "\n",
       "    .dataframe thead th {\n",
       "        text-align: right;\n",
       "    }\n",
       "</style>\n",
       "<table border=\"1\" class=\"dataframe\">\n",
       "  <thead>\n",
       "    <tr style=\"text-align: right;\">\n",
       "      <th></th>\n",
       "      <th>Gender</th>\n",
       "      <th>Height</th>\n",
       "      <th>Weight</th>\n",
       "    </tr>\n",
       "  </thead>\n",
       "  <tbody>\n",
       "    <tr>\n",
       "      <th>0</th>\n",
       "      <td>Male</td>\n",
       "      <td>1.88</td>\n",
       "      <td>110.0</td>\n",
       "    </tr>\n",
       "    <tr>\n",
       "      <th>1</th>\n",
       "      <td>Male</td>\n",
       "      <td>1.75</td>\n",
       "      <td>74.0</td>\n",
       "    </tr>\n",
       "    <tr>\n",
       "      <th>2</th>\n",
       "      <td>Male</td>\n",
       "      <td>1.88</td>\n",
       "      <td>96.0</td>\n",
       "    </tr>\n",
       "    <tr>\n",
       "      <th>3</th>\n",
       "      <td>Male</td>\n",
       "      <td>1.82</td>\n",
       "      <td>100.0</td>\n",
       "    </tr>\n",
       "    <tr>\n",
       "      <th>4</th>\n",
       "      <td>Male</td>\n",
       "      <td>1.77</td>\n",
       "      <td>94.0</td>\n",
       "    </tr>\n",
       "  </tbody>\n",
       "</table>\n",
       "</div>"
      ],
      "text/plain": [
       "  Gender  Height  Weight\n",
       "0   Male    1.88   110.0\n",
       "1   Male    1.75    74.0\n",
       "2   Male    1.88    96.0\n",
       "3   Male    1.82   100.0\n",
       "4   Male    1.77    94.0"
      ]
     },
     "execution_count": 22,
     "metadata": {},
     "output_type": "execute_result"
    }
   ],
   "source": [
    "import pandas as pd\n",
    "import numpy as np\n",
    "import matplotlib.pyplot as plt\n",
    "#import pandas_datareader.data as web\n",
    "\n",
    "df = pd.read_csv('weight-height.csv')\n",
    "df['Height'] = np.round(df.Height * 2.54) / 100\n",
    "df['Weight'] = np.round(df.Weight * 0.453592)\n",
    "df.head()"
   ]
  },
  {
   "cell_type": "markdown",
   "id": "3db9b807",
   "metadata": {},
   "source": [
    "### Recordando el tema del valor esperado \n",
    "\n",
    "Es el promedio ponderado entre las probabilidades y la variable aleatoria\n",
    "\n",
    "$$E[x]= p_1 x_1 + p_2 x2 + p_3 x3 + ... p_n x_n $$\n",
    "\n",
    "Resumiendo:\n",
    "\n",
    "$$E[x]=\\sum_{j=1}^{m}p_jx_j,$$\n",
    "\n",
    "\n",
    "¿Qué pasa cuando las probabilidades son iguales en cada caso?\n",
    "\n",
    "El valor esperado se convierte en el promedio\n",
    "\n",
    "$$E[x]= \\frac{1}{n} \\sum_{j=1}^{m}x_j,$$\n",
    "\n",
    "\n",
    "\n"
   ]
  },
  {
   "cell_type": "code",
   "execution_count": 23,
   "id": "8fa0de3b",
   "metadata": {},
   "outputs": [],
   "source": [
    "# Calcular valor esperado de nuestro dataset\n",
    "valor_esperado_altura = df.Height.mean() \n",
    "valor_esperado_peso = df.Weight.mean()"
   ]
  },
  {
   "cell_type": "markdown",
   "id": "aa8d1872",
   "metadata": {},
   "source": [
    "## Varianza\n",
    "\n",
    "La varianza se define como el vaor esperado de una variable aleatoria menos la diferencia de su valor esperado al cuadrado.\n",
    "\n",
    "$$Var(x) = E[(x - E[x])^2]$$\n",
    "\n",
    "\n",
    "Esto es equivalente a:\n",
    "\n",
    "$$Var[x]=\\sum_{j=1}^{m}p_j  (x - E[X])^2,$$\n",
    "\n",
    "\n",
    "¿Qué pasa cuando las probabilidades son iguales en cada caso?\n",
    "\n",
    "$$Var[x]= \\frac{1}{n} \\sum_{j=1}^{m} (x - E[X])^2,$$\n",
    "\n",
    "Le llamamos volatilidad a la raíz cuadrada de la varianza\n",
    "\n",
    "$$\\sigma = \\sqrt{Var[x]}$$\n",
    "\n",
    "\n"
   ]
  },
  {
   "cell_type": "code",
   "execution_count": 41,
   "id": "e9c297ab",
   "metadata": {},
   "outputs": [],
   "source": [
    "# Sacamos la varianza\n",
    "varianza_altura = df.Height.var()\n",
    "varianza_peso = df.Weight.var()\n",
    "# Sacamos la volatilidad\n",
    "\n",
    "volatilidad_altura = df.Height.std()\n",
    "volatilidad_peso = df.Weight.std()\n"
   ]
  },
  {
   "cell_type": "markdown",
   "id": "3e388342",
   "metadata": {},
   "source": [
    "# Visualizando el dataset\n",
    "\n",
    "\n",
    "- Un valor alto de altura sería uno mayor al promedio  $Altura > E[altura]$ \n",
    "- Un valor bajo de altura sería uno menor al promedio $Altura < E[altura]$\n",
    "- Un valor alto de peso sería uno mayor al promedio $Peso > E[Peso]$\n",
    "- Un valor bajo de peso sería uno menor al promedio $Peso < E[Peso]$\n",
    "\n",
    "\n",
    "plt.axhline(y=df.Height.mean(), color='r', linestyle='-')\n",
    "plt.axvline(x = df.Weight.mean(), color = 'b')\n",
    "\n"
   ]
  },
  {
   "cell_type": "code",
   "execution_count": 42,
   "id": "630b1c3a",
   "metadata": {},
   "outputs": [
    {
     "data": {
      "text/plain": [
       "<matplotlib.collections.PathCollection at 0x7fcc8f923250>"
      ]
     },
     "execution_count": 42,
     "metadata": {},
     "output_type": "execute_result"
    },
    {
     "data": {
      "image/png": "[encoded data removed]",
      "text/plain": [
       "<Figure size 640x480 with 1 Axes>"
      ]
     },
     "metadata": {},
     "output_type": "display_data"
    }
   ],
   "source": [
    "plt.scatter(df.Height, df.Weight)"
   ]
  },
  {
   "cell_type": "code",
   "execution_count": 43,
   "id": "53d5e2ad",
   "metadata": {},
   "outputs": [
    {
     "data": {
      "text/html": [
       "<div>\n",
       "<style scoped>\n",
       "    .dataframe tbody tr th:only-of-type {\n",
       "        vertical-align: middle;\n",
       "    }\n",
       "\n",
       "    .dataframe tbody tr th {\n",
       "        vertical-align: top;\n",
       "    }\n",
       "\n",
       "    .dataframe thead th {\n",
       "        text-align: right;\n",
       "    }\n",
       "</style>\n",
       "<table border=\"1\" class=\"dataframe\">\n",
       "  <thead>\n",
       "    <tr style=\"text-align: right;\">\n",
       "      <th></th>\n",
       "      <th>Gender</th>\n",
       "      <th>Height</th>\n",
       "      <th>Weight</th>\n",
       "      <th>altura_menos_ve</th>\n",
       "      <th>peso_menos_ve</th>\n",
       "      <th>multiplicacion</th>\n",
       "    </tr>\n",
       "  </thead>\n",
       "  <tbody>\n",
       "    <tr>\n",
       "      <th>0</th>\n",
       "      <td>Male</td>\n",
       "      <td>1.88</td>\n",
       "      <td>110.0</td>\n",
       "      <td>0.194309</td>\n",
       "      <td>36.7702</td>\n",
       "      <td>7.144781</td>\n",
       "    </tr>\n",
       "    <tr>\n",
       "      <th>1</th>\n",
       "      <td>Male</td>\n",
       "      <td>1.75</td>\n",
       "      <td>74.0</td>\n",
       "      <td>0.064309</td>\n",
       "      <td>0.7702</td>\n",
       "      <td>0.049531</td>\n",
       "    </tr>\n",
       "    <tr>\n",
       "      <th>2</th>\n",
       "      <td>Male</td>\n",
       "      <td>1.88</td>\n",
       "      <td>96.0</td>\n",
       "      <td>0.194309</td>\n",
       "      <td>22.7702</td>\n",
       "      <td>4.424455</td>\n",
       "    </tr>\n",
       "    <tr>\n",
       "      <th>3</th>\n",
       "      <td>Male</td>\n",
       "      <td>1.82</td>\n",
       "      <td>100.0</td>\n",
       "      <td>0.134309</td>\n",
       "      <td>26.7702</td>\n",
       "      <td>3.595479</td>\n",
       "    </tr>\n",
       "    <tr>\n",
       "      <th>4</th>\n",
       "      <td>Male</td>\n",
       "      <td>1.77</td>\n",
       "      <td>94.0</td>\n",
       "      <td>0.084309</td>\n",
       "      <td>20.7702</td>\n",
       "      <td>1.751115</td>\n",
       "    </tr>\n",
       "    <tr>\n",
       "      <th>...</th>\n",
       "      <td>...</td>\n",
       "      <td>...</td>\n",
       "      <td>...</td>\n",
       "      <td>...</td>\n",
       "      <td>...</td>\n",
       "      <td>...</td>\n",
       "    </tr>\n",
       "    <tr>\n",
       "      <th>9995</th>\n",
       "      <td>Female</td>\n",
       "      <td>1.68</td>\n",
       "      <td>62.0</td>\n",
       "      <td>-0.005691</td>\n",
       "      <td>-11.2298</td>\n",
       "      <td>0.063909</td>\n",
       "    </tr>\n",
       "    <tr>\n",
       "      <th>9996</th>\n",
       "      <td>Female</td>\n",
       "      <td>1.70</td>\n",
       "      <td>78.0</td>\n",
       "      <td>0.014309</td>\n",
       "      <td>4.7702</td>\n",
       "      <td>0.068257</td>\n",
       "    </tr>\n",
       "    <tr>\n",
       "      <th>9997</th>\n",
       "      <td>Female</td>\n",
       "      <td>1.62</td>\n",
       "      <td>58.0</td>\n",
       "      <td>-0.065691</td>\n",
       "      <td>-15.2298</td>\n",
       "      <td>1.000461</td>\n",
       "    </tr>\n",
       "    <tr>\n",
       "      <th>9998</th>\n",
       "      <td>Female</td>\n",
       "      <td>1.75</td>\n",
       "      <td>74.0</td>\n",
       "      <td>0.064309</td>\n",
       "      <td>0.7702</td>\n",
       "      <td>0.049531</td>\n",
       "    </tr>\n",
       "    <tr>\n",
       "      <th>9999</th>\n",
       "      <td>Female</td>\n",
       "      <td>1.57</td>\n",
       "      <td>52.0</td>\n",
       "      <td>-0.115691</td>\n",
       "      <td>-21.2298</td>\n",
       "      <td>2.456097</td>\n",
       "    </tr>\n",
       "  </tbody>\n",
       "</table>\n",
       "<p>10000 rows × 6 columns</p>\n",
       "</div>"
      ],
      "text/plain": [
       "      Gender  Height  Weight  altura_menos_ve  peso_menos_ve  multiplicacion\n",
       "0       Male    1.88   110.0         0.194309        36.7702        7.144781\n",
       "1       Male    1.75    74.0         0.064309         0.7702        0.049531\n",
       "2       Male    1.88    96.0         0.194309        22.7702        4.424455\n",
       "3       Male    1.82   100.0         0.134309        26.7702        3.595479\n",
       "4       Male    1.77    94.0         0.084309        20.7702        1.751115\n",
       "...      ...     ...     ...              ...            ...             ...\n",
       "9995  Female    1.68    62.0        -0.005691       -11.2298        0.063909\n",
       "9996  Female    1.70    78.0         0.014309         4.7702        0.068257\n",
       "9997  Female    1.62    58.0        -0.065691       -15.2298        1.000461\n",
       "9998  Female    1.75    74.0         0.064309         0.7702        0.049531\n",
       "9999  Female    1.57    52.0        -0.115691       -21.2298        2.456097\n",
       "\n",
       "[10000 rows x 6 columns]"
      ]
     },
     "execution_count": 43,
     "metadata": {},
     "output_type": "execute_result"
    }
   ],
   "source": [
    "## Crea una columna con las diferencia de cada caso respecto a su valor esperado\n",
    "df['altura_menos_ve'] = df.Height - valor_esperado_altura\n",
    "df['peso_menos_ve'] = df.Weight - valor_esperado_peso \n",
    "df"
   ]
  },
  {
   "cell_type": "code",
   "execution_count": 44,
   "id": "e496fa57",
   "metadata": {},
   "outputs": [
    {
     "data": {
      "text/html": [
       "<div>\n",
       "<style scoped>\n",
       "    .dataframe tbody tr th:only-of-type {\n",
       "        vertical-align: middle;\n",
       "    }\n",
       "\n",
       "    .dataframe tbody tr th {\n",
       "        vertical-align: top;\n",
       "    }\n",
       "\n",
       "    .dataframe thead th {\n",
       "        text-align: right;\n",
       "    }\n",
       "</style>\n",
       "<table border=\"1\" class=\"dataframe\">\n",
       "  <thead>\n",
       "    <tr style=\"text-align: right;\">\n",
       "      <th></th>\n",
       "      <th>Gender</th>\n",
       "      <th>Height</th>\n",
       "      <th>Weight</th>\n",
       "      <th>altura_menos_ve</th>\n",
       "      <th>peso_menos_ve</th>\n",
       "      <th>multiplicacion</th>\n",
       "    </tr>\n",
       "  </thead>\n",
       "  <tbody>\n",
       "    <tr>\n",
       "      <th>0</th>\n",
       "      <td>Male</td>\n",
       "      <td>1.88</td>\n",
       "      <td>110.0</td>\n",
       "      <td>0.194309</td>\n",
       "      <td>36.7702</td>\n",
       "      <td>7.144781</td>\n",
       "    </tr>\n",
       "    <tr>\n",
       "      <th>1</th>\n",
       "      <td>Male</td>\n",
       "      <td>1.75</td>\n",
       "      <td>74.0</td>\n",
       "      <td>0.064309</td>\n",
       "      <td>0.7702</td>\n",
       "      <td>0.049531</td>\n",
       "    </tr>\n",
       "    <tr>\n",
       "      <th>2</th>\n",
       "      <td>Male</td>\n",
       "      <td>1.88</td>\n",
       "      <td>96.0</td>\n",
       "      <td>0.194309</td>\n",
       "      <td>22.7702</td>\n",
       "      <td>4.424455</td>\n",
       "    </tr>\n",
       "    <tr>\n",
       "      <th>3</th>\n",
       "      <td>Male</td>\n",
       "      <td>1.82</td>\n",
       "      <td>100.0</td>\n",
       "      <td>0.134309</td>\n",
       "      <td>26.7702</td>\n",
       "      <td>3.595479</td>\n",
       "    </tr>\n",
       "    <tr>\n",
       "      <th>4</th>\n",
       "      <td>Male</td>\n",
       "      <td>1.77</td>\n",
       "      <td>94.0</td>\n",
       "      <td>0.084309</td>\n",
       "      <td>20.7702</td>\n",
       "      <td>1.751115</td>\n",
       "    </tr>\n",
       "    <tr>\n",
       "      <th>...</th>\n",
       "      <td>...</td>\n",
       "      <td>...</td>\n",
       "      <td>...</td>\n",
       "      <td>...</td>\n",
       "      <td>...</td>\n",
       "      <td>...</td>\n",
       "    </tr>\n",
       "    <tr>\n",
       "      <th>9995</th>\n",
       "      <td>Female</td>\n",
       "      <td>1.68</td>\n",
       "      <td>62.0</td>\n",
       "      <td>-0.005691</td>\n",
       "      <td>-11.2298</td>\n",
       "      <td>0.063909</td>\n",
       "    </tr>\n",
       "    <tr>\n",
       "      <th>9996</th>\n",
       "      <td>Female</td>\n",
       "      <td>1.70</td>\n",
       "      <td>78.0</td>\n",
       "      <td>0.014309</td>\n",
       "      <td>4.7702</td>\n",
       "      <td>0.068257</td>\n",
       "    </tr>\n",
       "    <tr>\n",
       "      <th>9997</th>\n",
       "      <td>Female</td>\n",
       "      <td>1.62</td>\n",
       "      <td>58.0</td>\n",
       "      <td>-0.065691</td>\n",
       "      <td>-15.2298</td>\n",
       "      <td>1.000461</td>\n",
       "    </tr>\n",
       "    <tr>\n",
       "      <th>9998</th>\n",
       "      <td>Female</td>\n",
       "      <td>1.75</td>\n",
       "      <td>74.0</td>\n",
       "      <td>0.064309</td>\n",
       "      <td>0.7702</td>\n",
       "      <td>0.049531</td>\n",
       "    </tr>\n",
       "    <tr>\n",
       "      <th>9999</th>\n",
       "      <td>Female</td>\n",
       "      <td>1.57</td>\n",
       "      <td>52.0</td>\n",
       "      <td>-0.115691</td>\n",
       "      <td>-21.2298</td>\n",
       "      <td>2.456097</td>\n",
       "    </tr>\n",
       "  </tbody>\n",
       "</table>\n",
       "<p>10000 rows × 6 columns</p>\n",
       "</div>"
      ],
      "text/plain": [
       "      Gender  Height  Weight  altura_menos_ve  peso_menos_ve  multiplicacion\n",
       "0       Male    1.88   110.0         0.194309        36.7702        7.144781\n",
       "1       Male    1.75    74.0         0.064309         0.7702        0.049531\n",
       "2       Male    1.88    96.0         0.194309        22.7702        4.424455\n",
       "3       Male    1.82   100.0         0.134309        26.7702        3.595479\n",
       "4       Male    1.77    94.0         0.084309        20.7702        1.751115\n",
       "...      ...     ...     ...              ...            ...             ...\n",
       "9995  Female    1.68    62.0        -0.005691       -11.2298        0.063909\n",
       "9996  Female    1.70    78.0         0.014309         4.7702        0.068257\n",
       "9997  Female    1.62    58.0        -0.065691       -15.2298        1.000461\n",
       "9998  Female    1.75    74.0         0.064309         0.7702        0.049531\n",
       "9999  Female    1.57    52.0        -0.115691       -21.2298        2.456097\n",
       "\n",
       "[10000 rows x 6 columns]"
      ]
     },
     "execution_count": 44,
     "metadata": {},
     "output_type": "execute_result"
    }
   ],
   "source": [
    "### Vamos a multiplicar esas dos diferencias \n",
    "df['multiplicacion'] = df.altura_menos_ve * df.peso_menos_ve\n",
    "df"
   ]
  },
  {
   "cell_type": "code",
   "execution_count": 45,
   "id": "5f02678e",
   "metadata": {},
   "outputs": [
    {
     "data": {
      "text/plain": [
       "1.3164892082"
      ]
     },
     "execution_count": 45,
     "metadata": {},
     "output_type": "execute_result"
    }
   ],
   "source": [
    "### Como interpretamos el signo de esa multiplicación\n",
    "\n",
    "covarianza = df.multiplicacion.mean()\n",
    "covarianza"
   ]
  },
  {
   "cell_type": "code",
   "execution_count": 46,
   "id": "e145f853",
   "metadata": {},
   "outputs": [],
   "source": [
    "### Promedio de la multiplicación\n"
   ]
  },
  {
   "cell_type": "markdown",
   "id": "f74155ca",
   "metadata": {},
   "source": [
    "*Si el promedio de la multiplicación es > 0 ¿Qué significa?*\n",
    "\n",
    "*Si el promedio del a multiplicación < 0 ¿Qué significa?*"
   ]
  },
  {
   "cell_type": "markdown",
   "id": "a3de7152",
   "metadata": {},
   "source": [
    "#### Covarianza:\n",
    "\n",
    "Es una medida el movimiento relativo entre dos instrumentos.\n",
    "\n",
    "Matemáticamente, si tenemos dos variables aleatorias $x_1$ y $x_2$ \n",
    "\n",
    "$$cov(x_1, x_2) = E[(x_1 - E[x_1])(x_2 - E[x_2])]$$\n",
    "\n",
    "Al igual que la varianza, podemos transformar lo anterior en el promedio ponderado de las probabilidades\n",
    "\n",
    "$$\\text{cov}(x_1,x_2)=\\sigma_{12}=\\sum_{j=1}^{m}p_j(x_{1j}-E[x_1])(x_{2j}-E[x_2]).$$\n",
    "\n",
    "\n",
    "¿Qué pasa cuando las probabilidades son iguales en cada caso?\n",
    "\n",
    "$$\\text{cov}(x_1,x_2)=  \\sigma_{12}= \\frac{1}{n} \\sum_{j=1}^{m}(x_{1j}-E[x_1])(x_{2j}-E[x_2]).$$\n",
    "\n",
    "***En cristiano: si no hay probabilidades por caso, la covarianza es el promedio de las multiplicaciones***\n",
    "\n",
    "\n",
    "Ojo con esto:\n",
    "\n",
    "$$cov(x_1, x_1) = Var(x_1)$$\n",
    "\n",
    "\n",
    "$$cov(x_1, x_1) = E[(x_1 - E[x_1])(x_1 - E[x_1])]$$\n",
    "\n",
    "$$cov(x_1, x_1) = E[(x_1 - E[x_1])^2]$$\n"
   ]
  },
  {
   "cell_type": "code",
   "execution_count": 47,
   "id": "1d1d15db",
   "metadata": {},
   "outputs": [],
   "source": [
    "## Obtenemos la covarianza\n"
   ]
  },
  {
   "cell_type": "code",
   "execution_count": 48,
   "id": "47787145",
   "metadata": {},
   "outputs": [],
   "source": [
    "# Esto es lo mismo que el promedio de nuestra otra columna\n"
   ]
  },
  {
   "cell_type": "markdown",
   "id": "66cb4c37",
   "metadata": {},
   "source": [
    "***La covarianza por si sola no es interesante, el signo nos indica si hay una relación positiva entre las variables, pero solo eso***"
   ]
  },
  {
   "cell_type": "markdown",
   "id": "081efde4",
   "metadata": {},
   "source": [
    "Vamos a definir la correlación como lo siguiente\n",
    "\n",
    "\n",
    "$$\\text{corr}(r_1,r_2)=\\rho_{12}=\\rho_{21}=\\frac{\\sigma_{12}}{\\sigma_1\\sigma_{2}}.$$\n",
    "\n",
    "***¿Qué es esto?***\n",
    "\n",
    "Imaginemos que aplicamos esta transformación a una variable aleatoria que _siempre_ se mueve en la misma tendencia con otra\n",
    "\n",
    "$$\\text{corr}(r_1,r_1)=\\rho_{11}=\\frac{\\sigma_{11}}{\\sigma_1\\sigma_1}=\\frac{\\sigma_{1}^2}{\\sigma_1\\sigma_1}=1.$$\n",
    "\n",
    "\n",
    "La correlación nos sirve entonces para interpretar la covarianza\n"
   ]
  },
  {
   "cell_type": "code",
   "execution_count": 49,
   "id": "83d8f51f",
   "metadata": {},
   "outputs": [
    {
     "data": {
      "text/plain": [
       "0.9241750936105904"
      ]
     },
     "execution_count": 49,
     "metadata": {},
     "output_type": "execute_result"
    }
   ],
   "source": [
    "## Obtenemos la correlación\n",
    "covarianza / (volatilidad_altura * volatilidad_peso) "
   ]
  },
  {
   "cell_type": "markdown",
   "id": "b95d5c05",
   "metadata": {},
   "source": [
    "## En realidad lo podemos hacer con pandas también"
   ]
  },
  {
   "cell_type": "code",
   "execution_count": 50,
   "id": "76c6f9b2",
   "metadata": {},
   "outputs": [
    {
     "data": {
      "text/html": [
       "<div>\n",
       "<style scoped>\n",
       "    .dataframe tbody tr th:only-of-type {\n",
       "        vertical-align: middle;\n",
       "    }\n",
       "\n",
       "    .dataframe tbody tr th {\n",
       "        vertical-align: top;\n",
       "    }\n",
       "\n",
       "    .dataframe thead th {\n",
       "        text-align: right;\n",
       "    }\n",
       "</style>\n",
       "<table border=\"1\" class=\"dataframe\">\n",
       "  <thead>\n",
       "    <tr style=\"text-align: right;\">\n",
       "      <th></th>\n",
       "      <th>Height</th>\n",
       "      <th>Weight</th>\n",
       "    </tr>\n",
       "  </thead>\n",
       "  <tbody>\n",
       "    <tr>\n",
       "      <th>Height</th>\n",
       "      <td>0.009568</td>\n",
       "      <td>1.316621</td>\n",
       "    </tr>\n",
       "    <tr>\n",
       "      <th>Weight</th>\n",
       "      <td>1.316621</td>\n",
       "      <td>212.083000</td>\n",
       "    </tr>\n",
       "  </tbody>\n",
       "</table>\n",
       "</div>"
      ],
      "text/plain": [
       "          Height      Weight\n",
       "Height  0.009568    1.316621\n",
       "Weight  1.316621  212.083000"
      ]
     },
     "execution_count": 50,
     "metadata": {},
     "output_type": "execute_result"
    }
   ],
   "source": [
    "# A esto se le conoce como matriz de covarianza\n",
    "#cuando se quiere seleccionar mas de una columna se tiene que poner doble corchete\n",
    "df1 = df[['Height', 'Weight']]\n",
    "df1.cov()"
   ]
  },
  {
   "cell_type": "code",
   "execution_count": 51,
   "id": "5c25a411",
   "metadata": {},
   "outputs": [
    {
     "data": {
      "text/html": [
       "<div>\n",
       "<style scoped>\n",
       "    .dataframe tbody tr th:only-of-type {\n",
       "        vertical-align: middle;\n",
       "    }\n",
       "\n",
       "    .dataframe tbody tr th {\n",
       "        vertical-align: top;\n",
       "    }\n",
       "\n",
       "    .dataframe thead th {\n",
       "        text-align: right;\n",
       "    }\n",
       "</style>\n",
       "<table border=\"1\" class=\"dataframe\">\n",
       "  <thead>\n",
       "    <tr style=\"text-align: right;\">\n",
       "      <th></th>\n",
       "      <th>Height</th>\n",
       "      <th>Weight</th>\n",
       "    </tr>\n",
       "  </thead>\n",
       "  <tbody>\n",
       "    <tr>\n",
       "      <th>Height</th>\n",
       "      <td>1.000000</td>\n",
       "      <td>0.924268</td>\n",
       "    </tr>\n",
       "    <tr>\n",
       "      <th>Weight</th>\n",
       "      <td>0.924268</td>\n",
       "      <td>1.000000</td>\n",
       "    </tr>\n",
       "  </tbody>\n",
       "</table>\n",
       "</div>"
      ],
      "text/plain": [
       "          Height    Weight\n",
       "Height  1.000000  0.924268\n",
       "Weight  0.924268  1.000000"
      ]
     },
     "execution_count": 51,
     "metadata": {},
     "output_type": "execute_result"
    }
   ],
   "source": [
    "# A esto se le conoce como matriz de correlación\n",
    "df1.corr()"
   ]
  },
  {
   "cell_type": "code",
   "execution_count": null,
   "id": "d8e5c3d6",
   "metadata": {},
   "outputs": [],
   "source": []
  },
  {
   "cell_type": "code",
   "execution_count": null,
   "id": "02754ec1",
   "metadata": {},
   "outputs": [],
   "source": []
  }
 ],
 "metadata": {
  "kernelspec": {
   "display_name": "Python 3 (ipykernel)",
   "language": "python",
   "name": "python3"
  },
  "language_info": {
   "codemirror_mode": {
    "name": "ipython",
    "version": 3
   },
   "file_extension": ".py",
   "mimetype": "text/x-python",
   "name": "python",
   "nbconvert_exporter": "python",
   "pygments_lexer": "ipython3",
   "version": "3.10.12"
  }
 },
 "nbformat": 4,
 "nbformat_minor": 5
}
