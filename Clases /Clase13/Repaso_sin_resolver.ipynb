{
 "cells": [
  {
   "cell_type": "markdown",
   "id": "f8bc458e",
   "metadata": {},
   "source": [
    "# Diferentes tipos de rendimiento"
   ]
  },
  {
   "cell_type": "code",
   "execution_count": 1,
   "id": "a1f0b49d",
   "metadata": {},
   "outputs": [
    {
     "name": "stdout",
     "output_type": "stream",
     "text": [
      "[*********************100%%**********************]  1 of 2 completed"
     ]
    },
    {
     "name": "stderr",
     "output_type": "stream",
     "text": [
      "\n",
      "2 Failed downloads:\n"
     ]
    },
    {
     "name": "stdout",
     "output_type": "stream",
     "text": [
      "\n",
      "[*********************100%%**********************]  1 of 2 completed"
     ]
    },
    {
     "name": "stderr",
     "output_type": "stream",
     "text": [
      "['NAFTRAC.MX', 'VOO']: Exception('%ticker%: No price data found, symbol may be delisted (1d 2015-01-01 -> 2021-01-01)')\n"
     ]
    }
   ],
   "source": [
    "# Bajamos los ETF de yahoo\n",
    "import yfinance as yf\n",
    "import pandas as pd\n",
    "import numpy as np \n",
    "import matplotlib.pyplot as plt\n",
    "\n",
    "tickers = ['VOO', 'NAFTRAC.MX']\n",
    "start_date = '2015-01-01'\n",
    "end_date = '2021-01-01'\n",
    "St = yf.download(tickers, start=start_date, end=end_date)['Adj Close']"
   ]
  },
  {
   "cell_type": "code",
   "execution_count": 2,
   "id": "7ed1b7a1",
   "metadata": {},
   "outputs": [],
   "source": [
    "# Obten rendimientos\n",
    "rt = St.pct_change()"
   ]
  },
  {
   "cell_type": "code",
   "execution_count": 3,
   "id": "3415a33c",
   "metadata": {},
   "outputs": [
    {
     "data": {
      "text/plain": [
       "1.0"
      ]
     },
     "execution_count": 3,
     "metadata": {},
     "output_type": "execute_result"
    }
   ],
   "source": [
    "# Rendiiento aritmetico VOO\n",
    "#Cuanto crece tu inversion expresado en dinero \n",
    "(1 + rt.VOO).prod()"
   ]
  },
  {
   "cell_type": "code",
   "execution_count": null,
   "id": "00424b00-39ae-4f92-bc7b-da8e063547c6",
   "metadata": {},
   "outputs": [],
   "source": []
  },
  {
   "cell_type": "code",
   "execution_count": 4,
   "id": "10e4d931-941a-4cf5-9490-ded9e0e73e33",
   "metadata": {},
   "outputs": [
    {
     "ename": "ZeroDivisionError",
     "evalue": "division by zero",
     "output_type": "error",
     "traceback": [
      "\u001b[0;31m---------------------------------------------------------------------------\u001b[0m",
      "\u001b[0;31mZeroDivisionError\u001b[0m                         Traceback (most recent call last)",
      "Cell \u001b[0;32mIn[4], line 2\u001b[0m\n\u001b[1;32m      1\u001b[0m \u001b[38;5;66;03m# Rendimiento geometric\u001b[39;00m\n\u001b[0;32m----> 2\u001b[0m rg \u001b[38;5;241m=\u001b[39m ((\u001b[38;5;241m1\u001b[39m \u001b[38;5;241m+\u001b[39mrt\u001b[38;5;241m.\u001b[39mVOO)\u001b[38;5;241m.\u001b[39mprod()) \u001b[38;5;241m*\u001b[39m\u001b[38;5;241m*\u001b[39m (\u001b[38;5;241;43m1\u001b[39;49m\u001b[38;5;241;43m/\u001b[39;49m\u001b[38;5;28;43mlen\u001b[39;49m\u001b[43m(\u001b[49m\u001b[43mrt\u001b[49m\u001b[43m)\u001b[49m) \u001b[38;5;241m-\u001b[39m \u001b[38;5;241m1\u001b[39m \n",
      "\u001b[0;31mZeroDivisionError\u001b[0m: division by zero"
     ]
    }
   ],
   "source": [
    "# Rendimiento geometric\n",
    "rg = ((1 +rt.VOO).prod()) ** (1/len(rt)) - 1 "
   ]
  },
  {
   "cell_type": "markdown",
   "id": "5afe92b0-176d-4a9a-ad10-d7a0a841e95b",
   "metadata": {},
   "source": [
    "Precio * (1 + r_g) * N = PrecioFinal"
   ]
  },
  {
   "cell_type": "code",
   "execution_count": null,
   "id": "a22768f7-a95c-47d9-8ce2-0e3275bd511c",
   "metadata": {},
   "outputs": [],
   "source": [
    "rg"
   ]
  },
  {
   "cell_type": "code",
   "execution_count": null,
   "id": "55ff205d-48d7-4cb5-abba-3be79c3020d1",
   "metadata": {},
   "outputs": [],
   "source": [
    "St.VOO.head(1).values[0] *  ( 1 + rg) ** (len(rt))"
   ]
  },
  {
   "cell_type": "code",
   "execution_count": null,
   "id": "a4fa4d2a",
   "metadata": {},
   "outputs": [],
   "source": [
    "# ¿Cuanto da por año el S&P?\n",
    "rg * 252 "
   ]
  },
  {
   "cell_type": "code",
   "execution_count": null,
   "id": "a7d28235-dd7f-45ae-a5be-c9886ecfb7a2",
   "metadata": {},
   "outputs": [],
   "source": [
    "160 * (1 + 0.1201) ** 6 "
   ]
  },
  {
   "cell_type": "code",
   "execution_count": null,
   "id": "78f0cd44",
   "metadata": {},
   "outputs": [],
   "source": [
    "# Valores esperados acciones\n",
    "ve_usa  = rt.VOO.mean()\n",
    "ve_mx = rt['NAFTRAC.MX'].mean()\n",
    "\n",
    "# Volatilidad acciones \n",
    "s_usa = rt.VOO.std()\n",
    "s_mx = rt['NAFTRAC.MX'].std()\n",
    "\n",
    "# Correlacion\n",
    "corr_usa_mx =  rt.corr()['NAFTRAC.MX']['VOO']\n",
    "\n",
    "# Covarianza\n",
    "cov_usa_mx =  rt.cov()['NAFTRAC.MX']['VOO']\n"
   ]
  },
  {
   "cell_type": "markdown",
   "id": "03315e99",
   "metadata": {},
   "source": [
    "$$\\sigma^2_p = w_a^2 \\sigma^2_a + w_b^2 \\sigma_{b}^2 + 2 w_a w_b cov(a,b)$$\n",
    "\n",
    "\n",
    "$$cov(a,b) = \\sigma_a \\sigma_b corr(a,b) $$\n",
    "\n",
    "$$\\sigma^2_p = w_a^2 \\sigma^2_a + w_b^2 \\sigma_{b}^2 + 2 w_a w_b \\sigma_a \\sigma_b corr(a,b)$$\n"
   ]
  },
  {
   "cell_type": "code",
   "execution_count": null,
   "id": "b18c56c9",
   "metadata": {},
   "outputs": [],
   "source": [
    "# Crea data frame con distintas correlaciones\n",
    "def volatility_correlation(df, s_usa, s_mx, correlation):\n",
    "    w1 = df['w_usa']\n",
    "    w2 = df['w_mx']\n",
    "    sP = np.sqrt(w1**2 * s_usa**2 + w2**2 * s_mx**2 + 2*correlation*s_usa * s_mx * w1*w2)\n",
    "    return sP\n",
    "\n",
    "w = np.linspace(0, 1, 100) \n",
    "df = pd.DataFrame({\n",
    "    'w_usa': w, \n",
    "    'w_mx' : 1 - w, \n",
    "    'valor_esperado' : (w*ve_usa + (1 - w) * ve_mx) * 252\n",
    "\n",
    "})\n",
    "\n",
    "# x es el dataframe en todo el row \n",
    "\n",
    "df['volatility'] = df.apply(lambda x: volatility_correlation(x, s_usa, s_mx, corr_usa_mx), axis = 1)* np.sqrt(252) \n",
    "\n",
    "df['volatility_corr-1'] = df.apply(lambda x: volatility_correlation(x, s_usa, s_mx, -1), axis = 1) * np.sqrt(252) \n",
    "\n",
    "df['volatility_corr1'] = df.apply(lambda x: volatility_correlation(x, s_usa, s_mx,  1), axis = 1) * np.sqrt(252) \n",
    "\n",
    "df['volatility_corr0'] = df.apply(lambda x: volatility_correlation(x, s_usa, s_mx, 0), axis = 1) * np.sqrt(252) "
   ]
  },
  {
   "cell_type": "code",
   "execution_count": null,
   "id": "fff77c31",
   "metadata": {},
   "outputs": [],
   "source": [
    "# Como se ve con la real?\n",
    "plt.plot(df.volatility, \n",
    "\n",
    "# Cra distintas correlaciones"
   ]
  },
  {
   "cell_type": "code",
   "execution_count": null,
   "id": "9b4aad82",
   "metadata": {},
   "outputs": [],
   "source": [
    "# Grafica todo junto \n"
   ]
  },
  {
   "cell_type": "markdown",
   "id": "4cf6aaa6",
   "metadata": {},
   "source": [
    "## Varios activos"
   ]
  },
  {
   "cell_type": "code",
   "execution_count": null,
   "id": "500941cf",
   "metadata": {},
   "outputs": [],
   "source": [
    "tickers = ['VOO', 'VEA', 'VWO', 'VNQ', 'NAFTRAC.MX']\n",
    "start_date = '2015-01-01'\n",
    "end_date = '2021-01-01'\n",
    "St = yf.download(tickers, start=start_date, end=end_date)['Adj Close']\n",
    "rt = St.pct_change()"
   ]
  },
  {
   "cell_type": "code",
   "execution_count": null,
   "id": "a50505d6",
   "metadata": {},
   "outputs": [],
   "source": [
    "# Crea una función que retorne el rendimiento esperado y la varianza de un portafolio\n",
    "def random_portafolio(returns):\n",
    "    def rand_weights(n):\n",
    "        k = np.random.rand(n)\n",
    "        return k / sum(k)\n",
    "    # Definimos las constantes\n",
    "    means = rt.mean()\n",
    "    sigma = returns.cov()\n",
    "    # Obtenemos pesos\n",
    "    n_act = len(rt.keys())\n",
    "    w = rand_weights(n_act)\n",
    "    # Rendimiento esperado\n",
    "    re = w.dot(means) * 252\n",
    "    # Varianza\n",
    "    variance = w.dot(sigma).dot(w.T) \n",
    "    vol = np.sqrt(variance) * np.sqrt(252)\n",
    "    return re, vol, w                  \n",
    "\n",
    "random_portafolio(rt)"
   ]
  },
  {
   "cell_type": "code",
   "execution_count": null,
   "id": "509fe0ca",
   "metadata": {},
   "outputs": [],
   "source": [
    "# Simula 500 portafolios \n",
    "valores_esperados = []\n",
    "volatilidades = [] \n",
    "pesos = [] \n",
    "for i in range(500):\n",
    "    vel1, vol1, w1 = random_portafolio\n",
    "\n",
    "    valores_esperados.append(vel1)\n",
    "    volatilidades.append(vol1) \n",
    "    pesos.append(w1) \n",
    "\n",
    "df_final = pd.DataFrame({\n",
    "    'valor_esperado' : valores_esperados, \n",
    "    'volatilidad' : volatilidades,\n",
    "    'pesos' : pesos\n",
    "\n",
    "})"
   ]
  },
  {
   "cell_type": "code",
   "execution_count": null,
   "id": "87f7efe2",
   "metadata": {},
   "outputs": [],
   "source": [
    "# Grafica\n"
   ]
  },
  {
   "cell_type": "markdown",
   "id": "abdd321d",
   "metadata": {},
   "source": [
    "# ¿en que invertir para obtener el de mínima varianza?"
   ]
  },
  {
   "cell_type": "code",
   "execution_count": null,
   "id": "a3671e22",
   "metadata": {},
   "outputs": [],
   "source": []
  },
  {
   "cell_type": "code",
   "execution_count": null,
   "id": "e18eaa21",
   "metadata": {},
   "outputs": [],
   "source": []
  },
  {
   "cell_type": "markdown",
   "id": "f79eca61",
   "metadata": {},
   "source": [
    "# Más riesgo, más volatilidad?"
   ]
  },
  {
   "cell_type": "code",
   "execution_count": null,
   "id": "efa700e8",
   "metadata": {},
   "outputs": [],
   "source": [
    "df_regresion = pd.DataFrame()\n",
    "df_regresion['median'] = rt.mean() * 252 \n",
    "df['volatilidades'] = rt.std() * np.sqrt(252)\n",
    "plt.scatter(df_regresion.volatildades, df_regresion.medias)"
   ]
  },
  {
   "cell_type": "code",
   "execution_count": null,
   "id": "d91ddbc5",
   "metadata": {},
   "outputs": [],
   "source": []
  },
  {
   "cell_type": "code",
   "execution_count": null,
   "id": "cbce29bd",
   "metadata": {},
   "outputs": [],
   "source": [
    "from sklearn.linear_model import LinearRegression"
   ]
  },
  {
   "cell_type": "code",
   "execution_count": null,
   "id": "306f4399",
   "metadata": {},
   "outputs": [],
   "source": [
    "X = df_regresion[['volatilidades']]\n",
    "y = df_regresion[['medias']]\n",
    "model = LinearRegression().fit(X, y) "
   ]
  },
  {
   "cell_type": "code",
   "execution_count": null,
   "id": "f84bfd48",
   "metadata": {},
   "outputs": [],
   "source": [
    "df_regresion['predicciones'] = model.predict(X)"
   ]
  },
  {
   "cell_type": "code",
   "execution_count": null,
   "id": "6a7f9379",
   "metadata": {},
   "outputs": [],
   "source": [
    "# Escriber\n"
   ]
  },
  {
   "cell_type": "code",
   "execution_count": null,
   "id": "fdce0adf",
   "metadata": {},
   "outputs": [],
   "source": []
  },
  {
   "cell_type": "code",
   "execution_count": null,
   "id": "95054b81",
   "metadata": {},
   "outputs": [],
   "source": []
  },
  {
   "cell_type": "code",
   "execution_count": null,
   "id": "b16f586b",
   "metadata": {},
   "outputs": [],
   "source": []
  }
 ],
 "metadata": {
  "kernelspec": {
   "display_name": "Python 3 (ipykernel)",
   "language": "python",
   "name": "python3"
  },
  "language_info": {
   "codemirror_mode": {
    "name": "ipython",
    "version": 3
   },
   "file_extension": ".py",
   "mimetype": "text/x-python",
   "name": "python",
   "nbconvert_exporter": "python",
   "pygments_lexer": "ipython3",
   "version": "3.10.12"
  }
 },
 "nbformat": 4,
 "nbformat_minor": 5
}
