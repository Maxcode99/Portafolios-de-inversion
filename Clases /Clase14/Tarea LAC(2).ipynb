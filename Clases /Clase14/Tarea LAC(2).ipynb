{
 "cells": [
  {
   "cell_type": "code",
   "execution_count": null,
   "id": "49decab8",
   "metadata": {},
   "outputs": [],
   "source": [
    "## Con estas acciones\n",
    "tickers = ['GOOGL', 'EFX', 'COST', 'WMT', 'PG',\n",
    "     'DIS', 'IBM', 'AMZN', 'TGT', 'JPM', 'INTC',\n",
    "    'MSFT', 'BLK', 'NFLX']\n",
    "start_date = '2015-01-01'\n",
    "\n",
    "# Crea un portafolio de markowitz\n",
    "# Crea la LAC\n",
    "# ¿Cuanto en bonos y cuanto en acciones segun la ecuación que venimos viendo=\n",
    "# Usa RF como 4%\n",
    "# Usa alpha como una serie de 1 a 10\n",
    "# Explicar los resultados y el porque podrían tener sentido. No se vale nomas poner código y gráficas"
   ]
  }
 ],
 "metadata": {
  "kernelspec": {
   "display_name": "Python 3 (ipykernel)",
   "language": "python",
   "name": "python3"
  },
  "language_info": {
   "codemirror_mode": {
    "name": "ipython",
    "version": 3
   },
   "file_extension": ".py",
   "mimetype": "text/x-python",
   "name": "python",
   "nbconvert_exporter": "python",
   "pygments_lexer": "ipython3",
   "version": "3.10.12"
  }
 },
 "nbformat": 4,
 "nbformat_minor": 5
}
