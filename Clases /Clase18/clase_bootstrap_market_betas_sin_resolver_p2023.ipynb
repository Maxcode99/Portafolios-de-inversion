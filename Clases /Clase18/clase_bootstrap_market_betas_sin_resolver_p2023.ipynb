{
 "cells": [
  {
   "cell_type": "markdown",
   "id": "b1256b1f",
   "metadata": {},
   "source": [
    "### Bootstrap\n",
    "\n",
    "Bootstrap es una idea loca que surgió en los 80's que consiste en reaamplear con remplazo\n"
   ]
  },
  {
   "cell_type": "code",
   "execution_count": 1,
   "id": "32da4e53",
   "metadata": {},
   "outputs": [],
   "source": [
    "# Importar liberias\n",
    "import pandas as pd\n",
    "import numpy as np\n",
    "import matplotlib.pyplot as plt\n",
    "import random"
   ]
  },
  {
   "cell_type": "markdown",
   "id": "41746325",
   "metadata": {},
   "source": [
    "### Procedimiento: bootstrap resampling\n",
    "\n",
    "1- Crea muchas muestras con remplazo y obten una metrica (promedio, desviación, AUC, lo que sea)\n",
    "\n",
    "2- Guarda esa métrica en una lista\n",
    "\n",
    "3- Esa lista te dará la distribución real de la variable aleatoria\n",
    "\n",
    "\n"
   ]
  },
  {
   "cell_type": "markdown",
   "id": "1e731a0b",
   "metadata": {},
   "source": [
    "## Aplicación : Intervalos de confianza para las market betas"
   ]
  },
  {
   "cell_type": "code",
   "execution_count": 2,
   "id": "472da2ab",
   "metadata": {},
   "outputs": [
    {
     "name": "stdout",
     "output_type": "stream",
     "text": [
      "[*********************100%%**********************]  3 of 3 completed\n"
     ]
    },
    {
     "data": {
      "text/html": [
       "<div>\n",
       "<style scoped>\n",
       "    .dataframe tbody tr th:only-of-type {\n",
       "        vertical-align: middle;\n",
       "    }\n",
       "\n",
       "    .dataframe tbody tr th {\n",
       "        vertical-align: top;\n",
       "    }\n",
       "\n",
       "    .dataframe thead th {\n",
       "        text-align: right;\n",
       "    }\n",
       "</style>\n",
       "<table border=\"1\" class=\"dataframe\">\n",
       "  <thead>\n",
       "    <tr style=\"text-align: right;\">\n",
       "      <th></th>\n",
       "      <th>AAPL</th>\n",
       "      <th>AMZN</th>\n",
       "      <th>VTI</th>\n",
       "    </tr>\n",
       "    <tr>\n",
       "      <th>Date</th>\n",
       "      <th></th>\n",
       "      <th></th>\n",
       "      <th></th>\n",
       "    </tr>\n",
       "  </thead>\n",
       "  <tbody>\n",
       "    <tr>\n",
       "      <th>2015-01-05</th>\n",
       "      <td>-0.028172</td>\n",
       "      <td>-0.020517</td>\n",
       "      <td>-0.017183</td>\n",
       "    </tr>\n",
       "    <tr>\n",
       "      <th>2015-01-06</th>\n",
       "      <td>0.000094</td>\n",
       "      <td>-0.022833</td>\n",
       "      <td>-0.009798</td>\n",
       "    </tr>\n",
       "    <tr>\n",
       "      <th>2015-01-07</th>\n",
       "      <td>0.014022</td>\n",
       "      <td>0.010600</td>\n",
       "      <td>0.011932</td>\n",
       "    </tr>\n",
       "    <tr>\n",
       "      <th>2015-01-08</th>\n",
       "      <td>0.038422</td>\n",
       "      <td>0.006836</td>\n",
       "      <td>0.017640</td>\n",
       "    </tr>\n",
       "    <tr>\n",
       "      <th>2015-01-09</th>\n",
       "      <td>0.001073</td>\n",
       "      <td>-0.011749</td>\n",
       "      <td>-0.008290</td>\n",
       "    </tr>\n",
       "  </tbody>\n",
       "</table>\n",
       "</div>"
      ],
      "text/plain": [
       "                AAPL      AMZN       VTI\n",
       "Date                                    \n",
       "2015-01-05 -0.028172 -0.020517 -0.017183\n",
       "2015-01-06  0.000094 -0.022833 -0.009798\n",
       "2015-01-07  0.014022  0.010600  0.011932\n",
       "2015-01-08  0.038422  0.006836  0.017640\n",
       "2015-01-09  0.001073 -0.011749 -0.008290"
      ]
     },
     "execution_count": 2,
     "metadata": {},
     "output_type": "execute_result"
    }
   ],
   "source": [
    "# Get tickers \n",
    "import yfinance as yf\n",
    "tickers = ['VTI', 'AMZN', 'AAPL']\n",
    "start_date = '2015-01-01'\n",
    "\n",
    "# Descargar precios y graficar\n",
    "St = yf.download(tickers, start=start_date)['Close']\n",
    "\n",
    "returns = St.pct_change().dropna()\n",
    "returns.head()"
   ]
  },
  {
   "cell_type": "markdown",
   "id": "4154f20b",
   "metadata": {},
   "source": [
    "\n",
    "\n",
    "Calcular beta con una regresión:\n",
    "$$r_{vgt} = \\beta_o + \\beta_1 * r_{vti}$$"
   ]
  },
  {
   "cell_type": "code",
   "execution_count": 3,
   "id": "f014acf2",
   "metadata": {},
   "outputs": [
    {
     "data": {
      "text/plain": [
       "1.1105813030620613"
      ]
     },
     "execution_count": 3,
     "metadata": {},
     "output_type": "execute_result"
    }
   ],
   "source": [
    "# Calcular beta del activo \n",
    "from sklearn.linear_model import LinearRegression\n",
    "X = returns[['VTI']]\n",
    "Y = returns[['AMZN']]\n",
    "model = LinearRegression().fit(X,Y)\n",
    "model.coef_[0][0]"
   ]
  },
  {
   "cell_type": "code",
   "execution_count": 4,
   "id": "4742a4a7-9334-4ddd-8cb9-73a5f81b6a30",
   "metadata": {},
   "outputs": [
    {
     "data": {
      "text/html": [
       "<div>\n",
       "<style scoped>\n",
       "    .dataframe tbody tr th:only-of-type {\n",
       "        vertical-align: middle;\n",
       "    }\n",
       "\n",
       "    .dataframe tbody tr th {\n",
       "        vertical-align: top;\n",
       "    }\n",
       "\n",
       "    .dataframe thead th {\n",
       "        text-align: right;\n",
       "    }\n",
       "</style>\n",
       "<table border=\"1\" class=\"dataframe\">\n",
       "  <thead>\n",
       "    <tr style=\"text-align: right;\">\n",
       "      <th></th>\n",
       "      <th>AAPL</th>\n",
       "      <th>AMZN</th>\n",
       "      <th>VTI</th>\n",
       "    </tr>\n",
       "    <tr>\n",
       "      <th>Date</th>\n",
       "      <th></th>\n",
       "      <th></th>\n",
       "      <th></th>\n",
       "    </tr>\n",
       "  </thead>\n",
       "  <tbody>\n",
       "    <tr>\n",
       "      <th>2015-01-05</th>\n",
       "      <td>-0.028172</td>\n",
       "      <td>-0.020517</td>\n",
       "      <td>-0.017183</td>\n",
       "    </tr>\n",
       "    <tr>\n",
       "      <th>2015-01-06</th>\n",
       "      <td>0.000094</td>\n",
       "      <td>-0.022833</td>\n",
       "      <td>-0.009798</td>\n",
       "    </tr>\n",
       "    <tr>\n",
       "      <th>2015-01-07</th>\n",
       "      <td>0.014022</td>\n",
       "      <td>0.010600</td>\n",
       "      <td>0.011932</td>\n",
       "    </tr>\n",
       "    <tr>\n",
       "      <th>2015-01-08</th>\n",
       "      <td>0.038422</td>\n",
       "      <td>0.006836</td>\n",
       "      <td>0.017640</td>\n",
       "    </tr>\n",
       "    <tr>\n",
       "      <th>2015-01-09</th>\n",
       "      <td>0.001073</td>\n",
       "      <td>-0.011749</td>\n",
       "      <td>-0.008290</td>\n",
       "    </tr>\n",
       "    <tr>\n",
       "      <th>...</th>\n",
       "      <td>...</td>\n",
       "      <td>...</td>\n",
       "      <td>...</td>\n",
       "    </tr>\n",
       "    <tr>\n",
       "      <th>2023-11-09</th>\n",
       "      <td>-0.002625</td>\n",
       "      <td>-0.010417</td>\n",
       "      <td>-0.008514</td>\n",
       "    </tr>\n",
       "    <tr>\n",
       "      <th>2023-11-10</th>\n",
       "      <td>0.021874</td>\n",
       "      <td>0.021053</td>\n",
       "      <td>0.014888</td>\n",
       "    </tr>\n",
       "    <tr>\n",
       "      <th>2023-11-13</th>\n",
       "      <td>-0.008584</td>\n",
       "      <td>-0.006757</td>\n",
       "      <td>-0.000598</td>\n",
       "    </tr>\n",
       "    <tr>\n",
       "      <th>2023-11-14</th>\n",
       "      <td>0.014286</td>\n",
       "      <td>0.022512</td>\n",
       "      <td>0.022178</td>\n",
       "    </tr>\n",
       "    <tr>\n",
       "      <th>2023-11-15</th>\n",
       "      <td>0.003041</td>\n",
       "      <td>-0.017833</td>\n",
       "      <td>0.002476</td>\n",
       "    </tr>\n",
       "  </tbody>\n",
       "</table>\n",
       "<p>2233 rows × 3 columns</p>\n",
       "</div>"
      ],
      "text/plain": [
       "                AAPL      AMZN       VTI\n",
       "Date                                    \n",
       "2015-01-05 -0.028172 -0.020517 -0.017183\n",
       "2015-01-06  0.000094 -0.022833 -0.009798\n",
       "2015-01-07  0.014022  0.010600  0.011932\n",
       "2015-01-08  0.038422  0.006836  0.017640\n",
       "2015-01-09  0.001073 -0.011749 -0.008290\n",
       "...              ...       ...       ...\n",
       "2023-11-09 -0.002625 -0.010417 -0.008514\n",
       "2023-11-10  0.021874  0.021053  0.014888\n",
       "2023-11-13 -0.008584 -0.006757 -0.000598\n",
       "2023-11-14  0.014286  0.022512  0.022178\n",
       "2023-11-15  0.003041 -0.017833  0.002476\n",
       "\n",
       "[2233 rows x 3 columns]"
      ]
     },
     "execution_count": 4,
     "metadata": {},
     "output_type": "execute_result"
    }
   ],
   "source": [
    "returns"
   ]
  },
  {
   "cell_type": "code",
   "execution_count": 5,
   "id": "eb27fc7f",
   "metadata": {},
   "outputs": [],
   "source": [
    "# Calcule bootstrap de las betas\n",
    "n = 1500\n",
    "betas = []\n",
    "\n",
    "for i in range(n): \n",
    "    flag_df = returns.sample(len(returns), replace = True)\n",
    "    model = LinearRegression()\n",
    "    X = flag_df[['VTI']]\n",
    "    y = flag_df[['AMZN']]\n",
    "    model.fit(X, y)\n",
    "    beta_bootstrap = model.coef_[0][0]\n",
    "    betas.append(beta_bootstrap) "
   ]
  },
  {
   "cell_type": "code",
   "execution_count": 6,
   "id": "fa0e0fa1",
   "metadata": {},
   "outputs": [
    {
     "data": {
      "text/plain": [
       "(array([ 1.,  0.,  0.,  0.,  1.,  0.,  1.,  1.,  4.,  6.,  8., 24., 14.,\n",
       "        27., 31., 32., 39., 53., 50., 53., 59., 73., 75., 65., 81., 68.,\n",
       "        63., 80., 67., 74., 58., 68., 60., 49., 41., 29., 31., 25., 17.,\n",
       "        23., 12.,  5., 11.,  4.,  7.,  3.,  3.,  0.,  0.,  4.]),\n",
       " array([0.91366879, 0.92144865, 0.92922852, 0.93700838, 0.94478825,\n",
       "        0.95256812, 0.96034798, 0.96812785, 0.97590771, 0.98368758,\n",
       "        0.99146745, 0.99924731, 1.00702718, 1.01480704, 1.02258691,\n",
       "        1.03036678, 1.03814664, 1.04592651, 1.05370637, 1.06148624,\n",
       "        1.06926611, 1.07704597, 1.08482584, 1.0926057 , 1.10038557,\n",
       "        1.10816544, 1.1159453 , 1.12372517, 1.13150503, 1.1392849 ,\n",
       "        1.14706477, 1.15484463, 1.1626245 , 1.17040436, 1.17818423,\n",
       "        1.1859641 , 1.19374396, 1.20152383, 1.20930369, 1.21708356,\n",
       "        1.22486343, 1.23264329, 1.24042316, 1.24820302, 1.25598289,\n",
       "        1.26376276, 1.27154262, 1.27932249, 1.28710235, 1.29488222,\n",
       "        1.30266209]),\n",
       " <BarContainer object of 50 artists>)"
      ]
     },
     "execution_count": 6,
     "metadata": {},
     "output_type": "execute_result"
    },
    {
     "data": {
      "image/png": "[encoded data removed]",
      "text/plain": [
       "<Figure size 640x480 with 1 Axes>"
      ]
     },
     "metadata": {},
     "output_type": "display_data"
    }
   ],
   "source": [
    "# Histograma de las betas\n",
    "plt.hist(betas, bins = 50)"
   ]
  },
  {
   "cell_type": "markdown",
   "id": "1148fb90",
   "metadata": {},
   "source": [
    "¿Cuál es la probabilidad de que el beta sea menor a 0?"
   ]
  },
  {
   "cell_type": "code",
   "execution_count": 7,
   "id": "a5efc0ec",
   "metadata": {},
   "outputs": [
    {
     "data": {
      "text/plain": [
       "0.0"
      ]
     },
     "execution_count": 7,
     "metadata": {},
     "output_type": "execute_result"
    }
   ],
   "source": [
    "df = pd.DataFrame()\n",
    "df['betas'] = betas\n",
    "np.mean(df.betas < 0 )"
   ]
  },
  {
   "cell_type": "code",
   "execution_count": null,
   "id": "a207c13a",
   "metadata": {},
   "outputs": [],
   "source": []
  },
  {
   "cell_type": "markdown",
   "id": "3dea8cc0",
   "metadata": {},
   "source": [
    "Probabilidad que la beta sea mayor a 1.1"
   ]
  },
  {
   "cell_type": "code",
   "execution_count": 8,
   "id": "b00efe88",
   "metadata": {},
   "outputs": [
    {
     "data": {
      "text/plain": [
       "0.5913333333333334"
      ]
     },
     "execution_count": 8,
     "metadata": {},
     "output_type": "execute_result"
    }
   ],
   "source": [
    "np.mean(df.betas > 1.1) "
   ]
  },
  {
   "cell_type": "markdown",
   "id": "16a9b2a6",
   "metadata": {},
   "source": [
    "## Con las betas anteriores, calcula el CAPM \n",
    "\n",
    "\n",
    "rf = 4%\n",
    "\n",
    "mercado = 9%\n",
    "\n",
    "$$E[r_i] = rf + \\beta * (E[m] - rf) $$"
   ]
  },
  {
   "cell_type": "code",
   "execution_count": 9,
   "id": "eac6b469",
   "metadata": {},
   "outputs": [],
   "source": [
    "betas_oficial = np.mean(betas) "
   ]
  },
  {
   "cell_type": "code",
   "execution_count": 10,
   "id": "914bc3f9",
   "metadata": {},
   "outputs": [
    {
     "data": {
      "text/plain": [
       "0.09576184195198308"
      ]
     },
     "execution_count": 10,
     "metadata": {},
     "output_type": "execute_result"
    }
   ],
   "source": [
    "# Simula el CAPM con todas las betas del bootstrap\n",
    "\n",
    "# CAPM es una mejor manera de estimar un promdio a largo plazo \n",
    "\n",
    "rf = 0.04 \n",
    "mercado = 0.09\n",
    "\n",
    "rf + betas_oficial * (mercado - rf) "
   ]
  },
  {
   "cell_type": "code",
   "execution_count": 11,
   "id": "42f944d2",
   "metadata": {},
   "outputs": [],
   "source": [
    "# Probabilidad de rendimiento esperado menor a 9%\n",
    "df['capm'] = rf + df.betas * (mercado - rf) "
   ]
  },
  {
   "cell_type": "code",
   "execution_count": 12,
   "id": "1368e24c",
   "metadata": {},
   "outputs": [
    {
     "data": {
      "text/plain": [
       "0.92"
      ]
     },
     "execution_count": 12,
     "metadata": {},
     "output_type": "execute_result"
    }
   ],
   "source": [
    "# Probabilidad de rendimiento esperado menor a 10%\n",
    "np.mean(df.capm < 0.1) "
   ]
  },
  {
   "cell_type": "code",
   "execution_count": 13,
   "id": "2d8bc5ac-b83e-4e3d-9956-134d3d42d026",
   "metadata": {},
   "outputs": [
    {
     "data": {
      "text/plain": [
       "0.016666666666666666"
      ]
     },
     "execution_count": 13,
     "metadata": {},
     "output_type": "execute_result"
    }
   ],
   "source": [
    "np.mean(df.capm < 0.09)"
   ]
  },
  {
   "cell_type": "code",
   "execution_count": 14,
   "id": "b322f288-af95-41eb-a906-35893f4574e9",
   "metadata": {},
   "outputs": [
    {
     "data": {
      "text/plain": [
       "(array([ 1.,  0.,  0.,  0.,  1.,  0.,  1.,  1.,  4.,  6.,  8., 24., 14.,\n",
       "        27., 31., 32., 39., 53., 50., 53., 59., 73., 75., 65., 81., 68.,\n",
       "        63., 80., 67., 74., 58., 68., 60., 49., 41., 29., 31., 25., 17.,\n",
       "        23., 12.,  5., 11.,  4.,  7.,  3.,  3.,  0.,  0.,  4.]),\n",
       " array([0.08568344, 0.08607243, 0.08646143, 0.08685042, 0.08723941,\n",
       "        0.08762841, 0.0880174 , 0.08840639, 0.08879539, 0.08918438,\n",
       "        0.08957337, 0.08996237, 0.09035136, 0.09074035, 0.09112935,\n",
       "        0.09151834, 0.09190733, 0.09229633, 0.09268532, 0.09307431,\n",
       "        0.09346331, 0.0938523 , 0.09424129, 0.09463029, 0.09501928,\n",
       "        0.09540827, 0.09579727, 0.09618626, 0.09657525, 0.09696424,\n",
       "        0.09735324, 0.09774223, 0.09813122, 0.09852022, 0.09890921,\n",
       "        0.0992982 , 0.0996872 , 0.10007619, 0.10046518, 0.10085418,\n",
       "        0.10124317, 0.10163216, 0.10202116, 0.10241015, 0.10279914,\n",
       "        0.10318814, 0.10357713, 0.10396612, 0.10435512, 0.10474411,\n",
       "        0.1051331 ]),\n",
       " <BarContainer object of 50 artists>)"
      ]
     },
     "execution_count": 14,
     "metadata": {},
     "output_type": "execute_result"
    },
    {
     "data": {
      "image/png": "[encoded data removed]",
      "text/plain": [
       "<Figure size 640x480 with 1 Axes>"
      ]
     },
     "metadata": {},
     "output_type": "display_data"
    }
   ],
   "source": [
    "plt.hist(df.capm, bins = 50) "
   ]
  },
  {
   "cell_type": "markdown",
   "id": "6ee49755",
   "metadata": {},
   "source": [
    "### Mezclando dos simulaciones"
   ]
  },
  {
   "cell_type": "code",
   "execution_count": 15,
   "id": "9706a649-7627-47b1-86d0-969e7dc0c329",
   "metadata": {},
   "outputs": [
    {
     "data": {
      "text/plain": [
       "0"
      ]
     },
     "execution_count": 15,
     "metadata": {},
     "output_type": "execute_result"
    }
   ],
   "source": [
    "import random \n",
    "random.choice([0, 1]) "
   ]
  },
  {
   "cell_type": "code",
   "execution_count": 16,
   "id": "94be4860",
   "metadata": {
    "scrolled": true
   },
   "outputs": [
    {
     "data": {
      "text/plain": [
       "(array([ 4.,  5.,  4., 18., 34., 49., 61., 56., 72., 55., 54., 41., 34.,\n",
       "        26., 23., 30., 33., 45., 48., 49., 62., 56., 46., 38., 29., 29.,\n",
       "        32., 37., 35., 47., 38., 46., 51., 43., 44., 29., 20., 21., 18.,\n",
       "        10., 11.,  7.,  5.,  1.,  3.,  0.,  0.,  0.,  0.,  1.]),\n",
       " array([0.07774454, 0.07867292, 0.0796013 , 0.08052967, 0.08145805,\n",
       "        0.08238643, 0.08331481, 0.08424319, 0.08517156, 0.08609994,\n",
       "        0.08702832, 0.0879567 , 0.08888508, 0.08981345, 0.09074183,\n",
       "        0.09167021, 0.09259859, 0.09352696, 0.09445534, 0.09538372,\n",
       "        0.0963121 , 0.09724048, 0.09816885, 0.09909723, 0.10002561,\n",
       "        0.10095399, 0.10188237, 0.10281074, 0.10373912, 0.1046675 ,\n",
       "        0.10559588, 0.10652425, 0.10745263, 0.10838101, 0.10930939,\n",
       "        0.11023777, 0.11116614, 0.11209452, 0.1130229 , 0.11395128,\n",
       "        0.11487966, 0.11580803, 0.11673641, 0.11766479, 0.11859317,\n",
       "        0.11952154, 0.12044992, 0.1213783 , 0.12230668, 0.12323506,\n",
       "        0.12416343]),\n",
       " <BarContainer object of 50 artists>)"
      ]
     },
     "execution_count": 16,
     "metadata": {},
     "output_type": "execute_result"
    },
    {
     "data": {
      "image/png": "[encoded data removed]",
      "text/plain": [
       "<Figure size 640x480 with 1 Axes>"
      ]
     },
     "metadata": {},
     "output_type": "display_data"
    }
   ],
   "source": [
    "### Rf puede tomar distintos valores, 3%, 2% y 4%\n",
    "### El rendimiento de mercado ronda entre 8% y 10%, simular con estas distintas alternativas\n",
    "\n",
    "n = 1500\n",
    "capm = []\n",
    "\n",
    "for i in range(n): \n",
    "    flag_df = returns.sample(len(returns), replace = True)\n",
    "    model = LinearRegression()\n",
    "    X = flag_df[['VTI']]\n",
    "    y = flag_df[['AMZN']]\n",
    "    model.fit(X, y)\n",
    "    beta = model.coef_[0][0] \n",
    "    rf = random.choice([0.02, 0.03, 0.04])\n",
    "    mercado = random.choice([0.08, 0.09, 0.10])\n",
    "    capm_bootstrap = rf + beta * ( mercado - rf) \n",
    "    capm.append(capm_bootstrap)\n",
    "\n",
    "\n",
    "plt.hist(capm, bins = 50)\n",
    "    "
   ]
  },
  {
   "cell_type": "code",
   "execution_count": 17,
   "id": "7841fe38-19ef-43ee-be71-f25dfc2f3485",
   "metadata": {},
   "outputs": [
    {
     "data": {
      "text/plain": [
       "0.092"
      ]
     },
     "execution_count": 17,
     "metadata": {},
     "output_type": "execute_result"
    }
   ],
   "source": [
    "# Probabiliad que sea mayor a 11% \n",
    "df = pd.DataFrame()\n",
    "df['capm'] = capm \n",
    "np.mean(df.capm > 0.11) "
   ]
  },
  {
   "cell_type": "markdown",
   "id": "9103bc06",
   "metadata": {},
   "source": [
    "### ¿Qué tan buena es la beta para escoger acciones?\n",
    "\n",
    "#### ¿Será que lo que importa en realidad es la beta que tiene un activo? \n",
    "\n",
    "Es decir, ¿si el mercado funciona así?\n",
    "\n",
    "- *Lo único que importa es el riesgo*\n",
    "- *Más riesgo es más rendimiento y el riesgo tiene que ver con el riesgo de mercado*\n"
   ]
  },
  {
   "cell_type": "code",
   "execution_count": 18,
   "id": "7182da89",
   "metadata": {},
   "outputs": [
    {
     "data": {
      "text/plain": [
       "array([[1.17257866]])"
      ]
     },
     "execution_count": 18,
     "metadata": {},
     "output_type": "execute_result"
    }
   ],
   "source": [
    "# Calcular beta del activo \n",
    "model = LinearRegression() \n",
    "X = returns[['VTI']]\n",
    "y = returns[['AAPL']]\n",
    "model.fit(X, y) \n",
    "model.coef_ "
   ]
  },
  {
   "cell_type": "code",
   "execution_count": 19,
   "id": "e8f3c8ac",
   "metadata": {},
   "outputs": [],
   "source": [
    "# Prediiga usando el modelo\n",
    "predicciones = model.predict(X) \n"
   ]
  },
  {
   "cell_type": "code",
   "execution_count": 20,
   "id": "c80f7f79",
   "metadata": {
    "scrolled": true
   },
   "outputs": [
    {
     "data": {
      "text/plain": [
       "[<matplotlib.lines.Line2D at 0x7f20d993ef20>]"
      ]
     },
     "execution_count": 20,
     "metadata": {},
     "output_type": "execute_result"
    },
    {
     "data": {
      "image/png": "[encoded data removed]",
      "text/plain": [
       "<Figure size 640x480 with 1 Axes>"
      ]
     },
     "metadata": {},
     "output_type": "display_data"
    }
   ],
   "source": [
    "# Grafique regresion\n",
    "plt.scatter(returns.VTI, returns.AAPL) \n",
    "plt.plot(returns.VTI, predicciones, color = 'red') "
   ]
  },
  {
   "cell_type": "code",
   "execution_count": 21,
   "id": "c34e7a42-100b-4e42-bdb5-ff5cb9dffd05",
   "metadata": {},
   "outputs": [],
   "source": [
    "# Si la r2 es alta, tu beta es el riesgo \n",
    "# Si tu r2 es baja, la beta no es el riesgo \n"
   ]
  },
  {
   "cell_type": "markdown",
   "id": "302e039b",
   "metadata": {},
   "source": [
    "$$ R^2 = \\frac{Var(x_{mean}) - Var(x_{model})}{Var(x_{model})} $$"
   ]
  },
  {
   "cell_type": "code",
   "execution_count": 22,
   "id": "a2e668f7",
   "metadata": {},
   "outputs": [
    {
     "data": {
      "text/plain": [
       "0.5567702403559083"
      ]
     },
     "execution_count": 22,
     "metadata": {},
     "output_type": "execute_result"
    }
   ],
   "source": [
    "# Calcule el R2 con sklearn\n",
    "from sklearn.metrics import r2_score\n",
    "r2_score(y_true = y, y_pred = predicciones) "
   ]
  },
  {
   "cell_type": "code",
   "execution_count": 23,
   "id": "7c43a29f",
   "metadata": {},
   "outputs": [],
   "source": [
    "# Doble bootstrap, betas y R2\n",
    "n = 1500\n",
    "betas = []\n",
    "r2 = []\n",
    "\n",
    "\n",
    "for i in range(n): \n",
    "    flag_df = returns.sample(len(returns), replace = True)\n",
    "    model = LinearRegression()\n",
    "    X = flag_df[['VTI']]\n",
    "    y = flag_df[['AAPL']]\n",
    "    model.fit(X, y)\n",
    "    beta_bootstrap = model.coef_[0][0]\n",
    "    betas.append(beta_bootstrap) \n",
    "\n",
    "#\n",
    "    predicciones = model.predict(X) \n",
    "    bootstrap_r2 = r2_score(y_pred = predicciones, y_true = y) \n",
    "    r2.append(bootstrap_r2)"
   ]
  },
  {
   "cell_type": "code",
   "execution_count": 24,
   "id": "ac52ae6b",
   "metadata": {},
   "outputs": [
    {
     "data": {
      "text/plain": [
       "(array([ 1.,  1.,  0.,  0.,  1.,  2.,  3.,  4.,  6.,  3.,  8., 16., 11.,\n",
       "        14., 20., 25., 36., 49., 58., 47., 60., 79., 68., 64., 90., 94.,\n",
       "        82., 83., 58., 78., 63., 58., 46., 52., 40., 39., 33., 23., 18.,\n",
       "        12., 15., 17.,  6.,  6.,  4.,  2.,  1.,  1.,  0.,  3.]),\n",
       " array([0.46893888, 0.47228291, 0.47562695, 0.47897098, 0.48231502,\n",
       "        0.48565905, 0.48900308, 0.49234712, 0.49569115, 0.49903519,\n",
       "        0.50237922, 0.50572325, 0.50906729, 0.51241132, 0.51575536,\n",
       "        0.51909939, 0.52244342, 0.52578746, 0.52913149, 0.53247553,\n",
       "        0.53581956, 0.5391636 , 0.54250763, 0.54585166, 0.5491957 ,\n",
       "        0.55253973, 0.55588377, 0.5592278 , 0.56257183, 0.56591587,\n",
       "        0.5692599 , 0.57260394, 0.57594797, 0.57929201, 0.58263604,\n",
       "        0.58598007, 0.58932411, 0.59266814, 0.59601218, 0.59935621,\n",
       "        0.60270024, 0.60604428, 0.60938831, 0.61273235, 0.61607638,\n",
       "        0.61942041, 0.62276445, 0.62610848, 0.62945252, 0.63279655,\n",
       "        0.63614059]),\n",
       " <BarContainer object of 50 artists>)"
      ]
     },
     "execution_count": 24,
     "metadata": {},
     "output_type": "execute_result"
    },
    {
     "data": {
      "image/png": "[encoded data removed]",
      "text/plain": [
       "<Figure size 640x480 with 1 Axes>"
      ]
     },
     "metadata": {},
     "output_type": "display_data"
    }
   ],
   "source": [
    "# Histograma del R2\n",
    "df = pd.DataFrame() \n",
    "df['betas'] = betas \n",
    "df['r2'] = r2\n",
    "plt.hist(df.r2, bins = 50)"
   ]
  },
  {
   "cell_type": "code",
   "execution_count": 31,
   "id": "be627817",
   "metadata": {},
   "outputs": [
    {
     "data": {
      "text/plain": [
       "(array([ 2.,  0.,  4.,  4.,  2.,  6., 11., 16.,  9., 12., 19., 29., 29.,\n",
       "        32., 41., 54., 58., 77., 70., 64., 79., 75., 80., 89., 99., 54.,\n",
       "        69., 66., 64., 39., 44., 32., 40., 27., 28., 21.,  8., 10.,  8.,\n",
       "         7., 11.,  3.,  2.,  2.,  1.,  1.,  1.,  0.,  0.,  1.]),\n",
       " array([1.09114865, 1.09476184, 1.09837504, 1.10198824, 1.10560144,\n",
       "        1.10921464, 1.11282783, 1.11644103, 1.12005423, 1.12366743,\n",
       "        1.12728063, 1.13089383, 1.13450702, 1.13812022, 1.14173342,\n",
       "        1.14534662, 1.14895982, 1.15257301, 1.15618621, 1.15979941,\n",
       "        1.16341261, 1.16702581, 1.170639  , 1.1742522 , 1.1778654 ,\n",
       "        1.1814786 , 1.1850918 , 1.18870499, 1.19231819, 1.19593139,\n",
       "        1.19954459, 1.20315779, 1.20677099, 1.21038418, 1.21399738,\n",
       "        1.21761058, 1.22122378, 1.22483698, 1.22845017, 1.23206337,\n",
       "        1.23567657, 1.23928977, 1.24290297, 1.24651616, 1.25012936,\n",
       "        1.25374256, 1.25735576, 1.26096896, 1.26458215, 1.26819535,\n",
       "        1.27180855]),\n",
       " <BarContainer object of 50 artists>)"
      ]
     },
     "execution_count": 31,
     "metadata": {},
     "output_type": "execute_result"
    },
    {
     "data": {
      "image/png": "[encoded data removed]",
      "text/plain": [
       "<Figure size 640x480 with 1 Axes>"
      ]
     },
     "metadata": {},
     "output_type": "display_data"
    }
   ],
   "source": [
    "# Meta todo en un data frame\n",
    "plt.hist(df.betas, bins = 50)"
   ]
  },
  {
   "cell_type": "code",
   "execution_count": 32,
   "id": "eafbceb5",
   "metadata": {},
   "outputs": [
    {
     "data": {
      "text/plain": [
       "<matplotlib.collections.PathCollection at 0x7f20d973cf70>"
      ]
     },
     "execution_count": 32,
     "metadata": {},
     "output_type": "execute_result"
    },
    {
     "data": {
      "image/png": "[encoded data removed]",
      "text/plain": [
       "<Figure size 640x480 with 1 Axes>"
      ]
     },
     "metadata": {},
     "output_type": "display_data"
    }
   ],
   "source": [
    "# Grafique la relación entre R2 y beta\n",
    "plt.scatter(df.betas, df.r2)"
   ]
  },
  {
   "cell_type": "markdown",
   "id": "48005324",
   "metadata": {},
   "source": [
    "### Probabilidad de que el 35% de la variación este explicado por el modelo "
   ]
  },
  {
   "cell_type": "code",
   "execution_count": 33,
   "id": "2c54fe5b",
   "metadata": {},
   "outputs": [
    {
     "data": {
      "text/plain": [
       "1.0"
      ]
     },
     "execution_count": 33,
     "metadata": {},
     "output_type": "execute_result"
    }
   ],
   "source": [
    "np.mean(df.r2 > 0.35)"
   ]
  },
  {
   "cell_type": "markdown",
   "id": "a5bb0761",
   "metadata": {},
   "source": [
    "### Probabilidad de que el 45% de la variación este explicado por el modelo "
   ]
  },
  {
   "cell_type": "code",
   "execution_count": 34,
   "id": "71b9f200",
   "metadata": {},
   "outputs": [
    {
     "data": {
      "text/plain": [
       "1.0"
      ]
     },
     "execution_count": 34,
     "metadata": {},
     "output_type": "execute_result"
    }
   ],
   "source": [
    "np.mean(df.r2 > 0.45)"
   ]
  },
  {
   "cell_type": "code",
   "execution_count": 35,
   "id": "cabdae0c-afc7-4294-a480-60b9b9520382",
   "metadata": {},
   "outputs": [
    {
     "data": {
      "text/plain": [
       "0.5986666666666667"
      ]
     },
     "execution_count": 35,
     "metadata": {},
     "output_type": "execute_result"
    }
   ],
   "source": [
    "np.mean(df.r2 > 0.55)"
   ]
  },
  {
   "cell_type": "markdown",
   "id": "33509528",
   "metadata": {},
   "source": [
    "# ¿Cuál sería la beta de un portafolio de 50% Amazon, 50% Apple?"
   ]
  },
  {
   "cell_type": "code",
   "execution_count": 36,
   "id": "c9da5482",
   "metadata": {},
   "outputs": [],
   "source": [
    "# Crear portafolio\n",
    "# Doble bootstrap, betas y R2\n",
    "\n",
    "returns['apple_amazon'] = 0.5 * returns['AAPL'] + 0.5 * returns ['AMZN']\n",
    "n = 1500\n",
    "betas = []\n",
    "r2 = []\n",
    "\n",
    "\n",
    "for i in range(n): \n",
    "    flag_df = returns.sample(len(returns), replace = True)\n",
    "    model = LinearRegression()\n",
    "    X = flag_df[['VTI']]\n",
    "    y = flag_df[['AAPL']]\n",
    "    model.fit(X, y)\n",
    "    beta_bootstrap = model.coef_[0][0]\n",
    "    betas.append(beta_bootstrap) \n",
    "\n",
    "#\n",
    "    predicciones = model.predict(X) \n",
    "    bootstrap_r2 = r2_score(y_pred = predicciones, y_true = y) \n",
    "    r2.append(bootstrap_r2)"
   ]
  },
  {
   "cell_type": "code",
   "execution_count": 37,
   "id": "03b4475b-70bb-4b5d-a408-221e06e943eb",
   "metadata": {},
   "outputs": [],
   "source": [
    "df = pd.DataFrame()\n",
    "df['r2'] = r2\n",
    "df['betas'] = betas\n"
   ]
  },
  {
   "cell_type": "code",
   "execution_count": 28,
   "id": "ef6c60c0",
   "metadata": {},
   "outputs": [],
   "source": [
    "# Calcular beta del activo \n"
   ]
  },
  {
   "cell_type": "code",
   "execution_count": 38,
   "id": "1d7cbc5f",
   "metadata": {},
   "outputs": [
    {
     "data": {
      "text/plain": [
       "<Axes: >"
      ]
     },
     "execution_count": 38,
     "metadata": {},
     "output_type": "execute_result"
    },
    {
     "data": {
      "image/png": "[encoded data removed]",
      "text/plain": [
       "<Figure size 640x480 with 1 Axes>"
      ]
     },
     "metadata": {},
     "output_type": "display_data"
    }
   ],
   "source": [
    "# Grafique el modelo\n",
    "df.r2.hist(bins = 50)"
   ]
  },
  {
   "cell_type": "code",
   "execution_count": 39,
   "id": "1de0637f-d6a9-42eb-bcf4-fc03cee5275e",
   "metadata": {},
   "outputs": [
    {
     "data": {
      "text/plain": [
       "0.9966666666666667"
      ]
     },
     "execution_count": 39,
     "metadata": {},
     "output_type": "execute_result"
    }
   ],
   "source": [
    "# Probabilidad beta > 1.1 \n",
    "\n",
    "np.mean(df.betas > 1.1)"
   ]
  },
  {
   "cell_type": "markdown",
   "id": "fdbc895d",
   "metadata": {
    "jp-MarkdownHeadingCollapsed": true
   },
   "source": [
    "# ¿Cuál sería el R2?"
   ]
  },
  {
   "cell_type": "code",
   "execution_count": 30,
   "id": "3d1133b8",
   "metadata": {},
   "outputs": [],
   "source": [
    "# Calcular R2\n"
   ]
  },
  {
   "cell_type": "markdown",
   "id": "2d9f9b25",
   "metadata": {},
   "source": [
    "# Pregunta: ¿qué creen que pase con el R2 a medida que agregamos más activos a un portafolio?"
   ]
  },
  {
   "cell_type": "code",
   "execution_count": null,
   "id": "fdad255a",
   "metadata": {},
   "outputs": [],
   "source": []
  }
 ],
 "metadata": {
  "kernelspec": {
   "display_name": "Python 3 (ipykernel)",
   "language": "python",
   "name": "python3"
  },
  "language_info": {
   "codemirror_mode": {
    "name": "ipython",
    "version": 3
   },
   "file_extension": ".py",
   "mimetype": "text/x-python",
   "name": "python",
   "nbconvert_exporter": "python",
   "pygments_lexer": "ipython3",
   "version": "3.10.12"
  }
 },
 "nbformat": 4,
 "nbformat_minor": 5
}
