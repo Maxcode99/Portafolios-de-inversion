{
 "cells": [
  {
   "cell_type": "markdown",
   "id": "e8035b5a",
   "metadata": {},
   "source": [
    "# Clase 5, usando datos de acciones\n",
    "\n",
    "Vamos a aprender a descargar datos historicos dela bolsa de valores y aplicar los conceptos que hemos visto \n",
    "\n",
    "- Leer archivos CSV\n",
    "- Descargar datos historicos\n",
    "- Obtener estadísticos básicos"
   ]
  },
  {
   "cell_type": "code",
   "execution_count": null,
   "id": "9c565a7a",
   "metadata": {},
   "outputs": [],
   "source": [
    "### Instalar paquete yfinance"
   ]
  },
  {
   "cell_type": "markdown",
   "id": "02492a90",
   "metadata": {},
   "source": [
    "## Descargar datos de manera remota\n",
    "\n",
    "En esta clase estaremos usando yahoo para descargar datos"
   ]
  },
  {
   "cell_type": "code",
   "execution_count": 2,
   "id": "9b6423b2",
   "metadata": {},
   "outputs": [],
   "source": [
    "import pandas as pd\n",
    "import matplotlib.pyplot as plt\n",
    "import yfinance as yf\n"
   ]
  },
  {
   "cell_type": "markdown",
   "id": "49b6d3d7",
   "metadata": {},
   "source": [
    "## Obtener datos diarios, tesla y apple"
   ]
  },
  {
   "cell_type": "code",
   "execution_count": 3,
   "id": "7da2b65b",
   "metadata": {},
   "outputs": [
    {
     "name": "stdout",
     "output_type": "stream",
     "text": [
      "[*********************100%%**********************]  1 of 1 completed\n"
     ]
    }
   ],
   "source": [
    "# Ejemplo yahoo\n",
    "# https://finance.yahoo.com\n",
    "df = yf.download(\"AAPL\", start=\"2017-01-01\", end=\"2017-04-30\")\n"
   ]
  },
  {
   "cell_type": "code",
   "execution_count": 4,
   "id": "cac6af0b-c119-4346-897c-a75ca0193690",
   "metadata": {},
   "outputs": [
    {
     "data": {
      "text/html": [
       "<div>\n",
       "<style scoped>\n",
       "    .dataframe tbody tr th:only-of-type {\n",
       "        vertical-align: middle;\n",
       "    }\n",
       "\n",
       "    .dataframe tbody tr th {\n",
       "        vertical-align: top;\n",
       "    }\n",
       "\n",
       "    .dataframe thead th {\n",
       "        text-align: right;\n",
       "    }\n",
       "</style>\n",
       "<table border=\"1\" class=\"dataframe\">\n",
       "  <thead>\n",
       "    <tr style=\"text-align: right;\">\n",
       "      <th></th>\n",
       "      <th>Open</th>\n",
       "      <th>High</th>\n",
       "      <th>Low</th>\n",
       "      <th>Close</th>\n",
       "      <th>Adj Close</th>\n",
       "      <th>Volume</th>\n",
       "    </tr>\n",
       "    <tr>\n",
       "      <th>Date</th>\n",
       "      <th></th>\n",
       "      <th></th>\n",
       "      <th></th>\n",
       "      <th></th>\n",
       "      <th></th>\n",
       "      <th></th>\n",
       "    </tr>\n",
       "  </thead>\n",
       "  <tbody>\n",
       "    <tr>\n",
       "      <th>2017-01-03</th>\n",
       "      <td>28.950001</td>\n",
       "      <td>29.082500</td>\n",
       "      <td>28.690001</td>\n",
       "      <td>29.037500</td>\n",
       "      <td>27.059309</td>\n",
       "      <td>115127600</td>\n",
       "    </tr>\n",
       "    <tr>\n",
       "      <th>2017-01-04</th>\n",
       "      <td>28.962500</td>\n",
       "      <td>29.127501</td>\n",
       "      <td>28.937500</td>\n",
       "      <td>29.004999</td>\n",
       "      <td>27.029020</td>\n",
       "      <td>84472400</td>\n",
       "    </tr>\n",
       "    <tr>\n",
       "      <th>2017-01-05</th>\n",
       "      <td>28.980000</td>\n",
       "      <td>29.215000</td>\n",
       "      <td>28.952499</td>\n",
       "      <td>29.152500</td>\n",
       "      <td>27.166468</td>\n",
       "      <td>88774400</td>\n",
       "    </tr>\n",
       "    <tr>\n",
       "      <th>2017-01-06</th>\n",
       "      <td>29.195000</td>\n",
       "      <td>29.540001</td>\n",
       "      <td>29.117500</td>\n",
       "      <td>29.477501</td>\n",
       "      <td>27.469334</td>\n",
       "      <td>127007600</td>\n",
       "    </tr>\n",
       "    <tr>\n",
       "      <th>2017-01-09</th>\n",
       "      <td>29.487499</td>\n",
       "      <td>29.857500</td>\n",
       "      <td>29.485001</td>\n",
       "      <td>29.747499</td>\n",
       "      <td>27.720932</td>\n",
       "      <td>134247600</td>\n",
       "    </tr>\n",
       "    <tr>\n",
       "      <th>...</th>\n",
       "      <td>...</td>\n",
       "      <td>...</td>\n",
       "      <td>...</td>\n",
       "      <td>...</td>\n",
       "      <td>...</td>\n",
       "      <td>...</td>\n",
       "    </tr>\n",
       "    <tr>\n",
       "      <th>2017-04-24</th>\n",
       "      <td>35.875000</td>\n",
       "      <td>35.987499</td>\n",
       "      <td>35.794998</td>\n",
       "      <td>35.910000</td>\n",
       "      <td>33.608692</td>\n",
       "      <td>68537200</td>\n",
       "    </tr>\n",
       "    <tr>\n",
       "      <th>2017-04-25</th>\n",
       "      <td>35.977501</td>\n",
       "      <td>36.224998</td>\n",
       "      <td>35.967499</td>\n",
       "      <td>36.132500</td>\n",
       "      <td>33.816944</td>\n",
       "      <td>75486000</td>\n",
       "    </tr>\n",
       "    <tr>\n",
       "      <th>2017-04-26</th>\n",
       "      <td>36.117500</td>\n",
       "      <td>36.150002</td>\n",
       "      <td>35.845001</td>\n",
       "      <td>35.919998</td>\n",
       "      <td>33.618061</td>\n",
       "      <td>80164800</td>\n",
       "    </tr>\n",
       "    <tr>\n",
       "      <th>2017-04-27</th>\n",
       "      <td>35.980000</td>\n",
       "      <td>36.040001</td>\n",
       "      <td>35.827499</td>\n",
       "      <td>35.947498</td>\n",
       "      <td>33.643787</td>\n",
       "      <td>56985200</td>\n",
       "    </tr>\n",
       "    <tr>\n",
       "      <th>2017-04-28</th>\n",
       "      <td>36.022499</td>\n",
       "      <td>36.075001</td>\n",
       "      <td>35.817501</td>\n",
       "      <td>35.912498</td>\n",
       "      <td>33.611034</td>\n",
       "      <td>83441600</td>\n",
       "    </tr>\n",
       "  </tbody>\n",
       "</table>\n",
       "<p>81 rows × 6 columns</p>\n",
       "</div>"
      ],
      "text/plain": [
       "                 Open       High        Low      Close  Adj Close     Volume\n",
       "Date                                                                        \n",
       "2017-01-03  28.950001  29.082500  28.690001  29.037500  27.059309  115127600\n",
       "2017-01-04  28.962500  29.127501  28.937500  29.004999  27.029020   84472400\n",
       "2017-01-05  28.980000  29.215000  28.952499  29.152500  27.166468   88774400\n",
       "2017-01-06  29.195000  29.540001  29.117500  29.477501  27.469334  127007600\n",
       "2017-01-09  29.487499  29.857500  29.485001  29.747499  27.720932  134247600\n",
       "...               ...        ...        ...        ...        ...        ...\n",
       "2017-04-24  35.875000  35.987499  35.794998  35.910000  33.608692   68537200\n",
       "2017-04-25  35.977501  36.224998  35.967499  36.132500  33.816944   75486000\n",
       "2017-04-26  36.117500  36.150002  35.845001  35.919998  33.618061   80164800\n",
       "2017-04-27  35.980000  36.040001  35.827499  35.947498  33.643787   56985200\n",
       "2017-04-28  36.022499  36.075001  35.817501  35.912498  33.611034   83441600\n",
       "\n",
       "[81 rows x 6 columns]"
      ]
     },
     "execution_count": 4,
     "metadata": {},
     "output_type": "execute_result"
    }
   ],
   "source": [
    "df"
   ]
  },
  {
   "cell_type": "code",
   "execution_count": 11,
   "id": "c1739efb",
   "metadata": {},
   "outputs": [
    {
     "name": "stdout",
     "output_type": "stream",
     "text": [
      "[*********************100%%**********************]  2 of 2 completed\n"
     ]
    },
    {
     "data": {
      "text/html": [
       "<div>\n",
       "<style scoped>\n",
       "    .dataframe tbody tr th:only-of-type {\n",
       "        vertical-align: middle;\n",
       "    }\n",
       "\n",
       "    .dataframe tbody tr th {\n",
       "        vertical-align: top;\n",
       "    }\n",
       "\n",
       "    .dataframe thead th {\n",
       "        text-align: right;\n",
       "    }\n",
       "</style>\n",
       "<table border=\"1\" class=\"dataframe\">\n",
       "  <thead>\n",
       "    <tr style=\"text-align: right;\">\n",
       "      <th></th>\n",
       "      <th>AAPL</th>\n",
       "      <th>TSLA</th>\n",
       "    </tr>\n",
       "    <tr>\n",
       "      <th>Date</th>\n",
       "      <th></th>\n",
       "      <th></th>\n",
       "    </tr>\n",
       "  </thead>\n",
       "  <tbody>\n",
       "    <tr>\n",
       "      <th>2017-01-03</th>\n",
       "      <td>27.059307</td>\n",
       "      <td>14.466000</td>\n",
       "    </tr>\n",
       "    <tr>\n",
       "      <th>2017-01-04</th>\n",
       "      <td>27.029024</td>\n",
       "      <td>15.132667</td>\n",
       "    </tr>\n",
       "    <tr>\n",
       "      <th>2017-01-05</th>\n",
       "      <td>27.166473</td>\n",
       "      <td>15.116667</td>\n",
       "    </tr>\n",
       "    <tr>\n",
       "      <th>2017-01-06</th>\n",
       "      <td>27.469330</td>\n",
       "      <td>15.267333</td>\n",
       "    </tr>\n",
       "    <tr>\n",
       "      <th>2017-01-09</th>\n",
       "      <td>27.720942</td>\n",
       "      <td>15.418667</td>\n",
       "    </tr>\n",
       "  </tbody>\n",
       "</table>\n",
       "</div>"
      ],
      "text/plain": [
       "                 AAPL       TSLA\n",
       "Date                            \n",
       "2017-01-03  27.059307  14.466000\n",
       "2017-01-04  27.029024  15.132667\n",
       "2017-01-05  27.166473  15.116667\n",
       "2017-01-06  27.469330  15.267333\n",
       "2017-01-09  27.720942  15.418667"
      ]
     },
     "execution_count": 11,
     "metadata": {},
     "output_type": "execute_result"
    }
   ],
   "source": [
    "# Ahora baja la acción de tesla y apple\n",
    "tickers = ['AAPL', 'TSLA']\n",
    "df = yf.download(tickers, start=\"2017-01-01\", end=\"2017-04-30\")['Adj Close'] \n",
    "df.head()\n",
    "\n",
    "#EL [] Sirve para llamar una columna cuando no hay espacios \n",
    "# el .algo sirve para cuando no hay espacios "
   ]
  },
  {
   "cell_type": "code",
   "execution_count": 13,
   "id": "a8169871",
   "metadata": {},
   "outputs": [
    {
     "data": {
      "text/plain": [
       "<Axes: xlabel='Date'>"
      ]
     },
     "execution_count": 13,
     "metadata": {},
     "output_type": "execute_result"
    },
    {
     "data": {
      "image/png": "[encoded data removed]",
      "text/plain": [
       "<Figure size 640x480 with 1 Axes>"
      ]
     },
     "metadata": {},
     "output_type": "display_data"
    }
   ],
   "source": [
    "# Gráficamos los precios de cierre\n",
    "df.plot()"
   ]
  },
  {
   "cell_type": "code",
   "execution_count": null,
   "id": "23f3ee2a",
   "metadata": {},
   "outputs": [],
   "source": []
  },
  {
   "cell_type": "code",
   "execution_count": 58,
   "id": "89783c31",
   "metadata": {},
   "outputs": [
    {
     "name": "stdout",
     "output_type": "stream",
     "text": [
      "[*********************100%%**********************]  2 of 2 completed\n"
     ]
    },
    {
     "data": {
      "text/html": [
       "<div>\n",
       "<style scoped>\n",
       "    .dataframe tbody tr th:only-of-type {\n",
       "        vertical-align: middle;\n",
       "    }\n",
       "\n",
       "    .dataframe tbody tr th {\n",
       "        vertical-align: top;\n",
       "    }\n",
       "\n",
       "    .dataframe thead th {\n",
       "        text-align: right;\n",
       "    }\n",
       "</style>\n",
       "<table border=\"1\" class=\"dataframe\">\n",
       "  <thead>\n",
       "    <tr style=\"text-align: right;\">\n",
       "      <th></th>\n",
       "      <th>GFNORTEO.MX</th>\n",
       "      <th>WALMEX.MX</th>\n",
       "    </tr>\n",
       "    <tr>\n",
       "      <th>Date</th>\n",
       "      <th></th>\n",
       "      <th></th>\n",
       "    </tr>\n",
       "  </thead>\n",
       "  <tbody>\n",
       "    <tr>\n",
       "      <th>2017-01-02</th>\n",
       "      <td>75.942490</td>\n",
       "      <td>31.779716</td>\n",
       "    </tr>\n",
       "    <tr>\n",
       "      <th>2017-01-03</th>\n",
       "      <td>75.140747</td>\n",
       "      <td>32.320107</td>\n",
       "    </tr>\n",
       "    <tr>\n",
       "      <th>2017-01-04</th>\n",
       "      <td>74.197952</td>\n",
       "      <td>32.380154</td>\n",
       "    </tr>\n",
       "    <tr>\n",
       "      <th>2017-01-05</th>\n",
       "      <td>74.339005</td>\n",
       "      <td>32.088516</td>\n",
       "    </tr>\n",
       "    <tr>\n",
       "      <th>2017-01-06</th>\n",
       "      <td>72.297546</td>\n",
       "      <td>31.333687</td>\n",
       "    </tr>\n",
       "  </tbody>\n",
       "</table>\n",
       "</div>"
      ],
      "text/plain": [
       "            GFNORTEO.MX  WALMEX.MX\n",
       "Date                              \n",
       "2017-01-02    75.942490  31.779716\n",
       "2017-01-03    75.140747  32.320107\n",
       "2017-01-04    74.197952  32.380154\n",
       "2017-01-05    74.339005  32.088516\n",
       "2017-01-06    72.297546  31.333687"
      ]
     },
     "execution_count": 58,
     "metadata": {},
     "output_type": "execute_result"
    }
   ],
   "source": [
    "# Ejemplo con acciónes de la bolsa mexicana, baja banorte y walmex\n",
    "tickers = ['GFNORTEO.MX' ,'WALMEX.MX']\n",
    "df = yf.download(tickers, start=\"2017-01-01\", end=\"2023-08-28\")['Adj Close'] \n",
    "df.head()"
   ]
  },
  {
   "cell_type": "markdown",
   "id": "59af61a8",
   "metadata": {},
   "source": [
    "### Grafique las acciones de Mexico"
   ]
  },
  {
   "cell_type": "code",
   "execution_count": 59,
   "id": "22fe79d2",
   "metadata": {},
   "outputs": [
    {
     "data": {
      "text/plain": [
       "<Axes: xlabel='Date'>"
      ]
     },
     "execution_count": 59,
     "metadata": {},
     "output_type": "execute_result"
    },
    {
     "data": {
      "image/png": "[encoded data removed]",
      "text/plain": [
       "<Figure size 640x480 with 1 Axes>"
      ]
     },
     "metadata": {},
     "output_type": "display_data"
    }
   ],
   "source": [
    "df.plot()"
   ]
  },
  {
   "cell_type": "markdown",
   "id": "5f735250",
   "metadata": {},
   "source": [
    "Vamos a sacar el rendimiento, en este caso es diario\n",
    "\n",
    "$$\n",
    "R_t=\\frac{S_t-S_{t-1}}{S_{t-1}}\n",
    "$$\n"
   ]
  },
  {
   "cell_type": "code",
   "execution_count": 60,
   "id": "4f9a769d",
   "metadata": {},
   "outputs": [
    {
     "data": {
      "text/html": [
       "<div>\n",
       "<style scoped>\n",
       "    .dataframe tbody tr th:only-of-type {\n",
       "        vertical-align: middle;\n",
       "    }\n",
       "\n",
       "    .dataframe tbody tr th {\n",
       "        vertical-align: top;\n",
       "    }\n",
       "\n",
       "    .dataframe thead th {\n",
       "        text-align: right;\n",
       "    }\n",
       "</style>\n",
       "<table border=\"1\" class=\"dataframe\">\n",
       "  <thead>\n",
       "    <tr style=\"text-align: right;\">\n",
       "      <th></th>\n",
       "      <th>GFNORTEO.MX</th>\n",
       "      <th>WALMEX.MX</th>\n",
       "    </tr>\n",
       "    <tr>\n",
       "      <th>Date</th>\n",
       "      <th></th>\n",
       "      <th></th>\n",
       "    </tr>\n",
       "  </thead>\n",
       "  <tbody>\n",
       "    <tr>\n",
       "      <th>2017-01-02</th>\n",
       "      <td>NaN</td>\n",
       "      <td>NaN</td>\n",
       "    </tr>\n",
       "    <tr>\n",
       "      <th>2017-01-03</th>\n",
       "      <td>75.942490</td>\n",
       "      <td>31.779716</td>\n",
       "    </tr>\n",
       "    <tr>\n",
       "      <th>2017-01-04</th>\n",
       "      <td>75.140747</td>\n",
       "      <td>32.320107</td>\n",
       "    </tr>\n",
       "    <tr>\n",
       "      <th>2017-01-05</th>\n",
       "      <td>74.197952</td>\n",
       "      <td>32.380154</td>\n",
       "    </tr>\n",
       "    <tr>\n",
       "      <th>2017-01-06</th>\n",
       "      <td>74.339005</td>\n",
       "      <td>32.088516</td>\n",
       "    </tr>\n",
       "  </tbody>\n",
       "</table>\n",
       "</div>"
      ],
      "text/plain": [
       "            GFNORTEO.MX  WALMEX.MX\n",
       "Date                              \n",
       "2017-01-02          NaN        NaN\n",
       "2017-01-03    75.942490  31.779716\n",
       "2017-01-04    75.140747  32.320107\n",
       "2017-01-05    74.197952  32.380154\n",
       "2017-01-06    74.339005  32.088516"
      ]
     },
     "execution_count": 60,
     "metadata": {},
     "output_type": "execute_result"
    }
   ],
   "source": [
    "### Shift\n",
    "df.shift().head()"
   ]
  },
  {
   "cell_type": "code",
   "execution_count": 61,
   "id": "08331d5b",
   "metadata": {},
   "outputs": [
    {
     "data": {
      "text/html": [
       "<div>\n",
       "<style scoped>\n",
       "    .dataframe tbody tr th:only-of-type {\n",
       "        vertical-align: middle;\n",
       "    }\n",
       "\n",
       "    .dataframe tbody tr th {\n",
       "        vertical-align: top;\n",
       "    }\n",
       "\n",
       "    .dataframe thead th {\n",
       "        text-align: right;\n",
       "    }\n",
       "</style>\n",
       "<table border=\"1\" class=\"dataframe\">\n",
       "  <thead>\n",
       "    <tr style=\"text-align: right;\">\n",
       "      <th></th>\n",
       "      <th>GFNORTEO.MX</th>\n",
       "      <th>WALMEX.MX</th>\n",
       "    </tr>\n",
       "    <tr>\n",
       "      <th>Date</th>\n",
       "      <th></th>\n",
       "      <th></th>\n",
       "    </tr>\n",
       "  </thead>\n",
       "  <tbody>\n",
       "    <tr>\n",
       "      <th>2017-01-02</th>\n",
       "      <td>NaN</td>\n",
       "      <td>NaN</td>\n",
       "    </tr>\n",
       "    <tr>\n",
       "      <th>2017-01-03</th>\n",
       "      <td>-0.010557</td>\n",
       "      <td>0.017004</td>\n",
       "    </tr>\n",
       "    <tr>\n",
       "      <th>2017-01-04</th>\n",
       "      <td>-0.012547</td>\n",
       "      <td>0.001858</td>\n",
       "    </tr>\n",
       "    <tr>\n",
       "      <th>2017-01-05</th>\n",
       "      <td>0.001901</td>\n",
       "      <td>-0.009007</td>\n",
       "    </tr>\n",
       "    <tr>\n",
       "      <th>2017-01-06</th>\n",
       "      <td>-0.027461</td>\n",
       "      <td>-0.023523</td>\n",
       "    </tr>\n",
       "    <tr>\n",
       "      <th>...</th>\n",
       "      <td>...</td>\n",
       "      <td>...</td>\n",
       "    </tr>\n",
       "    <tr>\n",
       "      <th>2023-08-21</th>\n",
       "      <td>0.001858</td>\n",
       "      <td>0.012177</td>\n",
       "    </tr>\n",
       "    <tr>\n",
       "      <th>2023-08-22</th>\n",
       "      <td>0.008035</td>\n",
       "      <td>-0.000440</td>\n",
       "    </tr>\n",
       "    <tr>\n",
       "      <th>2023-08-23</th>\n",
       "      <td>0.004497</td>\n",
       "      <td>0.006605</td>\n",
       "    </tr>\n",
       "    <tr>\n",
       "      <th>2023-08-24</th>\n",
       "      <td>-0.020212</td>\n",
       "      <td>-0.011665</td>\n",
       "    </tr>\n",
       "    <tr>\n",
       "      <th>2023-08-25</th>\n",
       "      <td>0.004776</td>\n",
       "      <td>0.001770</td>\n",
       "    </tr>\n",
       "  </tbody>\n",
       "</table>\n",
       "<p>1674 rows × 2 columns</p>\n",
       "</div>"
      ],
      "text/plain": [
       "            GFNORTEO.MX  WALMEX.MX\n",
       "Date                              \n",
       "2017-01-02          NaN        NaN\n",
       "2017-01-03    -0.010557   0.017004\n",
       "2017-01-04    -0.012547   0.001858\n",
       "2017-01-05     0.001901  -0.009007\n",
       "2017-01-06    -0.027461  -0.023523\n",
       "...                 ...        ...\n",
       "2023-08-21     0.001858   0.012177\n",
       "2023-08-22     0.008035  -0.000440\n",
       "2023-08-23     0.004497   0.006605\n",
       "2023-08-24    -0.020212  -0.011665\n",
       "2023-08-25     0.004776   0.001770\n",
       "\n",
       "[1674 rows x 2 columns]"
      ]
     },
     "execution_count": 61,
     "metadata": {},
     "output_type": "execute_result"
    }
   ],
   "source": [
    "### Calculamos \n",
    "rt = (df - df.shift()) / df.shift()\n",
    "rt"
   ]
  },
  {
   "cell_type": "code",
   "execution_count": 62,
   "id": "30238090",
   "metadata": {},
   "outputs": [],
   "source": [
    "### Eliminamos los NAS\n",
    "rt = rt.dropna()"
   ]
  },
  {
   "cell_type": "code",
   "execution_count": 63,
   "id": "be8f8c5e",
   "metadata": {
    "scrolled": true
   },
   "outputs": [
    {
     "data": {
      "text/html": [
       "<div>\n",
       "<style scoped>\n",
       "    .dataframe tbody tr th:only-of-type {\n",
       "        vertical-align: middle;\n",
       "    }\n",
       "\n",
       "    .dataframe tbody tr th {\n",
       "        vertical-align: top;\n",
       "    }\n",
       "\n",
       "    .dataframe thead th {\n",
       "        text-align: right;\n",
       "    }\n",
       "</style>\n",
       "<table border=\"1\" class=\"dataframe\">\n",
       "  <thead>\n",
       "    <tr style=\"text-align: right;\">\n",
       "      <th></th>\n",
       "      <th>GFNORTEO.MX</th>\n",
       "      <th>WALMEX.MX</th>\n",
       "    </tr>\n",
       "    <tr>\n",
       "      <th>Date</th>\n",
       "      <th></th>\n",
       "      <th></th>\n",
       "    </tr>\n",
       "  </thead>\n",
       "  <tbody>\n",
       "    <tr>\n",
       "      <th>2017-01-03</th>\n",
       "      <td>-0.010557</td>\n",
       "      <td>0.017004</td>\n",
       "    </tr>\n",
       "    <tr>\n",
       "      <th>2017-01-04</th>\n",
       "      <td>-0.012547</td>\n",
       "      <td>0.001858</td>\n",
       "    </tr>\n",
       "    <tr>\n",
       "      <th>2017-01-05</th>\n",
       "      <td>0.001901</td>\n",
       "      <td>-0.009007</td>\n",
       "    </tr>\n",
       "    <tr>\n",
       "      <th>2017-01-06</th>\n",
       "      <td>-0.027461</td>\n",
       "      <td>-0.023523</td>\n",
       "    </tr>\n",
       "    <tr>\n",
       "      <th>2017-01-09</th>\n",
       "      <td>-0.005955</td>\n",
       "      <td>-0.017520</td>\n",
       "    </tr>\n",
       "    <tr>\n",
       "      <th>...</th>\n",
       "      <td>...</td>\n",
       "      <td>...</td>\n",
       "    </tr>\n",
       "    <tr>\n",
       "      <th>2023-08-21</th>\n",
       "      <td>0.001858</td>\n",
       "      <td>0.012177</td>\n",
       "    </tr>\n",
       "    <tr>\n",
       "      <th>2023-08-22</th>\n",
       "      <td>0.008035</td>\n",
       "      <td>-0.000440</td>\n",
       "    </tr>\n",
       "    <tr>\n",
       "      <th>2023-08-23</th>\n",
       "      <td>0.004497</td>\n",
       "      <td>0.006605</td>\n",
       "    </tr>\n",
       "    <tr>\n",
       "      <th>2023-08-24</th>\n",
       "      <td>-0.020212</td>\n",
       "      <td>-0.011665</td>\n",
       "    </tr>\n",
       "    <tr>\n",
       "      <th>2023-08-25</th>\n",
       "      <td>0.004776</td>\n",
       "      <td>0.001770</td>\n",
       "    </tr>\n",
       "  </tbody>\n",
       "</table>\n",
       "<p>1673 rows × 2 columns</p>\n",
       "</div>"
      ],
      "text/plain": [
       "            GFNORTEO.MX  WALMEX.MX\n",
       "Date                              \n",
       "2017-01-03    -0.010557   0.017004\n",
       "2017-01-04    -0.012547   0.001858\n",
       "2017-01-05     0.001901  -0.009007\n",
       "2017-01-06    -0.027461  -0.023523\n",
       "2017-01-09    -0.005955  -0.017520\n",
       "...                 ...        ...\n",
       "2023-08-21     0.001858   0.012177\n",
       "2023-08-22     0.008035  -0.000440\n",
       "2023-08-23     0.004497   0.006605\n",
       "2023-08-24    -0.020212  -0.011665\n",
       "2023-08-25     0.004776   0.001770\n",
       "\n",
       "[1673 rows x 2 columns]"
      ]
     },
     "execution_count": 63,
     "metadata": {},
     "output_type": "execute_result"
    }
   ],
   "source": [
    "### Función integrada de pandas\n",
    "rt = df.pct_change().dropna()\n",
    "rt"
   ]
  },
  {
   "cell_type": "code",
   "execution_count": 64,
   "id": "4b7cacb7-be64-4d84-b074-6857b243ffbe",
   "metadata": {},
   "outputs": [
    {
     "data": {
      "text/plain": [
       "0.14535464979553087"
      ]
     },
     "execution_count": 64,
     "metadata": {},
     "output_type": "execute_result"
    }
   ],
   "source": [
    "rt['WALMEX.MX'].mean() * 252"
   ]
  },
  {
   "cell_type": "code",
   "execution_count": 65,
   "id": "b2bda143-87b6-4cd4-a55b-fe5013b6e004",
   "metadata": {},
   "outputs": [
    {
     "data": {
      "text/plain": [
       "0.2489142971400792"
      ]
     },
     "execution_count": 65,
     "metadata": {},
     "output_type": "execute_result"
    }
   ],
   "source": [
    "import numpy as np\n",
    "np.sqrt(rt['WALMEX.MX'].var() * 252 )"
   ]
  },
  {
   "cell_type": "code",
   "execution_count": 66,
   "id": "e4ff1b28-0e0d-4f4f-a609-0b3a54fa0c52",
   "metadata": {},
   "outputs": [
    {
     "data": {
      "text/plain": [
       "0.24891429714007923"
      ]
     },
     "execution_count": 66,
     "metadata": {},
     "output_type": "execute_result"
    }
   ],
   "source": [
    "rt['WALMEX.MX'].std() * np.sqrt(252)"
   ]
  },
  {
   "cell_type": "markdown",
   "id": "4810aace",
   "metadata": {},
   "source": [
    "### Supon que cada rendimiento es una muestra independiente de cada día\n",
    "\n",
    "¿Cuál es el valor esperado de caa acción?\n",
    "\n",
    "\n",
    "$$E[rendimiento] = \\Sigma p_i x_i $$"
   ]
  },
  {
   "cell_type": "code",
   "execution_count": 67,
   "id": "9a75c732",
   "metadata": {},
   "outputs": [
    {
     "data": {
      "text/plain": [
       "0.14535464979553087"
      ]
     },
     "execution_count": 67,
     "metadata": {},
     "output_type": "execute_result"
    }
   ],
   "source": [
    "rt['WALMEX.MX'].mean() * 252 "
   ]
  },
  {
   "cell_type": "code",
   "execution_count": 68,
   "id": "81e9dd63",
   "metadata": {},
   "outputs": [
    {
     "data": {
      "text/plain": [
       "0.24891429714007923"
      ]
     },
     "execution_count": 68,
     "metadata": {},
     "output_type": "execute_result"
    }
   ],
   "source": [
    "rt['WALMEX.MX'].std() * np.sqrt(252)"
   ]
  },
  {
   "cell_type": "markdown",
   "id": "c255e98e",
   "metadata": {},
   "source": [
    "Calcula la volatilidad si cada rendimiento es independiente y ningun día del pasado es más importante que otros\n",
    "\n",
    "$$Var(x) = \\Sigma p_i (x - E[x])^2 $$\n",
    "$$\\sigma = \\sqrt{var(x)} $$"
   ]
  },
  {
   "cell_type": "code",
   "execution_count": null,
   "id": "7f2e04aa",
   "metadata": {},
   "outputs": [],
   "source": []
  },
  {
   "cell_type": "code",
   "execution_count": null,
   "id": "ab1e14cb",
   "metadata": {},
   "outputs": [],
   "source": []
  },
  {
   "cell_type": "code",
   "execution_count": 69,
   "id": "88821f97",
   "metadata": {},
   "outputs": [
    {
     "data": {
      "text/plain": [
       "array([[<Axes: title={'center': 'GFNORTEO.MX'}>,\n",
       "        <Axes: title={'center': 'WALMEX.MX'}>]], dtype=object)"
      ]
     },
     "execution_count": 69,
     "metadata": {},
     "output_type": "execute_result"
    },
    {
     "data": {
      "image/png": "[encoded data removed]",
      "text/plain": [
       "<Figure size 640x480 with 2 Axes>"
      ]
     },
     "metadata": {},
     "output_type": "display_data"
    }
   ],
   "source": [
    "# Histograma de los rendimientos\n",
    "rt.hist()"
   ]
  },
  {
   "cell_type": "markdown",
   "id": "1256ea0d",
   "metadata": {},
   "source": [
    "### Banorte\n",
    "\n",
    "- Rendimiento aritmético\n",
    "- Rendimiento geométrico\n",
    "- Comprobar que rendimiento geométrico cuadre con aritético\n",
    "- Rendimiento usando precio final y precio inicial\n",
    "\n",
    "\n",
    "Recordando que los rendimientos son: \n",
    "\n",
    "\n",
    "$r_a = (\\prod_{i=1}^{T}(1+r_i)) - 1$\n",
    "\n",
    "$\\bar{r}_g=\\left[\\prod_{i=1}^{T}(1+r_i)\\right]^{1/T}-1.$\n",
    "\n",
    "Crea una función para calcular los mismos"
   ]
  },
  {
   "cell_type": "code",
   "execution_count": 70,
   "id": "5954e78a",
   "metadata": {},
   "outputs": [
    {
     "data": {
      "text/plain": [
       "1.9113146621225459"
      ]
     },
     "execution_count": 70,
     "metadata": {},
     "output_type": "execute_result"
    }
   ],
   "source": [
    "# Aritmético = de inicio a fin, cuando lana ganaste \n",
    "(1 + rt['GFNORTEO.MX']).prod()"
   ]
  },
  {
   "cell_type": "code",
   "execution_count": 71,
   "id": "99e0636c",
   "metadata": {},
   "outputs": [
    {
     "data": {
      "text/plain": [
       "0.00038727838598506814"
      ]
     },
     "execution_count": 71,
     "metadata": {},
     "output_type": "execute_result"
    }
   ],
   "source": [
    "# Geometrico = como puedes llegar del valor inicial al valor final, con un interes compuesto \n",
    "t = len(rt)\n",
    "rg = (((1 + rt['GFNORTEO.MX']).prod()) ** (1/t)) -1\n",
    "rg"
   ]
  },
  {
   "cell_type": "markdown",
   "id": "c9f39db5-c2cd-435f-9a80-262cc53a1ced",
   "metadata": {},
   "source": [
    "$ VF = VP * (1 + i)^t$"
   ]
  },
  {
   "cell_type": "code",
   "execution_count": 72,
   "id": "f75c13db",
   "metadata": {},
   "outputs": [
    {
     "data": {
      "text/plain": [
       "145.14999389646368"
      ]
     },
     "execution_count": 72,
     "metadata": {},
     "output_type": "execute_result"
    }
   ],
   "source": [
    "#valor futuro banorte \n",
    "df['GFNORTEO.MX'].iloc[0] * (1 + rg) ** t"
   ]
  },
  {
   "cell_type": "code",
   "execution_count": 73,
   "id": "be4539e8",
   "metadata": {},
   "outputs": [
    {
     "data": {
      "text/html": [
       "<div>\n",
       "<style scoped>\n",
       "    .dataframe tbody tr th:only-of-type {\n",
       "        vertical-align: middle;\n",
       "    }\n",
       "\n",
       "    .dataframe tbody tr th {\n",
       "        vertical-align: top;\n",
       "    }\n",
       "\n",
       "    .dataframe thead th {\n",
       "        text-align: right;\n",
       "    }\n",
       "</style>\n",
       "<table border=\"1\" class=\"dataframe\">\n",
       "  <thead>\n",
       "    <tr style=\"text-align: right;\">\n",
       "      <th></th>\n",
       "      <th>GFNORTEO.MX</th>\n",
       "      <th>WALMEX.MX</th>\n",
       "    </tr>\n",
       "    <tr>\n",
       "      <th>Date</th>\n",
       "      <th></th>\n",
       "      <th></th>\n",
       "    </tr>\n",
       "  </thead>\n",
       "  <tbody>\n",
       "    <tr>\n",
       "      <th>2023-08-21</th>\n",
       "      <td>145.610001</td>\n",
       "      <td>68.160004</td>\n",
       "    </tr>\n",
       "    <tr>\n",
       "      <th>2023-08-22</th>\n",
       "      <td>146.779999</td>\n",
       "      <td>68.129997</td>\n",
       "    </tr>\n",
       "    <tr>\n",
       "      <th>2023-08-23</th>\n",
       "      <td>147.440002</td>\n",
       "      <td>68.580002</td>\n",
       "    </tr>\n",
       "    <tr>\n",
       "      <th>2023-08-24</th>\n",
       "      <td>144.460007</td>\n",
       "      <td>67.779999</td>\n",
       "    </tr>\n",
       "    <tr>\n",
       "      <th>2023-08-25</th>\n",
       "      <td>145.149994</td>\n",
       "      <td>67.900002</td>\n",
       "    </tr>\n",
       "  </tbody>\n",
       "</table>\n",
       "</div>"
      ],
      "text/plain": [
       "            GFNORTEO.MX  WALMEX.MX\n",
       "Date                              \n",
       "2023-08-21   145.610001  68.160004\n",
       "2023-08-22   146.779999  68.129997\n",
       "2023-08-23   147.440002  68.580002\n",
       "2023-08-24   144.460007  67.779999\n",
       "2023-08-25   145.149994  67.900002"
      ]
     },
     "execution_count": 73,
     "metadata": {},
     "output_type": "execute_result"
    }
   ],
   "source": [
    "df.tail()"
   ]
  },
  {
   "cell_type": "code",
   "execution_count": 74,
   "id": "4cb727f5",
   "metadata": {},
   "outputs": [],
   "source": [
    "# Comprobar que cuadre\n"
   ]
  },
  {
   "cell_type": "code",
   "execution_count": null,
   "id": "512e214f",
   "metadata": {},
   "outputs": [],
   "source": []
  },
  {
   "cell_type": "code",
   "execution_count": null,
   "id": "ede80a45",
   "metadata": {},
   "outputs": [],
   "source": []
  },
  {
   "cell_type": "markdown",
   "id": "0f4f5c32",
   "metadata": {},
   "source": [
    "###  Walmex\n",
    "\n",
    "- Rendimiento aritmético\n",
    "- Rendimiento geométrico\n",
    "- Comprobar que rendimiento geométrico cuadre con aritmético\n",
    "- Rendimiento usando precio final y precio inicial"
   ]
  },
  {
   "cell_type": "code",
   "execution_count": 75,
   "id": "f9fe1ce8",
   "metadata": {},
   "outputs": [
    {
     "data": {
      "text/plain": [
       "2.1365829850500497"
      ]
     },
     "execution_count": 75,
     "metadata": {},
     "output_type": "execute_result"
    }
   ],
   "source": [
    "# Aritmético\n",
    "(1 + rt['WALMEX.MX']).prod()"
   ]
  },
  {
   "cell_type": "code",
   "execution_count": 76,
   "id": "691d636a",
   "metadata": {},
   "outputs": [
    {
     "data": {
      "text/plain": [
       "0.00045390323212401995"
      ]
     },
     "execution_count": 76,
     "metadata": {},
     "output_type": "execute_result"
    }
   ],
   "source": [
    "# Geometrico\n",
    "rg_walmex = ((1 + rt['WALMEX.MX']).prod()) ** (1/t) - 1 \n",
    "rg_walmex"
   ]
  },
  {
   "cell_type": "markdown",
   "id": "382c75f8",
   "metadata": {},
   "source": [
    "$$Inicial * (1+geometrico)^n  = Final$$"
   ]
  },
  {
   "cell_type": "code",
   "execution_count": 77,
   "id": "02041ba2",
   "metadata": {},
   "outputs": [
    {
     "data": {
      "text/plain": [
       "67.90000152588156"
      ]
     },
     "execution_count": 77,
     "metadata": {},
     "output_type": "execute_result"
    }
   ],
   "source": [
    "# Comprobar rendimiento queométrico\n",
    "vp = df['WALMEX.MX'].iloc[0]\n",
    "\n",
    "vf = vp * (1 + rg_walmex) ** t\n",
    "vf"
   ]
  },
  {
   "cell_type": "code",
   "execution_count": 78,
   "id": "214d2c59-be1a-4e7f-a36e-d3d1aff5b67c",
   "metadata": {},
   "outputs": [
    {
     "data": {
      "text/html": [
       "<div>\n",
       "<style scoped>\n",
       "    .dataframe tbody tr th:only-of-type {\n",
       "        vertical-align: middle;\n",
       "    }\n",
       "\n",
       "    .dataframe tbody tr th {\n",
       "        vertical-align: top;\n",
       "    }\n",
       "\n",
       "    .dataframe thead th {\n",
       "        text-align: right;\n",
       "    }\n",
       "</style>\n",
       "<table border=\"1\" class=\"dataframe\">\n",
       "  <thead>\n",
       "    <tr style=\"text-align: right;\">\n",
       "      <th></th>\n",
       "      <th>GFNORTEO.MX</th>\n",
       "      <th>WALMEX.MX</th>\n",
       "    </tr>\n",
       "    <tr>\n",
       "      <th>Date</th>\n",
       "      <th></th>\n",
       "      <th></th>\n",
       "    </tr>\n",
       "  </thead>\n",
       "  <tbody>\n",
       "    <tr>\n",
       "      <th>2023-08-21</th>\n",
       "      <td>145.610001</td>\n",
       "      <td>68.160004</td>\n",
       "    </tr>\n",
       "    <tr>\n",
       "      <th>2023-08-22</th>\n",
       "      <td>146.779999</td>\n",
       "      <td>68.129997</td>\n",
       "    </tr>\n",
       "    <tr>\n",
       "      <th>2023-08-23</th>\n",
       "      <td>147.440002</td>\n",
       "      <td>68.580002</td>\n",
       "    </tr>\n",
       "    <tr>\n",
       "      <th>2023-08-24</th>\n",
       "      <td>144.460007</td>\n",
       "      <td>67.779999</td>\n",
       "    </tr>\n",
       "    <tr>\n",
       "      <th>2023-08-25</th>\n",
       "      <td>145.149994</td>\n",
       "      <td>67.900002</td>\n",
       "    </tr>\n",
       "  </tbody>\n",
       "</table>\n",
       "</div>"
      ],
      "text/plain": [
       "            GFNORTEO.MX  WALMEX.MX\n",
       "Date                              \n",
       "2023-08-21   145.610001  68.160004\n",
       "2023-08-22   146.779999  68.129997\n",
       "2023-08-23   147.440002  68.580002\n",
       "2023-08-24   144.460007  67.779999\n",
       "2023-08-25   145.149994  67.900002"
      ]
     },
     "execution_count": 78,
     "metadata": {},
     "output_type": "execute_result"
    }
   ],
   "source": [
    "df.tail()"
   ]
  },
  {
   "cell_type": "code",
   "execution_count": 79,
   "id": "bf83b155",
   "metadata": {},
   "outputs": [],
   "source": [
    "# Rendimiento usando precio final y precio inicial\n"
   ]
  },
  {
   "cell_type": "code",
   "execution_count": 80,
   "id": "9d69e644",
   "metadata": {},
   "outputs": [],
   "source": [
    "# Grafique la acción con el rendimiento geometrico \n"
   ]
  },
  {
   "cell_type": "markdown",
   "id": "8a732608",
   "metadata": {},
   "source": [
    "### Riesgo y rendimiento, concepto \n",
    "\n",
    "Calcule el riesgo y volatilidad para estos tickes: \n",
    "\n",
    "['AAPL', 'AMZN', 'GOOGL', 'COST', 'MSFT']\n",
    "\n",
    "\n",
    "\n",
    "¿Hay alguna relación entre el riesgo y el rendimiento? Justifique su respuesta"
   ]
  },
  {
   "cell_type": "code",
   "execution_count": 83,
   "id": "df695d95",
   "metadata": {},
   "outputs": [
    {
     "name": "stdout",
     "output_type": "stream",
     "text": [
      "[*********************100%%**********************]  5 of 5 completed\n"
     ]
    },
    {
     "data": {
      "text/html": [
       "<div>\n",
       "<style scoped>\n",
       "    .dataframe tbody tr th:only-of-type {\n",
       "        vertical-align: middle;\n",
       "    }\n",
       "\n",
       "    .dataframe tbody tr th {\n",
       "        vertical-align: top;\n",
       "    }\n",
       "\n",
       "    .dataframe thead th {\n",
       "        text-align: right;\n",
       "    }\n",
       "</style>\n",
       "<table border=\"1\" class=\"dataframe\">\n",
       "  <thead>\n",
       "    <tr style=\"text-align: right;\">\n",
       "      <th></th>\n",
       "      <th>AAPL</th>\n",
       "      <th>AMZN</th>\n",
       "      <th>COST</th>\n",
       "      <th>GOOGL</th>\n",
       "      <th>MSFT</th>\n",
       "    </tr>\n",
       "    <tr>\n",
       "      <th>Date</th>\n",
       "      <th></th>\n",
       "      <th></th>\n",
       "      <th></th>\n",
       "      <th></th>\n",
       "      <th></th>\n",
       "    </tr>\n",
       "  </thead>\n",
       "  <tbody>\n",
       "    <tr>\n",
       "      <th>2017-01-03</th>\n",
       "      <td>27.059309</td>\n",
       "      <td>37.683498</td>\n",
       "      <td>140.838531</td>\n",
       "      <td>40.400501</td>\n",
       "      <td>57.254707</td>\n",
       "    </tr>\n",
       "    <tr>\n",
       "      <th>2017-01-04</th>\n",
       "      <td>27.029022</td>\n",
       "      <td>37.859001</td>\n",
       "      <td>140.864975</td>\n",
       "      <td>40.388500</td>\n",
       "      <td>56.998535</td>\n",
       "    </tr>\n",
       "    <tr>\n",
       "      <th>2017-01-05</th>\n",
       "      <td>27.166473</td>\n",
       "      <td>39.022499</td>\n",
       "      <td>143.642487</td>\n",
       "      <td>40.651001</td>\n",
       "      <td>56.998535</td>\n",
       "    </tr>\n",
       "    <tr>\n",
       "      <th>2017-01-06</th>\n",
       "      <td>27.469337</td>\n",
       "      <td>39.799500</td>\n",
       "      <td>143.571930</td>\n",
       "      <td>41.260502</td>\n",
       "      <td>57.492577</td>\n",
       "    </tr>\n",
       "    <tr>\n",
       "      <th>2017-01-09</th>\n",
       "      <td>27.720938</td>\n",
       "      <td>39.846001</td>\n",
       "      <td>141.931900</td>\n",
       "      <td>41.359001</td>\n",
       "      <td>57.309589</td>\n",
       "    </tr>\n",
       "  </tbody>\n",
       "</table>\n",
       "</div>"
      ],
      "text/plain": [
       "                 AAPL       AMZN        COST      GOOGL       MSFT\n",
       "Date                                                              \n",
       "2017-01-03  27.059309  37.683498  140.838531  40.400501  57.254707\n",
       "2017-01-04  27.029022  37.859001  140.864975  40.388500  56.998535\n",
       "2017-01-05  27.166473  39.022499  143.642487  40.651001  56.998535\n",
       "2017-01-06  27.469337  39.799500  143.571930  41.260502  57.492577\n",
       "2017-01-09  27.720938  39.846001  141.931900  41.359001  57.309589"
      ]
     },
     "execution_count": 83,
     "metadata": {},
     "output_type": "execute_result"
    }
   ],
   "source": [
    "tickers = ['AAPL', 'AMZN', 'GOOGL', 'COST', 'MSFT', 'TSLA]\n",
    "df = yf.download(tickers, start=\"2017-01-01\", end=\"2023-08-30\")['Adj Close'] \n",
    "df.head()"
   ]
  },
  {
   "cell_type": "code",
   "execution_count": 84,
   "id": "0c843fc1",
   "metadata": {},
   "outputs": [
    {
     "data": {
      "text/html": [
       "<div>\n",
       "<style scoped>\n",
       "    .dataframe tbody tr th:only-of-type {\n",
       "        vertical-align: middle;\n",
       "    }\n",
       "\n",
       "    .dataframe tbody tr th {\n",
       "        vertical-align: top;\n",
       "    }\n",
       "\n",
       "    .dataframe thead th {\n",
       "        text-align: right;\n",
       "    }\n",
       "</style>\n",
       "<table border=\"1\" class=\"dataframe\">\n",
       "  <thead>\n",
       "    <tr style=\"text-align: right;\">\n",
       "      <th></th>\n",
       "      <th>AAPL</th>\n",
       "      <th>AMZN</th>\n",
       "      <th>COST</th>\n",
       "      <th>GOOGL</th>\n",
       "      <th>MSFT</th>\n",
       "    </tr>\n",
       "    <tr>\n",
       "      <th>Date</th>\n",
       "      <th></th>\n",
       "      <th></th>\n",
       "      <th></th>\n",
       "      <th></th>\n",
       "      <th></th>\n",
       "    </tr>\n",
       "  </thead>\n",
       "  <tbody>\n",
       "    <tr>\n",
       "      <th>2017-01-03</th>\n",
       "      <td>NaN</td>\n",
       "      <td>NaN</td>\n",
       "      <td>NaN</td>\n",
       "      <td>NaN</td>\n",
       "      <td>NaN</td>\n",
       "    </tr>\n",
       "    <tr>\n",
       "      <th>2017-01-04</th>\n",
       "      <td>-0.001119</td>\n",
       "      <td>0.004657</td>\n",
       "      <td>0.000188</td>\n",
       "      <td>-0.000297</td>\n",
       "      <td>-0.004474</td>\n",
       "    </tr>\n",
       "    <tr>\n",
       "      <th>2017-01-05</th>\n",
       "      <td>0.005085</td>\n",
       "      <td>0.030732</td>\n",
       "      <td>0.019718</td>\n",
       "      <td>0.006499</td>\n",
       "      <td>0.000000</td>\n",
       "    </tr>\n",
       "    <tr>\n",
       "      <th>2017-01-06</th>\n",
       "      <td>0.011148</td>\n",
       "      <td>0.019912</td>\n",
       "      <td>-0.000491</td>\n",
       "      <td>0.014994</td>\n",
       "      <td>0.008668</td>\n",
       "    </tr>\n",
       "    <tr>\n",
       "      <th>2017-01-09</th>\n",
       "      <td>0.009159</td>\n",
       "      <td>0.001168</td>\n",
       "      <td>-0.011423</td>\n",
       "      <td>0.002387</td>\n",
       "      <td>-0.003183</td>\n",
       "    </tr>\n",
       "  </tbody>\n",
       "</table>\n",
       "</div>"
      ],
      "text/plain": [
       "                AAPL      AMZN      COST     GOOGL      MSFT\n",
       "Date                                                        \n",
       "2017-01-03       NaN       NaN       NaN       NaN       NaN\n",
       "2017-01-04 -0.001119  0.004657  0.000188 -0.000297 -0.004474\n",
       "2017-01-05  0.005085  0.030732  0.019718  0.006499  0.000000\n",
       "2017-01-06  0.011148  0.019912 -0.000491  0.014994  0.008668\n",
       "2017-01-09  0.009159  0.001168 -0.011423  0.002387 -0.003183"
      ]
     },
     "execution_count": 84,
     "metadata": {},
     "output_type": "execute_result"
    }
   ],
   "source": [
    "rt = df.pct_change()\n",
    "rt.head()"
   ]
  },
  {
   "cell_type": "code",
   "execution_count": null,
   "id": "7206b579-2123-4920-b56a-dda80f51c301",
   "metadata": {},
   "outputs": [],
   "source": []
  },
  {
   "cell_type": "markdown",
   "id": "0f858426",
   "metadata": {},
   "source": [
    "Ojo, para convertir a base anual \n",
    "\n",
    "$$E[r_a]=12E[r_m]=252E[r_d]=52E[r_w],\\text{ y}$$\n",
    "\n",
    "$$\\sigma_{r_a}=\\sqrt{12}\\sigma_{r_m}=\\sqrt{252}\\sigma_{r_d}=\\sqrt{52}\\sigma_{r_w}$$"
   ]
  },
  {
   "cell_type": "markdown",
   "id": "65a500f0",
   "metadata": {},
   "source": [
    "### Mostrar regresión "
   ]
  },
  {
   "cell_type": "code",
   "execution_count": 85,
   "id": "6ed3a093",
   "metadata": {},
   "outputs": [],
   "source": [
    "rendimientos_promedios = rt.mean() * 252 \n",
    "volatilidades = rt.std() * np.sqrt(252)"
   ]
  },
  {
   "cell_type": "code",
   "execution_count": 88,
   "id": "b7751fb5",
   "metadata": {},
   "outputs": [
    {
     "data": {
      "text/plain": [
       "AAPL     0.332449\n",
       "AMZN     0.247483\n",
       "COST     0.228155\n",
       "GOOGL    0.221071\n",
       "MSFT     0.302550\n",
       "dtype: float64"
      ]
     },
     "execution_count": 88,
     "metadata": {},
     "output_type": "execute_result"
    }
   ],
   "source": [
    "rendimientos_promedios "
   ]
  },
  {
   "cell_type": "code",
   "execution_count": 86,
   "id": "9bd7d155",
   "metadata": {},
   "outputs": [
    {
     "data": {
      "text/plain": [
       "AAPL     0.305637\n",
       "AMZN     0.338886\n",
       "COST     0.230818\n",
       "GOOGL    0.295970\n",
       "MSFT     0.288122\n",
       "dtype: float64"
      ]
     },
     "execution_count": 86,
     "metadata": {},
     "output_type": "execute_result"
    }
   ],
   "source": [
    "volatilidades "
   ]
  },
  {
   "cell_type": "code",
   "execution_count": null,
   "id": "043ec6b4",
   "metadata": {},
   "outputs": [],
   "source": [
    "plt.scatter(volatilidades, rendimientos)\n",
    "plt.xlabel('Volatilidad')\n",
    "plt.ylabel('Rendimiento') "
   ]
  },
  {
   "cell_type": "code",
   "execution_count": null,
   "id": "b132b603",
   "metadata": {},
   "outputs": [],
   "source": []
  },
  {
   "cell_type": "code",
   "execution_count": null,
   "id": "d842177c",
   "metadata": {},
   "outputs": [],
   "source": []
  },
  {
   "cell_type": "code",
   "execution_count": 31,
   "id": "5f1d11ca",
   "metadata": {},
   "outputs": [],
   "source": [
    "### Grafica volatiliad vs valor esperado"
   ]
  },
  {
   "cell_type": "markdown",
   "id": "3390bb8f-2d4f-4355-90f1-c5a9cdcd6d3b",
   "metadata": {},
   "source": [
    "## Quiz "
   ]
  },
  {
   "cell_type": "code",
   "execution_count": 3,
   "id": "381d6feb-1469-4756-abef-c31e4b133ed8",
   "metadata": {},
   "outputs": [],
   "source": [
    "import pandas as pd\n",
    "import numpy as np"
   ]
  },
  {
   "cell_type": "code",
   "execution_count": 9,
   "id": "036a8cdc-2b81-4ea7-8107-10f2cb84110a",
   "metadata": {},
   "outputs": [
    {
     "data": {
      "text/html": [
       "<div>\n",
       "<style scoped>\n",
       "    .dataframe tbody tr th:only-of-type {\n",
       "        vertical-align: middle;\n",
       "    }\n",
       "\n",
       "    .dataframe tbody tr th {\n",
       "        vertical-align: top;\n",
       "    }\n",
       "\n",
       "    .dataframe thead th {\n",
       "        text-align: right;\n",
       "    }\n",
       "</style>\n",
       "<table border=\"1\" class=\"dataframe\">\n",
       "  <thead>\n",
       "    <tr style=\"text-align: right;\">\n",
       "      <th></th>\n",
       "      <th>prob</th>\n",
       "      <th>ret</th>\n",
       "    </tr>\n",
       "    <tr>\n",
       "      <th>Pregunta2</th>\n",
       "      <th></th>\n",
       "      <th></th>\n",
       "    </tr>\n",
       "  </thead>\n",
       "  <tbody>\n",
       "    <tr>\n",
       "      <th>recesion</th>\n",
       "      <td>0.4</td>\n",
       "      <td>-0.10</td>\n",
       "    </tr>\n",
       "    <tr>\n",
       "      <th>normalidad</th>\n",
       "      <td>0.3</td>\n",
       "      <td>0.08</td>\n",
       "    </tr>\n",
       "    <tr>\n",
       "      <th>expansion</th>\n",
       "      <td>0.3</td>\n",
       "      <td>0.23</td>\n",
       "    </tr>\n",
       "  </tbody>\n",
       "</table>\n",
       "</div>"
      ],
      "text/plain": [
       "            prob   ret\n",
       "Pregunta2             \n",
       "recesion     0.4 -0.10\n",
       "normalidad   0.3  0.08\n",
       "expansion    0.3  0.23"
      ]
     },
     "execution_count": 9,
     "metadata": {},
     "output_type": "execute_result"
    }
   ],
   "source": [
    "tabla2 = pd.DataFrame(columns=['prob', 'ret'], \n",
    "                      index=['recesion', 'normalidad', 'expansion'])\n",
    "tabla2.index.name = 'Pregunta2'\n",
    "tabla2['prob'] = [0.4, 0.3, 0.3]\n",
    "tabla2['ret'] = [-0.1, 0.08, 0.23]\n",
    "tabla2"
   ]
  },
  {
   "cell_type": "code",
   "execution_count": 11,
   "id": "33cca758-f8c3-472c-8b1c-fae7e97cacfb",
   "metadata": {},
   "outputs": [
    {
     "data": {
      "text/plain": [
       "1.196"
      ]
     },
     "execution_count": 11,
     "metadata": {},
     "output_type": "execute_result"
    }
   ],
   "source": [
    "a = (1 + tabla2.ret).prod()\n",
    "np.round(a, 3) "
   ]
  },
  {
   "cell_type": "code",
   "execution_count": 14,
   "id": "d5f3ea99-c603-46d6-b18a-f76f95c5a146",
   "metadata": {},
   "outputs": [
    {
     "data": {
      "text/plain": [
       "0.027"
      ]
     },
     "execution_count": 14,
     "metadata": {},
     "output_type": "execute_result"
    }
   ],
   "source": [
    "var = tabla2.ret.var()\n",
    "np.round(var, 3) "
   ]
  },
  {
   "cell_type": "code",
   "execution_count": 18,
   "id": "7f598d8d-5711-4d89-8003-91053542d9ff",
   "metadata": {},
   "outputs": [
    {
     "data": {
      "text/html": [
       "<div>\n",
       "<style scoped>\n",
       "    .dataframe tbody tr th:only-of-type {\n",
       "        vertical-align: middle;\n",
       "    }\n",
       "\n",
       "    .dataframe tbody tr th {\n",
       "        vertical-align: top;\n",
       "    }\n",
       "\n",
       "    .dataframe thead th {\n",
       "        text-align: right;\n",
       "    }\n",
       "</style>\n",
       "<table border=\"1\" class=\"dataframe\">\n",
       "  <thead>\n",
       "    <tr style=\"text-align: right;\">\n",
       "      <th></th>\n",
       "      <th>r</th>\n",
       "    </tr>\n",
       "  </thead>\n",
       "  <tbody>\n",
       "    <tr>\n",
       "      <th>0</th>\n",
       "      <td>-0.07</td>\n",
       "    </tr>\n",
       "    <tr>\n",
       "      <th>1</th>\n",
       "      <td>0.04</td>\n",
       "    </tr>\n",
       "    <tr>\n",
       "      <th>2</th>\n",
       "      <td>0.10</td>\n",
       "    </tr>\n",
       "    <tr>\n",
       "      <th>3</th>\n",
       "      <td>-0.08</td>\n",
       "    </tr>\n",
       "    <tr>\n",
       "      <th>4</th>\n",
       "      <td>0.15</td>\n",
       "    </tr>\n",
       "  </tbody>\n",
       "</table>\n",
       "</div>"
      ],
      "text/plain": [
       "      r\n",
       "0 -0.07\n",
       "1  0.04\n",
       "2  0.10\n",
       "3 -0.08\n",
       "4  0.15"
      ]
     },
     "execution_count": 18,
     "metadata": {},
     "output_type": "execute_result"
    }
   ],
   "source": [
    "tabla3 = pd.DataFrame({'r': [-0.07, 0.04, 0.1, -0.08, 0.15]})\n",
    "tabla "
   ]
  },
  {
   "cell_type": "code",
   "execution_count": 26,
   "id": "86a6f533-db10-4608-858c-e472e2df8871",
   "metadata": {},
   "outputs": [
    {
     "data": {
      "text/plain": [
       "1.126"
      ]
     },
     "execution_count": 26,
     "metadata": {},
     "output_type": "execute_result"
    }
   ],
   "source": [
    "#Aritmetico \n",
    "b = (1 + tabla3.r).prod()\n",
    "np.round(b, 3)"
   ]
  },
  {
   "cell_type": "code",
   "execution_count": 27,
   "id": "6401059d-8d76-4d01-8f43-4eb1e367e0f3",
   "metadata": {},
   "outputs": [
    {
     "data": {
      "text/plain": [
       "0.024"
      ]
     },
     "execution_count": 27,
     "metadata": {},
     "output_type": "execute_result"
    }
   ],
   "source": [
    "#geometrico \n",
    "t = len(tabla3) \n",
    "rg = ((1 + tabla3.r).prod()) ** (1/t) - 1 \n",
    "np.round(rg, 3)"
   ]
  },
  {
   "cell_type": "code",
   "execution_count": 25,
   "id": "a6061575-4a96-458a-a88d-63fbd3a92b7d",
   "metadata": {},
   "outputs": [
    {
     "data": {
      "text/plain": [
       "0.02395041921708474"
      ]
     },
     "execution_count": 25,
     "metadata": {},
     "output_type": "execute_result"
    }
   ],
   "source": [
    "rg "
   ]
  },
  {
   "cell_type": "code",
   "execution_count": 31,
   "id": "10322667-6fee-4a1c-9af5-c6b783ce9fab",
   "metadata": {},
   "outputs": [
    {
     "data": {
      "text/plain": [
       "0.028"
      ]
     },
     "execution_count": 31,
     "metadata": {},
     "output_type": "execute_result"
    }
   ],
   "source": [
    "esperado_promedio =np.mean(tabla3.r)\n",
    "np.round(esperado_promedio, 3)"
   ]
  },
  {
   "cell_type": "code",
   "execution_count": 34,
   "id": "37562ee5-661b-49c0-bfab-1a48ba6512dc",
   "metadata": {},
   "outputs": [
    {
     "data": {
      "text/html": [
       "<div>\n",
       "<style scoped>\n",
       "    .dataframe tbody tr th:only-of-type {\n",
       "        vertical-align: middle;\n",
       "    }\n",
       "\n",
       "    .dataframe tbody tr th {\n",
       "        vertical-align: top;\n",
       "    }\n",
       "\n",
       "    .dataframe thead th {\n",
       "        text-align: right;\n",
       "    }\n",
       "</style>\n",
       "<table border=\"1\" class=\"dataframe\">\n",
       "  <thead>\n",
       "    <tr style=\"text-align: right;\">\n",
       "      <th></th>\n",
       "      <th>r</th>\n",
       "      <th>prob</th>\n",
       "    </tr>\n",
       "  </thead>\n",
       "  <tbody>\n",
       "    <tr>\n",
       "      <th>0</th>\n",
       "      <td>-0.07</td>\n",
       "      <td>0.4</td>\n",
       "    </tr>\n",
       "    <tr>\n",
       "      <th>1</th>\n",
       "      <td>0.04</td>\n",
       "      <td>0.4</td>\n",
       "    </tr>\n",
       "    <tr>\n",
       "      <th>2</th>\n",
       "      <td>0.10</td>\n",
       "      <td>0.4</td>\n",
       "    </tr>\n",
       "    <tr>\n",
       "      <th>3</th>\n",
       "      <td>-0.08</td>\n",
       "      <td>0.4</td>\n",
       "    </tr>\n",
       "    <tr>\n",
       "      <th>4</th>\n",
       "      <td>0.15</td>\n",
       "      <td>0.4</td>\n",
       "    </tr>\n",
       "  </tbody>\n",
       "</table>\n",
       "</div>"
      ],
      "text/plain": [
       "      r  prob\n",
       "0 -0.07   0.4\n",
       "1  0.04   0.4\n",
       "2  0.10   0.4\n",
       "3 -0.08   0.4\n",
       "4  0.15   0.4"
      ]
     },
     "execution_count": 34,
     "metadata": {},
     "output_type": "execute_result"
    }
   ],
   "source": [
    "tabla3 = pd.DataFrame({'r': [-0.07, 0.04, 0.1, -0.08, 0.15]})\n",
    "tabla3['prob'] = [0.4, 0.4, 0.4, 0.4, 0.4]\n",
    "tabla3"
   ]
  },
  {
   "cell_type": "code",
   "execution_count": 37,
   "id": "70ceeadf-75b7-4deb-a567-6592956eed29",
   "metadata": {},
   "outputs": [
    {
     "data": {
      "text/plain": [
       "0.102"
      ]
     },
     "execution_count": 37,
     "metadata": {},
     "output_type": "execute_result"
    }
   ],
   "source": [
    "std = tabla3.r.std()\n",
    "np.round(std, 3)"
   ]
  },
  {
   "cell_type": "code",
   "execution_count": null,
   "id": "9547fd1c-4ab3-4c1c-9f4f-5e2b3def3c7b",
   "metadata": {},
   "outputs": [],
   "source": []
  }
 ],
 "metadata": {
  "kernelspec": {
   "display_name": "Python 3 (ipykernel)",
   "language": "python",
   "name": "python3"
  },
  "language_info": {
   "codemirror_mode": {
    "name": "ipython",
    "version": 3
   },
   "file_extension": ".py",
   "mimetype": "text/x-python",
   "name": "python",
   "nbconvert_exporter": "python",
   "pygments_lexer": "ipython3",
   "version": "3.10.12"
  }
 },
 "nbformat": 4,
 "nbformat_minor": 5
}
