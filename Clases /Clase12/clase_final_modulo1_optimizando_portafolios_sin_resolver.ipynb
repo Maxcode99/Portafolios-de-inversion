{
 "cells": [
  {
   "cell_type": "markdown",
   "id": "09d6d3c4",
   "metadata": {},
   "source": [
    "# Diversificación y fuentes de riesgo en un portafolio  - Una ilustración con mercados internacionales.\n",
    "\n",
    "<img style=\"float: right; margin: 0px 0px 15px 15px;\" src=\"https://upload.wikimedia.org/wikipedia/commons/5/5f/Map_International_Markets.jpg\" width=\"500px\" height=\"300px\" />\n",
    "\n",
    "> Entonces, la clase pasada vimos cómo afecta la correlación entre pares de activos en un portafolio. Dijimos que como un par de activos nunca tienen correlación perfecta, al combinarlos en un portafolio siempre conseguimos diversificación del riesgo.\n",
    "\n",
    "> Vimos también que no todo el riesgo se puede diversificar. Dos fuentes de riesgo:\n",
    "> - Sistemático: afecta de igual manera a todos los activos. No se puede diversificar.\n",
    "> - Idiosincrático: afecta a cada activo en particular por razones específicas. Se puede diversificar.\n",
    "\n",
    "En esta clase veremos un ejemplo de diversificación en un portafolio, usando datos de mercados de activos internacionales.\n",
    "\n",
    "En el camino, definiremos términos como *frontera de mínima varianza*, *portafolio de mínima varianza* y *portafolios eficientes*, los cuales son básicos para la construcción de la **teoría moderna de portafolios**.\n",
    "\n",
    "Estos portafolios los aprenderemos a obtener formalmente en el siguiente módulo. Por ahora nos bastará con agarrar intuición."
   ]
  },
  {
   "cell_type": "markdown",
   "id": "de3496e1",
   "metadata": {},
   "source": [
    "## 1. Ejemplo\n",
    "\n",
    "**Los datos:** tenemos el siguiente reporte de rendimientos esperados y volatilidad (anuales) para los mercados de acciones en los países integrantes del $G5$: EU, RU, Francia, Alemania y Japón."
   ]
  },
  {
   "cell_type": "code",
   "execution_count": 20,
   "id": "333a288a",
   "metadata": {},
   "outputs": [],
   "source": [
    "# Importamos pandas y numpy\n",
    "import pandas as pd\n",
    "import numpy as np\n",
    "import matplotlib.pyplot as plt"
   ]
  },
  {
   "cell_type": "code",
   "execution_count": 21,
   "id": "120adff8",
   "metadata": {},
   "outputs": [
    {
     "data": {
      "text/html": [
       "<div>\n",
       "<style scoped>\n",
       "    .dataframe tbody tr th:only-of-type {\n",
       "        vertical-align: middle;\n",
       "    }\n",
       "\n",
       "    .dataframe tbody tr th {\n",
       "        vertical-align: top;\n",
       "    }\n",
       "\n",
       "    .dataframe thead th {\n",
       "        text-align: right;\n",
       "    }\n",
       "</style>\n",
       "<table border=\"1\" class=\"dataframe\">\n",
       "  <thead>\n",
       "    <tr style=\"text-align: right;\">\n",
       "      <th></th>\n",
       "      <th>EU</th>\n",
       "      <th>RU</th>\n",
       "      <th>Francia</th>\n",
       "      <th>Alemania</th>\n",
       "      <th>Japon</th>\n",
       "    </tr>\n",
       "  </thead>\n",
       "  <tbody>\n",
       "    <tr>\n",
       "      <th>Media</th>\n",
       "      <td>0.1355</td>\n",
       "      <td>0.1589</td>\n",
       "      <td>0.1519</td>\n",
       "      <td>0.1435</td>\n",
       "      <td>0.1497</td>\n",
       "    </tr>\n",
       "    <tr>\n",
       "      <th>Volatilidad</th>\n",
       "      <td>0.1535</td>\n",
       "      <td>0.243</td>\n",
       "      <td>0.2324</td>\n",
       "      <td>0.2038</td>\n",
       "      <td>0.2298</td>\n",
       "    </tr>\n",
       "  </tbody>\n",
       "</table>\n",
       "</div>"
      ],
      "text/plain": [
       "                 EU      RU Francia Alemania   Japon\n",
       "Media        0.1355  0.1589  0.1519   0.1435  0.1497\n",
       "Volatilidad  0.1535   0.243  0.2324   0.2038  0.2298"
      ]
     },
     "execution_count": 21,
     "metadata": {},
     "output_type": "execute_result"
    }
   ],
   "source": [
    "# Resumen en base anual de rendimientos esperados y volatilidades\n",
    "annual_ret_summ = pd.DataFrame(columns=['EU', 'RU', 'Francia', 'Alemania', 'Japon'], \n",
    "                               index=['Media', 'Volatilidad'])\n",
    "annual_ret_summ.loc['Media'] = np.array([0.1355, 0.1589, 0.1519, 0.1435, 0.1497])\n",
    "annual_ret_summ.loc['Volatilidad'] = np.array([0.1535, 0.2430, 0.2324, 0.2038, 0.2298])\n",
    "\n",
    "annual_ret_summ.round(4)"
   ]
  },
  {
   "cell_type": "markdown",
   "id": "87266d0e",
   "metadata": {},
   "source": [
    "¿Qué podemos notar?\n",
    "- En cuanto al rendimiento esperado: son similares. El mínimo es de 13.5% y el máximo es de 15.9%.\n",
    "- En cuanto al riesgo: hay mucha dispersión. Varía desde 15.3% hasta 24.3%."
   ]
  },
  {
   "cell_type": "code",
   "execution_count": 22,
   "id": "252c198b",
   "metadata": {},
   "outputs": [
    {
     "data": {
      "image/png": "[encoded data removed]",
      "text/plain": [
       "<Figure size 640x480 with 1 Axes>"
      ]
     },
     "metadata": {},
     "output_type": "display_data"
    }
   ],
   "source": [
    "# Grafique  la volatilidad y el rendiiento esperado de cada país\n",
    "countries = annual_ret_summ.keys()\n",
    "for i in countries: \n",
    "    plt.scatter(annual_ret_summ[i].loc['Volatilidad'], annual_ret_summ[i].loc['Media'] )\n",
    "    plt.text(annual_ret_summ[i].loc['Volatilidad'], annual_ret_summ[i].loc['Media'], i)"
   ]
  },
  {
   "cell_type": "code",
   "execution_count": 23,
   "id": "08f7918e",
   "metadata": {},
   "outputs": [
    {
     "data": {
      "text/html": [
       "<div>\n",
       "<style scoped>\n",
       "    .dataframe tbody tr th:only-of-type {\n",
       "        vertical-align: middle;\n",
       "    }\n",
       "\n",
       "    .dataframe tbody tr th {\n",
       "        vertical-align: top;\n",
       "    }\n",
       "\n",
       "    .dataframe thead th {\n",
       "        text-align: right;\n",
       "    }\n",
       "</style>\n",
       "<table border=\"1\" class=\"dataframe\">\n",
       "  <thead>\n",
       "    <tr style=\"text-align: right;\">\n",
       "      <th></th>\n",
       "      <th>EU</th>\n",
       "      <th>RU</th>\n",
       "      <th>Francia</th>\n",
       "      <th>Alemania</th>\n",
       "      <th>Japon</th>\n",
       "    </tr>\n",
       "  </thead>\n",
       "  <tbody>\n",
       "    <tr>\n",
       "      <th>EU</th>\n",
       "      <td>1.0000</td>\n",
       "      <td>0.5003</td>\n",
       "      <td>0.4398</td>\n",
       "      <td>0.3681</td>\n",
       "      <td>0.2663</td>\n",
       "    </tr>\n",
       "    <tr>\n",
       "      <th>RU</th>\n",
       "      <td>0.5003</td>\n",
       "      <td>1.0000</td>\n",
       "      <td>0.5420</td>\n",
       "      <td>0.4265</td>\n",
       "      <td>0.3581</td>\n",
       "    </tr>\n",
       "    <tr>\n",
       "      <th>Francia</th>\n",
       "      <td>0.4398</td>\n",
       "      <td>0.5420</td>\n",
       "      <td>1.0000</td>\n",
       "      <td>0.6032</td>\n",
       "      <td>0.3923</td>\n",
       "    </tr>\n",
       "    <tr>\n",
       "      <th>Alemania</th>\n",
       "      <td>0.3681</td>\n",
       "      <td>0.4265</td>\n",
       "      <td>0.6032</td>\n",
       "      <td>1.0000</td>\n",
       "      <td>0.3663</td>\n",
       "    </tr>\n",
       "    <tr>\n",
       "      <th>Japon</th>\n",
       "      <td>0.2663</td>\n",
       "      <td>0.3581</td>\n",
       "      <td>0.3923</td>\n",
       "      <td>0.3663</td>\n",
       "      <td>1.0000</td>\n",
       "    </tr>\n",
       "  </tbody>\n",
       "</table>\n",
       "</div>"
      ],
      "text/plain": [
       "              EU      RU  Francia  Alemania   Japon\n",
       "EU        1.0000  0.5003   0.4398    0.3681  0.2663\n",
       "RU        0.5003  1.0000   0.5420    0.4265  0.3581\n",
       "Francia   0.4398  0.5420   1.0000    0.6032  0.3923\n",
       "Alemania  0.3681  0.4265   0.6032    1.0000  0.3663\n",
       "Japon     0.2663  0.3581   0.3923    0.3663  1.0000"
      ]
     },
     "execution_count": 23,
     "metadata": {},
     "output_type": "execute_result"
    }
   ],
   "source": [
    "# Matriz de correlación\n",
    "corr = pd.DataFrame(data= np.array([[1.0000, 0.5003, 0.4398, 0.3681, 0.2663],\n",
    "                                    [0.5003, 1.0000, 0.5420, 0.4265, 0.3581],\n",
    "                                    [0.4398, 0.5420, 1.0000, 0.6032, 0.3923],\n",
    "                                    [0.3681, 0.4265, 0.6032, 1.0000, 0.3663],\n",
    "                                    [0.2663, 0.3581, 0.3923, 0.3663, 1.0000]]),\n",
    "                    columns=annual_ret_summ.columns, index=annual_ret_summ.columns)\n",
    "corr.round(4)"
   ]
  },
  {
   "cell_type": "markdown",
   "id": "9cb9c85e",
   "metadata": {},
   "source": [
    "¿Qué se puede observar acerca de la matriz de correlación?\n",
    "\n",
    "- Los índices con mayor correlación son: Francia y Alemania.\n",
    "- Los índices con menor correlación son: Japón y Estados Unidos."
   ]
  },
  {
   "cell_type": "markdown",
   "id": "453334d4",
   "metadata": {},
   "source": [
    "# Matriz de correlación a partir de volatilidad y matriz de correlación\n",
    "\n",
    "**Varianza**\n",
    "\n",
    "$$\n",
    "\\sigma_p^2 = \\sum_{i=1}^{n} \\sum_{k=1}^{n} w_i w_k \\sigma_{ik} = w^T \\Sigma w\n",
    "$$\n",
    "\n",
    "\n",
    "**Pasa lo mismo para sacar la covarianza a partir de la correlación**\n",
    "$$\\sigma_{i,j} = \\sigma_i \\sigma_j \\rho_{ij} $$\n",
    "\n",
    "$$\\Sigma = Diag(sigma)^T * Correlation * Diag(sigma) $$"
   ]
  },
  {
   "cell_type": "code",
   "execution_count": 24,
   "id": "08d371dc",
   "metadata": {},
   "outputs": [],
   "source": [
    "# Crear matriz diagonal con la info de las volatilidades individuales, tipo float\n",
    "S = np.diag(annual_ret_summ.loc['Volatilidad']).astype(float)"
   ]
  },
  {
   "cell_type": "code",
   "execution_count": 25,
   "id": "be63a2bb",
   "metadata": {},
   "outputs": [
    {
     "data": {
      "text/plain": [
       "array([[0.02356225, 0.01866144, 0.01568916, 0.01151538, 0.00939355],\n",
       "       [0.01866144, 0.059049  , 0.03060847, 0.02112173, 0.01999681],\n",
       "       [0.01568916, 0.03060847, 0.05400976, 0.02856943, 0.02095099],\n",
       "       [0.01151538, 0.02112173, 0.02856943, 0.04153444, 0.01715502],\n",
       "       [0.00939355, 0.01999681, 0.02095099, 0.01715502, 0.05280804]])"
      ]
     },
     "execution_count": 25,
     "metadata": {},
     "output_type": "execute_result"
    }
   ],
   "source": [
    "# A partir de la matriz anterior y la matriz de correlación:\n",
    "covarianza = S.T.dot(corr).dot(S) \n",
    "covarianza "
   ]
  },
  {
   "cell_type": "markdown",
   "id": "311d5b4a",
   "metadata": {},
   "source": [
    "### Nos enfocaremos entonces únicamente en dos mercados: EU y Japón\n",
    "\n",
    "- ¿Cómo construiríamos un portafolio que consiste de los mercados de acciones de EU y Japón?\n",
    "- ¿Cuáles serían las posibles combinaciones?"
   ]
  },
  {
   "cell_type": "markdown",
   "id": "0c5b38f8",
   "metadata": {},
   "source": [
    "#### 1. Supongamos que $w$ es la participación del mercado de EU en nuestro portafolio.\n",
    "- ¿Cuál es la participación del mercado de Japón entonces?: $1-w$\n",
    "\n",
    "- Luego, nuestras fórmulas de rendimiento esperado y varianza de portafolios son:\n",
    "\n",
    "$$E[r_p]=wE[r_{EU}]+(1-w)E[r_J]$$\n",
    "\n",
    "$$\\sigma_p^2=w^2\\sigma_{EU}^2+(1-w)^2\\sigma_J^2+2w(1-w)\\sigma_{EU,J}$$"
   ]
  },
  {
   "cell_type": "markdown",
   "id": "6b2bcbb0",
   "metadata": {},
   "source": [
    "#### 2. Con lo anterior...\n",
    "- podemos variar $w$ con pasos pequeños entre $0$ y $1$, y\n",
    "- calcular el rendimiento esperado y volatilidad para cada valor de $w$."
   ]
  },
  {
   "cell_type": "code",
   "execution_count": 26,
   "id": "acb2d5b9",
   "metadata": {},
   "outputs": [],
   "source": [
    "# Vector de w variando entre 0 y 1 con N pasos\n",
    "N = 101\n",
    "w = np.linspace(0, 1, N)\n",
    "# Rendimientos esperados individuales\n",
    "# Activo1: EU, Activo2: Japon\n",
    "# Rendimientos esperados individuales\n",
    "e_us = annual_ret_summ['EU'].loc['Media'] \n",
    "e_jp = annual_ret_summ['Japon'].loc['Media']\n",
    "\n",
    "# Volatilidades individuales\n",
    "vol_us = annual_ret_summ['EU'].loc['Volatilidad'] \n",
    "vol_jp = annual_ret_summ['Japon'].loc['Volatilidad'] \n",
    "\n",
    "# Correlacion\n",
    "corr_us_jp = corr['EU']['Japon']\n",
    "\n",
    "# Covarianza\n",
    "\n",
    "covarianza_us_jp = corr_us_jp * vol_jp * vol_us\n"
   ]
  },
  {
   "cell_type": "markdown",
   "id": "3123ba95",
   "metadata": {},
   "source": [
    "$$\n",
    "\\rho_{ij} = \\frac{\\sigma_{ij}}{\\sigma_i \\sigma_j} \\Rightarrow \\sigma_{ij} = \\sigma_i \\sigma_j \\rho_{ij}\n",
    "$$"
   ]
  },
  {
   "cell_type": "code",
   "execution_count": 30,
   "id": "bfc838c2",
   "metadata": {},
   "outputs": [
    {
     "name": "stdout",
     "output_type": "stream",
     "text": [
      "     w_us  w_jp     media       vol\n",
      "0    0.00  1.00  0.149700  0.229800\n",
      "1    0.01  0.99  0.149558  0.227916\n",
      "2    0.02  0.98  0.149416  0.226041\n",
      "3    0.03  0.97  0.149274  0.224176\n",
      "4    0.04  0.96  0.149132  0.222322\n",
      "..    ...   ...       ...       ...\n",
      "96   0.96  0.04  0.136068  0.150070\n",
      "97   0.97  0.03  0.135926  0.150877\n",
      "98   0.98  0.02  0.135784  0.151719\n",
      "99   0.99  0.01  0.135642  0.152593\n",
      "100  1.00  0.00  0.135500  0.153500\n",
      "\n",
      "[101 rows x 4 columns]\n"
     ]
    },
    {
     "data": {
      "image/png": "[encoded data removed]",
      "text/plain": [
       "<Figure size 640x480 with 1 Axes>"
      ]
     },
     "metadata": {},
     "output_type": "display_data"
    }
   ],
   "source": [
    "# Crear un DataFrame cuyas columnas sean rendimiento esperado\n",
    "# y volatilidad del portafolio para cada una de las w\n",
    "# generadas\n",
    "portafolios2 = pd.DataFrame({\n",
    "    'w_us' : w,\n",
    "    'w_jp' : 1 -w,\n",
    "    'media' : w * e_us + (1- w) * e_jp, \n",
    "    'vol' : np.sqrt(w ** 2 * vol_us ** 2 + (1-w) ** 2 * vol_jp ** 2  + 2 * covarianza_us_jp * w * (1 - w))\n",
    "})\n",
    "\n",
    "plt.scatter(portafolios2.vol, portafolios2.media) \n",
    "print(portafolios2) "
   ]
  },
  {
   "cell_type": "markdown",
   "id": "6b181cf7",
   "metadata": {},
   "source": [
    "#### 3. Finalmente, \n",
    "- cada una de las combinaciones las podemos graficar en el espacio de rendimiento esperado (eje $y$) contra volatilidad (eje $x$)."
   ]
  },
  {
   "cell_type": "code",
   "execution_count": 32,
   "id": "e404f461",
   "metadata": {},
   "outputs": [],
   "source": [
    "one_portafolio_us = portafolios2.query('w_us == 1') \n",
    "one_portafolio_jp = portafolios2.query('w_us == 0') \n"
   ]
  },
  {
   "cell_type": "code",
   "execution_count": 35,
   "id": "94f388e7-3a3d-43c2-b270-e02c1d7c624c",
   "metadata": {},
   "outputs": [
    {
     "data": {
      "text/plain": [
       "[<matplotlib.lines.Line2D at 0x7f504b524550>]"
      ]
     },
     "execution_count": 35,
     "metadata": {},
     "output_type": "execute_result"
    },
    {
     "name": "stderr",
     "output_type": "stream",
     "text": [
      "/home/dell/.local/lib/python3.10/site-packages/matplotlib/text.py:757: FutureWarning: Calling float on a single element Series is deprecated and will raise a TypeError in the future. Use float(ser.iloc[0]) instead\n",
      "  posx = float(self.convert_xunits(self._x))\n",
      "/home/dell/.local/lib/python3.10/site-packages/matplotlib/text.py:758: FutureWarning: Calling float on a single element Series is deprecated and will raise a TypeError in the future. Use float(ser.iloc[0]) instead\n",
      "  posy = float(self.convert_yunits(self._y))\n",
      "/home/dell/.local/lib/python3.10/site-packages/matplotlib/text.py:897: FutureWarning: Calling float on a single element Series is deprecated and will raise a TypeError in the future. Use float(ser.iloc[0]) instead\n",
      "  x = float(self.convert_xunits(self._x))\n",
      "/home/dell/.local/lib/python3.10/site-packages/matplotlib/text.py:898: FutureWarning: Calling float on a single element Series is deprecated and will raise a TypeError in the future. Use float(ser.iloc[0]) instead\n",
      "  y = float(self.convert_yunits(self._y))\n"
     ]
    },
    {
     "data": {
      "image/png": "[encoded data removed]",
      "text/plain": [
       "<Figure size 640x480 with 1 Axes>"
      ]
     },
     "metadata": {},
     "output_type": "display_data"
    }
   ],
   "source": [
    "#Japon \n",
    "plt.scatter(one_portafolio_jp.vol, one_portafolio_jp.media)\n",
    "plt.text(one_portafolio_jp.vol, one_portafolio_jp.media, '100% Japon')\n",
    "\n",
    "#US\n",
    "plt.scatter(one_portafolio_us.vol, one_portafolio_us.media)\n",
    "plt.text(one_portafolio_us.vol, one_portafolio_us.media, '100% US')\n",
    "\n",
    "#Japon \n",
    "plt.plot(portafolios2.vol, portafolios2.media) \n"
   ]
  },
  {
   "cell_type": "code",
   "execution_count": null,
   "id": "a7bd5bf1",
   "metadata": {},
   "outputs": [],
   "source": [
    "# Graficar el lugar geométrico de los portafolios en el\n",
    "# espacio rendimiento esperado vs. volatilidad.\n",
    "# Especificar también los puntos relativos a los casos\n",
    "\n",
    "# Activos individuales\n",
    "\n",
    "# US\n",
    "\n",
    "# JP\n"
   ]
  },
  {
   "cell_type": "markdown",
   "id": "2274ee9c",
   "metadata": {},
   "source": [
    "#### De la gráfica,\n",
    "1. Ver casos extremos.\n",
    "2. ¿Conviene invertir 100% en el mercado de EU? ¿Porqué?\n",
    "3. ¿Porqué ocurre esto?\n",
    "4. Definición: frontera de mínima varianza. Caso particular: dos activos.\n",
    "5. Definición: portafolio de varianza mínima.\n",
    "6. Definición: portafolios eficientes.\n",
    "\n",
    "#### 1. Definición (frontera de mínima varianza): es el lugar geométrico de los portafolios en el espacio de rendimiento esperado contra volatilidad, que para cada nivel de rendimiento esperado provee la menor varianza (volatilidad). Para dos activos, la frontera de mínima varianza son, simplemente, todos los posibles portafolios que se pueden formar con esos dos activos.\n",
    "\n",
    "\n",
    "#### 2. Definición (portafolio de mínima varianza): es el portafolio que posee la menor varianza. No podemos encontrar ningún portafolio más a la izquierda de éste, en el espacio de rendimiento esperado contra volatilidad.\n",
    "\n",
    "\n",
    "#### 3. Definición (portafolios eficientes): son los portafolios que están en la parte superior de la frontera de mínima varianza, partiendo desde el portafolio de mínima varianza.\n",
    "\n",
    "___\n"
   ]
  },
  {
   "cell_type": "markdown",
   "id": "049af888",
   "metadata": {},
   "source": [
    "## 2. ¿Cómo hallar el portafolio de varianza mínima?\n",
    "\n",
    "## Obteniendo el punto de mínima varianza de un portafolio\n",
    "\n",
    "\n",
    "En vase a las definicones de la clase, sabemos que la varianza de un portafolio de dos activos $(a,b)$ es igual a:\n",
    "\n",
    "$$\\sigma^2_p = w_a^2 \\sigma^2_a + w_b^2 \\sigma_{b}^2 + 2 w_a w_b \\rho_{ab} \\sigma_a\\sigma_{b} $$\n",
    "\n",
    "\n",
    "Dado que son dos activos, esto se puede reescribir como:\n",
    "$$\\sigma^2_p = w_a^2 \\sigma_{a}^2  + (1 - w_a)^2 \\sigma_{b}^2 + 2 w_a (1-w_a) \\rho_{ab} \\sigma_a\\sigma_{b} $$\n",
    "\n",
    "***¿Cómo puedo obtener el punto donde tenga mínima varianza?***\n",
    "\n",
    "Formalmente: \n",
    "\n",
    "\\begin{align*}\n",
    "&\\min_{w}\\sigma_p^2=w^2\\sigma_1^2+(1-w)^2\\sigma_2^2+2w(1-w)\\rho_{12}\\sigma_1\\sigma_2\\\\\n",
    "&\\text{s.t.} \\qquad 0\\leq w\\leq1,\n",
    "\\end{align*}\n",
    "\n",
    "\n",
    "Dado que la varianza de un portafolio es una función cuadrática, puedo diferenciar e igualar a 0\n",
    "\n",
    "\n",
    "Primero vamos a reorganizar un poco nuestra definición de varianza:\n",
    "$$\\sigma^2_p = w_a^2 \\sigma_{a}^2 + \\sigma_b^2 - 2w_a \\sigma_b ^2 + w_a^2 \\sigma_b ^2 - 2w_a \\sigma_a \\sigma_b \\rho_{ab} - 2 w_a^2 \\sigma_a \\sigma_b \\rho_{ab}$$\n",
    "\n",
    "\n",
    "Ahora si vamos a derivar:\n",
    "\n",
    "$$ \\frac{d}{d_{wa}} \\sigma^2_p  = 2w_a \\sigma_a^2 - 2 \\sigma_b^2 + 2w_a \\sigma_b ^2 + 2 \\sigma_a \\sigma_b \\rho_{ab} - 4 w_a \\sigma_a \\sigma_b \\rho_{ab}$$\n",
    "\n",
    "Igualamos a 0 para encontrar el punto con menor pendiente:\n",
    "\n",
    "$$ 0 = 2w_a \\sigma_a^2 - 2 \\sigma_b^2 + 2w_a \\sigma_b ^2 + 2 \\sigma_a \\sigma_b \\rho_{ab} - 4 w_a \\sigma_a \\sigma_b \\rho_{ab}$$\n",
    "\n",
    "Dividimos todo entre 2:\n",
    "$$ 0 = w_a \\sigma_a^2 -  \\sigma_b^2 + w_a \\sigma_b ^2 +  \\sigma_a \\sigma_b \\rho_{ab} - 2 w_a \\sigma_a \\sigma_b \\rho_{ab}$$\n",
    "\n",
    "Pasamos los que no tienen 0 al  otro lado:\n",
    "$$ \\sigma_b^2  - \\sigma_a \\sigma_b \\rho_{ab} = w_a \\sigma_a^2  + w_a \\sigma_b ^2  - 2 w_a \\sigma_a \\sigma_b \\rho_{ab}$$\n",
    "\n",
    "\n",
    "Agrupamos $w_a$\n",
    "$$ \\sigma_b^2  - \\sigma_a \\sigma_b \\rho_{ab} = [w_a (\\sigma_a ^2 + \\sigma_b 2)] - [2 w_a \\sigma_a \\sigma_b \\rho_{ab}]$$\n",
    "\n",
    "$$ \\sigma_b^2  - \\sigma_a \\sigma_b \\rho_{ab} = w_a ( [\\sigma_a ^2 + \\sigma_b 2] - [2\\sigma_a \\sigma_b \\rho_{ab}])$$\n",
    "\n",
    "Finalmente nos queda que:\n",
    "\n",
    "$$w_a = \\frac{\\sigma_b^2 - \\sigma_a \\sigma_b \\rho_{ab}}{\\sigma_a^2 + \\sigma_b^2 - 2 \\sigma_a \\sigma_b \\rho_{ab}}$$\n",
    "\n",
    "Esto igualmente se puede ecribir como: \n",
    "$$w_a = \\frac{\\sigma_b^2 - cov(a,b)}{\\sigma_a^2 + \\sigma_b^2 - 2 cov(a,b)}$$\n",
    "\n",
    "Debido a que:\n",
    "\n",
    "$$\\rho_{ab}=\\rho_{ab}=\\frac{\\sigma_{ab}}{\\sigma_a\\sigma_{b}}.$$\n",
    "\n",
    "Quiere decir que, si tengo un portafilo de activos $(a,b)$ y quiero obtener los pesos $(w_a, w_b)$ que me den mínima varianza, puedo hacer esto:\n",
    "\n",
    "$$w_a = \\frac{\\sigma_b^2 - cov(a,b)}{\\sigma_a^2 + \\sigma_b^2 - 2 cov(a,b)}$$\n",
    "\n",
    "$$w_b = 1 - w_a$$\n",
    "\n"
   ]
  },
  {
   "cell_type": "code",
   "execution_count": 40,
   "id": "89d19cf0",
   "metadata": {},
   "outputs": [
    {
     "data": {
      "text/plain": [
       "(0.7539437814084219, 0.2460562185915781)"
      ]
     },
     "execution_count": 40,
     "metadata": {},
     "output_type": "execute_result"
    }
   ],
   "source": [
    "# Calcular la mínima varianza\n",
    "w_minvar = (vol_jp ** 2 - covarianza_us_jp) / (vol_jp ** 2 + vol_us ** 2 - 2 * covarianza_us_jp)\n",
    "w_minvar, 1 -w_minvar"
   ]
  },
  {
   "cell_type": "markdown",
   "id": "968cb385",
   "metadata": {},
   "source": [
    "**Conclusiones:**\n",
    "- Para obtener el portafolio de mínima varianza, deberíamos invertir aproximadamente el 75.40% en el índice de EU, y el 24.60% restante en el índice de Japón."
   ]
  },
  {
   "cell_type": "markdown",
   "id": "8e45b3a1",
   "metadata": {},
   "source": [
    "### Alternativa, scipy.optimize.minimize"
   ]
  },
  {
   "cell_type": "markdown",
   "id": "c7b77ed8",
   "metadata": {},
   "source": [
    "\\begin{align*}\n",
    "&\\min_{w}\\sigma_p^2=w^2\\sigma_1^2+(1-w)^2\\sigma_2^2+2w(1-w)\\sigma_{12}\\\\\n",
    "&\\text{s.t.} \\qquad 0\\leq w\\leq1,\n",
    "\\end{align*}\n",
    "\n",
    "\n",
    "1- Creamos una función para minimizar \n",
    "\n",
    "2- Definimos lo que quieremos optimizar (los pesos en este caso)\n",
    "\n",
    "3- Ponemos restricciones\n",
    "\n",
    "4- A la función a minimizar le pasamos lo que queremos optimizar (los pesos) y luego los inputs numericos ya dados"
   ]
  },
  {
   "cell_type": "code",
   "execution_count": 41,
   "id": "f2c33c8c",
   "metadata": {},
   "outputs": [],
   "source": [
    "from scipy.optimize import minimize\n",
    "# Función objetivo\n",
    "def var2(w, s1, s2, s12):\n",
    "    return w**2 * s1**2 + (1 - w)**2 * s2**2 + 2 * w * (1 - w) * s12\n",
    "\n",
    "# Solución\n",
    "minvar_num = minimize(\n",
    "    fun=var2,\n",
    "    x0=0.5,\n",
    "    args=(vol_us, vol_jp, covarianza_us_jp),\n",
    "    bounds=((0,1),)\n",
    ")"
   ]
  },
  {
   "cell_type": "code",
   "execution_count": 42,
   "id": "1443af2e",
   "metadata": {},
   "outputs": [
    {
     "data": {
      "text/plain": [
       "  message: CONVERGENCE: NORM_OF_PROJECTED_GRADIENT_<=_PGTOL\n",
       "  success: True\n",
       "   status: 0\n",
       "      fun: 0.020075952293561752\n",
       "        x: [ 7.539e-01]\n",
       "      nit: 2\n",
       "      jac: [-3.123e-09]\n",
       "     nfev: 6\n",
       "     njev: 3\n",
       " hess_inv: <1x1 LbfgsInvHessProduct with dtype=float64>"
      ]
     },
     "execution_count": 42,
     "metadata": {},
     "output_type": "execute_result"
    }
   ],
   "source": [
    "minvar_num"
   ]
  },
  {
   "cell_type": "code",
   "execution_count": 43,
   "id": "77babcb9-3015-4b9a-a47a-f1a736e54f3d",
   "metadata": {},
   "outputs": [
    {
     "data": {
      "text/plain": [
       "array([0.75394375])"
      ]
     },
     "execution_count": 43,
     "metadata": {},
     "output_type": "execute_result"
    }
   ],
   "source": [
    "minvar_num['x'] "
   ]
  },
  {
   "cell_type": "code",
   "execution_count": 44,
   "id": "886ef824",
   "metadata": {},
   "outputs": [
    {
     "data": {
      "text/plain": [
       "(array([0.75394375]),\n",
       " array([0.24605625]),\n",
       " 0.7539437814084219,\n",
       " 0.2460562185915781)"
      ]
     },
     "execution_count": 44,
     "metadata": {},
     "output_type": "execute_result"
    }
   ],
   "source": [
    "# Peso del portafolio de minima varianza\n",
    "w_minvar_num = minvar_num.x\n",
    "w_minvar_num, 1 - w_minvar_num, w_minvar, 1 - w_minvar\n"
   ]
  },
  {
   "cell_type": "code",
   "execution_count": 45,
   "id": "c797e3f6",
   "metadata": {},
   "outputs": [
    {
     "data": {
      "text/plain": [
       "0.13899399830400042"
      ]
     },
     "execution_count": 45,
     "metadata": {},
     "output_type": "execute_result"
    }
   ],
   "source": [
    "# Rendimiento esperado y volatilidad del portafolio de minima varianza\n",
    "w_minvar * e_us + (1 - w_minvar) * e_jp"
   ]
  },
  {
   "cell_type": "code",
   "execution_count": 47,
   "id": "a21f5009-2ef9-4cd6-9e04-1cd37340044e",
   "metadata": {},
   "outputs": [
    {
     "data": {
      "text/plain": [
       "0.14168963368419615"
      ]
     },
     "execution_count": 47,
     "metadata": {},
     "output_type": "execute_result"
    }
   ],
   "source": [
    "np.sqrt(w_minvar ** 2 * vol_us ** 2 + ( 1 - w_minvar) ** 2 * vol_jp ** 2 + 2 * covarianza_us_jp * w_minvar * (1 - w_minvar))"
   ]
  },
  {
   "cell_type": "markdown",
   "id": "c0637f05",
   "metadata": {},
   "source": [
    "## 3. Si tenemos 3 activos, no todas las combinaciones están en esta varianza mínima \n",
    "En este caso:\n",
    "- EU\n",
    "- Japon\n",
    "- RU\n",
    "\n"
   ]
  },
  {
   "cell_type": "markdown",
   "id": "40899b1a",
   "metadata": {},
   "source": [
    "## Primero creamos un data frame "
   ]
  },
  {
   "cell_type": "code",
   "execution_count": 68,
   "id": "dae3d026",
   "metadata": {},
   "outputs": [],
   "source": [
    "# Create reandom weights\n",
    "def rand_weights(n):\n",
    "    k = np.random.rand(n)\n",
    "    return k / sum(k)\n",
    "df3 = pd.DataFrame([rand_weights(3) for i in range(1000)], \n",
    "                            columns =['w1', 'w2', 'w3'])\n",
    "\n",
    "# Pesos\n",
    "w1 = df3.w1\n",
    "w2 = df3.w2\n",
    "w3 = df3.w3\n",
    "\n",
    "\n",
    "# volatilidades\n",
    "vol1 = annual_ret_summ['EU'].loc['Volatilidad'] \n",
    "vol2 = annual_ret_summ['Japon'].loc['Volatilidad']\n",
    "vol3 = annual_ret_summ['RU'].loc['Volatilidad'] \n",
    "\n",
    "# Covarianzas\n",
    "cov12 = corr['EU']['Japon'] * vol1 * vol2 \n",
    "cov13 =  corr['EU']['RU'] * vol3 * vol3 \n",
    "cov23 = corr['RU']['Japon'] * vol3 * vol2 \n",
    "\n",
    "# Valores esperados\n",
    "e1 = annual_ret_summ['EU'].loc['Media'] \n",
    "e2 = annual_ret_summ['Japon'].loc['Media']\n",
    "e3 = annual_ret_summ['RU'].loc['Media'] \n",
    "\n",
    "# Crea un portafolio con pesos ranodom\n",
    "portafolios3 = pd.DataFrame({\n",
    "    'w1' : w1, \n",
    "    'w2' : w2, \n",
    "    'w3' : w3, \n",
    "    'media' : w1 * e1 + w2 * e2 + w3 * e3,\n",
    "    'volatilidad' : (w1 ** 2 * vol1 ** 2 + \n",
    "                     w2 ** 2 * vol2 ** 2 +\n",
    "                     w3 ** 2 * vol3 ** 2 + \n",
    "                     2*w1*w2*cov12 + \n",
    "                     2*w1*w3/cov13 + \n",
    "                     2*w2*w3*cov23) \n",
    "})\n",
    "\n"
   ]
  },
  {
   "cell_type": "code",
   "execution_count": 69,
   "id": "79f8095c",
   "metadata": {},
   "outputs": [
    {
     "data": {
      "text/plain": [
       "<matplotlib.collections.PathCollection at 0x7f503ea3d9f0>"
      ]
     },
     "execution_count": 69,
     "metadata": {},
     "output_type": "execute_result"
    },
    {
     "data": {
      "image/png": "[encoded data removed]",
      "text/plain": [
       "<Figure size 640x480 with 1 Axes>"
      ]
     },
     "metadata": {},
     "output_type": "display_data"
    }
   ],
   "source": [
    "# Grafica los portafolios\n",
    "plt.scatter(portafolios3.volatilidad, portafolios3.media)"
   ]
  },
  {
   "cell_type": "markdown",
   "id": "4944a3d2",
   "metadata": {},
   "source": [
    "La búsqueda del portafolio de varianza mínima corresponde a la solución del siguiente problema de optimización:\n",
    "\n",
    "- Para un portafolio con $n$ activos ($\\boldsymbol{w}=[w_1,\\dots,w_n]^T\\in\\mathbb{R}^n$):\n",
    "\\begin{align*}\n",
    "&\\min_{\\boldsymbol{w}} & \\sigma_p^2=\\boldsymbol{w}^T\\Sigma\\boldsymbol{w}\\\\\n",
    "&\\text{s.t.} \\qquad & \\boldsymbol{w}\\geq0,\\\\\n",
    "& & w_1+\\dots+w_n=1\n",
    "\\\\\n",
    "& & E[p] = \\mu\n",
    "\\end{align*}\n",
    "donde $\\Sigma$ es la matriz de varianza-covarianza de los rendimientos de los $n$ activos."
   ]
  },
  {
   "cell_type": "markdown",
   "id": "1abd57a5",
   "metadata": {},
   "source": [
    "## Ejemplo: ¿Cuál es el mejor portafolio para un rendimiento de 14%?"
   ]
  },
  {
   "cell_type": "code",
   "execution_count": 67,
   "id": "ec2da9dd",
   "metadata": {},
   "outputs": [
    {
     "ename": "NameError",
     "evalue": "name 's12' is not defined",
     "output_type": "error",
     "traceback": [
      "\u001b[0;31m---------------------------------------------------------------------------\u001b[0m",
      "\u001b[0;31mNameError\u001b[0m                                 Traceback (most recent call last)",
      "Cell \u001b[0;32mIn[67], line 14\u001b[0m\n\u001b[1;32m     11\u001b[0m cov23 \u001b[38;5;241m=\u001b[39m corr[\u001b[38;5;124m'\u001b[39m\u001b[38;5;124mRU\u001b[39m\u001b[38;5;124m'\u001b[39m][\u001b[38;5;124m'\u001b[39m\u001b[38;5;124mJapon\u001b[39m\u001b[38;5;124m'\u001b[39m] \u001b[38;5;241m*\u001b[39m vol3 \u001b[38;5;241m*\u001b[39m vol2 \n\u001b[1;32m     13\u001b[0m \u001b[38;5;66;03m# 1. Sigma: matriz de varianza-covarianza\u001b[39;00m\n\u001b[0;32m---> 14\u001b[0m sigma \u001b[38;5;241m=\u001b[39m np\u001b[38;5;241m.\u001b[39marray([[s1\u001b[38;5;241m*\u001b[39m\u001b[38;5;241m*\u001b[39m\u001b[38;5;241m2\u001b[39m, \u001b[43ms12\u001b[49m, s13],\n\u001b[1;32m     15\u001b[0m                   [s12, s2\u001b[38;5;241m*\u001b[39m\u001b[38;5;241m*\u001b[39m\u001b[38;5;241m2\u001b[39m, s23],\n\u001b[1;32m     16\u001b[0m                   [s13, s23, s3\u001b[38;5;241m*\u001b[39m\u001b[38;5;241m*\u001b[39m\u001b[38;5;241m2\u001b[39m]])\n\u001b[1;32m     18\u001b[0m \u001b[38;5;66;03m# 2. rendimientos esperados activos individuales\u001b[39;00m\n\u001b[1;32m     19\u001b[0m eind \u001b[38;5;241m=\u001b[39m np\u001b[38;5;241m.\u001b[39marray([e1, e2, e3])\n",
      "\u001b[0;31mNameError\u001b[0m: name 's12' is not defined"
     ]
    }
   ],
   "source": [
    "## Construcción de parámetros\n",
    "## Activo 1: EU, Activo 2: Japon, Activo 3: RU\n",
    "# volatilidades\n",
    "s1 = annual_ret_summ['EU'].loc['Volatilidad'] \n",
    "s2 = annual_ret_summ['Japon'].loc['Volatilidad']\n",
    "s3 = annual_ret_summ['RU'].loc['Volatilidad'] \n",
    "\n",
    "# Covarianzas\n",
    "cov12 = corr['EU']['Japon'] * vol1 * vol2 \n",
    "cov13 =  corr['EU']['RU'] * vol3 * vol3 \n",
    "cov23 = corr['RU']['Japon'] * vol3 * vol2 \n",
    "\n",
    "# 1. Sigma: matriz de varianza-covarianza\n",
    "sigma = np.array([[s1**2, s12, s13],\n",
    "                  [s12, s2**2, s23],\n",
    "                  [s13, s23, s3**2]])\n",
    "\n",
    "# 2. rendimientos esperados activos individuales\n",
    "eind = np.array([e1, e2, e3])"
   ]
  },
  {
   "cell_type": "code",
   "execution_count": 65,
   "id": "c56bdb58",
   "metadata": {},
   "outputs": [
    {
     "ename": "NameError",
     "evalue": "name 'eind' is not defined",
     "output_type": "error",
     "traceback": [
      "\u001b[0;31m---------------------------------------------------------------------------\u001b[0m",
      "\u001b[0;31mNameError\u001b[0m                                 Traceback (most recent call last)",
      "Cell \u001b[0;32mIn[65], line 16\u001b[0m\n\u001b[1;32m     10\u001b[0m \u001b[38;5;28;01mdef\u001b[39;00m \u001b[38;5;21mweights_equal_1\u001b[39m(w):\n\u001b[1;32m     11\u001b[0m     \u001b[38;5;28;01mreturn\u001b[39;00m np\u001b[38;5;241m.\u001b[39msum(w) \u001b[38;5;241m-\u001b[39m \u001b[38;5;241m1\u001b[39m\n\u001b[1;32m     14\u001b[0m cons \u001b[38;5;241m=\u001b[39m (\n\u001b[1;32m     15\u001b[0m     \u001b[38;5;66;03m# Rendimiento requerido\u001b[39;00m\n\u001b[0;32m---> 16\u001b[0m     {\u001b[38;5;124m'\u001b[39m\u001b[38;5;124mtype\u001b[39m\u001b[38;5;124m'\u001b[39m: \u001b[38;5;124m'\u001b[39m\u001b[38;5;124meq\u001b[39m\u001b[38;5;124m'\u001b[39m, \u001b[38;5;124m'\u001b[39m\u001b[38;5;124mfun\u001b[39m\u001b[38;5;124m'\u001b[39m: rendimiento_req, \u001b[38;5;124m'\u001b[39m\u001b[38;5;124margs\u001b[39m\u001b[38;5;124m'\u001b[39m: (\u001b[43meind\u001b[49m, \u001b[38;5;241m0.14\u001b[39m)},\n\u001b[1;32m     17\u001b[0m     \u001b[38;5;66;03m# Los pesos tienne que ser 1\u001b[39;00m\n\u001b[1;32m     18\u001b[0m     {\u001b[38;5;124m'\u001b[39m\u001b[38;5;124mtype\u001b[39m\u001b[38;5;124m'\u001b[39m: \u001b[38;5;124m'\u001b[39m\u001b[38;5;124meq\u001b[39m\u001b[38;5;124m'\u001b[39m, \u001b[38;5;124m'\u001b[39m\u001b[38;5;124mfun\u001b[39m\u001b[38;5;124m'\u001b[39m: weights_equal_1}\n\u001b[1;32m     19\u001b[0m )\n\u001b[1;32m     20\u001b[0m \u001b[38;5;66;03m# Portafolio de mínima varianza para nivel de rendimiento esperado Ereq[i]\u001b[39;00m\n\u001b[1;32m     21\u001b[0m min_var \u001b[38;5;241m=\u001b[39m minimize(fun\u001b[38;5;241m=\u001b[39mvarianza,\n\u001b[1;32m     22\u001b[0m                    x0\u001b[38;5;241m=\u001b[39mnp\u001b[38;5;241m.\u001b[39marray([\u001b[38;5;241m1\u001b[39m\u001b[38;5;241m/\u001b[39m\u001b[38;5;241m3\u001b[39m, \u001b[38;5;241m1\u001b[39m\u001b[38;5;241m/\u001b[39m\u001b[38;5;241m3\u001b[39m, \u001b[38;5;241m1\u001b[39m\u001b[38;5;241m/\u001b[39m\u001b[38;5;241m3\u001b[39m]),\n\u001b[1;32m     23\u001b[0m                    args\u001b[38;5;241m=\u001b[39m(sigma,),\n\u001b[1;32m     24\u001b[0m                    bounds\u001b[38;5;241m=\u001b[39m((\u001b[38;5;241m0\u001b[39m,\u001b[38;5;241m1\u001b[39m), (\u001b[38;5;241m0\u001b[39m,\u001b[38;5;241m1\u001b[39m), (\u001b[38;5;241m0\u001b[39m,\u001b[38;5;241m1\u001b[39m)),\n\u001b[1;32m     25\u001b[0m                    constraints\u001b[38;5;241m=\u001b[39mcons)\n",
      "\u001b[0;31mNameError\u001b[0m: name 'eind' is not defined"
     ]
    }
   ],
   "source": [
    "# Lo que quiero minimizar\n",
    "def varianza(w, sigma):\n",
    "    return w.T.dot(sigma).dot(w)\n",
    "\n",
    "# Restricciones, quiero un rendimiento iguial a mu_req \n",
    "def rendimiento_req(w, Eind, mu_req):\n",
    "    return w.T.dot(Eind) - mu_req\n",
    "\n",
    "# Pesos tiene que sumar 1 \n",
    "def weights_equal_1(w):\n",
    "    return np.sum(w) - 1\n",
    "\n",
    "\n",
    "cons = (\n",
    "    # Rendimiento requerido\n",
    "    {'type': 'eq', 'fun': rendimiento_req, 'args': (eind, 0.14)},\n",
    "    # Los pesos tienne que ser 1\n",
    "    {'type': 'eq', 'fun': weights_equal_1}\n",
    ")\n",
    "# Portafolio de mínima varianza para nivel de rendimiento esperado Ereq[i]\n",
    "min_var = minimize(fun=varianza,\n",
    "                   x0=np.array([1/3, 1/3, 1/3]),\n",
    "                   args=(sigma,),\n",
    "                   bounds=((0,1), (0,1), (0,1)),\n",
    "                   constraints=cons)\n"
   ]
  },
  {
   "cell_type": "markdown",
   "id": "50eda95a",
   "metadata": {},
   "source": [
    "### Quiero el mejor portafolio posible para cada uno de los rendimientos"
   ]
  },
  {
   "cell_type": "code",
   "execution_count": 66,
   "id": "49404371",
   "metadata": {},
   "outputs": [],
   "source": [
    "# DataFrame de portafolios de la frontera\n",
    "portfolios3 = pd.DataFrame(index=range(N), columns=['w1', 'w2', 'w3', 'media', 'vol'])"
   ]
  },
  {
   "cell_type": "code",
   "execution_count": 63,
   "id": "51d4a7f1-339b-4c52-adb6-e439c68fa3e2",
   "metadata": {},
   "outputs": [
    {
     "ename": "NameError",
     "evalue": "name 'eind' is not defined",
     "output_type": "error",
     "traceback": [
      "\u001b[0;31m---------------------------------------------------------------------------\u001b[0m",
      "\u001b[0;31mNameError\u001b[0m                                 Traceback (most recent call last)",
      "Cell \u001b[0;32mIn[63], line 1\u001b[0m\n\u001b[0;32m----> 1\u001b[0m ereq \u001b[38;5;241m=\u001b[39m np\u001b[38;5;241m.\u001b[39mlinspace(\u001b[43meind\u001b[49m\u001b[38;5;241m.\u001b[39mmin(), eind\u001b[38;5;241m.\u001b[39mmax(), N) \n",
      "\u001b[0;31mNameError\u001b[0m: name 'eind' is not defined"
     ]
    }
   ],
   "source": [
    "ereq = np.linspace(eind.min(), eind.max(), N) "
   ]
  },
  {
   "cell_type": "code",
   "execution_count": null,
   "id": "39a4cf24",
   "metadata": {},
   "outputs": [],
   "source": [
    "# Número de portafolios\n",
    "N = 100\n",
    "ereq = np.linspace(eind.min(), eind.max(), N)\n",
    "\n",
    "# Para cada rendimiento entre el mínimo y máximo posible ... ¿cuáles son los pesoso con mínima varianza?\n",
    "for i in range(len(ereq)):\n",
    "    # Restricciones\n",
    "    cons = (\n",
    "        # Rendimiento requerido\n",
    "        {'type': 'eq', 'fun': rendimiento_req, 'args': (eind, ereq[i])},\n",
    "        # Los pesos tienne que ser 1\n",
    "        {'type': 'eq', 'fun': weights_equal_1}\n",
    "    )\n",
    "    # Portafolio de mínima varianza para nivel de rendimiento esperado Ereq[i]\n",
    "    min_var = minimize(fun=varianza,\n",
    "                       x0=np.array([1/3, 1/3, 1/3]),\n",
    "                       args=(sigma,),\n",
    "                       bounds=((0,1), (0,1), (0,1)),\n",
    "                       constraints=cons\n",
    "                      )\n",
    "    # Pesos, rendimientos y volatilidades de los portafolio\n",
    "    portfolios3.loc[i, ['w1','w2','w3']] = min_var.x\n",
    "    portfolios3['media'][i] = eind.dot(min_var.x)\n",
    "    portfolios3['vol'][i] = np.sqrt(varianza(min_var.x, sigma))"
   ]
  },
  {
   "cell_type": "code",
   "execution_count": null,
   "id": "aae3bc12",
   "metadata": {},
   "outputs": [],
   "source": [
    "# Portafolios de la frontera\n",
    "portfolios3"
   ]
  },
  {
   "cell_type": "markdown",
   "id": "d4041b14",
   "metadata": {},
   "source": [
    "### Portafolio de varianza mínima\n",
    "\n",
    "En este caso, es algo muy similar pero no tenemos que hacer ningún loop y no hay restricción de rendimiento esperado"
   ]
  },
  {
   "cell_type": "code",
   "execution_count": null,
   "id": "c8b98ded",
   "metadata": {},
   "outputs": [],
   "source": [
    "# Portafolio de mínima varianza\n",
    "cons = ({'type': 'eq', 'fun': weights_equal_1},)\n",
    "min_var3 = minimize(varianza, \n",
    "                    x0=np.array([1/3, 1/3, 1/3]),\n",
    "                    args=(sigma,),\n",
    "                    bounds=((0,1), (0,1), (0,1)),\n",
    "                    constraints=cons)\n",
    "min_var3"
   ]
  },
  {
   "cell_type": "code",
   "execution_count": null,
   "id": "a182ba27",
   "metadata": {},
   "outputs": [],
   "source": [
    "w_minvar3 = min_var3.x\n",
    "e_minvar3 = eind.dot(w_minvar3)\n",
    "s_minvar3 = np.sqrt(varianza(w_minvar3, sigma))"
   ]
  },
  {
   "cell_type": "code",
   "execution_count": null,
   "id": "9890463d",
   "metadata": {},
   "outputs": [],
   "source": [
    "# Grafica ambos portafolios, ¿que concluyes?"
   ]
  },
  {
   "cell_type": "markdown",
   "id": "f53a4f18",
   "metadata": {},
   "source": [
    "**Conclusión.** Mayor diversificación.\n"
   ]
  },
  {
   "cell_type": "markdown",
   "id": "544869a4",
   "metadata": {},
   "source": [
    "## 4. Comentarios acerca de la Teoría Moderna de Portafolios.\n",
    "\n",
    "- Todo lo anterior es un abrebocas de lo que llamamos análisis de media-varianza, y que es la base de la teoría moderna de portafolios.\n",
    "- El análisis de media-varianza transformó el mundo de las inversiones cuando fué presentada por primera vez.\n",
    "- Claro, tiene ciertas limitaciones, pero se mantiene como una de las ideas principales en la selección óptima de portafolios."
   ]
  },
  {
   "cell_type": "markdown",
   "id": "264b9d7e",
   "metadata": {},
   "source": [
    "### Historia.\n",
    "\n",
    "1. Fue presentada por primera vez por Harry Markowitz en 1950. Acá su [artículo](https://www.google.com/url?sa=t&rct=j&q=&esrc=s&source=web&cd=1&ved=2ahUKEwjd0cOTx8XdAhUVo4MKHcLoBhcQFjAAegQICBAC&url=https%3A%2F%2Fwww.math.ust.hk%2F~maykwok%2Fcourses%2Fma362%2F07F%2Fmarkowitz_JF.pdf&usg=AOvVaw3d29hQoNJVqXvC8zPuixYG).\n",
    "2. Era un joven estudiante de Doctorado en la Universidad de Chicago.\n",
    "3. Publicó su tesis doctoral en selección de portafolios en \"Journal of Finance\" en 1952.\n",
    "4. Su contribución transformó por completo la forma en la que entendemos el riesgo.\n",
    "5. Básicamente obtuvo una teoría que analiza como los inversionistas deberían escoger de manera óptima sus portafolios, en otras palabras, cómo distribuir la riqueza de manera óptima en diferentes activos.\n",
    "6. Casi 40 años después, Markowitz ganó el Premio Nobel en economía por esta idea."
   ]
  },
  {
   "cell_type": "markdown",
   "id": "a25a33fb",
   "metadata": {},
   "source": [
    "- En el siguiente módulo revisaremos cómo elegir portafolios óptimos como si los inversionistas sólo se preocuparan por medias y varianzas.\n",
    "- ¿Qué pasa si un inversionista también se preocupa por otros momentos (asimetría, curtosis...)?\n",
    "- La belleza del análisis media-varianza es que cuando combinamos activos correlacionados imperfectamente, las varianzas siempre decrecen (no sabemos que pasa con otras medidas de riesgo).\n",
    "- Si a un inversionista le preocupan otras medidas de riesgo, el análisis media-varianza no es el camino."
   ]
  },
  {
   "cell_type": "markdown",
   "id": "c47ac901",
   "metadata": {},
   "source": [
    "- Además, si eres una persona que le gusta el riesgo: quieres encontrar la próxima compañía top que apenas va arrancando (como Google en los 2000) e invertir todo en ella para generar ganancias extraordinarias; entonces la diversificación no es tampoco el camino.\n",
    "- La diversificación, por definición, elimina el riesgo idiosincrático (de cada compañía), y por tanto elimina estos rendimientos altísimos que brindaría un portafolio altamente concentrado."
   ]
  },
  {
   "cell_type": "code",
   "execution_count": null,
   "id": "88143090",
   "metadata": {},
   "outputs": [],
   "source": []
  },
  {
   "cell_type": "code",
   "execution_count": null,
   "id": "7418eef8",
   "metadata": {},
   "outputs": [],
   "source": []
  }
 ],
 "metadata": {
  "kernelspec": {
   "display_name": "Python 3 (ipykernel)",
   "language": "python",
   "name": "python3"
  },
  "language_info": {
   "codemirror_mode": {
    "name": "ipython",
    "version": 3
   },
   "file_extension": ".py",
   "mimetype": "text/x-python",
   "name": "python",
   "nbconvert_exporter": "python",
   "pygments_lexer": "ipython3",
   "version": "3.10.12"
  }
 },
 "nbformat": 4,
 "nbformat_minor": 5
}
