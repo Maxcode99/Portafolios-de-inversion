{
 "cells": [
  {
   "cell_type": "markdown",
   "id": "e8035b5a",
   "metadata": {},
   "source": [
    "# Clase 6, usando datos de acciones\n",
    "\n",
    "Vamos a aprender a descargar datos historicos dela bolsa de valores y aplicar los conceptos que hemos visto \n",
    "\n",
    "- Leer archivos CSV\n",
    "- Descargar datos historicos\n",
    "- Obtener estadísticos básicos"
   ]
  },
  {
   "cell_type": "code",
   "execution_count": 2,
   "id": "9b6423b2",
   "metadata": {},
   "outputs": [],
   "source": [
    "# Importar el modulo data del paquete pandas_datareader. La comunidad lo importa con el nombre de web\n",
    "import pandas as pd\n",
    "import numpy as np\n",
    "import yfinance as yf\n",
    "import matplotlib.pyplot as plt"
   ]
  },
  {
   "cell_type": "markdown",
   "id": "49b6d3d7",
   "metadata": {},
   "source": [
    "\n",
    "Obtene estos tickers:\n",
    "\n",
    "['AAPL', 'AMZN', 'GOOGL', 'COST', 'MSFT', \n",
    "'BRK-A', 'NVDA', 'NFLX', 'WMT', 'V', \n",
    "'JPM', 'XOM', 'V', 'MA', 'TSLA', 'PEP', 'PG']\n",
    "\n",
    "Del 2017 al 2023"
   ]
  },
  {
   "cell_type": "code",
   "execution_count": 3,
   "id": "7da2b65b",
   "metadata": {},
   "outputs": [
    {
     "name": "stdout",
     "output_type": "stream",
     "text": [
      "[*********************100%%**********************]  16 of 16 completed\n"
     ]
    },
    {
     "data": {
      "text/html": [
       "<div>\n",
       "<style scoped>\n",
       "    .dataframe tbody tr th:only-of-type {\n",
       "        vertical-align: middle;\n",
       "    }\n",
       "\n",
       "    .dataframe tbody tr th {\n",
       "        vertical-align: top;\n",
       "    }\n",
       "\n",
       "    .dataframe thead th {\n",
       "        text-align: right;\n",
       "    }\n",
       "</style>\n",
       "<table border=\"1\" class=\"dataframe\">\n",
       "  <thead>\n",
       "    <tr style=\"text-align: right;\">\n",
       "      <th></th>\n",
       "      <th>AAPL</th>\n",
       "      <th>AMZN</th>\n",
       "      <th>BRK-A</th>\n",
       "      <th>COST</th>\n",
       "      <th>GOOGL</th>\n",
       "      <th>JPM</th>\n",
       "      <th>MA</th>\n",
       "      <th>MSFT</th>\n",
       "      <th>NFLX</th>\n",
       "      <th>NVDA</th>\n",
       "      <th>PEP</th>\n",
       "      <th>PG</th>\n",
       "      <th>TSLA</th>\n",
       "      <th>V</th>\n",
       "      <th>WMT</th>\n",
       "      <th>XOM</th>\n",
       "    </tr>\n",
       "    <tr>\n",
       "      <th>Date</th>\n",
       "      <th></th>\n",
       "      <th></th>\n",
       "      <th></th>\n",
       "      <th></th>\n",
       "      <th></th>\n",
       "      <th></th>\n",
       "      <th></th>\n",
       "      <th></th>\n",
       "      <th></th>\n",
       "      <th></th>\n",
       "      <th></th>\n",
       "      <th></th>\n",
       "      <th></th>\n",
       "      <th></th>\n",
       "      <th></th>\n",
       "      <th></th>\n",
       "    </tr>\n",
       "  </thead>\n",
       "  <tbody>\n",
       "    <tr>\n",
       "      <th>2017-01-03</th>\n",
       "      <td>27.059309</td>\n",
       "      <td>37.683498</td>\n",
       "      <td>245850.0</td>\n",
       "      <td>140.838501</td>\n",
       "      <td>40.400501</td>\n",
       "      <td>72.169777</td>\n",
       "      <td>101.347305</td>\n",
       "      <td>57.254700</td>\n",
       "      <td>127.489998</td>\n",
       "      <td>25.138283</td>\n",
       "      <td>86.186043</td>\n",
       "      <td>69.928986</td>\n",
       "      <td>14.466000</td>\n",
       "      <td>75.950867</td>\n",
       "      <td>60.387123</td>\n",
       "      <td>65.694740</td>\n",
       "    </tr>\n",
       "    <tr>\n",
       "      <th>2017-01-04</th>\n",
       "      <td>27.029020</td>\n",
       "      <td>37.859001</td>\n",
       "      <td>246600.0</td>\n",
       "      <td>140.865021</td>\n",
       "      <td>40.388500</td>\n",
       "      <td>72.302902</td>\n",
       "      <td>102.308929</td>\n",
       "      <td>56.998528</td>\n",
       "      <td>129.410004</td>\n",
       "      <td>25.724779</td>\n",
       "      <td>86.350777</td>\n",
       "      <td>70.178123</td>\n",
       "      <td>15.132667</td>\n",
       "      <td>76.571854</td>\n",
       "      <td>60.738914</td>\n",
       "      <td>64.971939</td>\n",
       "    </tr>\n",
       "    <tr>\n",
       "      <th>2017-01-05</th>\n",
       "      <td>27.166473</td>\n",
       "      <td>39.022499</td>\n",
       "      <td>244852.0</td>\n",
       "      <td>143.642471</td>\n",
       "      <td>40.651001</td>\n",
       "      <td>71.637321</td>\n",
       "      <td>103.099129</td>\n",
       "      <td>56.998528</td>\n",
       "      <td>131.809998</td>\n",
       "      <td>25.071737</td>\n",
       "      <td>86.235497</td>\n",
       "      <td>70.643211</td>\n",
       "      <td>15.116667</td>\n",
       "      <td>77.469887</td>\n",
       "      <td>60.870846</td>\n",
       "      <td>64.003395</td>\n",
       "    </tr>\n",
       "    <tr>\n",
       "      <th>2017-01-06</th>\n",
       "      <td>27.469334</td>\n",
       "      <td>39.799500</td>\n",
       "      <td>245394.0</td>\n",
       "      <td>143.571930</td>\n",
       "      <td>41.260502</td>\n",
       "      <td>71.645660</td>\n",
       "      <td>103.841125</td>\n",
       "      <td>57.492577</td>\n",
       "      <td>131.070007</td>\n",
       "      <td>25.406878</td>\n",
       "      <td>86.111938</td>\n",
       "      <td>70.618309</td>\n",
       "      <td>15.267333</td>\n",
       "      <td>78.539864</td>\n",
       "      <td>60.035316</td>\n",
       "      <td>63.967270</td>\n",
       "    </tr>\n",
       "    <tr>\n",
       "      <th>2017-01-09</th>\n",
       "      <td>27.720940</td>\n",
       "      <td>39.846001</td>\n",
       "      <td>243111.0</td>\n",
       "      <td>141.931915</td>\n",
       "      <td>41.359001</td>\n",
       "      <td>71.695587</td>\n",
       "      <td>103.638786</td>\n",
       "      <td>57.309589</td>\n",
       "      <td>130.949997</td>\n",
       "      <td>26.436960</td>\n",
       "      <td>85.206024</td>\n",
       "      <td>70.095085</td>\n",
       "      <td>15.418667</td>\n",
       "      <td>78.100426</td>\n",
       "      <td>60.431107</td>\n",
       "      <td>62.911991</td>\n",
       "    </tr>\n",
       "  </tbody>\n",
       "</table>\n",
       "</div>"
      ],
      "text/plain": [
       "                 AAPL       AMZN     BRK-A        COST      GOOGL        JPM  \\\n",
       "Date                                                                           \n",
       "2017-01-03  27.059309  37.683498  245850.0  140.838501  40.400501  72.169777   \n",
       "2017-01-04  27.029020  37.859001  246600.0  140.865021  40.388500  72.302902   \n",
       "2017-01-05  27.166473  39.022499  244852.0  143.642471  40.651001  71.637321   \n",
       "2017-01-06  27.469334  39.799500  245394.0  143.571930  41.260502  71.645660   \n",
       "2017-01-09  27.720940  39.846001  243111.0  141.931915  41.359001  71.695587   \n",
       "\n",
       "                    MA       MSFT        NFLX       NVDA        PEP  \\\n",
       "Date                                                                  \n",
       "2017-01-03  101.347305  57.254700  127.489998  25.138283  86.186043   \n",
       "2017-01-04  102.308929  56.998528  129.410004  25.724779  86.350777   \n",
       "2017-01-05  103.099129  56.998528  131.809998  25.071737  86.235497   \n",
       "2017-01-06  103.841125  57.492577  131.070007  25.406878  86.111938   \n",
       "2017-01-09  103.638786  57.309589  130.949997  26.436960  85.206024   \n",
       "\n",
       "                   PG       TSLA          V        WMT        XOM  \n",
       "Date                                                               \n",
       "2017-01-03  69.928986  14.466000  75.950867  60.387123  65.694740  \n",
       "2017-01-04  70.178123  15.132667  76.571854  60.738914  64.971939  \n",
       "2017-01-05  70.643211  15.116667  77.469887  60.870846  64.003395  \n",
       "2017-01-06  70.618309  15.267333  78.539864  60.035316  63.967270  \n",
       "2017-01-09  70.095085  15.418667  78.100426  60.431107  62.911991  "
      ]
     },
     "execution_count": 3,
     "metadata": {},
     "output_type": "execute_result"
    }
   ],
   "source": [
    "tickers = ['AAPL', 'AMZN', 'GOOGL', 'COST', 'MSFT', 'BRK-A', 'NVDA', 'NFLX', 'WMT', 'V', 'JPM', 'XOM', 'V', 'MA', 'TSLA', 'PEP', 'PG']\n",
    "df = yf.download(tickers, start=\"2017-01-01\", end=\"2023-12-31\")['Adj Close'] \n",
    "df.head()\n"
   ]
  },
  {
   "cell_type": "code",
   "execution_count": 4,
   "id": "3ab286fd",
   "metadata": {},
   "outputs": [
    {
     "data": {
      "text/plain": [
       "AAPL     0.328134\n",
       "AMZN     0.253225\n",
       "BRK-A    0.144601\n",
       "COST     0.233556\n",
       "GOOGL    0.227336\n",
       "JPM      0.151325\n",
       "MA       0.255377\n",
       "MSFT     0.302645\n",
       "NFLX     0.269866\n",
       "NVDA     0.555117\n",
       "PEP      0.129664\n",
       "PG       0.137783\n",
       "TSLA     0.621309\n",
       "V        0.209583\n",
       "WMT      0.172729\n",
       "XOM      0.134197\n",
       "dtype: float64"
      ]
     },
     "execution_count": 4,
     "metadata": {},
     "output_type": "execute_result"
    }
   ],
   "source": [
    "# Obten el rendimiento esperado de cada acción y anualizalo\n",
    "rt = df.pct_change().dropna()\n",
    "\n",
    "rendimiento = rt.mean() * 252 \n",
    "rendimiento "
   ]
  },
  {
   "cell_type": "code",
   "execution_count": 4,
   "id": "d196ccd4-6b9c-4c17-a6f1-0c686c46e8dc",
   "metadata": {},
   "outputs": [],
   "source": [
    "# Obten la voladilidad de cada acción y anualizala\n",
    "import numpy as np \n",
    "volatilidad = rt.std() * np.sqrt(252)"
   ]
  },
  {
   "cell_type": "code",
   "execution_count": 5,
   "id": "680e8381",
   "metadata": {
    "scrolled": true
   },
   "outputs": [
    {
     "data": {
      "image/png": "[encoded data removed]",
      "text/plain": [
       "<Figure size 640x480 with 1 Axes>"
      ]
     },
     "metadata": {},
     "output_type": "display_data"
    }
   ],
   "source": [
    "# Grafique la relación volatilidad y rendimiento \n",
    "plt.scatter(volatilidad, rendimiento)\n",
    "plt.xlabel('Volatilidad')\n",
    "plt.ylabel('Redimiento esperado')\n",
    "plt.grid()"
   ]
  },
  {
   "cell_type": "code",
   "execution_count": 6,
   "id": "8c182e71-abc7-4f11-b7d8-9ee31477d4bb",
   "metadata": {},
   "outputs": [
    {
     "data": {
      "text/html": [
       "<div>\n",
       "<style scoped>\n",
       "    .dataframe tbody tr th:only-of-type {\n",
       "        vertical-align: middle;\n",
       "    }\n",
       "\n",
       "    .dataframe tbody tr th {\n",
       "        vertical-align: top;\n",
       "    }\n",
       "\n",
       "    .dataframe thead th {\n",
       "        text-align: right;\n",
       "    }\n",
       "</style>\n",
       "<table border=\"1\" class=\"dataframe\">\n",
       "  <thead>\n",
       "    <tr style=\"text-align: right;\">\n",
       "      <th></th>\n",
       "      <th>rendimiento</th>\n",
       "      <th>volatilidad</th>\n",
       "    </tr>\n",
       "  </thead>\n",
       "  <tbody>\n",
       "    <tr>\n",
       "      <th>AAPL</th>\n",
       "      <td>0.330214</td>\n",
       "      <td>0.305588</td>\n",
       "    </tr>\n",
       "    <tr>\n",
       "      <th>AMZN</th>\n",
       "      <td>0.257150</td>\n",
       "      <td>0.338494</td>\n",
       "    </tr>\n",
       "    <tr>\n",
       "      <th>BRK-A</th>\n",
       "      <td>0.143015</td>\n",
       "      <td>0.204446</td>\n",
       "    </tr>\n",
       "    <tr>\n",
       "      <th>COST</th>\n",
       "      <td>0.233165</td>\n",
       "      <td>0.230385</td>\n",
       "    </tr>\n",
       "    <tr>\n",
       "      <th>GOOGL</th>\n",
       "      <td>0.226577</td>\n",
       "      <td>0.295429</td>\n",
       "    </tr>\n",
       "    <tr>\n",
       "      <th>JPM</th>\n",
       "      <td>0.146977</td>\n",
       "      <td>0.293654</td>\n",
       "    </tr>\n",
       "    <tr>\n",
       "      <th>MA</th>\n",
       "      <td>0.255970</td>\n",
       "      <td>0.297395</td>\n",
       "    </tr>\n",
       "    <tr>\n",
       "      <th>MSFT</th>\n",
       "      <td>0.307443</td>\n",
       "      <td>0.287542</td>\n",
       "    </tr>\n",
       "    <tr>\n",
       "      <th>NFLX</th>\n",
       "      <td>0.288552</td>\n",
       "      <td>0.443072</td>\n",
       "    </tr>\n",
       "    <tr>\n",
       "      <th>NVDA</th>\n",
       "      <td>0.560719</td>\n",
       "      <td>0.505786</td>\n",
       "    </tr>\n",
       "    <tr>\n",
       "      <th>PEP</th>\n",
       "      <td>0.129657</td>\n",
       "      <td>0.200736</td>\n",
       "    </tr>\n",
       "    <tr>\n",
       "      <th>PG</th>\n",
       "      <td>0.138829</td>\n",
       "      <td>0.199207</td>\n",
       "    </tr>\n",
       "    <tr>\n",
       "      <th>TSLA</th>\n",
       "      <td>0.627609</td>\n",
       "      <td>0.612069</td>\n",
       "    </tr>\n",
       "    <tr>\n",
       "      <th>V</th>\n",
       "      <td>0.211699</td>\n",
       "      <td>0.264173</td>\n",
       "    </tr>\n",
       "    <tr>\n",
       "      <th>WMT</th>\n",
       "      <td>0.174077</td>\n",
       "      <td>0.219496</td>\n",
       "    </tr>\n",
       "    <tr>\n",
       "      <th>XOM</th>\n",
       "      <td>0.129982</td>\n",
       "      <td>0.307209</td>\n",
       "    </tr>\n",
       "  </tbody>\n",
       "</table>\n",
       "</div>"
      ],
      "text/plain": [
       "       rendimiento  volatilidad\n",
       "AAPL      0.330214     0.305588\n",
       "AMZN      0.257150     0.338494\n",
       "BRK-A     0.143015     0.204446\n",
       "COST      0.233165     0.230385\n",
       "GOOGL     0.226577     0.295429\n",
       "JPM       0.146977     0.293654\n",
       "MA        0.255970     0.297395\n",
       "MSFT      0.307443     0.287542\n",
       "NFLX      0.288552     0.443072\n",
       "NVDA      0.560719     0.505786\n",
       "PEP       0.129657     0.200736\n",
       "PG        0.138829     0.199207\n",
       "TSLA      0.627609     0.612069\n",
       "V         0.211699     0.264173\n",
       "WMT       0.174077     0.219496\n",
       "XOM       0.129982     0.307209"
      ]
     },
     "execution_count": 6,
     "metadata": {},
     "output_type": "execute_result"
    }
   ],
   "source": [
    "df = pd.DataFrame()\n",
    "df['rendimiento'] = rendimiento \n",
    "df['volatilidad'] = volatilidad\n",
    "df"
   ]
  },
  {
   "cell_type": "code",
   "execution_count": 7,
   "id": "f1461221-401c-4533-97e7-3c0939e35329",
   "metadata": {},
   "outputs": [
    {
     "data": {
      "image/png": "[encoded data removed]",
      "text/plain": [
       "<Figure size 640x480 with 1 Axes>"
      ]
     },
     "metadata": {},
     "output_type": "display_data"
    }
   ],
   "source": [
    "for i in range(len(df)): \n",
    "    flag_df = df.iloc[i]\n",
    "    name = df.index[i]\n",
    "    plt.scatter(flag_df['volatilidad'], flag_df['rendimiento'])\n",
    "    plt.text(flag_df['volatilidad'], flag_df['rendimiento'], name)\n",
    "plt.xlabel('Volatilidad')\n",
    "plt.ylabel('Valor esperado')\n",
    "plt.grid()"
   ]
  },
  {
   "cell_type": "code",
   "execution_count": 8,
   "id": "9e683c91-1908-457e-9bc6-5feab9752680",
   "metadata": {},
   "outputs": [
    {
     "name": "stdout",
     "output_type": "stream",
     "text": [
      "Defaulting to user installation because normal site-packages is not writeable\n",
      "Requirement already satisfied: scikit-learn in /home/dell/.local/lib/python3.10/site-packages (1.3.0)\n",
      "Requirement already satisfied: numpy>=1.17.3 in /home/dell/.local/lib/python3.10/site-packages (from scikit-learn) (1.25.2)\n",
      "Requirement already satisfied: scipy>=1.5.0 in /home/dell/.local/lib/python3.10/site-packages (from scikit-learn) (1.11.2)\n",
      "Requirement already satisfied: joblib>=1.1.1 in /home/dell/.local/lib/python3.10/site-packages (from scikit-learn) (1.3.2)\n",
      "Requirement already satisfied: threadpoolctl>=2.0.0 in /home/dell/.local/lib/python3.10/site-packages (from scikit-learn) (3.2.0)\n",
      "\u001b[33mDEPRECATION: distro-info 1.1build1 has a non-standard version number. pip 23.3 will enforce this behaviour change. A possible replacement is to upgrade to a newer version of distro-info or contact the author to suggest that they release a version with a conforming version number. Discussion can be found at https://github.com/pypa/pip/issues/12063\u001b[0m\u001b[33m\n",
      "\u001b[0m\u001b[33mDEPRECATION: python-debian 0.1.43ubuntu1 has a non-standard version number. pip 23.3 will enforce this behaviour change. A possible replacement is to upgrade to a newer version of python-debian or contact the author to suggest that they release a version with a conforming version number. Discussion can be found at https://github.com/pypa/pip/issues/12063\u001b[0m\u001b[33m\n",
      "\u001b[0m"
     ]
    }
   ],
   "source": [
    "!pip install scikit-learn"
   ]
  },
  {
   "cell_type": "markdown",
   "id": "65c7a475",
   "metadata": {},
   "source": [
    "Si modelamos la relacion entre volatilidad y riesgo de forma lineal, tenemos la siguiente ecuación:\n",
    "\n",
    "$E[x] = \\theta_0 + \\theta_1 \\sigma $\n",
    "\n",
    "Crea una regresión lineal"
   ]
  },
  {
   "cell_type": "code",
   "execution_count": 9,
   "id": "029c2ecc",
   "metadata": {},
   "outputs": [],
   "source": [
    "# Obten variable dependiente y variable independiente \n",
    "from sklearn import linear_model"
   ]
  },
  {
   "cell_type": "code",
   "execution_count": 10,
   "id": "38074fbe-9f5e-4153-941c-2620f7e009e4",
   "metadata": {},
   "outputs": [],
   "source": [
    "X = df[['volatilidad']]\n",
    "y = df[['rendimiento']]\n",
    "model = linear_model.LinearRegression().fit(X, y)\n",
    "df['prediccion'] = model.predict(X)"
   ]
  },
  {
   "cell_type": "code",
   "execution_count": 11,
   "id": "a6f404f1",
   "metadata": {},
   "outputs": [
    {
     "data": {
      "text/html": [
       "<style>#sk-container-id-1 {color: black;}#sk-container-id-1 pre{padding: 0;}#sk-container-id-1 div.sk-toggleable {background-color: white;}#sk-container-id-1 label.sk-toggleable__label {cursor: pointer;display: block;width: 100%;margin-bottom: 0;padding: 0.3em;box-sizing: border-box;text-align: center;}#sk-container-id-1 label.sk-toggleable__label-arrow:before {content: \"▸\";float: left;margin-right: 0.25em;color: #696969;}#sk-container-id-1 label.sk-toggleable__label-arrow:hover:before {color: black;}#sk-container-id-1 div.sk-estimator:hover label.sk-toggleable__label-arrow:before {color: black;}#sk-container-id-1 div.sk-toggleable__content {max-height: 0;max-width: 0;overflow: hidden;text-align: left;background-color: #f0f8ff;}#sk-container-id-1 div.sk-toggleable__content pre {margin: 0.2em;color: black;border-radius: 0.25em;background-color: #f0f8ff;}#sk-container-id-1 input.sk-toggleable__control:checked~div.sk-toggleable__content {max-height: 200px;max-width: 100%;overflow: auto;}#sk-container-id-1 input.sk-toggleable__control:checked~label.sk-toggleable__label-arrow:before {content: \"▾\";}#sk-container-id-1 div.sk-estimator input.sk-toggleable__control:checked~label.sk-toggleable__label {background-color: #d4ebff;}#sk-container-id-1 div.sk-label input.sk-toggleable__control:checked~label.sk-toggleable__label {background-color: #d4ebff;}#sk-container-id-1 input.sk-hidden--visually {border: 0;clip: rect(1px 1px 1px 1px);clip: rect(1px, 1px, 1px, 1px);height: 1px;margin: -1px;overflow: hidden;padding: 0;position: absolute;width: 1px;}#sk-container-id-1 div.sk-estimator {font-family: monospace;background-color: #f0f8ff;border: 1px dotted black;border-radius: 0.25em;box-sizing: border-box;margin-bottom: 0.5em;}#sk-container-id-1 div.sk-estimator:hover {background-color: #d4ebff;}#sk-container-id-1 div.sk-parallel-item::after {content: \"\";width: 100%;border-bottom: 1px solid gray;flex-grow: 1;}#sk-container-id-1 div.sk-label:hover label.sk-toggleable__label {background-color: #d4ebff;}#sk-container-id-1 div.sk-serial::before {content: \"\";position: absolute;border-left: 1px solid gray;box-sizing: border-box;top: 0;bottom: 0;left: 50%;z-index: 0;}#sk-container-id-1 div.sk-serial {display: flex;flex-direction: column;align-items: center;background-color: white;padding-right: 0.2em;padding-left: 0.2em;position: relative;}#sk-container-id-1 div.sk-item {position: relative;z-index: 1;}#sk-container-id-1 div.sk-parallel {display: flex;align-items: stretch;justify-content: center;background-color: white;position: relative;}#sk-container-id-1 div.sk-item::before, #sk-container-id-1 div.sk-parallel-item::before {content: \"\";position: absolute;border-left: 1px solid gray;box-sizing: border-box;top: 0;bottom: 0;left: 50%;z-index: -1;}#sk-container-id-1 div.sk-parallel-item {display: flex;flex-direction: column;z-index: 1;position: relative;background-color: white;}#sk-container-id-1 div.sk-parallel-item:first-child::after {align-self: flex-end;width: 50%;}#sk-container-id-1 div.sk-parallel-item:last-child::after {align-self: flex-start;width: 50%;}#sk-container-id-1 div.sk-parallel-item:only-child::after {width: 0;}#sk-container-id-1 div.sk-dashed-wrapped {border: 1px dashed gray;margin: 0 0.4em 0.5em 0.4em;box-sizing: border-box;padding-bottom: 0.4em;background-color: white;}#sk-container-id-1 div.sk-label label {font-family: monospace;font-weight: bold;display: inline-block;line-height: 1.2em;}#sk-container-id-1 div.sk-label-container {text-align: center;}#sk-container-id-1 div.sk-container {/* jupyter's `normalize.less` sets `[hidden] { display: none; }` but bootstrap.min.css set `[hidden] { display: none !important; }` so we also need the `!important` here to be able to override the default hidden behavior on the sphinx rendered scikit-learn.org. See: https://github.com/scikit-learn/scikit-learn/issues/21755 */display: inline-block !important;position: relative;}#sk-container-id-1 div.sk-text-repr-fallback {display: none;}</style><div id=\"sk-container-id-1\" class=\"sk-top-container\"><div class=\"sk-text-repr-fallback\"><pre>LinearRegression()</pre><b>In a Jupyter environment, please rerun this cell to show the HTML representation or trust the notebook. <br />On GitHub, the HTML representation is unable to render, please try loading this page with nbviewer.org.</b></div><div class=\"sk-container\" hidden><div class=\"sk-item\"><div class=\"sk-estimator sk-toggleable\"><input class=\"sk-toggleable__control sk-hidden--visually\" id=\"sk-estimator-id-1\" type=\"checkbox\" checked><label for=\"sk-estimator-id-1\" class=\"sk-toggleable__label sk-toggleable__label-arrow\">LinearRegression</label><div class=\"sk-toggleable__content\"><pre>LinearRegression()</pre></div></div></div></div></div>"
      ],
      "text/plain": [
       "LinearRegression()"
      ]
     },
     "execution_count": 11,
     "metadata": {},
     "output_type": "execute_result"
    }
   ],
   "source": [
    "# Entrena el modelo\n",
    "model.fit(X, y)"
   ]
  },
  {
   "cell_type": "code",
   "execution_count": null,
   "id": "059ee332-0c83-4631-9f6d-2c7e38fb600d",
   "metadata": {},
   "outputs": [],
   "source": []
  },
  {
   "cell_type": "code",
   "execution_count": 12,
   "id": "bfd7f943",
   "metadata": {},
   "outputs": [
    {
     "data": {
      "text/plain": [
       "array([-0.09315548])"
      ]
     },
     "execution_count": 12,
     "metadata": {},
     "output_type": "execute_result"
    }
   ],
   "source": [
    "# ¿Cuál es el intercepto?\n",
    "model.intercept_"
   ]
  },
  {
   "cell_type": "code",
   "execution_count": 13,
   "id": "c8d040f1",
   "metadata": {},
   "outputs": [
    {
     "data": {
      "text/plain": [
       "array([[1.12936764]])"
      ]
     },
     "execution_count": 13,
     "metadata": {},
     "output_type": "execute_result"
    }
   ],
   "source": [
    "# ¿Cuál es el coeficiente?\n",
    "model.coef_"
   ]
  },
  {
   "cell_type": "markdown",
   "id": "dbfef4a9",
   "metadata": {},
   "source": [
    "Escriba la ecuación del modelo"
   ]
  },
  {
   "cell_type": "code",
   "execution_count": 14,
   "id": "02b25686",
   "metadata": {},
   "outputs": [],
   "source": [
    "Rendimiento = -0.09 + 1.16 * volatilidad "
   ]
  },
  {
   "cell_type": "markdown",
   "id": "b2193c2e",
   "metadata": {},
   "source": [
    "Grafique el modelo con la gráfica anterior"
   ]
  },
  {
   "cell_type": "code",
   "execution_count": null,
   "id": "50b13559",
   "metadata": {},
   "outputs": [],
   "source": []
  },
  {
   "cell_type": "code",
   "execution_count": null,
   "id": "169f49ea",
   "metadata": {},
   "outputs": [],
   "source": []
  },
  {
   "cell_type": "markdown",
   "id": "9bd9c887",
   "metadata": {},
   "source": [
    "¿A mayor volatilidad, mayor rendimiento esperado?"
   ]
  },
  {
   "cell_type": "markdown",
   "id": "77163eee",
   "metadata": {},
   "source": [
    "### Aplicando la correlación y la covarianza "
   ]
  },
  {
   "cell_type": "code",
   "execution_count": null,
   "id": "07d42b1c",
   "metadata": {},
   "outputs": [],
   "source": []
  },
  {
   "cell_type": "code",
   "execution_count": null,
   "id": "a4dc0484",
   "metadata": {},
   "outputs": [],
   "source": []
  },
  {
   "cell_type": "code",
   "execution_count": null,
   "id": "90396455",
   "metadata": {},
   "outputs": [],
   "source": []
  },
  {
   "cell_type": "code",
   "execution_count": null,
   "id": "777b7065",
   "metadata": {},
   "outputs": [],
   "source": []
  }
 ],
 "metadata": {
  "kernelspec": {
   "display_name": "Python 3 (ipykernel)",
   "language": "python",
   "name": "python3"
  },
  "language_info": {
   "codemirror_mode": {
    "name": "ipython",
    "version": 3
   },
   "file_extension": ".py",
   "mimetype": "text/x-python",
   "name": "python",
   "nbconvert_exporter": "python",
   "pygments_lexer": "ipython3",
   "version": "3.10.12"
  }
 },
 "nbformat": 4,
 "nbformat_minor": 5
}
