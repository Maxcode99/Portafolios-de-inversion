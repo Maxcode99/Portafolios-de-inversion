{
 "cells": [
  {
   "cell_type": "markdown",
   "id": "f4278e52",
   "metadata": {},
   "source": [
    "# Modelos de 1, 3 y 5 factores \n",
    "\n",
    "Fuente :  https://www.pwlcapital.com/wp-content/uploads/2020/12/Five-Factor-Investing-with-ETFs.pdf%20z\n",
    "\n",
    "## 5 factor model\n",
    "\n",
    "$$Stock = \\sum_{t=1} \\frac{E(d_{t+1})}{(1+r)^t}$$\n",
    "\n",
    "\n",
    "*Miller Modigliani Proposition*\n",
    "\n",
    "Los dividendos no importan, en realidad son solo dinero que tiene la empresa. De las ganancias vienen las inversiones en equipo, etc. \n",
    "\n",
    "$$E(d_{t+1}) = E(Profits_{t+1} - dB_{t+1}) $$\n",
    "\n",
    "\n",
    "Juntando todo\n",
    "$$Stock = \\sum_{t=1} \\frac{E(Profits_{t+1} - dB_{t+1})}{(1+r)^t}$$\n",
    "\n",
    "Escalando por el valor en libros:\n",
    "\n",
    "$$\\frac{Stock}{B_t} = \\frac{\\sum_{t=1} \\frac{E(Profits_{t+1} - dB_{t+1})}{(1+r)^t}}{B_t}$$\n",
    "\n",
    "\n",
    "$r$ es lo que imorta\n",
    "\n",
    "\n",
    "1- *Value premium*: 1- Si dejamos todo constante, excepto $r$ y $\\frac{stock}{B_t}$ significa que empresas con precio bajo necesariamente tienen mejor $r$\n",
    "\n",
    "2-  *Profitability premium*: Si dejamos todo constante excepto $Profits_{t+1}$  y $r$ significa que las empresas que ganan más deben tener mejor $r$\n",
    "\n",
    "3- *Investment premium* Si dejamos todo constante excepto $dB_{t+1}$ y $r$ entonces las compañias que gastan menos, tienen un mayor $r$\n"
   ]
  },
  {
   "cell_type": "markdown",
   "id": "1e24afc6",
   "metadata": {},
   "source": [
    "Instalar paquete"
   ]
  },
  {
   "cell_type": "code",
   "execution_count": 3,
   "id": "b790ca43",
   "metadata": {},
   "outputs": [
    {
     "name": "stdout",
     "output_type": "stream",
     "text": [
      "Requirement already satisfied: pandas_datareader in /Users/larissagraciancamacho/opt/anaconda3/lib/python3.9/site-packages (0.10.0)\n",
      "Requirement already satisfied: requests>=2.19.0 in /Users/larissagraciancamacho/opt/anaconda3/lib/python3.9/site-packages (from pandas_datareader) (2.28.1)\n",
      "Requirement already satisfied: lxml in /Users/larissagraciancamacho/opt/anaconda3/lib/python3.9/site-packages (from pandas_datareader) (4.9.1)\n",
      "Requirement already satisfied: pandas>=0.23 in /Users/larissagraciancamacho/opt/anaconda3/lib/python3.9/site-packages (from pandas_datareader) (1.4.4)\n",
      "Requirement already satisfied: python-dateutil>=2.8.1 in /Users/larissagraciancamacho/opt/anaconda3/lib/python3.9/site-packages (from pandas>=0.23->pandas_datareader) (2.8.2)\n",
      "Requirement already satisfied: pytz>=2020.1 in /Users/larissagraciancamacho/opt/anaconda3/lib/python3.9/site-packages (from pandas>=0.23->pandas_datareader) (2023.3)\n",
      "Requirement already satisfied: numpy>=1.18.5 in /Users/larissagraciancamacho/opt/anaconda3/lib/python3.9/site-packages (from pandas>=0.23->pandas_datareader) (1.21.5)\n",
      "Requirement already satisfied: idna<4,>=2.5 in /Users/larissagraciancamacho/opt/anaconda3/lib/python3.9/site-packages (from requests>=2.19.0->pandas_datareader) (3.3)\n",
      "Requirement already satisfied: urllib3<1.27,>=1.21.1 in /Users/larissagraciancamacho/opt/anaconda3/lib/python3.9/site-packages (from requests>=2.19.0->pandas_datareader) (1.26.11)\n",
      "Requirement already satisfied: charset-normalizer<3,>=2 in /Users/larissagraciancamacho/opt/anaconda3/lib/python3.9/site-packages (from requests>=2.19.0->pandas_datareader) (2.0.4)\n",
      "Requirement already satisfied: certifi>=2017.4.17 in /Users/larissagraciancamacho/opt/anaconda3/lib/python3.9/site-packages (from requests>=2.19.0->pandas_datareader) (2022.9.24)\n",
      "Requirement already satisfied: six>=1.5 in /Users/larissagraciancamacho/opt/anaconda3/lib/python3.9/site-packages (from python-dateutil>=2.8.1->pandas>=0.23->pandas_datareader) (1.16.0)\n",
      "Note: you may need to restart the kernel to use updated packages.\n"
     ]
    }
   ],
   "source": [
    "pip install pandas_datareader"
   ]
  },
  {
   "cell_type": "code",
   "execution_count": 19,
   "id": "f7593dac",
   "metadata": {},
   "outputs": [],
   "source": [
    "# Descargar factores\n",
    "\n",
    "import pandas_datareader.data as web\n",
    "import datetime\n",
    "from sklearn.metrics import r2_score\n",
    "import pandas as pd\n",
    "import yfinance as yf\n",
    "import matplotlib.pyplot as plt\n",
    "from sklearn.linear_model import LinearRegression\n",
    "import numpy as np\n",
    "\n",
    "# Definir las fechas de inicio y fin\n",
    "start_date = datetime.datetime(1980, 1, 1)\n",
    "end_date = datetime.datetime(2023, 12, 31)\n",
    "\n",
    "# Descargar los factores Fama-French desde la web de Ken French\n",
    "ff_factors = web.DataReader(\"F-F_Research_Data_5_Factors_2x3\", \"famafrench\", start_date, end_date)\n",
    "\n",
    "# ff_factores.head()"
   ]
  },
  {
   "cell_type": "code",
   "execution_count": 15,
   "id": "7fcdec47",
   "metadata": {},
   "outputs": [
    {
     "data": {
      "text/html": [
       "<div>\n",
       "<style scoped>\n",
       "    .dataframe tbody tr th:only-of-type {\n",
       "        vertical-align: middle;\n",
       "    }\n",
       "\n",
       "    .dataframe tbody tr th {\n",
       "        vertical-align: top;\n",
       "    }\n",
       "\n",
       "    .dataframe thead th {\n",
       "        text-align: right;\n",
       "    }\n",
       "</style>\n",
       "<table border=\"1\" class=\"dataframe\">\n",
       "  <thead>\n",
       "    <tr style=\"text-align: right;\">\n",
       "      <th></th>\n",
       "      <th>Mkt-RF</th>\n",
       "      <th>SMB</th>\n",
       "      <th>HML</th>\n",
       "      <th>RMW</th>\n",
       "      <th>CMA</th>\n",
       "      <th>RF</th>\n",
       "    </tr>\n",
       "    <tr>\n",
       "      <th>Date</th>\n",
       "      <th></th>\n",
       "      <th></th>\n",
       "      <th></th>\n",
       "      <th></th>\n",
       "      <th></th>\n",
       "      <th></th>\n",
       "    </tr>\n",
       "  </thead>\n",
       "  <tbody>\n",
       "    <tr>\n",
       "      <th>1980-01-01</th>\n",
       "      <td>0.0551</td>\n",
       "      <td>0.0183</td>\n",
       "      <td>0.0175</td>\n",
       "      <td>-0.0170</td>\n",
       "      <td>0.0164</td>\n",
       "      <td>0.0080</td>\n",
       "    </tr>\n",
       "    <tr>\n",
       "      <th>1980-02-01</th>\n",
       "      <td>-0.0122</td>\n",
       "      <td>-0.0157</td>\n",
       "      <td>0.0061</td>\n",
       "      <td>0.0004</td>\n",
       "      <td>0.0268</td>\n",
       "      <td>0.0089</td>\n",
       "    </tr>\n",
       "    <tr>\n",
       "      <th>1980-03-01</th>\n",
       "      <td>-0.1290</td>\n",
       "      <td>-0.0693</td>\n",
       "      <td>-0.0101</td>\n",
       "      <td>0.0146</td>\n",
       "      <td>-0.0119</td>\n",
       "      <td>0.0121</td>\n",
       "    </tr>\n",
       "    <tr>\n",
       "      <th>1980-04-01</th>\n",
       "      <td>0.0397</td>\n",
       "      <td>0.0105</td>\n",
       "      <td>0.0106</td>\n",
       "      <td>-0.0210</td>\n",
       "      <td>0.0029</td>\n",
       "      <td>0.0126</td>\n",
       "    </tr>\n",
       "    <tr>\n",
       "      <th>1980-05-01</th>\n",
       "      <td>0.0526</td>\n",
       "      <td>0.0211</td>\n",
       "      <td>0.0038</td>\n",
       "      <td>0.0034</td>\n",
       "      <td>-0.0031</td>\n",
       "      <td>0.0081</td>\n",
       "    </tr>\n",
       "  </tbody>\n",
       "</table>\n",
       "</div>"
      ],
      "text/plain": [
       "            Mkt-RF     SMB     HML     RMW     CMA      RF\n",
       "Date                                                      \n",
       "1980-01-01  0.0551  0.0183  0.0175 -0.0170  0.0164  0.0080\n",
       "1980-02-01 -0.0122 -0.0157  0.0061  0.0004  0.0268  0.0089\n",
       "1980-03-01 -0.1290 -0.0693 -0.0101  0.0146 -0.0119  0.0121\n",
       "1980-04-01  0.0397  0.0105  0.0106 -0.0210  0.0029  0.0126\n",
       "1980-05-01  0.0526  0.0211  0.0038  0.0034 -0.0031  0.0081"
      ]
     },
     "execution_count": 15,
     "metadata": {},
     "output_type": "execute_result"
    }
   ],
   "source": [
    "factors_df = ff_factors[0] / 100\n",
    "factors_df.index = factors_df.index.to_timestamp()\n",
    "factors_df.head()"
   ]
  },
  {
   "cell_type": "code",
   "execution_count": 18,
   "id": "8f9d7774",
   "metadata": {},
   "outputs": [
    {
     "data": {
      "text/plain": [
       "Mkt-RF    0.083853\n",
       "SMB       0.010347\n",
       "HML       0.025028\n",
       "RMW       0.047217\n",
       "CMA       0.031876\n",
       "RF        0.039158\n",
       "dtype: float64"
      ]
     },
     "execution_count": 18,
     "metadata": {},
     "output_type": "execute_result"
    }
   ],
   "source": [
    "factors_df.mean() * 12"
   ]
  },
  {
   "cell_type": "markdown",
   "id": "9420e6ab",
   "metadata": {},
   "source": [
    "Estos son restas de rendimientos, si hubieramos invertido en el 1980 tendriamos el 80% de rendimiento"
   ]
  },
  {
   "cell_type": "code",
   "execution_count": 20,
   "id": "d21c2386",
   "metadata": {},
   "outputs": [
    {
     "data": {
      "text/plain": [
       "0.5916030534351145"
      ]
     },
     "execution_count": 20,
     "metadata": {},
     "output_type": "execute_result"
    }
   ],
   "source": [
    "np.mean(factors_df.RMW > 0)"
   ]
  },
  {
   "cell_type": "code",
   "execution_count": null,
   "id": "ecd57354",
   "metadata": {},
   "outputs": [],
   "source": [
    "# Escalar y transformar factores\n"
   ]
  },
  {
   "cell_type": "code",
   "execution_count": 22,
   "id": "e1ad92b0",
   "metadata": {},
   "outputs": [
    {
     "name": "stdout",
     "output_type": "stream",
     "text": [
      "[*********************100%***********************]  8 of 8 completed\n"
     ]
    }
   ],
   "source": [
    "# Descargar acciones\n",
    "tickers = ['BRK-A', 'SPY', 'VB', 'VGT',\n",
    "          'AAPL', 'AMZN', 'MSFT', 'WMT']\n",
    "stock_data = yf.download(tickers, start_date, end_date, interval='1mo')['Adj Close']\n",
    "rt = stock_data.pct_change().dropna()"
   ]
  },
  {
   "cell_type": "code",
   "execution_count": 31,
   "id": "c06a24ea",
   "metadata": {},
   "outputs": [],
   "source": [
    "# Ejemplo merge\n",
    "df1 = pd.DataFrame({\n",
    "    'user_id': ['A', 'B', 'D'],\n",
    "    'monto': [1000, 2000, 3000]\n",
    "})\n",
    "df2 = pd.DataFrame({\n",
    "    'user_id': ['A','E', 'D', 'Z' ],\n",
    "    'monto': [1000, 1500, 3000, 3000]\n",
    "})"
   ]
  },
  {
   "cell_type": "code",
   "execution_count": 32,
   "id": "5c5f117e",
   "metadata": {},
   "outputs": [
    {
     "data": {
      "text/html": [
       "<div>\n",
       "<style scoped>\n",
       "    .dataframe tbody tr th:only-of-type {\n",
       "        vertical-align: middle;\n",
       "    }\n",
       "\n",
       "    .dataframe tbody tr th {\n",
       "        vertical-align: top;\n",
       "    }\n",
       "\n",
       "    .dataframe thead th {\n",
       "        text-align: right;\n",
       "    }\n",
       "</style>\n",
       "<table border=\"1\" class=\"dataframe\">\n",
       "  <thead>\n",
       "    <tr style=\"text-align: right;\">\n",
       "      <th></th>\n",
       "      <th>user_id</th>\n",
       "      <th>monto</th>\n",
       "    </tr>\n",
       "  </thead>\n",
       "  <tbody>\n",
       "    <tr>\n",
       "      <th>0</th>\n",
       "      <td>A</td>\n",
       "      <td>1000</td>\n",
       "    </tr>\n",
       "    <tr>\n",
       "      <th>1</th>\n",
       "      <td>B</td>\n",
       "      <td>2000</td>\n",
       "    </tr>\n",
       "    <tr>\n",
       "      <th>2</th>\n",
       "      <td>D</td>\n",
       "      <td>3000</td>\n",
       "    </tr>\n",
       "  </tbody>\n",
       "</table>\n",
       "</div>"
      ],
      "text/plain": [
       "  user_id  monto\n",
       "0       A   1000\n",
       "1       B   2000\n",
       "2       D   3000"
      ]
     },
     "execution_count": 32,
     "metadata": {},
     "output_type": "execute_result"
    }
   ],
   "source": [
    "df1"
   ]
  },
  {
   "cell_type": "code",
   "execution_count": 33,
   "id": "8afbc4ac",
   "metadata": {},
   "outputs": [
    {
     "data": {
      "text/html": [
       "<div>\n",
       "<style scoped>\n",
       "    .dataframe tbody tr th:only-of-type {\n",
       "        vertical-align: middle;\n",
       "    }\n",
       "\n",
       "    .dataframe tbody tr th {\n",
       "        vertical-align: top;\n",
       "    }\n",
       "\n",
       "    .dataframe thead th {\n",
       "        text-align: right;\n",
       "    }\n",
       "</style>\n",
       "<table border=\"1\" class=\"dataframe\">\n",
       "  <thead>\n",
       "    <tr style=\"text-align: right;\">\n",
       "      <th></th>\n",
       "      <th>user_id</th>\n",
       "      <th>monto</th>\n",
       "    </tr>\n",
       "  </thead>\n",
       "  <tbody>\n",
       "    <tr>\n",
       "      <th>0</th>\n",
       "      <td>A</td>\n",
       "      <td>1000</td>\n",
       "    </tr>\n",
       "    <tr>\n",
       "      <th>1</th>\n",
       "      <td>E</td>\n",
       "      <td>1500</td>\n",
       "    </tr>\n",
       "    <tr>\n",
       "      <th>2</th>\n",
       "      <td>D</td>\n",
       "      <td>3000</td>\n",
       "    </tr>\n",
       "    <tr>\n",
       "      <th>3</th>\n",
       "      <td>Z</td>\n",
       "      <td>3000</td>\n",
       "    </tr>\n",
       "  </tbody>\n",
       "</table>\n",
       "</div>"
      ],
      "text/plain": [
       "  user_id  monto\n",
       "0       A   1000\n",
       "1       E   1500\n",
       "2       D   3000\n",
       "3       Z   3000"
      ]
     },
     "execution_count": 33,
     "metadata": {},
     "output_type": "execute_result"
    }
   ],
   "source": [
    "df2"
   ]
  },
  {
   "cell_type": "code",
   "execution_count": 36,
   "id": "e8fab2f2",
   "metadata": {},
   "outputs": [
    {
     "data": {
      "text/html": [
       "<div>\n",
       "<style scoped>\n",
       "    .dataframe tbody tr th:only-of-type {\n",
       "        vertical-align: middle;\n",
       "    }\n",
       "\n",
       "    .dataframe tbody tr th {\n",
       "        vertical-align: top;\n",
       "    }\n",
       "\n",
       "    .dataframe thead th {\n",
       "        text-align: right;\n",
       "    }\n",
       "</style>\n",
       "<table border=\"1\" class=\"dataframe\">\n",
       "  <thead>\n",
       "    <tr style=\"text-align: right;\">\n",
       "      <th></th>\n",
       "      <th>user_id</th>\n",
       "      <th>monto_x</th>\n",
       "      <th>monto_y</th>\n",
       "    </tr>\n",
       "  </thead>\n",
       "  <tbody>\n",
       "    <tr>\n",
       "      <th>0</th>\n",
       "      <td>A</td>\n",
       "      <td>1000</td>\n",
       "      <td>1000</td>\n",
       "    </tr>\n",
       "    <tr>\n",
       "      <th>1</th>\n",
       "      <td>D</td>\n",
       "      <td>3000</td>\n",
       "      <td>3000</td>\n",
       "    </tr>\n",
       "  </tbody>\n",
       "</table>\n",
       "</div>"
      ],
      "text/plain": [
       "  user_id  monto_x  monto_y\n",
       "0       A     1000     1000\n",
       "1       D     3000     3000"
      ]
     },
     "execution_count": 36,
     "metadata": {},
     "output_type": "execute_result"
    }
   ],
   "source": [
    " \n",
    "df3 = pd.merge(df1, df2, on='user_id')\n",
    "df3"
   ]
  },
  {
   "cell_type": "code",
   "execution_count": 37,
   "id": "325b9fea",
   "metadata": {},
   "outputs": [
    {
     "data": {
      "text/html": [
       "<div>\n",
       "<style scoped>\n",
       "    .dataframe tbody tr th:only-of-type {\n",
       "        vertical-align: middle;\n",
       "    }\n",
       "\n",
       "    .dataframe tbody tr th {\n",
       "        vertical-align: top;\n",
       "    }\n",
       "\n",
       "    .dataframe thead th {\n",
       "        text-align: right;\n",
       "    }\n",
       "</style>\n",
       "<table border=\"1\" class=\"dataframe\">\n",
       "  <thead>\n",
       "    <tr style=\"text-align: right;\">\n",
       "      <th></th>\n",
       "      <th>AAPL</th>\n",
       "      <th>AMZN</th>\n",
       "      <th>BRK-A</th>\n",
       "      <th>MSFT</th>\n",
       "      <th>SPY</th>\n",
       "      <th>VB</th>\n",
       "      <th>VGT</th>\n",
       "      <th>WMT</th>\n",
       "      <th>Mkt-RF</th>\n",
       "      <th>SMB</th>\n",
       "      <th>HML</th>\n",
       "      <th>RMW</th>\n",
       "      <th>CMA</th>\n",
       "      <th>RF</th>\n",
       "    </tr>\n",
       "    <tr>\n",
       "      <th>Date</th>\n",
       "      <th></th>\n",
       "      <th></th>\n",
       "      <th></th>\n",
       "      <th></th>\n",
       "      <th></th>\n",
       "      <th></th>\n",
       "      <th></th>\n",
       "      <th></th>\n",
       "      <th></th>\n",
       "      <th></th>\n",
       "      <th></th>\n",
       "      <th></th>\n",
       "      <th></th>\n",
       "      <th></th>\n",
       "    </tr>\n",
       "  </thead>\n",
       "  <tbody>\n",
       "    <tr>\n",
       "      <th>2004-03-01</th>\n",
       "      <td>0.130434</td>\n",
       "      <td>0.006278</td>\n",
       "      <td>-0.012698</td>\n",
       "      <td>-0.060309</td>\n",
       "      <td>-0.016693</td>\n",
       "      <td>0.008001</td>\n",
       "      <td>-0.025820</td>\n",
       "      <td>0.002183</td>\n",
       "      <td>-0.0132</td>\n",
       "      <td>0.0210</td>\n",
       "      <td>0.0027</td>\n",
       "      <td>0.0156</td>\n",
       "      <td>-0.0098</td>\n",
       "      <td>0.0009</td>\n",
       "    </tr>\n",
       "    <tr>\n",
       "      <th>2004-04-01</th>\n",
       "      <td>-0.046598</td>\n",
       "      <td>0.007394</td>\n",
       "      <td>0.000965</td>\n",
       "      <td>0.048135</td>\n",
       "      <td>-0.015481</td>\n",
       "      <td>-0.047024</td>\n",
       "      <td>-0.054312</td>\n",
       "      <td>-0.042920</td>\n",
       "      <td>-0.0183</td>\n",
       "      <td>-0.0201</td>\n",
       "      <td>-0.0310</td>\n",
       "      <td>0.0345</td>\n",
       "      <td>-0.0284</td>\n",
       "      <td>0.0008</td>\n",
       "    </tr>\n",
       "    <tr>\n",
       "      <th>2004-05-01</th>\n",
       "      <td>0.088440</td>\n",
       "      <td>0.112385</td>\n",
       "      <td>-0.047007</td>\n",
       "      <td>0.003827</td>\n",
       "      <td>0.017123</td>\n",
       "      <td>0.021029</td>\n",
       "      <td>0.049162</td>\n",
       "      <td>-0.022281</td>\n",
       "      <td>0.0117</td>\n",
       "      <td>-0.0038</td>\n",
       "      <td>-0.0025</td>\n",
       "      <td>-0.0118</td>\n",
       "      <td>0.0003</td>\n",
       "      <td>0.0006</td>\n",
       "    </tr>\n",
       "    <tr>\n",
       "      <th>2004-06-01</th>\n",
       "      <td>0.159658</td>\n",
       "      <td>0.121650</td>\n",
       "      <td>-0.000562</td>\n",
       "      <td>0.088829</td>\n",
       "      <td>0.014797</td>\n",
       "      <td>0.037724</td>\n",
       "      <td>0.020144</td>\n",
       "      <td>-0.055734</td>\n",
       "      <td>0.0186</td>\n",
       "      <td>0.0256</td>\n",
       "      <td>0.0118</td>\n",
       "      <td>0.0120</td>\n",
       "      <td>-0.0039</td>\n",
       "      <td>0.0008</td>\n",
       "    </tr>\n",
       "    <tr>\n",
       "      <th>2004-07-01</th>\n",
       "      <td>-0.006145</td>\n",
       "      <td>-0.284559</td>\n",
       "      <td>-0.019112</td>\n",
       "      <td>-0.002451</td>\n",
       "      <td>-0.028686</td>\n",
       "      <td>-0.061112</td>\n",
       "      <td>-0.084782</td>\n",
       "      <td>0.009714</td>\n",
       "      <td>-0.0406</td>\n",
       "      <td>-0.0295</td>\n",
       "      <td>0.0324</td>\n",
       "      <td>0.0532</td>\n",
       "      <td>-0.0166</td>\n",
       "      <td>0.0010</td>\n",
       "    </tr>\n",
       "  </tbody>\n",
       "</table>\n",
       "</div>"
      ],
      "text/plain": [
       "                AAPL      AMZN     BRK-A      MSFT       SPY        VB  \\\n",
       "Date                                                                     \n",
       "2004-03-01  0.130434  0.006278 -0.012698 -0.060309 -0.016693  0.008001   \n",
       "2004-04-01 -0.046598  0.007394  0.000965  0.048135 -0.015481 -0.047024   \n",
       "2004-05-01  0.088440  0.112385 -0.047007  0.003827  0.017123  0.021029   \n",
       "2004-06-01  0.159658  0.121650 -0.000562  0.088829  0.014797  0.037724   \n",
       "2004-07-01 -0.006145 -0.284559 -0.019112 -0.002451 -0.028686 -0.061112   \n",
       "\n",
       "                 VGT       WMT  Mkt-RF     SMB     HML     RMW     CMA      RF  \n",
       "Date                                                                            \n",
       "2004-03-01 -0.025820  0.002183 -0.0132  0.0210  0.0027  0.0156 -0.0098  0.0009  \n",
       "2004-04-01 -0.054312 -0.042920 -0.0183 -0.0201 -0.0310  0.0345 -0.0284  0.0008  \n",
       "2004-05-01  0.049162 -0.022281  0.0117 -0.0038 -0.0025 -0.0118  0.0003  0.0006  \n",
       "2004-06-01  0.020144 -0.055734  0.0186  0.0256  0.0118  0.0120 -0.0039  0.0008  \n",
       "2004-07-01 -0.084782  0.009714 -0.0406 -0.0295  0.0324  0.0532 -0.0166  0.0010  "
      ]
     },
     "execution_count": 37,
     "metadata": {},
     "output_type": "execute_result"
    }
   ],
   "source": [
    "# Juntar datos\n",
    "df = pd.merge(rt, factors_df, on='Date')\n",
    "df.head()"
   ]
  },
  {
   "cell_type": "markdown",
   "id": "1670fb21",
   "metadata": {},
   "source": [
    "### Crea el CAPM con el S&P500, ¿Qué concluyes?\n",
    "\n",
    "\n"
   ]
  },
  {
   "cell_type": "code",
   "execution_count": 49,
   "id": "bf349807",
   "metadata": {},
   "outputs": [
    {
     "data": {
      "text/plain": [
       "0.9794430960404742"
      ]
     },
     "execution_count": 49,
     "metadata": {},
     "output_type": "execute_result"
    }
   ],
   "source": [
    "spy_f = df.copy()\n",
    "spy_f['spy_minus_rf'] = spy_f['SPY'] - spy_f['RF']\n",
    "\n",
    "X = spy_f[['Mkt-RF']]\n",
    "y = spy_f[['spy_minus_rf']]\n",
    "\n",
    "model = LinearRegression().fit(X,y)\n",
    "predictions = model.predict(X)\n",
    "r2_score(y_pred=predictions, y_true=y)"
   ]
  },
  {
   "cell_type": "code",
   "execution_count": 53,
   "id": "9d77a395",
   "metadata": {},
   "outputs": [
    {
     "data": {
      "text/plain": [
       "array([[-0.01277648],\n",
       "       [-0.01773022],\n",
       "       [ 0.01140944],\n",
       "       [ 0.01811156],\n",
       "       [-0.0393907 ],\n",
       "       [ 0.00082203],\n",
       "       [ 0.01558613],\n",
       "       [ 0.01393488],\n",
       "       [ 0.04414299],\n",
       "       [ 0.03336132],\n",
       "       [-0.02676352],\n",
       "       [ 0.01840296],\n",
       "       [-0.01909007],\n",
       "       [-0.02530653],\n",
       "       [ 0.03549823],\n",
       "       [ 0.00558151],\n",
       "       [ 0.0381208 ],\n",
       "       [-0.01180516],\n",
       "       [ 0.00480445],\n",
       "       [-0.01957573],\n",
       "       [ 0.0351097 ],\n",
       "       [-0.00238333],\n",
       "       [ 0.02957316],\n",
       "       [-0.00286899],\n",
       "       [ 0.01422628],\n",
       "       [ 0.00713562],\n",
       "       [-0.03463122],\n",
       "       [-0.00335465],\n",
       "       [-0.00753134],\n",
       "       [ 0.01976281],\n",
       "       [ 0.0179173 ],\n",
       "       [ 0.03141868],\n",
       "       [ 0.01665458],\n",
       "       [ 0.00849548],\n",
       "       [ 0.01364348],\n",
       "       [-0.01899294],\n",
       "       [ 0.00664996],\n",
       "       [ 0.03394411],\n",
       "       [ 0.03151581],\n",
       "       [-0.01899294],\n",
       "       [-0.03618534],\n",
       "       [ 0.00898114],\n",
       "       [ 0.03132154],\n",
       "       [ 0.01752877],\n",
       "       [-0.04686988],\n",
       "       [-0.00840553],\n",
       "       [-0.06173111],\n",
       "       [-0.02996888],\n",
       "       [-0.00898832],\n",
       "       [ 0.04472579],\n",
       "       [ 0.01811156],\n",
       "       [-0.08193461],\n",
       "       [-0.00743421],\n",
       "       [ 0.0149062 ],\n",
       "       [-0.08970518],\n",
       "       [-0.16731382],\n",
       "       [-0.07630094],\n",
       "       [ 0.01694598],\n",
       "       [-0.07882638],\n",
       "       [-0.09805855],\n",
       "       [ 0.0869783 ],\n",
       "       [ 0.09892556],\n",
       "       [ 0.05065085],\n",
       "       [ 0.00422166],\n",
       "       [ 0.07503104],\n",
       "       [ 0.03239   ],\n",
       "       [ 0.03967491],\n",
       "       [-0.02511227],\n",
       "       [ 0.05405048],\n",
       "       [ 0.02675633],\n",
       "       [-0.03259145],\n",
       "       [ 0.03306992],\n",
       "       [ 0.06133539],\n",
       "       [ 0.01947141],\n",
       "       [-0.07659234],\n",
       "       [-0.05405766],\n",
       "       [ 0.06735759],\n",
       "       [-0.04628709],\n",
       "       [ 0.0927091 ],\n",
       "       [ 0.03773227],\n",
       "       [ 0.00587291],\n",
       "       [ 0.06628914],\n",
       "       [ 0.01937428],\n",
       "       [ 0.03394411],\n",
       "       [ 0.00451305],\n",
       "       [ 0.02821331],\n",
       "       [-0.01229082],\n",
       "       [-0.01695316],\n",
       "       [-0.02278109],\n",
       "       [-0.05813722],\n",
       "       [-0.07367837],\n",
       "       [ 0.11029003],\n",
       "       [-0.00267473],\n",
       "       [ 0.00723276],\n",
       "       [ 0.04909674],\n",
       "       [ 0.04297741],\n",
       "       [ 0.03025309],\n",
       "       [-0.00821126],\n",
       "       [-0.06007986],\n",
       "       [ 0.0378294 ],\n",
       "       [ 0.00771842],\n",
       "       [ 0.02481369],\n",
       "       [ 0.02656207],\n",
       "       [-0.01705029],\n",
       "       [ 0.00762129],\n",
       "       [ 0.01150657],\n",
       "       [ 0.05414761],\n",
       "       [ 0.01257503],\n",
       "       [ 0.03918925],\n",
       "       [ 0.01510047],\n",
       "       [ 0.02724199],\n",
       "       [-0.01161089],\n",
       "       [ 0.05492467],\n",
       "       [-0.02627785],\n",
       "       [ 0.03666381],\n",
       "       [ 0.04064624],\n",
       "       [ 0.03044735],\n",
       "       [ 0.02733912],\n",
       "       [-0.03220292],\n",
       "       [ 0.04521145],\n",
       "       [ 0.00422166],\n",
       "       [-0.00180054],\n",
       "       [ 0.02005421],\n",
       "       [ 0.02539648],\n",
       "       [-0.01977   ],\n",
       "       [ 0.04122903],\n",
       "       [-0.01909007],\n",
       "       [ 0.02452229],\n",
       "       [ 0.02481369],\n",
       "       [-0.00053782],\n",
       "       [-0.03016314],\n",
       "       [ 0.05958702],\n",
       "       [-0.01083383],\n",
       "       [ 0.00577577],\n",
       "       [ 0.01325495],\n",
       "       [-0.01481625],\n",
       "       [ 0.01500333],\n",
       "       [-0.05862288],\n",
       "       [-0.02977461],\n",
       "       [ 0.07532243],\n",
       "       [ 0.00548438],\n",
       "       [-0.02103272],\n",
       "       [-0.05600031],\n",
       "       [-0.00063495],\n",
       "       [ 0.06764899],\n",
       "       [ 0.008884  ],\n",
       "       [ 0.01733451],\n",
       "       [-0.00044069],\n",
       "       [ 0.03841219],\n",
       "       [ 0.00480445],\n",
       "       [ 0.00247328],\n",
       "       [-0.01957573],\n",
       "       [ 0.04725123],\n",
       "       [ 0.0176259 ],\n",
       "       [ 0.01888862],\n",
       "       [ 0.03472117],\n",
       "       [ 0.00169622],\n",
       "       [ 0.01063238],\n",
       "       [ 0.01034099],\n",
       "       [ 0.00762129],\n",
       "       [ 0.0182087 ],\n",
       "       [ 0.00159909],\n",
       "       [ 0.02442516],\n",
       "       [ 0.02189972],\n",
       "       [ 0.03035022],\n",
       "       [ 0.01034099],\n",
       "       [ 0.05414761],\n",
       "       [-0.03540828],\n",
       "       [-0.02278109],\n",
       "       [ 0.00276468],\n",
       "       [ 0.02578501],\n",
       "       [ 0.00470732],\n",
       "       [ 0.03103015],\n",
       "       [ 0.03345845],\n",
       "       [ 0.00062777],\n",
       "       [-0.07455256],\n",
       "       [ 0.01646032],\n",
       "       [-0.09291055],\n",
       "       [ 0.08163603],\n",
       "       [ 0.03306992],\n",
       "       [ 0.01072952],\n",
       "       [ 0.03860646],\n",
       "       [-0.06736478],\n",
       "       [ 0.06735759],\n",
       "       [ 0.01160371],\n",
       "       [-0.02501514],\n",
       "       [ 0.01393488],\n",
       "       [ 0.02005421],\n",
       "       [ 0.03763514],\n",
       "       [ 0.02695059],\n",
       "       [-0.00102348],\n",
       "       [-0.07892351],\n",
       "       [-0.13001505],\n",
       "       [ 0.13263043],\n",
       "       [ 0.05424474],\n",
       "       [ 0.0239395 ],\n",
       "       [ 0.05609026],\n",
       "       [ 0.07415685],\n",
       "       [-0.03521402],\n",
       "       [-0.02035279],\n",
       "       [ 0.12116883],\n",
       "       [ 0.04501718],\n",
       "       [-0.00024642],\n",
       "       [ 0.02704773],\n",
       "       [ 0.02996169],\n",
       "       [ 0.04793115],\n",
       "       [ 0.00286181],\n",
       "       [ 0.02675633],\n",
       "       [ 0.01238076],\n",
       "       [ 0.02831045],\n",
       "       [-0.0424018 ],\n",
       "       [ 0.06463789],\n",
       "       [-0.01501052],\n",
       "       [ 0.03015596],\n",
       "       [-0.06066265],\n",
       "       [-0.0221983 ],\n",
       "       [ 0.0296703 ],\n",
       "       [-0.09184209],\n",
       "       [-0.00325752],\n",
       "       [-0.08183748],\n",
       "       [ 0.09300049],\n",
       "       [-0.03657387],\n",
       "       [-0.09077364],\n",
       "       [ 0.07609949],\n",
       "       [ 0.04472579],\n",
       "       [-0.06221677],\n",
       "       [ 0.06463789],\n",
       "       [-0.02501514],\n",
       "       [ 0.02442516],\n",
       "       [ 0.00597004],\n",
       "       [ 0.0034446 ],\n",
       "       [ 0.06279238],\n",
       "       [ 0.03122441],\n",
       "       [-0.02316962]])"
      ]
     },
     "execution_count": 53,
     "metadata": {},
     "output_type": "execute_result"
    }
   ],
   "source": [
    "predictions"
   ]
  },
  {
   "cell_type": "code",
   "execution_count": null,
   "id": "a19ad1b9",
   "metadata": {},
   "outputs": [],
   "source": []
  },
  {
   "cell_type": "markdown",
   "id": "81b8720c",
   "metadata": {},
   "source": [
    "# Ahora con Berkshiere"
   ]
  },
  {
   "cell_type": "code",
   "execution_count": 47,
   "id": "4d117dc1",
   "metadata": {},
   "outputs": [
    {
     "data": {
      "text/plain": [
       "0.35507832163244357"
      ]
     },
     "execution_count": 47,
     "metadata": {},
     "output_type": "execute_result"
    }
   ],
   "source": [
    "# Accion minus RF \n",
    "brk_f = df.copy()\n",
    "brk_f['brk_minus_rf'] = brk_f['BRK-A'] - brk_f['RF']\n",
    "\n",
    "X = brk_f[['Mkt-RF']]\n",
    "y = brk_f[['brk_minus_rf']]\n",
    "\n",
    "model = LinearRegression().fit(X,y)\n",
    "predictions = model.predict(X)\n",
    "r2_score(y_pred=predictions, y_true=y)"
   ]
  },
  {
   "cell_type": "code",
   "execution_count": 59,
   "id": "094eaa55",
   "metadata": {},
   "outputs": [],
   "source": [
    "# CAPM\n",
    "\n",
    "\n",
    "# Calcular R2"
   ]
  },
  {
   "cell_type": "code",
   "execution_count": 61,
   "id": "bb10fe2d",
   "metadata": {},
   "outputs": [
    {
     "data": {
      "text/plain": [
       "[<matplotlib.lines.Line2D at 0x7f7eabd80070>]"
      ]
     },
     "execution_count": 61,
     "metadata": {},
     "output_type": "execute_result"
    },
    {
     "data": {
      "image/png": "[encoded data removed]",
      "text/plain": [
       "<Figure size 640x480 with 1 Axes>"
      ]
     },
     "metadata": {},
     "output_type": "display_data"
    }
   ],
   "source": [
    "# Plot CAPM \n",
    "plt.scatter(X['Mkt-RF'], y)\n",
    "plt.plot(X['preds'], predictions, 'red')"
   ]
  },
  {
   "cell_type": "markdown",
   "id": "93eaf3d3",
   "metadata": {},
   "source": [
    "## Fama french con Berkshiere"
   ]
  },
  {
   "cell_type": "markdown",
   "id": "ea6be505",
   "metadata": {},
   "source": [
    "Este es el bueno $\\downarrow$"
   ]
  },
  {
   "cell_type": "code",
   "execution_count": 62,
   "id": "0211303b",
   "metadata": {},
   "outputs": [
    {
     "data": {
      "text/plain": [
       "0.44050712135492487"
      ]
     },
     "execution_count": 62,
     "metadata": {},
     "output_type": "execute_result"
    }
   ],
   "source": [
    "brk_f = df.copy()\n",
    "brk_f['brk_minus_rf'] = brk_f['BRK-A'] - brk_f['RF']\n",
    "\n",
    "X = brk_f[['Mkt-RF', 'SMB', 'HML']]\n",
    "y = brk_f[['brk_minus_rf']]\n",
    "\n",
    "model = LinearRegression().fit(X,y)\n",
    "predictions = model.predict(X)\n",
    "r2_score(y_pred=predictions, y_true=y)\n"
   ]
  },
  {
   "cell_type": "markdown",
   "id": "0e28a876",
   "metadata": {},
   "source": [
    "# 5 factor model con Berkshiere"
   ]
  },
  {
   "cell_type": "code",
   "execution_count": 64,
   "id": "c5eb6dfb",
   "metadata": {},
   "outputs": [
    {
     "data": {
      "text/plain": [
       "Index(['AAPL', 'AMZN', 'BRK-A', 'MSFT', 'SPY', 'VB', 'VGT', 'WMT', 'Mkt-RF',\n",
       "       'SMB', 'HML', 'RMW', 'CMA', 'RF'],\n",
       "      dtype='object')"
      ]
     },
     "execution_count": 64,
     "metadata": {},
     "output_type": "execute_result"
    }
   ],
   "source": [
    "df.keys()"
   ]
  },
  {
   "cell_type": "code",
   "execution_count": 63,
   "id": "cc45dbb0",
   "metadata": {},
   "outputs": [
    {
     "data": {
      "text/plain": [
       "0.44143963514647044"
      ]
     },
     "execution_count": 63,
     "metadata": {},
     "output_type": "execute_result"
    }
   ],
   "source": [
    "# 5 factor model\n",
    "brk_f = df.copy()\n",
    "brk_f['brk_minus_rf'] = brk_f['BRK-A'] - brk_f['RF']\n",
    "\n",
    "X = brk_f[['Mkt-RF', 'SMB', 'HML', 'CMA', 'RMW']]\n",
    "y = brk_f[['brk_minus_rf']]\n",
    "\n",
    "model = LinearRegression().fit(X,y)\n",
    "predictions = model.predict(X)\n",
    "r2_score(y_pred=predictions, y_true=y)\n",
    "\n"
   ]
  },
  {
   "cell_type": "code",
   "execution_count": 66,
   "id": "d00f41ad",
   "metadata": {},
   "outputs": [],
   "source": [
    "# Correr todos los modelos\n",
    "def run_all_models(data, ticker):\n",
    "    flag_data = data.copy()\n",
    "    flag_data[ticker + '_minus_RF'] = data[ticker] - data['RF']\n",
    "    y = flag_data[[ticker + '_minus_RF']] \n",
    "\n",
    "    # CAPM \n",
    "    X_capm = flag_data[['Mkt-RF']]\n",
    "    model_capm = LinearRegression().fit(X_capm, y)\n",
    "    prediction_capm = model_capm.predict(X_capm)\n",
    "    r2_capm = r2_score(y_pred=prediction_capm, y_true=y)\n",
    "    summary_capm = {str(X_capm.keys().values): list(model_capm.coef_[0])}\n",
    "\n",
    "    # 3 factor model \n",
    "    X_3factor = flag_data[['Mkt-RF', 'SMB', 'HML']]\n",
    "    model_3factor = LinearRegression().fit(X_3factor, y)\n",
    "    prediction_3factor = model_3factor.predict(X_3factor)\n",
    "    r2_3factor = r2_score(y_pred=prediction_3factor, y_true=y)\n",
    "    summary_3factor = {str(X_3factor.keys().values): list(model_3factor.coef_[0])}\n",
    "    \n",
    "    \n",
    "    # 5 factor\n",
    "    X_5factor = flag_data[['Mkt-RF', 'SMB', 'HML', 'RMW', 'CMA']]\n",
    "    model_5factor = LinearRegression().fit(X_5factor, y)\n",
    "    prediction_5factor = model_5factor.predict(X_5factor)\n",
    "    r2_5factor = r2_score(y_pred=prediction_5factor, y_true=y)\n",
    "    summary_5factor = {str(X_5factor.keys().values): list(model_5factor.coef_[0])}\n",
    "    \n",
    "    summary = {\n",
    "        'CAPM': {'BETAS': summary_capm, 'R2': r2_capm},\n",
    "        '3 factor': {'BETAS': summary_3factor, 'R2': r2_3factor},\n",
    "        '5 factor': {'BETAS': summary_5factor, 'R2': r2_5factor}\n",
    "\n",
    "    }\n",
    "    return summary\n"
   ]
  },
  {
   "cell_type": "code",
   "execution_count": 67,
   "id": "c6156784",
   "metadata": {},
   "outputs": [
    {
     "data": {
      "text/plain": [
       "{'CAPM': {'BETAS': {\"['Mkt-RF']\": [1.220683803946305]},\n",
       "  'R2': 0.2572202565068963},\n",
       " '3 factor': {'BETAS': {\"['Mkt-RF' 'SMB' 'HML']\": [1.3492741812514422,\n",
       "    0.013170724476087026,\n",
       "    -1.221057534197914]},\n",
       "  'R2': 0.38671981754956797},\n",
       " '5 factor': {'BETAS': {\"['Mkt-RF' 'SMB' 'HML' 'RMW' 'CMA']\": [1.2959775241703213,\n",
       "    -0.11994268075022402,\n",
       "    -0.9723496421507536,\n",
       "    -0.3297518771196558,\n",
       "    -0.571662914053299]},\n",
       "  'R2': 0.39612186474508215}}"
      ]
     },
     "execution_count": 67,
     "metadata": {},
     "output_type": "execute_result"
    }
   ],
   "source": [
    "# Como es con CAPM\n",
    "run_all_models(df, 'AMZN')"
   ]
  },
  {
   "cell_type": "code",
   "execution_count": 68,
   "id": "6e7183c7",
   "metadata": {},
   "outputs": [
    {
     "data": {
      "text/plain": [
       "{'BETAS': {\"['Mkt-RF' 'SMB' 'HML']\": [1.3492741812514422,\n",
       "   0.013170724476087026,\n",
       "   -1.221057534197914]},\n",
       " 'R2': 0.38671981754956797}"
      ]
     },
     "execution_count": 68,
     "metadata": {},
     "output_type": "execute_result"
    }
   ],
   "source": [
    "# Como es con 3 factors\n",
    "run_all_models(df, 'AMZN')['3 factor']"
   ]
  },
  {
   "cell_type": "code",
   "execution_count": 69,
   "id": "14415e91",
   "metadata": {},
   "outputs": [
    {
     "data": {
      "text/plain": [
       "{'BETAS': {\"['Mkt-RF' 'SMB' 'HML' 'RMW' 'CMA']\": [1.2959775241703213,\n",
       "   -0.11994268075022402,\n",
       "   -0.9723496421507536,\n",
       "   -0.3297518771196558,\n",
       "   -0.571662914053299]},\n",
       " 'R2': 0.39612186474508215}"
      ]
     },
     "execution_count": 69,
     "metadata": {},
     "output_type": "execute_result"
    }
   ],
   "source": [
    "# Como es con 5 factors\n",
    "run_all_models(df, 'AMZN')['5 factor']"
   ]
  },
  {
   "cell_type": "markdown",
   "id": "d509f502",
   "metadata": {},
   "source": [
    "## Crea un portafolio con 50% apple y 50% amazon\n",
    "¿Qué concluyes?"
   ]
  },
  {
   "cell_type": "code",
   "execution_count": 76,
   "id": "47881566",
   "metadata": {},
   "outputs": [
    {
     "data": {
      "text/plain": [
       "{'BETAS': {\"['Mkt-RF' 'SMB' 'HML' 'RMW' 'CMA']\": [1.2975870469320332,\n",
       "   -0.119102695081022,\n",
       "   -0.7196262574698715,\n",
       "   0.1227548763384915,\n",
       "   -0.521043448089101]},\n",
       " 'R2': 0.5466869671392538}"
      ]
     },
     "execution_count": 76,
     "metadata": {},
     "output_type": "execute_result"
    }
   ],
   "source": [
    "df['apple_amazon'] = 0.5*df['AAPL'] + 0.5*df['AMZN']\n",
    "\n",
    "run_all_models(df, 'apple_amazon')['5 factor']"
   ]
  },
  {
   "cell_type": "markdown",
   "id": "8b3f2d1a",
   "metadata": {},
   "source": [
    "## Crea un portafolio con (1/3) apple, (1/3) amazon 6(1/3) microsoft\n",
    "¿Qué concluyes?\n"
   ]
  },
  {
   "cell_type": "code",
   "execution_count": 75,
   "id": "61634be4",
   "metadata": {},
   "outputs": [
    {
     "data": {
      "text/plain": [
       "{'CAPM': {'BETAS': {\"['Mkt-RF']\": [1.1174481728888543]},\n",
       "  'R2': 0.5059470095691505},\n",
       " '3 factor': {'BETAS': {\"['Mkt-RF' 'SMB' 'HML']\": [1.2524513475420533,\n",
       "    -0.27372028344728894,\n",
       "    -0.6844687110987218]},\n",
       "  'R2': 0.6252348868277919},\n",
       " '5 factor': {'BETAS': {\"['Mkt-RF' 'SMB' 'HML' 'RMW' 'CMA']\": [1.2182319298812425,\n",
       "    -0.2822797967025907,\n",
       "    -0.5222116952619037,\n",
       "    0.06782967500304883,\n",
       "    -0.4361537595598877]},\n",
       "  'R2': 0.634366187861781}}"
      ]
     },
     "execution_count": 75,
     "metadata": {},
     "output_type": "execute_result"
    }
   ],
   "source": [
    "df['apple_amazon_microsoft'] = (1/3)*df['AAPL'] + (1/3)*df['AMZN'] + (1/3)*df['MSFT']\n",
    "\n",
    "run_all_models(df, 'apple_amazon_microsoft')"
   ]
  },
  {
   "cell_type": "markdown",
   "id": "3a22d86b",
   "metadata": {},
   "source": [
    "## Crea un portafolio con (1/4) apple, (1/4) amazon, (1/4) microsoft, (1/4) Walmart\n",
    "¿Qué concluyes?\n"
   ]
  },
  {
   "cell_type": "code",
   "execution_count": 78,
   "id": "e2d607ad",
   "metadata": {},
   "outputs": [
    {
     "data": {
      "text/plain": [
       "{'CAPM': {'BETAS': {\"['Mkt-RF']\": [0.9316158724442107]},\n",
       "  'R2': 0.541362239268449},\n",
       " '3 factor': {'BETAS': {\"['Mkt-RF' 'SMB' 'HML']\": [1.0612294489738874,\n",
       "    -0.3318762983062421,\n",
       "    -0.5135978399990202]},\n",
       "  'R2': 0.6647085032707427},\n",
       " '5 factor': {'BETAS': {\"['Mkt-RF' 'SMB' 'HML' 'RMW' 'CMA']\": [1.04678877224924,\n",
       "    -0.304418495029195,\n",
       "    -0.4440856222234327,\n",
       "    0.14156063636981855,\n",
       "    -0.21197981741711763]},\n",
       "  'R2': 0.6697415774341724}}"
      ]
     },
     "execution_count": 78,
     "metadata": {},
     "output_type": "execute_result"
    }
   ],
   "source": [
    "df['apple_amazon_microsoft_wmt'] = (1/4)*df['AAPL'] + (1/4)*df['AMZN'] + (1/4)*df['MSFT'] + (1/4)*df['WMT']\n",
    "\n",
    "run_all_models(df, 'apple_amazon_microsoft_wmt')"
   ]
  },
  {
   "cell_type": "code",
   "execution_count": 79,
   "id": "7f301373",
   "metadata": {},
   "outputs": [
    {
     "data": {
      "text/plain": [
       "{'CAPM': {'BETAS': {\"['Mkt-RF']\": [1.1319540850866452]},\n",
       "  'R2': 0.8248196367345543},\n",
       " '3 factor': {'BETAS': {\"['Mkt-RF' 'SMB' 'HML']\": [1.1783775055411767,\n",
       "    -0.019058862379583014,\n",
       "    -0.3913420616684876]},\n",
       "  'R2': 0.8756242444627612},\n",
       " '5 factor': {'BETAS': {\"['Mkt-RF' 'SMB' 'HML' 'RMW' 'CMA']\": [1.167327994898082,\n",
       "    -0.04203035466612651,\n",
       "    -0.3396249779097483,\n",
       "    -0.05155047023394432,\n",
       "    -0.12267468139911887]},\n",
       "  'R2': 0.8770090748110764}}"
      ]
     },
     "execution_count": 79,
     "metadata": {},
     "output_type": "execute_result"
    }
   ],
   "source": [
    "run_all_models(df, 'VGT')"
   ]
  },
  {
   "cell_type": "code",
   "execution_count": 80,
   "id": "c79704b5",
   "metadata": {},
   "outputs": [
    {
     "data": {
      "text/plain": [
       "{'CAPM': {'BETAS': {\"['Mkt-RF']\": [1.1851298366836882]},\n",
       "  'R2': 0.8921476392065555},\n",
       " '3 factor': {'BETAS': {\"['Mkt-RF' 'SMB' 'HML']\": [1.038466989187021,\n",
       "    0.6251046591564107,\n",
       "    0.06257815442948292]},\n",
       "  'R2': 0.9690168493579645},\n",
       " '5 factor': {'BETAS': {\"['Mkt-RF' 'SMB' 'HML' 'RMW' 'CMA']\": [1.0318840767683357,\n",
       "    0.6121898693807271,\n",
       "    0.09341517208309441,\n",
       "    -0.027910099684744255,\n",
       "    -0.07377801118229835]},\n",
       "  'R2': 0.9694934271284718}}"
      ]
     },
     "execution_count": 80,
     "metadata": {},
     "output_type": "execute_result"
    }
   ],
   "source": [
    "# empresas chicas\n",
    "run_all_models(df, 'VB')"
   ]
  },
  {
   "cell_type": "code",
   "execution_count": null,
   "id": "c8fb07b4",
   "metadata": {},
   "outputs": [],
   "source": []
  }
 ],
 "metadata": {
  "kernelspec": {
   "display_name": "Python 3 (ipykernel)",
   "language": "python",
   "name": "python3"
  },
  "language_info": {
   "codemirror_mode": {
    "name": "ipython",
    "version": 3
   },
   "file_extension": ".py",
   "mimetype": "text/x-python",
   "name": "python",
   "nbconvert_exporter": "python",
   "pygments_lexer": "ipython3",
   "version": "3.9.13"
  }
 },
 "nbformat": 4,
 "nbformat_minor": 5
}
