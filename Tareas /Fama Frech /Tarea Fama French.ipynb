{
 "cells": [
  {
   "cell_type": "code",
   "execution_count": null,
   "id": "9d793ef2",
   "metadata": {},
   "outputs": [],
   "source": [
    "# Escoge 15 acciones del S&P 500 que esten listadas desde el 2015\n",
    "# Simula con 5,000 portafolios\n",
    "# Escoge el que tiene más ratio de sharpe\n",
    "# Crea 3 modelos, CAPM, 3 factores y 5 factores\n",
    "# Obten coeficientes y R2\n",
    "# Explica los resultados "
   ]
  },
  {
   "cell_type": "code",
   "execution_count": null,
   "id": "5d8a9e8f-cf36-4552-afb5-6122df5b038d",
   "metadata": {},
   "outputs": [],
   "source": []
  },
  {
   "cell_type": "code",
   "execution_count": null,
   "id": "9328ab44-98e4-4d2f-9903-ea8abecd44a7",
   "metadata": {},
   "outputs": [],
   "source": []
  },
  {
   "cell_type": "code",
   "execution_count": null,
   "id": "40b447df-d22f-435f-9d4c-de757560e01f",
   "metadata": {},
   "outputs": [],
   "source": []
  },
  {
   "cell_type": "code",
   "execution_count": null,
   "id": "7c957ee2-e433-4ef7-854d-79e65fc71614",
   "metadata": {},
   "outputs": [],
   "source": []
  },
  {
   "cell_type": "code",
   "execution_count": null,
   "id": "898c98fa-3def-4e67-8a4f-47f0ba09a986",
   "metadata": {},
   "outputs": [],
   "source": []
  },
  {
   "cell_type": "code",
   "execution_count": null,
   "id": "f87b2120-c710-4be8-b8c2-b07aad4e3f6a",
   "metadata": {},
   "outputs": [],
   "source": []
  },
  {
   "cell_type": "code",
   "execution_count": null,
   "id": "c9726bcd-8395-4c2c-aa0b-c9096f09b7bf",
   "metadata": {},
   "outputs": [],
   "source": []
  },
  {
   "cell_type": "code",
   "execution_count": null,
   "id": "be6e3070-ff6b-46ab-bcfc-97711de065ea",
   "metadata": {},
   "outputs": [],
   "source": []
  },
  {
   "cell_type": "code",
   "execution_count": null,
   "id": "f21eda4c-81ca-41ec-a02f-9b3d9c596d1c",
   "metadata": {},
   "outputs": [],
   "source": []
  },
  {
   "cell_type": "code",
   "execution_count": null,
   "id": "a3e14e3f-afea-4a61-a731-5eef1752c819",
   "metadata": {},
   "outputs": [],
   "source": []
  },
  {
   "cell_type": "code",
   "execution_count": null,
   "id": "90656127-a492-45a5-a744-ea96b8c00b8d",
   "metadata": {},
   "outputs": [],
   "source": []
  },
  {
   "cell_type": "code",
   "execution_count": null,
   "id": "b005a84b-77d6-4559-b7cb-81331f6ad6be",
   "metadata": {},
   "outputs": [],
   "source": []
  },
  {
   "cell_type": "code",
   "execution_count": null,
   "id": "8ea1d953-8d03-4eab-b9d4-7fbdc2b9d931",
   "metadata": {},
   "outputs": [],
   "source": []
  },
  {
   "cell_type": "code",
   "execution_count": null,
   "id": "c91c0128-c865-40a5-9a3c-1c2a702ad2cd",
   "metadata": {},
   "outputs": [],
   "source": []
  },
  {
   "cell_type": "code",
   "execution_count": null,
   "id": "6dd5afc8-2a44-4bba-b638-74fece3755b8",
   "metadata": {},
   "outputs": [],
   "source": []
  }
 ],
 "metadata": {
  "kernelspec": {
   "display_name": "Python 3 (ipykernel)",
   "language": "python",
   "name": "python3"
  },
  "language_info": {
   "codemirror_mode": {
    "name": "ipython",
    "version": 3
   },
   "file_extension": ".py",
   "mimetype": "text/x-python",
   "name": "python",
   "nbconvert_exporter": "python",
   "pygments_lexer": "ipython3",
   "version": "3.10.12"
  }
 },
 "nbformat": 4,
 "nbformat_minor": 5
}
