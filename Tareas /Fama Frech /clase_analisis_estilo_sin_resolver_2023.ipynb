{
 "cells": [
  {
   "cell_type": "markdown",
   "metadata": {},
   "source": [
    "# Análisis de Estilo en Portafolios"
   ]
  },
  {
   "cell_type": "markdown",
   "metadata": {},
   "source": [
    "<img style=\"float: right; margin: 0px 0px 15px 15px;\" src=\"http://www.picpedia.org/finance/images/stock-portfolio.jpg\" width=\"400px\" height=\"400px\" />\n",
    "\n",
    "> Al analizar si invertir o no en un portafolio (fondo de inversión), nos podríamos preguntar qué tan bueno es el administrador de dicho fondo.\n",
    "\n",
    "> Bien, esto nos lleva a preguntarnos cómo es que se conforma un portafolio, cuál es el proceso mediante el cual se seleccionan los activos.\n",
    "\n",
    "> Se puede consultar que los portafolios se venden con ciertas tendencias claramente marcadas (portafolios de compañías de alta capitalización, portafolios de compañías de baja capitalización, portafolios de compañías con baja diferencia de valor en libros y valor bursátil, ...).\n",
    "\n",
    "> Entonces, surgen dos preguntas:\n",
    "> 1. ¿Presenta en realidad el portafolio un comportamiento acorde al estilo que se promete?\n",
    "> 2. Si los activos que conforman el portafolio pertenecen a un grupo selecto, ¿qué tan bueno es el administrador escogiendo dichos activos?\n",
    "\n",
    "**Objetivos**\n",
    "\n",
    "- Descomponer el exceso de rendimientos de un portafolio, en los *rendimientos debidos al estilo* y los *rendimientos debidos a la selección*.\n",
    "\n",
    "- *rendimiento debido a la selección* = resta entre rendimiento del portafolio, y una mezcla pasiva de estilos similares.\n",
    "\n",
    "**Solo el rendimiento debido a la selección se le puede atribuir al talento del administrador.**\n",
    "___"
   ]
  },
  {
   "cell_type": "markdown",
   "metadata": {},
   "source": [
    "## 1. Fundamentos básicos\n",
    "\n",
    "- El análisis de estilo es una técnica poderosa y sofisticada para medir qué tan bueno es un administrador de fondos.\n",
    "\n",
    "- Describe qué tan bueno es un administrador, analizando estadísticamente cómo los rendimientos del portafolio actúan, contra los rendimientos de lo que incluye el portafolio.\n",
    "\n",
    "- En realidad nos interesa poco qué activos individuales contiene el portafolio. Más bien, miramos cómo se relaciona a diferentes estilos de inversión."
   ]
  },
  {
   "cell_type": "markdown",
   "metadata": {},
   "source": [
    "- Pero, ¿qué es un estilo de inversión?\n",
    " - Se puede pensar como un índice (método de inversión pasiva), o un *benchmark* (inversión base para comparar).\n",
    " \n",
    "- Podemos pensar como si partiéramos el mercado en una matriz tres por tres, basados en la capitalización y en la diferencia entre valor en libros y valor de mercado.\n",
    "\n",
    "|                                |                                |                               |\n",
    "| ------------------------------ | ------------------------------ | ----------------------------- |\n",
    "| Alta capitalización, Alta BM   | Alta Capitalización, Medio BM  | Alta Capitalización, Bajo BM  |\n",
    "| Media capitalización, Alta BM  | Media Capitalización, Medio BM | Media Capitalización, Bajo BM |\n",
    "| Baja capitalización, Alta BM   | Baja Capitalización, Medio BM  | Baja Capitalización, Bajo BM  |\n",
    "\n",
    "- Entonces, por ejemplo, un administrador de fondos que invierte mayormente en activos de baja capitalización, diríamos que sigue un *estilo de baja capitalización*."
   ]
  },
  {
   "cell_type": "markdown",
   "metadata": {},
   "source": [
    "- Cabe destacar que estos no son los únicos estilos de inversión: también hay *estilo de bonos de gobierno*, por ejemplo."
   ]
  },
  {
   "cell_type": "markdown",
   "metadata": {},
   "source": [
    "Entonces, el análisis de estilo puede ser usado en varias formas:\n",
    "\n",
    "1. Demostrar que un fondo de inversión sigue el objetivo que se plantea (si es de baja capitalización, etc)\n",
    "\n",
    "2. Para descubrir cuál es el verdadero estilo de inversión del portafolio.\n",
    "\n",
    "3. Evaluar que tan bueno es el administrador del fondo seleccionando los activos adecuados dentro del estilo prometido (valuación)."
   ]
  },
  {
   "cell_type": "markdown",
   "metadata": {},
   "source": [
    "## 2. ¿Cómo se hace?\n",
    "\n",
    "- Para explorar el funcionamiento del análisis de estilo, analizaremos el fondo **Vanguard Small-Cap Index Fund Admiral Shares (VSMAX)**.\n",
    "\n",
    "- También necesitaremos los índices que marcan los diferentes estilos de inversión. Para ello usaremos las esquinas RUSSELL:\n",
    " - Russell 1000 Growth (^RLG)\n",
    " - Russell 1000 Value (^RLV)\n",
    " - Russell 2000 Growth (^RUO)\n",
    " - Russell 2000 Value (^RUJ)\n",
    "\n",
    "Descarguemos datos diarios en los últimos 5 años."
   ]
  },
  {
   "cell_type": "code",
   "execution_count": 1,
   "metadata": {},
   "outputs": [],
   "source": [
    "# Importamos librerías\n",
    "import numpy as np\n",
    "import pandas as pd\n",
    "import matplotlib.pyplot as plt\n",
    "%matplotlib inline\n",
    "\n",
    "import yfinance as yf"
   ]
  },
  {
   "cell_type": "code",
   "execution_count": 2,
   "metadata": {},
   "outputs": [
    {
     "name": "stdout",
     "output_type": "stream",
     "text": [
      "[*********************100%%**********************]  5 of 5 completed\n"
     ]
    }
   ],
   "source": [
    "# Nombres de instrumentos que vamos a importar\n",
    "tickers = ['VSMAX', '^RLG', '^RLV', '^RUO', '^RUJ']\n",
    "# Fechas de inicio y fin\n",
    "start_date = \"2000-01-01\"\n",
    "# Descargamos datos\n",
    "closes = yf.download(tickers, start=start_date)['Close']\n"
   ]
  },
  {
   "cell_type": "markdown",
   "metadata": {},
   "source": [
    "Obtenemos rendimientos"
   ]
  },
  {
   "cell_type": "code",
   "execution_count": 3,
   "metadata": {},
   "outputs": [],
   "source": [
    "# Rendimientos diarios\n",
    "rt = closes.pct_change().dropna()"
   ]
  },
  {
   "cell_type": "markdown",
   "metadata": {},
   "source": [
    "El análisis de estilo no es más que una regresión lineal de los (excesos de) rendimientos del portafolio que se va a analizar (*variable dependiente*), respecto a los diferentes estilos de inversión (*variables independientes o explicativas*).\n",
    "\n",
    "1. De forma que se asignan pesos (o ponderaciones) a cada uno de los estilos elegidos y una ponderación adicional como intercepto <font color=blue> (ver en el tablero)</font>.\n",
    "\n",
    " $$r_{p,t}=\\alpha+w_1I_{1,t}+w_2I_{2,t}+\\dots+w_nI_{n,t}+\\epsilon_t,$$\n",
    " \n",
    " donde $\\epsilon_t$ es el término de error (residual). Se incluye la restricción de que dichos pesos deben sumar uno (1), para interpretarlos como porcentajes:\n",
    " \n",
    " $$w_1+w_2+\\dots+w_n=1.$$"
   ]
  },
  {
   "cell_type": "markdown",
   "metadata": {},
   "source": [
    "2. Se calculan los residuales (error) al cuadrado en cada paso, y se minimiza el total: **mínimos cuadrados**.\n",
    " \n",
    " <font color=blue> (ver en el tablero)</font>.\n",
    " \n",
    " $$\\min_{\\alpha,w_1,\\dots,w_n} \\sum_{t=0}^T\\epsilon_t^2=\\sum_{t=0}^T\\left(r_{p,t}-\\alpha-w_1I_{1,t}-w_2I_{2,t}-\\dots-w_nI_{n,t}\\right)^2$$\n",
    " \n",
    " sujeto a $w_1+w_2+\\dots+w_n=1.$"
   ]
  },
  {
   "cell_type": "markdown",
   "metadata": {},
   "source": [
    "3. Calcular el estadístico $R$-cuadrado: en qué porcentaje la variación de los rendimientos de los índices explican la variación de los rendimientos del portafolio.\n",
    "\n",
    " $$R^2=1-\\frac{var(\\epsilon)}{var(r_p)}$$"
   ]
  },
  {
   "cell_type": "markdown",
   "metadata": {},
   "source": [
    "Entonces, necesitamos un optimizador"
   ]
  },
  {
   "cell_type": "code",
   "execution_count": 4,
   "metadata": {},
   "outputs": [],
   "source": [
    "# Importamos la librería optimize de scipy\n",
    "from scipy.optimize import minimize"
   ]
  },
  {
   "cell_type": "markdown",
   "metadata": {},
   "source": [
    "Debemos escribir la función a optimizar"
   ]
  },
  {
   "cell_type": "code",
   "execution_count": 5,
   "metadata": {},
   "outputs": [],
   "source": [
    "def model_fit(X, y):\n",
    "    def obj(coef, r_fondo, r_estilos):\n",
    "        alpha = coef[0]\n",
    "        w = coef[1:]\n",
    "        modelo = alpha + r_estilos.dot(w)\n",
    "        residuales = r_fondo - modelo\n",
    "        return (residuales**2).mean()\n",
    "\n",
    "\n",
    "    coef0 = [0, 0.25, 0.25, 0.25, 0.25]\n",
    "    cons = {'type': 'eq', 'fun': lambda coef: coef[1:].sum() - 1}\n",
    "    bnds = ((None, None),) + ((0, None),) * 4\n",
    "    # Resolvemos\n",
    "    style = minimize(\n",
    "        fun=obj,\n",
    "        x0=coef0,\n",
    "        args=(y, X),\n",
    "        bounds=bnds,\n",
    "        constraints=cons,\n",
    "        tol=1e-10\n",
    "    )\n",
    "    return style"
   ]
  },
  {
   "cell_type": "markdown",
   "metadata": {},
   "source": [
    "Datos de entrada al optimizador"
   ]
  },
  {
   "cell_type": "code",
   "execution_count": 6,
   "metadata": {},
   "outputs": [],
   "source": [
    "# Datos\n",
    "y = rt['VSMAX']\n",
    "X = rt[['^RLG', '^RLV', '^RUO', '^RUJ']]"
   ]
  },
  {
   "cell_type": "code",
   "execution_count": 7,
   "metadata": {},
   "outputs": [],
   "source": [
    "# Entrena el modelo\n",
    "model = model_fit(X, y)"
   ]
  },
  {
   "cell_type": "code",
   "execution_count": 8,
   "metadata": {},
   "outputs": [
    {
     "data": {
      "text/plain": [
       "array([3.40342013e-05, 1.06849555e-01, 1.28067796e-01, 3.75207313e-01,\n",
       "       3.89875336e-01])"
      ]
     },
     "execution_count": 8,
     "metadata": {},
     "output_type": "execute_result"
    }
   ],
   "source": [
    "# Coeficientes alpha\n",
    "model.x"
   ]
  },
  {
   "cell_type": "code",
   "execution_count": 9,
   "metadata": {},
   "outputs": [
    {
     "data": {
      "text/plain": [
       "3.403420125205318e-05"
      ]
     },
     "execution_count": 9,
     "metadata": {},
     "output_type": "execute_result"
    }
   ],
   "source": [
    "# Pesos\n",
    "model.x[0]"
   ]
  },
  {
   "cell_type": "markdown",
   "metadata": {},
   "source": [
    "### Si el peso de alpha es 0, quiere decir que basta con las betas para explicar la acción; lo cual es bueno porque tiene info que el mercado no tiene. "
   ]
  },
  {
   "cell_type": "code",
   "execution_count": 10,
   "metadata": {},
   "outputs": [],
   "source": [
    "# Verificamos pesos \n"
   ]
  },
  {
   "cell_type": "markdown",
   "metadata": {},
   "source": [
    "### ¿Qué podemos concluir?"
   ]
  },
  {
   "cell_type": "markdown",
   "metadata": {},
   "source": [
    " - Russell 1000 Growth (^RLG)\n",
    " - Russell 1000 Value (^RLV)\n",
    " - Russell 2000 Growth (^RUO)\n",
    " - Russell 2000 Value (^RUJ)"
   ]
  },
  {
   "cell_type": "markdown",
   "metadata": {},
   "source": [
    "Entonces, el fondo **Vanguard Small-Cap Index Fund Admiral Shares (VSMAX)**, está conformado en un"
   ]
  },
  {
   "cell_type": "markdown",
   "metadata": {},
   "source": [
    "### Estas son nuevas betas"
   ]
  },
  {
   "cell_type": "code",
   "execution_count": 11,
   "metadata": {},
   "outputs": [
    {
     "data": {
      "text/plain": [
       "0.10684955505923037"
      ]
     },
     "execution_count": 11,
     "metadata": {},
     "output_type": "execute_result"
    }
   ],
   "source": [
    "# w_1\n",
    "model.x[1] #el 10% esta en la primera que es cara y grande"
   ]
  },
  {
   "cell_type": "markdown",
   "metadata": {},
   "source": [
    "por activos de alta capialización y con baja diferencia BM (Russell 1000 Growth); está conformado en un"
   ]
  },
  {
   "cell_type": "code",
   "execution_count": 12,
   "metadata": {},
   "outputs": [
    {
     "data": {
      "text/plain": [
       "0.12806779581781222"
      ]
     },
     "execution_count": 12,
     "metadata": {},
     "output_type": "execute_result"
    }
   ],
   "source": [
    "# w_2\n",
    "model.x[2] #1 &2 son las grandes empresas "
   ]
  },
  {
   "cell_type": "markdown",
   "metadata": {},
   "source": [
    "por activos de alta capitalización con alta diferencia BM (Russell 1000 Value); está conformado en un"
   ]
  },
  {
   "cell_type": "code",
   "execution_count": 13,
   "metadata": {},
   "outputs": [
    {
     "data": {
      "text/plain": [
       "0.3752073126817489"
      ]
     },
     "execution_count": 13,
     "metadata": {},
     "output_type": "execute_result"
    }
   ],
   "source": [
    "# w_3\n",
    "model.x[3] #para growth chicos en crecimiento"
   ]
  },
  {
   "cell_type": "markdown",
   "metadata": {},
   "source": [
    "por activos de baja capitalización con baja diferencia BM (Russell 2000 Growth); y está conformado en un"
   ]
  },
  {
   "cell_type": "code",
   "execution_count": 14,
   "metadata": {},
   "outputs": [
    {
     "data": {
      "text/plain": [
       "0.3898753364412086"
      ]
     },
     "execution_count": 14,
     "metadata": {},
     "output_type": "execute_result"
    }
   ],
   "source": [
    "# w_4\n",
    "model.x[4] #también es chica y barata, o sea tiene más peso en chicas que son las 3 & 4."
   ]
  },
  {
   "cell_type": "markdown",
   "metadata": {},
   "source": [
    "por activos de baja capitalización con alta diferencia BM (Russell 2000 Value). El restante"
   ]
  },
  {
   "cell_type": "code",
   "execution_count": 15,
   "metadata": {},
   "outputs": [
    {
     "data": {
      "text/plain": [
       "3.403420125205318e-05"
      ]
     },
     "execution_count": 15,
     "metadata": {},
     "output_type": "execute_result"
    }
   ],
   "source": [
    "# alpha\n",
    "model.x[0]"
   ]
  },
  {
   "cell_type": "code",
   "execution_count": 16,
   "metadata": {},
   "outputs": [
    {
     "data": {
      "text/plain": [
       "Index(['^RLG', '^RLV', '^RUO', '^RUJ'], dtype='object')"
      ]
     },
     "execution_count": 16,
     "metadata": {},
     "output_type": "execute_result"
    }
   ],
   "source": [
    "# Usa el modelo para predecir \n",
    "X.keys()"
   ]
  },
  {
   "cell_type": "code",
   "execution_count": 17,
   "metadata": {},
   "outputs": [],
   "source": [
    "predicciones = model.x[1] * X['^RLG'] + model.x[2] * X['^RLV'] + model.x[3] * X['^RUO'] + model.x[4] * X['^RUJ']"
   ]
  },
  {
   "cell_type": "code",
   "execution_count": 18,
   "metadata": {},
   "outputs": [
    {
     "data": {
      "text/plain": [
       "Date\n",
       "2002-10-01    0.021125\n",
       "2002-10-02   -0.022052\n",
       "2002-10-03   -0.009978\n",
       "2002-10-04   -0.024475\n",
       "2002-10-07   -0.026012\n",
       "                ...   \n",
       "2023-11-08   -0.008440\n",
       "2023-11-09   -0.013948\n",
       "2023-11-10    0.011605\n",
       "2023-11-13   -0.000082\n",
       "2023-11-14    0.046509\n",
       "Length: 5318, dtype: float64"
      ]
     },
     "execution_count": 18,
     "metadata": {},
     "output_type": "execute_result"
    }
   ],
   "source": [
    "predicciones"
   ]
  },
  {
   "cell_type": "markdown",
   "metadata": {},
   "source": [
    "de los rendimientos diarios, **es atribuible al administrador del fondo por la selección particular de los activos.**"
   ]
  },
  {
   "cell_type": "markdown",
   "metadata": {},
   "source": [
    "Por tanto, **el estilo predominante del fondo es de baja capitalizacion** ($\\approx 70\\%$)."
   ]
  },
  {
   "cell_type": "markdown",
   "metadata": {},
   "source": [
    "Calculamos el $R^2$"
   ]
  },
  {
   "cell_type": "code",
   "execution_count": 19,
   "metadata": {},
   "outputs": [],
   "source": [
    "from sklearn.metrics import r2_score"
   ]
  },
  {
   "cell_type": "code",
   "execution_count": 20,
   "metadata": {},
   "outputs": [
    {
     "data": {
      "text/plain": [
       "0.9862685622530297"
      ]
     },
     "execution_count": 20,
     "metadata": {},
     "output_type": "execute_result"
    }
   ],
   "source": [
    "r2_score(y_pred=predicciones, y_true=y)"
   ]
  },
  {
   "cell_type": "markdown",
   "metadata": {},
   "source": [
    "Estadísticamente, el modelo propuesto explica el $98.33\\%$ de la variación total de los rendimientos del portafolio."
   ]
  },
  {
   "cell_type": "markdown",
   "metadata": {},
   "source": [
    "#### Formando un portafolio\n",
    "\n",
    "- Checa con : Berkshiere, Apple, apple y amazon, apple, amazon y microsoft\n",
    "\n",
    "¿qué concluyes?\n"
   ]
  },
  {
   "cell_type": "code",
   "execution_count": 21,
   "metadata": {},
   "outputs": [
    {
     "name": "stdout",
     "output_type": "stream",
     "text": [
      "[*********************100%%**********************]  9 of 9 completed\n"
     ]
    }
   ],
   "source": [
    "# Nombres de instrumentos que vamos a importar\n",
    "tickers = ['VSMAX', '^RLG', '^RLV', '^RUO', '^RUJ',\n",
    "          'BRK-A', 'AAPL', 'AMZN', 'MSFT']\n",
    "# Fechas de inicio y fin\n",
    "start_date = \"2000-01-01\"\n",
    "# Descargamos datos\n",
    "closes = yf.download(tickers, start=start_date)['Close']"
   ]
  },
  {
   "cell_type": "code",
   "execution_count": 22,
   "metadata": {},
   "outputs": [],
   "source": [
    "rt = closes.pct_change().dropna()"
   ]
  },
  {
   "cell_type": "code",
   "execution_count": 23,
   "metadata": {},
   "outputs": [
    {
     "data": {
      "text/plain": [
       "0.3053985038555992"
      ]
     },
     "execution_count": 23,
     "metadata": {},
     "output_type": "execute_result"
    }
   ],
   "source": [
    "y = rt['AAPL']\n",
    "X = rt[['^RLG', '^RLV', '^RUO', '^RUJ']]\n",
    "\n",
    "model_fit(X, y)\n",
    "predicciones = model.x[1] * X['^RLG'] + model.x[2] * X['^RLV'] + model.x[3] * X['^RUO'] + model.x[4] * X['^RUJ']\n",
    "r2_score(y_pred=predicciones, y_true=y)"
   ]
  },
  {
   "cell_type": "code",
   "execution_count": 24,
   "metadata": {},
   "outputs": [],
   "source": [
    "#su r2 es 30% aapl"
   ]
  },
  {
   "cell_type": "code",
   "execution_count": 25,
   "metadata": {},
   "outputs": [
    {
     "data": {
      "text/plain": [
       "0.26492120053575074"
      ]
     },
     "execution_count": 25,
     "metadata": {},
     "output_type": "execute_result"
    }
   ],
   "source": [
    "y = rt['AMZN']\n",
    "X = rt[['^RLG', '^RLV', '^RUO', '^RUJ']]\n",
    "\n",
    "model_fit(X, y)\n",
    "predicciones = model.x[1] * X['^RLG'] + model.x[2] * X['^RLV'] + model.x[3] * X['^RUO'] + model.x[4] * X['^RUJ']\n",
    "r2_score(y_pred=predicciones, y_true=y)"
   ]
  },
  {
   "cell_type": "code",
   "execution_count": 26,
   "metadata": {},
   "outputs": [],
   "source": [
    "#su r2 es 26% de amzn"
   ]
  },
  {
   "cell_type": "code",
   "execution_count": 27,
   "metadata": {},
   "outputs": [
    {
     "data": {
      "text/plain": [
       "0.14695682293418055"
      ]
     },
     "execution_count": 27,
     "metadata": {},
     "output_type": "execute_result"
    }
   ],
   "source": [
    "y = rt['BRK-A']\n",
    "X = rt[['^RLG', '^RLV', '^RUO', '^RUJ']]\n",
    "\n",
    "model_fit(X, y)\n",
    "predicciones = model.x[1] * X['^RLG'] + model.x[2] * X['^RLV'] + model.x[3] * X['^RUO'] + model.x[4] * X['^RUJ']\n",
    "r2_score(y_pred=predicciones, y_true=y)"
   ]
  },
  {
   "cell_type": "code",
   "execution_count": 28,
   "metadata": {},
   "outputs": [],
   "source": [
    "#su r2 es 14% de amzn"
   ]
  },
  {
   "cell_type": "code",
   "execution_count": 29,
   "metadata": {},
   "outputs": [
    {
     "data": {
      "text/plain": [
       "0.467320095054674"
      ]
     },
     "execution_count": 29,
     "metadata": {},
     "output_type": "execute_result"
    }
   ],
   "source": [
    "#1/3 apple, 1/3 msft, 1/3 amazon\n",
    "portafolio = (1/3)* rt['AAPL'] + (1/3)* rt['MSFT'] + (1/3)* rt['AMZN'] \n",
    "y = portafolio\n",
    "X = rt[['^RLG', '^RLV', '^RUO', '^RUJ']]\n",
    "\n",
    "model_fit(X, y)\n",
    "predicciones = model.x[1] * X['^RLG'] + model.x[2] * X['^RLV'] + model.x[3] * X['^RUO'] + model.x[4] * X['^RUJ']\n",
    "r2_score(y_pred=predicciones, y_true=y)"
   ]
  },
  {
   "cell_type": "code",
   "execution_count": 30,
   "metadata": {},
   "outputs": [
    {
     "data": {
      "text/plain": [
       "array([6.60929084e-04, 1.00000000e+00, 7.89170009e-17, 7.63278329e-17,\n",
       "       0.00000000e+00])"
      ]
     },
     "execution_count": 30,
     "metadata": {},
     "output_type": "execute_result"
    }
   ],
   "source": [
    "model_fit(X, y).x"
   ]
  },
  {
   "cell_type": "code",
   "execution_count": 31,
   "metadata": {},
   "outputs": [],
   "source": [
    "#la primera es grande y cara, y casi todo se va ahí;la beta siempre sera 1 en empresas grandes y caras, en el resto serán 0."
   ]
  },
  {
   "cell_type": "code",
   "execution_count": null,
   "metadata": {},
   "outputs": [],
   "source": []
  }
 ],
 "metadata": {
  "kernelspec": {
   "display_name": "Python 3 (ipykernel)",
   "language": "python",
   "name": "python3"
  },
  "language_info": {
   "codemirror_mode": {
    "name": "ipython",
    "version": 3
   },
   "file_extension": ".py",
   "mimetype": "text/x-python",
   "name": "python",
   "nbconvert_exporter": "python",
   "pygments_lexer": "ipython3",
   "version": "3.10.12"
  }
 },
 "nbformat": 4,
 "nbformat_minor": 4
}
