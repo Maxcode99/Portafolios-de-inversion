{
 "cells": [
  {
   "cell_type": "markdown",
   "id": "f4278e52",
   "metadata": {},
   "source": [
    "# Modelos de 1, 3 y 5 factores \n",
    "\n",
    "Fuente :  https://www.pwlcapital.com/wp-content/uploads/2020/12/Five-Factor-Investing-with-ETFs.pdf%20z\n",
    "\n",
    "## 5 factor model\n",
    "\n",
    "$$Stock = \\sum_{t=1} \\frac{E(d_{t+1})}{(1+r)^t}$$\n",
    "\n",
    "\n",
    "*Miller Modigliani Proposition*\n",
    "\n",
    "Los dividendos no importan, en realidad son solo dinero que tiene la empresa. De las ganancias vienen las inversiones en equipo, etc. \n",
    "\n",
    "$$E(d_{t+1}) = E(Profits_{t+1} - dB_{t+1}) $$\n",
    "\n",
    "\n",
    "Juntando todo\n",
    "$$Stock = \\sum_{t=1} \\frac{E(Profits_{t+1} - dB_{t+1})}{(1+r)^t}$$\n",
    "\n",
    "Escalando por el valor en libros:\n",
    "\n",
    "$$\\frac{Stock}{B_t} = \\frac{\\sum_{t=1} \\frac{E(Profits_{t+1} - dB_{t+1})}{(1+r)^t}}{B_t}$$\n",
    "\n",
    "\n",
    "$r$ es lo que imorta\n",
    "\n",
    "\n",
    "1- *Value premium*: 1- Si dejamos todo constante, excepto $r$ y $\\frac{stock}{B_t}$ significa que empresas con precio bajo necesariamente tienen mejor $r$\n",
    "\n",
    "2-  *Profitability premium*: Si dejamos todo constante excepto $Profits_{t+1}$  y $r$ significa que las empresas que ganan más deben tener mejor $r$\n",
    "\n",
    "3- *Investment premium* Si dejamos todo constante excepto $dB_{t+1}$ y $r$ entonces las compañias que gastan menos, tienen un mayor $r$\n"
   ]
  },
  {
   "cell_type": "markdown",
   "id": "1e24afc6",
   "metadata": {},
   "source": [
    "Instalar paquete"
   ]
  },
  {
   "cell_type": "code",
   "execution_count": 1,
   "id": "f7593dac",
   "metadata": {},
   "outputs": [
    {
     "name": "stderr",
     "output_type": "stream",
     "text": [
      "/tmp/ipykernel_16840/3308229380.py:16: FutureWarning: The argument 'date_parser' is deprecated and will be removed in a future version. Please use 'date_format' instead, or read your data in as 'object' dtype and then call 'to_datetime'.\n",
      "  ff_factores = web.DataReader(\"F-F_Research_Data_5_Factors_2x3\", \"famafrench\", start_date, end_date)\n",
      "/tmp/ipykernel_16840/3308229380.py:16: FutureWarning: The argument 'date_parser' is deprecated and will be removed in a future version. Please use 'date_format' instead, or read your data in as 'object' dtype and then call 'to_datetime'.\n",
      "  ff_factores = web.DataReader(\"F-F_Research_Data_5_Factors_2x3\", \"famafrench\", start_date, end_date)\n"
     ]
    },
    {
     "data": {
      "text/plain": [
       "{0:          Mkt-RF   SMB   HML   RMW   CMA    RF\n",
       " Date                                         \n",
       " 1980-01    5.51  1.83  1.75 -1.70  1.64  0.80\n",
       " 1980-02   -1.22 -1.57  0.61  0.04  2.68  0.89\n",
       " 1980-03  -12.90 -6.93 -1.01  1.46 -1.19  1.21\n",
       " 1980-04    3.97  1.05  1.06 -2.10  0.29  1.26\n",
       " 1980-05    5.26  2.11  0.38  0.34 -0.31  0.81\n",
       " ...         ...   ...   ...   ...   ...   ...\n",
       " 2023-05    0.35 -0.38 -7.72 -1.81 -7.22  0.36\n",
       " 2023-06    6.46  1.34 -0.26  2.18 -1.62  0.40\n",
       " 2023-07    3.21  2.86  4.11 -0.57  0.57  0.45\n",
       " 2023-08   -2.39 -3.65 -1.06  3.43 -2.37  0.45\n",
       " 2023-09   -5.24 -1.79  1.52  1.87 -0.82  0.43\n",
       " \n",
       " [525 rows x 6 columns],\n",
       " 1:       Mkt-RF    SMB    HML    RMW    CMA     RF\n",
       " Date                                           \n",
       " 1980   22.13   4.84 -24.61  13.83 -12.35  11.24\n",
       " 1981  -18.13   7.30  25.04  -1.42  10.84  14.71\n",
       " 1982   10.66   7.24  13.29  -4.23  17.71  10.54\n",
       " 1983   13.75  12.21  20.52   0.59  15.98   8.80\n",
       " 1984   -6.05  -8.27  19.13  15.18   3.64   9.85\n",
       " 1985   24.91  -0.27   1.29  11.95  -2.99   7.72\n",
       " 1986   10.12 -10.32   9.34   6.98  10.63   6.16\n",
       " 1987   -3.87 -11.18  -1.70   6.12   6.70   5.47\n",
       " 1988   11.55   6.40  14.99   2.94   9.58   6.35\n",
       " 1989   20.49 -13.23  -4.03   2.95   7.66   8.37\n",
       " 1990  -13.95 -14.02 -10.03   7.61   0.79   7.81\n",
       " 1991   29.18  15.81 -14.72  11.61 -14.87   5.60\n",
       " 1992    6.23   9.08  24.49   7.38   7.32   3.51\n",
       " 1993    8.21   6.26  16.96  -6.91  12.30   2.90\n",
       " 1994   -4.10  -2.33  -0.89   5.82   3.80   3.90\n",
       " 1995   31.22  -8.12   5.97   1.67   2.89   5.60\n",
       " 1996   15.96  -2.86   8.67  15.55   0.86   5.21\n",
       " 1997   25.96  -6.33  19.00   8.80   6.19   5.26\n",
       " 1998   19.46 -28.03 -10.43   3.56  -4.62   4.86\n",
       " 1999   20.57   8.86 -31.66 -28.04  -8.37   4.68\n",
       " 2000  -17.60   3.70  44.98  23.20  30.71   5.89\n",
       " 2001  -15.21  23.20  18.52  18.97  13.68   3.83\n",
       " 2002  -22.76   5.89   8.10  20.86  14.21   1.65\n",
       " 2003   30.75  24.53   4.61 -20.45  16.16   1.02\n",
       " 2004   10.72   7.50   7.61   8.37  -7.59   1.20\n",
       " 2005    3.09  -0.75   9.41   1.43  -4.90   2.98\n",
       " 2006   10.60   1.56  11.93   3.76   8.84   4.80\n",
       " 2007    1.04  -8.38 -17.18   4.91  -7.54   4.66\n",
       " 2008  -38.34   2.74   1.05  14.71   4.21   1.60\n",
       " 2009   28.26   7.87  -9.65   3.34  -2.62   0.10\n",
       " 2010   17.37  13.61  -5.17  -1.54   9.78   0.12\n",
       " 2011    0.44  -5.50  -8.41  13.48  -1.16   0.04\n",
       " 2012   16.27  -0.52   9.99  -5.35   9.37   0.06\n",
       " 2013   35.20   8.33   2.60  -4.17   0.95   0.02\n",
       " 2014   11.71  -7.91  -1.45   1.28  -1.46   0.02\n",
       " 2015    0.09  -5.89  -9.65   1.07  -8.75   0.02\n",
       " 2016   13.30   9.31  22.71   4.34   9.97   0.20\n",
       " 2017   21.51  -6.16 -13.57   4.85 -11.49   0.80\n",
       " 2018   -6.95  -5.09  -9.67  -1.38   0.06   1.83\n",
       " 2019   28.28  -6.16 -10.46   4.32  -3.06   2.15\n",
       " 2020   23.66   3.42 -46.67  -5.22 -11.50   0.45\n",
       " 2021   23.56  -1.21  25.49  26.69  11.98   0.04\n",
       " 2022  -21.60  -1.61  25.81   6.67  22.43   1.43,\n",
       " 'DESCR': 'F-F Research Data 5 Factors 2x3\\n-------------------------------\\n\\nThis file was created by CMPT_ME_BEME_OP_INV_RETS using the 202309 CRSP database. The 1-month TBill return is from Ibbotson and Associates Inc.\\n\\n  0 : (525 rows x 6 cols)\\n  1 : Annual Factors: January-December (43 rows x 6 cols)'}"
      ]
     },
     "execution_count": 1,
     "metadata": {},
     "output_type": "execute_result"
    }
   ],
   "source": [
    "# Descargar factores\n",
    "\n",
    "import pandas_datareader.data as web\n",
    "import datetime\n",
    "from sklearn.metrics import r2_score\n",
    "import pandas as pd\n",
    "import yfinance as yf\n",
    "import matplotlib.pyplot as plt\n",
    "from sklearn.linear_model import LinearRegression\n",
    "\n",
    "# Definir las fechas de inicio y fin\n",
    "start_date = datetime.datetime(1980, 1, 1)\n",
    "end_date = datetime.datetime(2023, 12, 31)\n",
    "\n",
    "# Descargar los factores Fama-French desde la web de Ken French\n",
    "ff_factores = web.DataReader(\"F-F_Research_Data_5_Factors_2x3\", \"famafrench\", start_date, end_date)\n",
    "ff_factores\n",
    "#ff_factors.head()"
   ]
  },
  {
   "cell_type": "code",
   "execution_count": 16,
   "id": "cefe54fe",
   "metadata": {},
   "outputs": [
    {
     "data": {
      "text/html": [
       "<div>\n",
       "<style scoped>\n",
       "    .dataframe tbody tr th:only-of-type {\n",
       "        vertical-align: middle;\n",
       "    }\n",
       "\n",
       "    .dataframe tbody tr th {\n",
       "        vertical-align: top;\n",
       "    }\n",
       "\n",
       "    .dataframe thead th {\n",
       "        text-align: right;\n",
       "    }\n",
       "</style>\n",
       "<table border=\"1\" class=\"dataframe\">\n",
       "  <thead>\n",
       "    <tr style=\"text-align: right;\">\n",
       "      <th></th>\n",
       "      <th>Mkt-RF</th>\n",
       "      <th>SMB</th>\n",
       "      <th>HML</th>\n",
       "      <th>RMW</th>\n",
       "      <th>CMA</th>\n",
       "      <th>RF</th>\n",
       "    </tr>\n",
       "    <tr>\n",
       "      <th>Date</th>\n",
       "      <th></th>\n",
       "      <th></th>\n",
       "      <th></th>\n",
       "      <th></th>\n",
       "      <th></th>\n",
       "      <th></th>\n",
       "    </tr>\n",
       "  </thead>\n",
       "  <tbody>\n",
       "    <tr>\n",
       "      <th>1980-01-01</th>\n",
       "      <td>0.0551</td>\n",
       "      <td>0.0183</td>\n",
       "      <td>0.0175</td>\n",
       "      <td>-0.0170</td>\n",
       "      <td>0.0164</td>\n",
       "      <td>0.0080</td>\n",
       "    </tr>\n",
       "    <tr>\n",
       "      <th>1980-02-01</th>\n",
       "      <td>-0.0122</td>\n",
       "      <td>-0.0157</td>\n",
       "      <td>0.0061</td>\n",
       "      <td>0.0004</td>\n",
       "      <td>0.0268</td>\n",
       "      <td>0.0089</td>\n",
       "    </tr>\n",
       "    <tr>\n",
       "      <th>1980-03-01</th>\n",
       "      <td>-0.1290</td>\n",
       "      <td>-0.0693</td>\n",
       "      <td>-0.0101</td>\n",
       "      <td>0.0146</td>\n",
       "      <td>-0.0119</td>\n",
       "      <td>0.0121</td>\n",
       "    </tr>\n",
       "    <tr>\n",
       "      <th>1980-04-01</th>\n",
       "      <td>0.0397</td>\n",
       "      <td>0.0105</td>\n",
       "      <td>0.0106</td>\n",
       "      <td>-0.0210</td>\n",
       "      <td>0.0029</td>\n",
       "      <td>0.0126</td>\n",
       "    </tr>\n",
       "    <tr>\n",
       "      <th>1980-05-01</th>\n",
       "      <td>0.0526</td>\n",
       "      <td>0.0211</td>\n",
       "      <td>0.0038</td>\n",
       "      <td>0.0034</td>\n",
       "      <td>-0.0031</td>\n",
       "      <td>0.0081</td>\n",
       "    </tr>\n",
       "  </tbody>\n",
       "</table>\n",
       "</div>"
      ],
      "text/plain": [
       "            Mkt-RF     SMB     HML     RMW     CMA      RF\n",
       "Date                                                      \n",
       "1980-01-01  0.0551  0.0183  0.0175 -0.0170  0.0164  0.0080\n",
       "1980-02-01 -0.0122 -0.0157  0.0061  0.0004  0.0268  0.0089\n",
       "1980-03-01 -0.1290 -0.0693 -0.0101  0.0146 -0.0119  0.0121\n",
       "1980-04-01  0.0397  0.0105  0.0106 -0.0210  0.0029  0.0126\n",
       "1980-05-01  0.0526  0.0211  0.0038  0.0034 -0.0031  0.0081"
      ]
     },
     "execution_count": 16,
     "metadata": {},
     "output_type": "execute_result"
    }
   ],
   "source": [
    "factors_df=ff_factores[0]/100\n",
    "factors_df.index = factors_df.index.to_timestamp()\n",
    "factors_df.head()"
   ]
  },
  {
   "cell_type": "code",
   "execution_count": 19,
   "id": "d6646840",
   "metadata": {},
   "outputs": [
    {
     "data": {
      "text/plain": [
       "Mkt-RF    0.083853\n",
       "SMB       0.010347\n",
       "HML       0.025028\n",
       "RMW       0.047217\n",
       "CMA       0.031876\n",
       "RF        0.039158\n",
       "dtype: float64"
      ]
     },
     "execution_count": 19,
     "metadata": {},
     "output_type": "execute_result"
    }
   ],
   "source": [
    "factors_df.mean()*12"
   ]
  },
  {
   "cell_type": "code",
   "execution_count": 20,
   "id": "9f89a520",
   "metadata": {},
   "outputs": [],
   "source": [
    "#el capm no predice eso; esto son rendimientos"
   ]
  },
  {
   "cell_type": "code",
   "execution_count": 22,
   "id": "434955b4",
   "metadata": {},
   "outputs": [
    {
     "data": {
      "text/plain": [
       "0.5916030534351145"
      ]
     },
     "execution_count": 22,
     "metadata": {},
     "output_type": "execute_result"
    }
   ],
   "source": [
    "#le puedes poner cualquier smb, hml y te dice\n",
    "import numpy as np\n",
    "np.mean(factors_df.RMW > 0)"
   ]
  },
  {
   "cell_type": "code",
   "execution_count": 17,
   "id": "ecd57354",
   "metadata": {
    "scrolled": true
   },
   "outputs": [
    {
     "data": {
      "text/html": [
       "<div>\n",
       "<style scoped>\n",
       "    .dataframe tbody tr th:only-of-type {\n",
       "        vertical-align: middle;\n",
       "    }\n",
       "\n",
       "    .dataframe tbody tr th {\n",
       "        vertical-align: top;\n",
       "    }\n",
       "\n",
       "    .dataframe thead th {\n",
       "        text-align: right;\n",
       "    }\n",
       "</style>\n",
       "<table border=\"1\" class=\"dataframe\">\n",
       "  <thead>\n",
       "    <tr style=\"text-align: right;\">\n",
       "      <th></th>\n",
       "      <th>Mkt-RF</th>\n",
       "      <th>SMB</th>\n",
       "      <th>HML</th>\n",
       "      <th>RMW</th>\n",
       "      <th>CMA</th>\n",
       "      <th>RF</th>\n",
       "    </tr>\n",
       "    <tr>\n",
       "      <th>Date</th>\n",
       "      <th></th>\n",
       "      <th></th>\n",
       "      <th></th>\n",
       "      <th></th>\n",
       "      <th></th>\n",
       "      <th></th>\n",
       "    </tr>\n",
       "  </thead>\n",
       "  <tbody>\n",
       "    <tr>\n",
       "      <th>1980-01</th>\n",
       "      <td>0.0551</td>\n",
       "      <td>0.0183</td>\n",
       "      <td>0.0175</td>\n",
       "      <td>-0.0170</td>\n",
       "      <td>0.0164</td>\n",
       "      <td>0.0080</td>\n",
       "    </tr>\n",
       "    <tr>\n",
       "      <th>1980-02</th>\n",
       "      <td>-0.0122</td>\n",
       "      <td>-0.0157</td>\n",
       "      <td>0.0061</td>\n",
       "      <td>0.0004</td>\n",
       "      <td>0.0268</td>\n",
       "      <td>0.0089</td>\n",
       "    </tr>\n",
       "    <tr>\n",
       "      <th>1980-03</th>\n",
       "      <td>-0.1290</td>\n",
       "      <td>-0.0693</td>\n",
       "      <td>-0.0101</td>\n",
       "      <td>0.0146</td>\n",
       "      <td>-0.0119</td>\n",
       "      <td>0.0121</td>\n",
       "    </tr>\n",
       "    <tr>\n",
       "      <th>1980-04</th>\n",
       "      <td>0.0397</td>\n",
       "      <td>0.0105</td>\n",
       "      <td>0.0106</td>\n",
       "      <td>-0.0210</td>\n",
       "      <td>0.0029</td>\n",
       "      <td>0.0126</td>\n",
       "    </tr>\n",
       "    <tr>\n",
       "      <th>1980-05</th>\n",
       "      <td>0.0526</td>\n",
       "      <td>0.0211</td>\n",
       "      <td>0.0038</td>\n",
       "      <td>0.0034</td>\n",
       "      <td>-0.0031</td>\n",
       "      <td>0.0081</td>\n",
       "    </tr>\n",
       "    <tr>\n",
       "      <th>...</th>\n",
       "      <td>...</td>\n",
       "      <td>...</td>\n",
       "      <td>...</td>\n",
       "      <td>...</td>\n",
       "      <td>...</td>\n",
       "      <td>...</td>\n",
       "    </tr>\n",
       "    <tr>\n",
       "      <th>2023-04</th>\n",
       "      <td>0.0061</td>\n",
       "      <td>-0.0256</td>\n",
       "      <td>-0.0004</td>\n",
       "      <td>0.0242</td>\n",
       "      <td>0.0286</td>\n",
       "      <td>0.0035</td>\n",
       "    </tr>\n",
       "    <tr>\n",
       "      <th>2023-05</th>\n",
       "      <td>0.0035</td>\n",
       "      <td>-0.0038</td>\n",
       "      <td>-0.0772</td>\n",
       "      <td>-0.0181</td>\n",
       "      <td>-0.0722</td>\n",
       "      <td>0.0036</td>\n",
       "    </tr>\n",
       "    <tr>\n",
       "      <th>2023-06</th>\n",
       "      <td>0.0646</td>\n",
       "      <td>0.0134</td>\n",
       "      <td>-0.0026</td>\n",
       "      <td>0.0218</td>\n",
       "      <td>-0.0162</td>\n",
       "      <td>0.0040</td>\n",
       "    </tr>\n",
       "    <tr>\n",
       "      <th>2023-07</th>\n",
       "      <td>0.0321</td>\n",
       "      <td>0.0286</td>\n",
       "      <td>0.0411</td>\n",
       "      <td>-0.0057</td>\n",
       "      <td>0.0057</td>\n",
       "      <td>0.0045</td>\n",
       "    </tr>\n",
       "    <tr>\n",
       "      <th>2023-08</th>\n",
       "      <td>-0.0239</td>\n",
       "      <td>-0.0366</td>\n",
       "      <td>-0.0106</td>\n",
       "      <td>0.0342</td>\n",
       "      <td>-0.0237</td>\n",
       "      <td>0.0045</td>\n",
       "    </tr>\n",
       "  </tbody>\n",
       "</table>\n",
       "<p>524 rows × 6 columns</p>\n",
       "</div>"
      ],
      "text/plain": [
       "         Mkt-RF     SMB     HML     RMW     CMA      RF\n",
       "Date                                                   \n",
       "1980-01  0.0551  0.0183  0.0175 -0.0170  0.0164  0.0080\n",
       "1980-02 -0.0122 -0.0157  0.0061  0.0004  0.0268  0.0089\n",
       "1980-03 -0.1290 -0.0693 -0.0101  0.0146 -0.0119  0.0121\n",
       "1980-04  0.0397  0.0105  0.0106 -0.0210  0.0029  0.0126\n",
       "1980-05  0.0526  0.0211  0.0038  0.0034 -0.0031  0.0081\n",
       "...         ...     ...     ...     ...     ...     ...\n",
       "2023-04  0.0061 -0.0256 -0.0004  0.0242  0.0286  0.0035\n",
       "2023-05  0.0035 -0.0038 -0.0772 -0.0181 -0.0722  0.0036\n",
       "2023-06  0.0646  0.0134 -0.0026  0.0218 -0.0162  0.0040\n",
       "2023-07  0.0321  0.0286  0.0411 -0.0057  0.0057  0.0045\n",
       "2023-08 -0.0239 -0.0366 -0.0106  0.0342 -0.0237  0.0045\n",
       "\n",
       "[524 rows x 6 columns]"
      ]
     },
     "execution_count": 17,
     "metadata": {},
     "output_type": "execute_result"
    }
   ],
   "source": [
    "# Escalar y transformar factores\n",
    "ff_factors[0]/100\n",
    "#porque esta en porcentaje, por eso sobre 100"
   ]
  },
  {
   "cell_type": "code",
   "execution_count": 23,
   "id": "e1ad92b0",
   "metadata": {},
   "outputs": [
    {
     "name": "stdout",
     "output_type": "stream",
     "text": [
      "[*********************100%***********************]  8 of 8 completed\n"
     ]
    }
   ],
   "source": [
    "# Descargar acciones\n",
    "tickers = ['BRK-A', 'SPY', 'VB', 'VGT', 'VB',\n",
    "          'AAPL', 'AMZN', 'MSFT', 'WMT']\n",
    "stock_data = yf.download(tickers, start_date, end_date, interval='1mo')['Adj Close']\n",
    "rt = stock_data.pct_change().dropna()"
   ]
  },
  {
   "cell_type": "code",
   "execution_count": 26,
   "id": "c06a24ea",
   "metadata": {},
   "outputs": [],
   "source": [
    "# Ejemplo merge\n",
    "df1 = pd.DataFrame({\n",
    "    'user_id': ['A', 'B', 'D'],\n",
    "    'monto': [1000, 2000, 3000]\n",
    "})\n",
    "df2 = pd.DataFrame({\n",
    "    'user_id': ['A','E', 'D', 'Z' ],\n",
    "    'monto': [1000, 1500, 3000, 3000]\n",
    "})"
   ]
  },
  {
   "cell_type": "code",
   "execution_count": 27,
   "id": "e8fab2f2",
   "metadata": {},
   "outputs": [
    {
     "data": {
      "text/html": [
       "<div>\n",
       "<style scoped>\n",
       "    .dataframe tbody tr th:only-of-type {\n",
       "        vertical-align: middle;\n",
       "    }\n",
       "\n",
       "    .dataframe tbody tr th {\n",
       "        vertical-align: top;\n",
       "    }\n",
       "\n",
       "    .dataframe thead th {\n",
       "        text-align: right;\n",
       "    }\n",
       "</style>\n",
       "<table border=\"1\" class=\"dataframe\">\n",
       "  <thead>\n",
       "    <tr style=\"text-align: right;\">\n",
       "      <th></th>\n",
       "      <th>user_id</th>\n",
       "      <th>monto</th>\n",
       "    </tr>\n",
       "  </thead>\n",
       "  <tbody>\n",
       "    <tr>\n",
       "      <th>0</th>\n",
       "      <td>A</td>\n",
       "      <td>1000</td>\n",
       "    </tr>\n",
       "    <tr>\n",
       "      <th>1</th>\n",
       "      <td>B</td>\n",
       "      <td>2000</td>\n",
       "    </tr>\n",
       "    <tr>\n",
       "      <th>2</th>\n",
       "      <td>D</td>\n",
       "      <td>3000</td>\n",
       "    </tr>\n",
       "  </tbody>\n",
       "</table>\n",
       "</div>"
      ],
      "text/plain": [
       "  user_id  monto\n",
       "0       A   1000\n",
       "1       B   2000\n",
       "2       D   3000"
      ]
     },
     "execution_count": 27,
     "metadata": {},
     "output_type": "execute_result"
    }
   ],
   "source": [
    "# Juntar datos \n",
    "df1"
   ]
  },
  {
   "cell_type": "code",
   "execution_count": 28,
   "id": "5787ae95",
   "metadata": {},
   "outputs": [
    {
     "data": {
      "text/html": [
       "<div>\n",
       "<style scoped>\n",
       "    .dataframe tbody tr th:only-of-type {\n",
       "        vertical-align: middle;\n",
       "    }\n",
       "\n",
       "    .dataframe tbody tr th {\n",
       "        vertical-align: top;\n",
       "    }\n",
       "\n",
       "    .dataframe thead th {\n",
       "        text-align: right;\n",
       "    }\n",
       "</style>\n",
       "<table border=\"1\" class=\"dataframe\">\n",
       "  <thead>\n",
       "    <tr style=\"text-align: right;\">\n",
       "      <th></th>\n",
       "      <th>user_id</th>\n",
       "      <th>monto</th>\n",
       "    </tr>\n",
       "  </thead>\n",
       "  <tbody>\n",
       "    <tr>\n",
       "      <th>0</th>\n",
       "      <td>A</td>\n",
       "      <td>1000</td>\n",
       "    </tr>\n",
       "    <tr>\n",
       "      <th>1</th>\n",
       "      <td>E</td>\n",
       "      <td>1500</td>\n",
       "    </tr>\n",
       "    <tr>\n",
       "      <th>2</th>\n",
       "      <td>D</td>\n",
       "      <td>3000</td>\n",
       "    </tr>\n",
       "    <tr>\n",
       "      <th>3</th>\n",
       "      <td>Z</td>\n",
       "      <td>3000</td>\n",
       "    </tr>\n",
       "  </tbody>\n",
       "</table>\n",
       "</div>"
      ],
      "text/plain": [
       "  user_id  monto\n",
       "0       A   1000\n",
       "1       E   1500\n",
       "2       D   3000\n",
       "3       Z   3000"
      ]
     },
     "execution_count": 28,
     "metadata": {},
     "output_type": "execute_result"
    }
   ],
   "source": [
    "df2"
   ]
  },
  {
   "cell_type": "code",
   "execution_count": 31,
   "id": "e65b65f8",
   "metadata": {},
   "outputs": [
    {
     "data": {
      "text/html": [
       "<div>\n",
       "<style scoped>\n",
       "    .dataframe tbody tr th:only-of-type {\n",
       "        vertical-align: middle;\n",
       "    }\n",
       "\n",
       "    .dataframe tbody tr th {\n",
       "        vertical-align: top;\n",
       "    }\n",
       "\n",
       "    .dataframe thead th {\n",
       "        text-align: right;\n",
       "    }\n",
       "</style>\n",
       "<table border=\"1\" class=\"dataframe\">\n",
       "  <thead>\n",
       "    <tr style=\"text-align: right;\">\n",
       "      <th></th>\n",
       "      <th>user_id</th>\n",
       "      <th>monto_x</th>\n",
       "      <th>monto_y</th>\n",
       "    </tr>\n",
       "  </thead>\n",
       "  <tbody>\n",
       "    <tr>\n",
       "      <th>0</th>\n",
       "      <td>A</td>\n",
       "      <td>1000</td>\n",
       "      <td>1000</td>\n",
       "    </tr>\n",
       "    <tr>\n",
       "      <th>1</th>\n",
       "      <td>D</td>\n",
       "      <td>3000</td>\n",
       "      <td>3000</td>\n",
       "    </tr>\n",
       "  </tbody>\n",
       "</table>\n",
       "</div>"
      ],
      "text/plain": [
       "  user_id  monto_x  monto_y\n",
       "0       A     1000     1000\n",
       "1       D     3000     3000"
      ]
     },
     "execution_count": 31,
     "metadata": {},
     "output_type": "execute_result"
    }
   ],
   "source": [
    "#juntas df1 & df2\n",
    "df3= pd.merge(df1, df2,on='user_id' )\n",
    "df3"
   ]
  },
  {
   "cell_type": "code",
   "execution_count": 32,
   "id": "2b914a33",
   "metadata": {},
   "outputs": [
    {
     "data": {
      "text/html": [
       "<div>\n",
       "<style scoped>\n",
       "    .dataframe tbody tr th:only-of-type {\n",
       "        vertical-align: middle;\n",
       "    }\n",
       "\n",
       "    .dataframe tbody tr th {\n",
       "        vertical-align: top;\n",
       "    }\n",
       "\n",
       "    .dataframe thead th {\n",
       "        text-align: right;\n",
       "    }\n",
       "</style>\n",
       "<table border=\"1\" class=\"dataframe\">\n",
       "  <thead>\n",
       "    <tr style=\"text-align: right;\">\n",
       "      <th></th>\n",
       "      <th>AAPL</th>\n",
       "      <th>AMZN</th>\n",
       "      <th>BRK-A</th>\n",
       "      <th>MSFT</th>\n",
       "      <th>SPY</th>\n",
       "      <th>VB</th>\n",
       "      <th>VGT</th>\n",
       "      <th>WMT</th>\n",
       "      <th>Mkt-RF</th>\n",
       "      <th>SMB</th>\n",
       "      <th>HML</th>\n",
       "      <th>RMW</th>\n",
       "      <th>CMA</th>\n",
       "      <th>RF</th>\n",
       "    </tr>\n",
       "    <tr>\n",
       "      <th>Date</th>\n",
       "      <th></th>\n",
       "      <th></th>\n",
       "      <th></th>\n",
       "      <th></th>\n",
       "      <th></th>\n",
       "      <th></th>\n",
       "      <th></th>\n",
       "      <th></th>\n",
       "      <th></th>\n",
       "      <th></th>\n",
       "      <th></th>\n",
       "      <th></th>\n",
       "      <th></th>\n",
       "      <th></th>\n",
       "    </tr>\n",
       "  </thead>\n",
       "  <tbody>\n",
       "    <tr>\n",
       "      <th>2004-03-01</th>\n",
       "      <td>0.130434</td>\n",
       "      <td>0.006278</td>\n",
       "      <td>-0.012698</td>\n",
       "      <td>-0.060309</td>\n",
       "      <td>-0.016693</td>\n",
       "      <td>0.008000</td>\n",
       "      <td>-0.025820</td>\n",
       "      <td>0.002182</td>\n",
       "      <td>-0.0132</td>\n",
       "      <td>0.0210</td>\n",
       "      <td>0.0027</td>\n",
       "      <td>0.0156</td>\n",
       "      <td>-0.0098</td>\n",
       "      <td>0.0009</td>\n",
       "    </tr>\n",
       "    <tr>\n",
       "      <th>2004-04-01</th>\n",
       "      <td>-0.046597</td>\n",
       "      <td>0.007394</td>\n",
       "      <td>0.000965</td>\n",
       "      <td>0.048134</td>\n",
       "      <td>-0.015482</td>\n",
       "      <td>-0.047024</td>\n",
       "      <td>-0.054312</td>\n",
       "      <td>-0.042920</td>\n",
       "      <td>-0.0183</td>\n",
       "      <td>-0.0201</td>\n",
       "      <td>-0.0310</td>\n",
       "      <td>0.0345</td>\n",
       "      <td>-0.0284</td>\n",
       "      <td>0.0008</td>\n",
       "    </tr>\n",
       "    <tr>\n",
       "      <th>2004-05-01</th>\n",
       "      <td>0.088440</td>\n",
       "      <td>0.112385</td>\n",
       "      <td>-0.047007</td>\n",
       "      <td>0.003827</td>\n",
       "      <td>0.017124</td>\n",
       "      <td>0.021028</td>\n",
       "      <td>0.049161</td>\n",
       "      <td>-0.022281</td>\n",
       "      <td>0.0117</td>\n",
       "      <td>-0.0038</td>\n",
       "      <td>-0.0025</td>\n",
       "      <td>-0.0118</td>\n",
       "      <td>0.0003</td>\n",
       "      <td>0.0006</td>\n",
       "    </tr>\n",
       "    <tr>\n",
       "      <th>2004-06-01</th>\n",
       "      <td>0.159658</td>\n",
       "      <td>0.121650</td>\n",
       "      <td>-0.000562</td>\n",
       "      <td>0.088830</td>\n",
       "      <td>0.014797</td>\n",
       "      <td>0.037725</td>\n",
       "      <td>0.020145</td>\n",
       "      <td>-0.055735</td>\n",
       "      <td>0.0186</td>\n",
       "      <td>0.0256</td>\n",
       "      <td>0.0118</td>\n",
       "      <td>0.0120</td>\n",
       "      <td>-0.0039</td>\n",
       "      <td>0.0008</td>\n",
       "    </tr>\n",
       "    <tr>\n",
       "      <th>2004-07-01</th>\n",
       "      <td>-0.006146</td>\n",
       "      <td>-0.284559</td>\n",
       "      <td>-0.019112</td>\n",
       "      <td>-0.002451</td>\n",
       "      <td>-0.028686</td>\n",
       "      <td>-0.061112</td>\n",
       "      <td>-0.084782</td>\n",
       "      <td>0.009715</td>\n",
       "      <td>-0.0406</td>\n",
       "      <td>-0.0295</td>\n",
       "      <td>0.0324</td>\n",
       "      <td>0.0532</td>\n",
       "      <td>-0.0166</td>\n",
       "      <td>0.0010</td>\n",
       "    </tr>\n",
       "  </tbody>\n",
       "</table>\n",
       "</div>"
      ],
      "text/plain": [
       "                AAPL      AMZN     BRK-A      MSFT       SPY        VB  \\\n",
       "Date                                                                     \n",
       "2004-03-01  0.130434  0.006278 -0.012698 -0.060309 -0.016693  0.008000   \n",
       "2004-04-01 -0.046597  0.007394  0.000965  0.048134 -0.015482 -0.047024   \n",
       "2004-05-01  0.088440  0.112385 -0.047007  0.003827  0.017124  0.021028   \n",
       "2004-06-01  0.159658  0.121650 -0.000562  0.088830  0.014797  0.037725   \n",
       "2004-07-01 -0.006146 -0.284559 -0.019112 -0.002451 -0.028686 -0.061112   \n",
       "\n",
       "                 VGT       WMT  Mkt-RF     SMB     HML     RMW     CMA      RF  \n",
       "Date                                                                            \n",
       "2004-03-01 -0.025820  0.002182 -0.0132  0.0210  0.0027  0.0156 -0.0098  0.0009  \n",
       "2004-04-01 -0.054312 -0.042920 -0.0183 -0.0201 -0.0310  0.0345 -0.0284  0.0008  \n",
       "2004-05-01  0.049161 -0.022281  0.0117 -0.0038 -0.0025 -0.0118  0.0003  0.0006  \n",
       "2004-06-01  0.020145 -0.055735  0.0186  0.0256  0.0118  0.0120 -0.0039  0.0008  \n",
       "2004-07-01 -0.084782  0.009715 -0.0406 -0.0295  0.0324  0.0532 -0.0166  0.0010  "
      ]
     },
     "execution_count": 32,
     "metadata": {},
     "output_type": "execute_result"
    }
   ],
   "source": [
    "#Juntar datos\n",
    "df = pd.merge(rt, factors_df, on='Date')\n",
    "df.head()"
   ]
  },
  {
   "cell_type": "markdown",
   "id": "1670fb21",
   "metadata": {},
   "source": [
    "### Crea el CAPM con el S&P500, ¿Qué concluyes?\n",
    "\n",
    "\n"
   ]
  },
  {
   "cell_type": "code",
   "execution_count": 38,
   "id": "bf349807",
   "metadata": {},
   "outputs": [
    {
     "data": {
      "text/plain": [
       "0.9794429396960032"
      ]
     },
     "execution_count": 38,
     "metadata": {},
     "output_type": "execute_result"
    }
   ],
   "source": [
    "spy_f = df.copy()\n",
    "spy_f['spy_minus_rf']= spy_f['SPY']- spy_f['RF']\n",
    "\n",
    "X = spy_f[['Mkt-RF']]\n",
    "y = spy_f[['spy_minus_rf']]\n",
    "\n",
    "model = LinearRegression().fit(X, y)\n",
    "predictions = model.predict(X)\n",
    "r2_score(y_pred=predictions, y_true=y)"
   ]
  },
  {
   "cell_type": "markdown",
   "id": "81b8720c",
   "metadata": {},
   "source": [
    "# Ahora con Berkshiere"
   ]
  },
  {
   "cell_type": "code",
   "execution_count": 40,
   "id": "4d117dc1",
   "metadata": {},
   "outputs": [
    {
     "data": {
      "text/plain": [
       "0.35507832163244357"
      ]
     },
     "execution_count": 40,
     "metadata": {},
     "output_type": "execute_result"
    }
   ],
   "source": [
    "# Accion minus RF \n",
    "brk_f = df.copy()\n",
    "brk_f['brk_minus_rf']= brk_f['BRK-A']-brk_f['RF']\n",
    "\n",
    "X = brk_f[['Mkt-RF']]\n",
    "y = brk_f[['brk_minus_rf']]\n",
    "\n",
    "model = LinearRegression().fit(X, y)\n",
    "predictions = model.predict(X)\n",
    "r2_score(y_pred=predictions, y_true=y)"
   ]
  },
  {
   "cell_type": "code",
   "execution_count": 400,
   "id": "094eaa55",
   "metadata": {},
   "outputs": [
    {
     "data": {
      "text/plain": [
       "0.35507832163244357"
      ]
     },
     "execution_count": 400,
     "metadata": {},
     "output_type": "execute_result"
    }
   ],
   "source": [
    "# CAPM\n",
    "\n",
    "\n",
    "# Calcular R2"
   ]
  },
  {
   "cell_type": "code",
   "execution_count": 41,
   "id": "bb10fe2d",
   "metadata": {},
   "outputs": [
    {
     "data": {
      "text/plain": [
       "[<matplotlib.lines.Line2D at 0x7fece23bcfa0>]"
      ]
     },
     "execution_count": 41,
     "metadata": {},
     "output_type": "execute_result"
    },
    {
     "data": {
      "image/png": "[encoded data removed]",
      "text/plain": [
       "<Figure size 640x480 with 1 Axes>"
      ]
     },
     "metadata": {},
     "output_type": "display_data"
    }
   ],
   "source": [
    "# Plot CAPM \n",
    "plt.scatter(X, y)\n",
    "plt.plot(X, predictions, 'red')"
   ]
  },
  {
   "cell_type": "markdown",
   "id": "93eaf3d3",
   "metadata": {},
   "source": [
    "## Fama french con Berkshiere"
   ]
  },
  {
   "cell_type": "code",
   "execution_count": 42,
   "id": "24b6ff0c",
   "metadata": {},
   "outputs": [
    {
     "data": {
      "text/plain": [
       "Index(['AAPL', 'AMZN', 'BRK-A', 'MSFT', 'SPY', 'VB', 'VGT', 'WMT', 'Mkt-RF',\n",
       "       'SMB', 'HML', 'RMW', 'CMA', 'RF'],\n",
       "      dtype='object')"
      ]
     },
     "execution_count": 42,
     "metadata": {},
     "output_type": "execute_result"
    }
   ],
   "source": [
    "df.keys()"
   ]
  },
  {
   "cell_type": "code",
   "execution_count": 43,
   "id": "0211303b",
   "metadata": {},
   "outputs": [
    {
     "data": {
      "text/plain": [
       "0.44050712135492487"
      ]
     },
     "execution_count": 43,
     "metadata": {},
     "output_type": "execute_result"
    }
   ],
   "source": [
    "# FAMA french; accion minus RF\n",
    "brk_f = df.copy()\n",
    "brk_f['brk_minus_rf']= brk_f['BRK-A']-brk_f['RF']\n",
    "\n",
    "X = brk_f[['Mkt-RF', 'SMB', 'HML']]\n",
    "y = brk_f[['brk_minus_rf']]\n",
    "\n",
    "model = LinearRegression().fit(X, y)\n",
    "predictions = model.predict(X)\n",
    "r2_score(y_pred=predictions, y_true=y)\n",
    "\n",
    "# R2 \n"
   ]
  },
  {
   "cell_type": "markdown",
   "id": "0e28a876",
   "metadata": {},
   "source": [
    "# 5 factor model con Berkshiere"
   ]
  },
  {
   "cell_type": "code",
   "execution_count": 44,
   "id": "cc45dbb0",
   "metadata": {},
   "outputs": [
    {
     "data": {
      "text/plain": [
       "0.44143963514647044"
      ]
     },
     "execution_count": 44,
     "metadata": {},
     "output_type": "execute_result"
    }
   ],
   "source": [
    "# 5 factor model\n",
    "brk_f = df.copy()\n",
    "brk_f['brk_minus_rf']= brk_f['BRK-A']-brk_f['RF']\n",
    "\n",
    "X = brk_f[['Mkt-RF', 'SMB', 'HML', 'CMA', 'RMW']]\n",
    "y = brk_f[['brk_minus_rf']]\n",
    "\n",
    "model = LinearRegression().fit(X, y)\n",
    "predictions = model.predict(X)\n",
    "r2_score(y_pred=predictions, y_true=y)\n",
    "\n",
    "# R2\n"
   ]
  },
  {
   "cell_type": "markdown",
   "id": "614e2293",
   "metadata": {},
   "source": [
    "### El de 5 factores varia muy poquito realmente, no es mucho"
   ]
  },
  {
   "cell_type": "code",
   "execution_count": 47,
   "id": "d00f41ad",
   "metadata": {},
   "outputs": [],
   "source": [
    "# Correr todos los modelos\n",
    "def run_all_models(data, ticker):\n",
    "    flag_data = data.copy()\n",
    "    flag_data[ticker + '_minus_RF'] = data[ticker] - data['RF']\n",
    "    y = flag_data[[ticker + '_minus_RF']] \n",
    "\n",
    "    # CAPM \n",
    "    X_capm = flag_data[['Mkt-RF']]\n",
    "    model_capm = LinearRegression().fit(X_capm, y)\n",
    "    prediction_capm = model_capm.predict(X_capm)\n",
    "    r2_capm = r2_score(y_pred=prediction_capm, y_true=y)\n",
    "    summary_capm = {str(X_capm.keys().values): list(model_capm.coef_[0])}\n",
    "\n",
    "    # 3 factor model \n",
    "    X_3factor = flag_data[['Mkt-RF', 'SMB', 'HML']]\n",
    "    model_3factor = LinearRegression().fit(X_3factor, y)\n",
    "    prediction_3factor = model_3factor.predict(X_3factor)\n",
    "    r2_3factor = r2_score(y_pred=prediction_3factor, y_true=y)\n",
    "    summary_3factor = {str(X_3factor.keys().values): list(model_3factor.coef_[0])}\n",
    "    \n",
    "    \n",
    "    # 5 factor\n",
    "    X_5factor = flag_data[['Mkt-RF', 'SMB', 'HML', 'RMW', 'CMA']]\n",
    "    model_5factor = LinearRegression().fit(X_5factor, y)\n",
    "    prediction_5factor = model_5factor.predict(X_5factor)\n",
    "    r2_5factor = r2_score(y_pred=prediction_5factor, y_true=y)\n",
    "    summary_5factor = {str(X_5factor.keys().values): list(model_5factor.coef_[0])}\n",
    "    \n",
    "    summary = {\n",
    "        'CAPM': {'BETAS': summary_capm, 'R2': r2_capm},\n",
    "        '3 factor': {'BETAS': summary_3factor, 'R2': r2_3factor},\n",
    "        '5 factor': {'BETAS': summary_5factor, 'R2': r2_5factor}\n",
    "\n",
    "    }\n",
    "    return summary\n",
    "#hace todo y corre todo, esto es como para confirmar para el examen o para algún trabajo"
   ]
  },
  {
   "cell_type": "markdown",
   "id": "25b23e98",
   "metadata": {},
   "source": [
    "### Las empresas más chicas ganan más; tienen más riesgos y por lo menos les va mejor."
   ]
  },
  {
   "cell_type": "code",
   "execution_count": 48,
   "id": "c6156784",
   "metadata": {
    "scrolled": true
   },
   "outputs": [
    {
     "data": {
      "text/plain": [
       "{'CAPM': {'BETAS': {\"['Mkt-RF']\": [0.660357003845217]},\n",
       "  'R2': 0.35507832163244357},\n",
       " '3 factor': {'BETAS': {\"['Mkt-RF' 'SMB' 'HML']\": [0.7136224564648204,\n",
       "    -0.4359527533147112,\n",
       "    0.41138945960879036]},\n",
       "  'R2': 0.44050712135492487},\n",
       " '5 factor': {'BETAS': {\"['Mkt-RF' 'SMB' 'HML' 'RMW' 'CMA']\": [0.7195419365960634,\n",
       "    -0.4443516523059492,\n",
       "    0.38299077157731326,\n",
       "    -0.047644924321798454,\n",
       "    0.0843270532598792]},\n",
       "  'R2': 0.44143963514647044}}"
      ]
     },
     "execution_count": 48,
     "metadata": {},
     "output_type": "execute_result"
    }
   ],
   "source": [
    "# Como es con CAPM\n",
    "run_all_models(df, 'BRK-A')"
   ]
  },
  {
   "cell_type": "code",
   "execution_count": 49,
   "id": "051e0971",
   "metadata": {
    "scrolled": true
   },
   "outputs": [
    {
     "data": {
      "text/plain": [
       "{'CAPM': {'BETAS': {\"['Mkt-RF']\": [1.2206838039463046]},\n",
       "  'R2': 0.2572202565068963},\n",
       " '3 factor': {'BETAS': {\"['Mkt-RF' 'SMB' 'HML']\": [1.349274181251441,\n",
       "    0.013170724476087137,\n",
       "    -1.221057534197913]},\n",
       "  'R2': 0.38671981754956797},\n",
       " '5 factor': {'BETAS': {\"['Mkt-RF' 'SMB' 'HML' 'RMW' 'CMA']\": [1.2959775241703202,\n",
       "    -0.11994268075022335,\n",
       "    -0.9723496421507536,\n",
       "    -0.32975187711965603,\n",
       "    -0.5716629140532989]},\n",
       "  'R2': 0.39612186474508215}}"
      ]
     },
     "execution_count": 49,
     "metadata": {},
     "output_type": "execute_result"
    }
   ],
   "source": [
    "run_all_models(df, 'AMZN')"
   ]
  },
  {
   "cell_type": "markdown",
   "id": "c5b7a26c",
   "metadata": {},
   "source": [
    "### con el de 5 factores es de 0.39; siempre sera un poquito más grande"
   ]
  },
  {
   "cell_type": "code",
   "execution_count": 50,
   "id": "6e7183c7",
   "metadata": {},
   "outputs": [
    {
     "data": {
      "text/plain": [
       "{'BETAS': {\"['Mkt-RF' 'SMB' 'HML']\": [1.349274181251441,\n",
       "   0.013170724476087137,\n",
       "   -1.221057534197913]},\n",
       " 'R2': 0.38671981754956797}"
      ]
     },
     "execution_count": 50,
     "metadata": {},
     "output_type": "execute_result"
    }
   ],
   "source": [
    "# Como es con 3 factors\n",
    "run_all_models(df, 'AMZN')['3 factor']"
   ]
  },
  {
   "cell_type": "code",
   "execution_count": 51,
   "id": "14415e91",
   "metadata": {},
   "outputs": [
    {
     "data": {
      "text/plain": [
       "{'BETAS': {\"['Mkt-RF' 'SMB' 'HML' 'RMW' 'CMA']\": [1.2959775241703202,\n",
       "   -0.11994268075022335,\n",
       "   -0.9723496421507536,\n",
       "   -0.32975187711965603,\n",
       "   -0.5716629140532989]},\n",
       " 'R2': 0.39612186474508215}"
      ]
     },
     "execution_count": 51,
     "metadata": {},
     "output_type": "execute_result"
    }
   ],
   "source": [
    "# Como es con 5 factors\n",
    "run_all_models(df, 'AMZN')['5 factor']"
   ]
  },
  {
   "cell_type": "markdown",
   "id": "d509f502",
   "metadata": {},
   "source": [
    "## Crea un portafolio con 50% apple y 50% amazon\n",
    "¿Qué concluyes?"
   ]
  },
  {
   "cell_type": "code",
   "execution_count": 52,
   "id": "47881566",
   "metadata": {},
   "outputs": [
    {
     "data": {
      "text/plain": [
       "{'BETAS': {\"['Mkt-RF']\": [1.2125189211022496]}, 'R2': 0.41273614360477906}"
      ]
     },
     "execution_count": 52,
     "metadata": {},
     "output_type": "execute_result"
    }
   ],
   "source": [
    "df['apple_amazon']= 0.5*df['AAPL'] + 0.5*df['AMZN']\n",
    "\n",
    "run_all_models(df, 'apple_amazon')['CAPM']"
   ]
  },
  {
   "cell_type": "code",
   "execution_count": 53,
   "id": "d852338a",
   "metadata": {},
   "outputs": [
    {
     "data": {
      "text/plain": [
       "{'BETAS': {\"['Mkt-RF' 'SMB' 'HML']\": [1.3376247550214377,\n",
       "   -0.12102468601718752,\n",
       "   -0.9098721857362636]},\n",
       " 'R2': 0.5373223300325827}"
      ]
     },
     "execution_count": 53,
     "metadata": {},
     "output_type": "execute_result"
    }
   ],
   "source": [
    "run_all_models(df, 'apple_amazon')['3 factor']"
   ]
  },
  {
   "cell_type": "code",
   "execution_count": 54,
   "id": "36393aa2",
   "metadata": {},
   "outputs": [
    {
     "data": {
      "text/plain": [
       "{'BETAS': {\"['Mkt-RF' 'SMB' 'HML' 'RMW' 'CMA']\": [1.297586783466012,\n",
       "   -0.11910240233728281,\n",
       "   -0.7196262067204848,\n",
       "   0.12275392036705411,\n",
       "   -0.5210435952639227]},\n",
       " 'R2': 0.5466871307143331}"
      ]
     },
     "execution_count": 54,
     "metadata": {},
     "output_type": "execute_result"
    }
   ],
   "source": [
    "run_all_models(df, 'apple_amazon')['5 factor']"
   ]
  },
  {
   "cell_type": "markdown",
   "id": "49ab925c",
   "metadata": {},
   "source": [
    "### R2: nivel de explicabilidad de tu modelo. El CAPM explica un 41%, mientras que el 3 factors ell 1.33%..."
   ]
  },
  {
   "cell_type": "markdown",
   "id": "8b3f2d1a",
   "metadata": {},
   "source": [
    "## Crea un portafolio con (1/3) apple, (1/3) amazon 6(1/3) microsoft\n",
    "¿Qué concluyes?\n"
   ]
  },
  {
   "cell_type": "code",
   "execution_count": 55,
   "id": "61634be4",
   "metadata": {},
   "outputs": [
    {
     "data": {
      "text/plain": [
       "{'BETAS': {\"['Mkt-RF']\": [1.1174481668523846]}, 'R2': 0.5059471154871347}"
      ]
     },
     "execution_count": 55,
     "metadata": {},
     "output_type": "execute_result"
    }
   ],
   "source": [
    "df['apple_amazon_msft']= (1/3)*df['AAPL'] + (1/3)*df['AMZN'] + (1/3)*df['MSFT']\n",
    "\n",
    "run_all_models(df, 'apple_amazon_msft')['CAPM']"
   ]
  },
  {
   "cell_type": "code",
   "execution_count": 56,
   "id": "65c08b8e",
   "metadata": {},
   "outputs": [
    {
     "data": {
      "text/plain": [
       "{'CAPM': {'BETAS': {\"['Mkt-RF']\": [1.1174481668523846]},\n",
       "  'R2': 0.5059471154871347},\n",
       " '3 factor': {'BETAS': {\"['Mkt-RF' 'SMB' 'HML']\": [1.2524513132884654,\n",
       "    -0.2737200452195465,\n",
       "    -0.6844689441651317]},\n",
       "  'R2': 0.6252350614435083},\n",
       " '5 factor': {'BETAS': {\"['Mkt-RF' 'SMB' 'HML' 'RMW' 'CMA']\": [1.2182319003861988,\n",
       "    -0.2822798473523843,\n",
       "    -0.5222119605952199,\n",
       "    0.06782861120099849,\n",
       "    -0.4361534382307902]},\n",
       "  'R2': 0.6343663433126485}}"
      ]
     },
     "execution_count": 56,
     "metadata": {},
     "output_type": "execute_result"
    }
   ],
   "source": [
    "run_all_models(df, 'apple_amazon_msft')"
   ]
  },
  {
   "cell_type": "markdown",
   "id": "a71ebf6b",
   "metadata": {},
   "source": [
    "### El nivel va aumentando; tus acciones pertenecen al mercado, mientras mas acciones, se explican mejor tus rendimientos. El R2 se aproxime al 1"
   ]
  },
  {
   "cell_type": "markdown",
   "id": "3a22d86b",
   "metadata": {},
   "source": [
    "## Crea un portafolio con (1/4) apple, (1/4) amazon, (1/4) microsoft, (1/4) Walmart\n",
    "¿Qué concluyes?\n"
   ]
  },
  {
   "cell_type": "code",
   "execution_count": 57,
   "id": "e2d607ad",
   "metadata": {},
   "outputs": [],
   "source": [
    "df['apple_amazon_msft_wmt']= (1/4)*df['AAPL'] + (1/4)*df['AMZN'] + (1/4)*df['MSFT'] + (1/4)*df['WMT']"
   ]
  },
  {
   "cell_type": "code",
   "execution_count": 59,
   "id": "7f301373",
   "metadata": {},
   "outputs": [
    {
     "data": {
      "text/plain": [
       "{'CAPM': {'BETAS': {\"['Mkt-RF']\": [0.9316160202194714]},\n",
       "  'R2': 0.5413624696697963},\n",
       " '3 factor': {'BETAS': {\"['Mkt-RF' 'SMB' 'HML']\": [1.0612296169883855,\n",
       "    -0.331876285775738,\n",
       "    -0.5135980539142676]},\n",
       "  'R2': 0.6647088226129763},\n",
       " '5 factor': {'BETAS': {\"['Mkt-RF' 'SMB' 'HML' 'RMW' 'CMA']\": [1.0467889554953191,\n",
       "    -0.3044186355364473,\n",
       "    -0.44408591360868077,\n",
       "    0.14156003605083844,\n",
       "    -0.21197948232281721]},\n",
       "  'R2': 0.6697418716784865}}"
      ]
     },
     "execution_count": 59,
     "metadata": {},
     "output_type": "execute_result"
    }
   ],
   "source": [
    "run_all_models(df, 'apple_amazon_msft_wmt')"
   ]
  },
  {
   "cell_type": "markdown",
   "id": "a0fa88fd",
   "metadata": {},
   "source": [
    "### el R2 ahora es 66%; aquí se esta comparando el VGT con VTI, el de 5 es el peorcito, no tiene mucho caso, mejor el de 3 y luego el de CAPM."
   ]
  }
 ],
 "metadata": {
  "kernelspec": {
   "display_name": "Python 3 (ipykernel)",
   "language": "python",
   "name": "python3"
  },
  "language_info": {
   "codemirror_mode": {
    "name": "ipython",
    "version": 3
   },
   "file_extension": ".py",
   "mimetype": "text/x-python",
   "name": "python",
   "nbconvert_exporter": "python",
   "pygments_lexer": "ipython3",
   "version": "3.10.12"
  }
 },
 "nbformat": 4,
 "nbformat_minor": 5
}
