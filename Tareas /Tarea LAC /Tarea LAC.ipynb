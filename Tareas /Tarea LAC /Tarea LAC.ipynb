{
 "cells": [
  {
   "cell_type": "markdown",
   "id": "1c4dac93-1760-4d1f-ac62-e77af6425ec0",
   "metadata": {},
   "source": [
    "# Actividades"
   ]
  },
  {
   "cell_type": "markdown",
   "id": "55ee7275-6b25-4485-a903-c9ca69578187",
   "metadata": {},
   "source": [
    "- Crea un portafolio de markowitz\n",
    "- Crea la LAC\n",
    "- ¿Cuanto en bonos y cuanto en acciones segun la ecuación que venimos viendo=\n",
    "- Usa RF como 4%\n",
    "- Usa alpha como una serie de 1 a 10\n",
    "- Explicar los resultados y el porque podrían tener sentido. No se vale nomas poner código y gráficas"
   ]
  },
  {
   "cell_type": "code",
   "execution_count": 21,
   "id": "635fffbe-7697-4cc6-9064-129674f82692",
   "metadata": {},
   "outputs": [],
   "source": [
    "# Importamos la librerias \n",
    "# Bajamos los ETF de yahoo\n",
    "import yfinance as yf\n",
    "import pandas as pd\n",
    "import numpy as np \n",
    "import matplotlib.pyplot as plt"
   ]
  },
  {
   "cell_type": "code",
   "execution_count": 22,
   "id": "bcb9602f-d5bc-4701-84d0-952f0402c856",
   "metadata": {},
   "outputs": [
    {
     "name": "stdout",
     "output_type": "stream",
     "text": [
      "[*********************100%%**********************]  14 of 14 completed\n"
     ]
    }
   ],
   "source": [
    "tickers = ['GOOGL', 'EFX', 'COST', 'WMT', 'PG',\n",
    "     'DIS', 'IBM', 'AMZN', 'TGT', 'JPM', 'INTC',\n",
    "    'MSFT', 'BLK', 'NFLX']\n",
    "start_date = '2015-01-01'\n",
    "\n",
    "\n",
    "St = yf.download(tickers, start=start_date)['Close']\n",
    "St.head()\n",
    "rt = St.pct_change().dropna()\n"
   ]
  },
  {
   "cell_type": "code",
   "execution_count": null,
   "id": "ab04df22-7972-4d3a-b719-478cd4e51e31",
   "metadata": {},
   "outputs": [],
   "source": [
    "# Resumen: rendimiento medio  y volatilidad\n",
    "resumen = pd.DataFrame()\n",
    "resumen['expected_value'] = rt.mean() * 252 \n",
    "resumen['volatility'] = rt.std() * np.sqrt(252) \n",
    "resumen "
   ]
  },
  {
   "cell_type": "code",
   "execution_count": null,
   "id": "e0c2ac2c-f685-4075-862f-08faca100619",
   "metadata": {},
   "outputs": [],
   "source": []
  },
  {
   "cell_type": "code",
   "execution_count": null,
   "id": "e2b84459-98a5-4d04-9fee-9637f4ac97c2",
   "metadata": {},
   "outputs": [],
   "source": []
  },
  {
   "cell_type": "code",
   "execution_count": null,
   "id": "9bed57a1-0ddc-491b-9dc4-c1df3ac6ed6b",
   "metadata": {},
   "outputs": [],
   "source": []
  },
  {
   "cell_type": "code",
   "execution_count": null,
   "id": "057740fa-d672-4b98-b838-3f9803c96826",
   "metadata": {},
   "outputs": [],
   "source": []
  },
  {
   "cell_type": "code",
   "execution_count": 10,
   "id": "0720ba01-2d33-475c-9eae-74b773ddf984",
   "metadata": {},
   "outputs": [],
   "source": [
    "# ¿Cuanto en cada activo?\n",
    "\n",
    "# 'GOOGL', 'EFX', 'COST', 'WMT', 'PG',\n",
    "#      'DIS', 'IBM', 'AMZN', 'TGT', 'JPM', 'INTC',\n",
    "#      'MSFT', 'BLK', 'NFLX'\n",
    "\n",
    "df['W_GOOGL'] = [i[0] for i in W]\n",
    "df['W_ETX'] = [i[1] for i in W]\n",
    "df['W_COST'] = [i[2] for i in W]\n",
    "df['W_WMT'] = [i[3] for i in W]\n",
    "df['W_PG'] = [i[0] for i in W]\n",
    "df['W_DIS'] = [i[1] for i in W]\n",
    "df['W_IMB'] = [i[2] for i in W]\n",
    "df['W_AMZN'] = [i[3] for i in W]\n",
    "df['W_TGT'] = [i[0] for i in W]\n",
    "df['W_JPM'] = [i[1] for i in W]\n",
    "df['W_INTC'] = [i[2] for i in W]\n",
    "df['W_MSFT'] = [i[3] for i in W]\n",
    "df['W_BLK'] = [i[0] for i in W]\n",
    "df['W_NFLX'] = [i[1] for i in W]"
   ]
  },
  {
   "cell_type": "markdown",
   "id": "d66a2fb5-d3e8-406c-bf9b-cbc2a9d5f3af",
   "metadata": {},
   "source": [
    "# Explicacion "
   ]
  },
  {
   "cell_type": "code",
   "execution_count": null,
   "id": "e03500e4-ba40-4d29-84d3-bd814ea92649",
   "metadata": {},
   "outputs": [],
   "source": []
  },
  {
   "cell_type": "code",
   "execution_count": null,
   "id": "d708e593-97a3-4d1c-8190-82cc29a7ca5c",
   "metadata": {},
   "outputs": [],
   "source": []
  },
  {
   "cell_type": "code",
   "execution_count": null,
   "id": "c2fb894b-591b-4a4b-b664-f93209f51f1e",
   "metadata": {},
   "outputs": [],
   "source": []
  },
  {
   "cell_type": "code",
   "execution_count": null,
   "id": "24c36063-cf25-46f3-9288-b1fc167f777b",
   "metadata": {},
   "outputs": [],
   "source": []
  },
  {
   "cell_type": "code",
   "execution_count": null,
   "id": "9430a044-b585-4c17-aca5-ab28d4387a74",
   "metadata": {},
   "outputs": [],
   "source": []
  },
  {
   "cell_type": "code",
   "execution_count": null,
   "id": "38e69b0c-4af4-45a1-a61a-373061da4b14",
   "metadata": {},
   "outputs": [],
   "source": []
  },
  {
   "cell_type": "code",
   "execution_count": null,
   "id": "4911375a-88b3-4c42-9870-4870f26f33b9",
   "metadata": {},
   "outputs": [],
   "source": []
  }
 ],
 "metadata": {
  "kernelspec": {
   "display_name": "Python 3 (ipykernel)",
   "language": "python",
   "name": "python3"
  },
  "language_info": {
   "codemirror_mode": {
    "name": "ipython",
    "version": 3
   },
   "file_extension": ".py",
   "mimetype": "text/x-python",
   "name": "python",
   "nbconvert_exporter": "python",
   "pygments_lexer": "ipython3",
   "version": "3.10.12"
  }
 },
 "nbformat": 4,
 "nbformat_minor": 5
}
