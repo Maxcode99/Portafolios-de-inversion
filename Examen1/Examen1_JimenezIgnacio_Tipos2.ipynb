{
 "cells": [
  {
   "cell_type": "markdown",
   "metadata": {},
   "source": [
    "# Examen 1 - Portafolios de inversión - P2023. Tipo 2.\n",
    "\n"
   ]
  },
  {
   "cell_type": "markdown",
   "metadata": {},
   "source": [
    "## I. Primera parte (50%)"
   ]
  },
  {
   "cell_type": "markdown",
   "metadata": {},
   "source": [
    "## **Pregunta 1.** La varianza de un portafolio compuesto por $n$ activos es\n",
    "\n",
    "$$\n",
    "\\sigma_p^{2} = \\sum_{i=1}^{n}\\sum_{k=1}^{n} w_i w_k \\sigma_{ik}\n",
    "$$\n",
    "\n",
    "donde $w_i$ es la ponderación del activo $i\\in\\{1, 2, \\dots, n\\}$ en el portafolio, y $\\sigma_{ik}$ es la covarianza entre los activos $i$ y $k$.\n",
    "\n",
    "## Explique de donde sale la formula anterior, de una interpretación de la misma y porque de ahí sale que la varianza del portafolio es igual a:\n",
    "\n",
    "$$Var(P) = w_1^2\\sigma_1 ^2 + w_2^2 \\sigma_2 ^2  + 2 w_1 w_2 cov(1,2)$$"
   ]
  },
  {
   "cell_type": "markdown",
   "metadata": {},
   "source": [
    "### Respuesta\n",
    "\n",
    "Primero tenemos como norma general que la esperanza es un valor que se asemeja al promedio. Cuando queremos obtener la esperanza de algo, multplicamos la probabilidad de ese algo por la utilidad o el resultado que se obtendria si algo se cumple \n",
    "  $$E[x] = \\sum_{i=1}^{n} p_i x_i $$\n",
    "\n",
    "Ahora, si queremos obtener la esperanza de un portafolio, tenemos que multplicar el peso del portafolio, que seria la cantidad de acciones que invertiremos por su promedio; teniendo en cuenta que el promedio seria nuestra utilidad\n",
    "\n",
    "$$E[p] = \\sum_{i=1}^{n} w_i \\overline{r_i}$$\n",
    "\n",
    "Si tenemos varios activos, tenemos que repetir el proceso para cada uno de los activos \n",
    "\n",
    "$$E[p] = \\sum_{i=1}^{n} w_1 \\overline{r_1} + w_2  \\overline{r_2}$$\n",
    "\n",
    "Para calcular la varianza tenemos que recordar la formula de la varianza\n",
    "\n",
    "$$Var(x) = E[(x - E[x]^2] $$\n",
    "\n",
    "Que en un portafolio ya sabemos que la varianza es la transpuesta de W; que serian los pesos, multplicados por todas las volatilidades de la cantidad de activos que tengamos, multplicados por la tranpuesta de los activos( La tranpuesta de los activos, es la misma matriz, pero invirtiendo las filas y las columnas\n",
    "\n",
    "$$Var(p) = W^T \\sum W    $$\n",
    "\n",
    "$$Var(p) = E[(w_i r_1 + w_2 r_2) - (w_1 \\overline{r_1} + w_2 \\overline{r_2})]^2 $$\n",
    "\n",
    "$$Var(p) = W^T \\sum W    $$\n",
    "\n",
    "Si hacemos la multplicacion matricial, nos da esto com resultado \n",
    "\n",
    "$$Var(p) = w_1^2 \\sigma_1^2 +  w_2^2 \\sigma_2^2 + 2 w_1 w_2 cov(r1, r2)$$\n",
    "\n",
    "\n"
   ]
  },
  {
   "cell_type": "markdown",
   "metadata": {},
   "source": [
    "**Pregunta 2.**\n",
    "\n",
    "Inventa un ejemplo 10 rendimientos, calcula el rendimiento aritmetico y el geometrico. Explica que significa cada uno a tu yo de primer semestre.\n"
   ]
  },
  {
   "cell_type": "code",
   "execution_count": 91,
   "metadata": {},
   "outputs": [],
   "source": [
    "#Importamos las librerias \n",
    "import yfinance as yf\n",
    "import pandas as pd\n",
    "import numpy as np \n",
    "import matplotlib.pyplot as plt"
   ]
  },
  {
   "cell_type": "markdown",
   "metadata": {},
   "source": [
    "Primer obtenemos los precios que se dieron la final cada dia de cotizacion en la bolsa, desde 2015 hasta ahora"
   ]
  },
  {
   "cell_type": "code",
   "execution_count": 92,
   "metadata": {
    "scrolled": true
   },
   "outputs": [
    {
     "name": "stdout",
     "output_type": "stream",
     "text": [
      "[*********************100%%**********************]  10 of 10 completed\n"
     ]
    },
    {
     "data": {
      "text/html": [
       "<div>\n",
       "<style scoped>\n",
       "    .dataframe tbody tr th:only-of-type {\n",
       "        vertical-align: middle;\n",
       "    }\n",
       "\n",
       "    .dataframe tbody tr th {\n",
       "        vertical-align: top;\n",
       "    }\n",
       "\n",
       "    .dataframe thead th {\n",
       "        text-align: right;\n",
       "    }\n",
       "</style>\n",
       "<table border=\"1\" class=\"dataframe\">\n",
       "  <thead>\n",
       "    <tr style=\"text-align: right;\">\n",
       "      <th></th>\n",
       "      <th>AAPL</th>\n",
       "      <th>GOOGL</th>\n",
       "      <th>JNJ</th>\n",
       "      <th>JPM</th>\n",
       "      <th>META</th>\n",
       "      <th>MSFT</th>\n",
       "      <th>NAFTRAC.MX</th>\n",
       "      <th>NVDA</th>\n",
       "      <th>TSLA</th>\n",
       "      <th>VOO</th>\n",
       "    </tr>\n",
       "    <tr>\n",
       "      <th>Date</th>\n",
       "      <th></th>\n",
       "      <th></th>\n",
       "      <th></th>\n",
       "      <th></th>\n",
       "      <th></th>\n",
       "      <th></th>\n",
       "      <th></th>\n",
       "      <th></th>\n",
       "      <th></th>\n",
       "      <th></th>\n",
       "    </tr>\n",
       "  </thead>\n",
       "  <tbody>\n",
       "    <tr>\n",
       "      <th>2015-01-02</th>\n",
       "      <td>24.498682</td>\n",
       "      <td>26.477501</td>\n",
       "      <td>82.477386</td>\n",
       "      <td>49.209702</td>\n",
       "      <td>78.449997</td>\n",
       "      <td>40.534851</td>\n",
       "      <td>42.090000</td>\n",
       "      <td>4.833230</td>\n",
       "      <td>14.620667</td>\n",
       "      <td>160.364792</td>\n",
       "    </tr>\n",
       "    <tr>\n",
       "      <th>2015-01-05</th>\n",
       "      <td>23.808516</td>\n",
       "      <td>25.973000</td>\n",
       "      <td>81.901329</td>\n",
       "      <td>47.681980</td>\n",
       "      <td>77.190002</td>\n",
       "      <td>40.162098</td>\n",
       "      <td>41.049999</td>\n",
       "      <td>4.751596</td>\n",
       "      <td>14.006000</td>\n",
       "      <td>157.547318</td>\n",
       "    </tr>\n",
       "    <tr>\n",
       "      <th>2015-01-06</th>\n",
       "      <td>23.810759</td>\n",
       "      <td>25.332001</td>\n",
       "      <td>81.498878</td>\n",
       "      <td>46.445641</td>\n",
       "      <td>76.150002</td>\n",
       "      <td>39.572624</td>\n",
       "      <td>41.310001</td>\n",
       "      <td>4.607536</td>\n",
       "      <td>14.085333</td>\n",
       "      <td>155.998199</td>\n",
       "    </tr>\n",
       "    <tr>\n",
       "      <th>2015-01-07</th>\n",
       "      <td>24.144636</td>\n",
       "      <td>25.257500</td>\n",
       "      <td>83.298027</td>\n",
       "      <td>46.516502</td>\n",
       "      <td>76.150002</td>\n",
       "      <td>40.075401</td>\n",
       "      <td>41.810001</td>\n",
       "      <td>4.595530</td>\n",
       "      <td>14.063333</td>\n",
       "      <td>157.947403</td>\n",
       "    </tr>\n",
       "    <tr>\n",
       "      <th>2015-01-08</th>\n",
       "      <td>25.072323</td>\n",
       "      <td>25.345501</td>\n",
       "      <td>83.953018</td>\n",
       "      <td>47.555988</td>\n",
       "      <td>78.180000</td>\n",
       "      <td>41.254337</td>\n",
       "      <td>42.410000</td>\n",
       "      <td>4.768402</td>\n",
       "      <td>14.041333</td>\n",
       "      <td>160.722305</td>\n",
       "    </tr>\n",
       "    <tr>\n",
       "      <th>...</th>\n",
       "      <td>...</td>\n",
       "      <td>...</td>\n",
       "      <td>...</td>\n",
       "      <td>...</td>\n",
       "      <td>...</td>\n",
       "      <td>...</td>\n",
       "      <td>...</td>\n",
       "      <td>...</td>\n",
       "      <td>...</td>\n",
       "      <td>...</td>\n",
       "    </tr>\n",
       "    <tr>\n",
       "      <th>2020-12-24</th>\n",
       "      <td>129.850601</td>\n",
       "      <td>86.708000</td>\n",
       "      <td>141.772873</td>\n",
       "      <td>115.188263</td>\n",
       "      <td>267.399994</td>\n",
       "      <td>217.364532</td>\n",
       "      <td>43.580002</td>\n",
       "      <td>129.656723</td>\n",
       "      <td>220.589996</td>\n",
       "      <td>325.113678</td>\n",
       "    </tr>\n",
       "    <tr>\n",
       "      <th>2020-12-28</th>\n",
       "      <td>134.494766</td>\n",
       "      <td>88.697998</td>\n",
       "      <td>142.442383</td>\n",
       "      <td>115.946808</td>\n",
       "      <td>277.000000</td>\n",
       "      <td>219.521133</td>\n",
       "      <td>44.080002</td>\n",
       "      <td>128.721237</td>\n",
       "      <td>221.229996</td>\n",
       "      <td>327.941559</td>\n",
       "    </tr>\n",
       "    <tr>\n",
       "      <th>2020-12-29</th>\n",
       "      <td>132.703979</td>\n",
       "      <td>87.888000</td>\n",
       "      <td>143.325699</td>\n",
       "      <td>115.641556</td>\n",
       "      <td>276.779999</td>\n",
       "      <td>218.730713</td>\n",
       "      <td>44.689999</td>\n",
       "      <td>129.152786</td>\n",
       "      <td>221.996674</td>\n",
       "      <td>327.251343</td>\n",
       "    </tr>\n",
       "    <tr>\n",
       "      <th>2020-12-30</th>\n",
       "      <td>131.572464</td>\n",
       "      <td>86.812500</td>\n",
       "      <td>145.101746</td>\n",
       "      <td>115.965332</td>\n",
       "      <td>271.869995</td>\n",
       "      <td>216.320435</td>\n",
       "      <td>44.689999</td>\n",
       "      <td>131.173431</td>\n",
       "      <td>231.593338</td>\n",
       "      <td>327.692291</td>\n",
       "    </tr>\n",
       "    <tr>\n",
       "      <th>2020-12-31</th>\n",
       "      <td>130.559021</td>\n",
       "      <td>87.632004</td>\n",
       "      <td>146.338409</td>\n",
       "      <td>117.547173</td>\n",
       "      <td>273.160004</td>\n",
       "      <td>217.042526</td>\n",
       "      <td>44.150002</td>\n",
       "      <td>130.267883</td>\n",
       "      <td>235.223328</td>\n",
       "      <td>329.456146</td>\n",
       "    </tr>\n",
       "  </tbody>\n",
       "</table>\n",
       "<p>1511 rows × 10 columns</p>\n",
       "</div>"
      ],
      "text/plain": [
       "                  AAPL      GOOGL         JNJ         JPM        META  \\\n",
       "Date                                                                    \n",
       "2015-01-02   24.498682  26.477501   82.477386   49.209702   78.449997   \n",
       "2015-01-05   23.808516  25.973000   81.901329   47.681980   77.190002   \n",
       "2015-01-06   23.810759  25.332001   81.498878   46.445641   76.150002   \n",
       "2015-01-07   24.144636  25.257500   83.298027   46.516502   76.150002   \n",
       "2015-01-08   25.072323  25.345501   83.953018   47.555988   78.180000   \n",
       "...                ...        ...         ...         ...         ...   \n",
       "2020-12-24  129.850601  86.708000  141.772873  115.188263  267.399994   \n",
       "2020-12-28  134.494766  88.697998  142.442383  115.946808  277.000000   \n",
       "2020-12-29  132.703979  87.888000  143.325699  115.641556  276.779999   \n",
       "2020-12-30  131.572464  86.812500  145.101746  115.965332  271.869995   \n",
       "2020-12-31  130.559021  87.632004  146.338409  117.547173  273.160004   \n",
       "\n",
       "                  MSFT  NAFTRAC.MX        NVDA        TSLA         VOO  \n",
       "Date                                                                    \n",
       "2015-01-02   40.534851   42.090000    4.833230   14.620667  160.364792  \n",
       "2015-01-05   40.162098   41.049999    4.751596   14.006000  157.547318  \n",
       "2015-01-06   39.572624   41.310001    4.607536   14.085333  155.998199  \n",
       "2015-01-07   40.075401   41.810001    4.595530   14.063333  157.947403  \n",
       "2015-01-08   41.254337   42.410000    4.768402   14.041333  160.722305  \n",
       "...                ...         ...         ...         ...         ...  \n",
       "2020-12-24  217.364532   43.580002  129.656723  220.589996  325.113678  \n",
       "2020-12-28  219.521133   44.080002  128.721237  221.229996  327.941559  \n",
       "2020-12-29  218.730713   44.689999  129.152786  221.996674  327.251343  \n",
       "2020-12-30  216.320435   44.689999  131.173431  231.593338  327.692291  \n",
       "2020-12-31  217.042526   44.150002  130.267883  235.223328  329.456146  \n",
       "\n",
       "[1511 rows x 10 columns]"
      ]
     },
     "execution_count": 92,
     "metadata": {},
     "output_type": "execute_result"
    }
   ],
   "source": [
    "tickers = ['VOO', 'NAFTRAC.MX', 'AAPL', 'MSFT', 'TSLA', 'NVDA', 'GOOGL', 'META', 'JNJ', 'JPM']\n",
    "start_date = '2015-01-01'\n",
    "end_date = '2021-01-01'\n",
    "St = yf.download(tickers, start=start_date, end=end_date)['Adj Close']\n",
    "St"
   ]
  },
  {
   "cell_type": "markdown",
   "metadata": {},
   "source": [
    "Copiamos la tabla de datos, por si necesitamos usarla mas adelante. Despues de eso sacamos el cambio porcentual de cada uno de los precios por cada dia. En el primer dia tenemos un NaN, lo que signfica que no hay valor, eso se da, porque para calcular los datos, comparamos dos tablas. Una normal, y otra igual pero adelantada un dia. Por eso al momento de comparar el cambio de los datos no tenemos nada en el primero. Porque como los datos se recorrieron uno, ahi ya no va a haber nada\n",
    "\n",
    "\n",
    "Para calcular los cambios usamos esta formula \n",
    "\n",
    "$$\\frac {S_{t+1} - S_t}{S_t} $$\n"
   ]
  },
  {
   "cell_type": "code",
   "execution_count": 93,
   "metadata": {},
   "outputs": [
    {
     "data": {
      "text/html": [
       "<div>\n",
       "<style scoped>\n",
       "    .dataframe tbody tr th:only-of-type {\n",
       "        vertical-align: middle;\n",
       "    }\n",
       "\n",
       "    .dataframe tbody tr th {\n",
       "        vertical-align: top;\n",
       "    }\n",
       "\n",
       "    .dataframe thead th {\n",
       "        text-align: right;\n",
       "    }\n",
       "</style>\n",
       "<table border=\"1\" class=\"dataframe\">\n",
       "  <thead>\n",
       "    <tr style=\"text-align: right;\">\n",
       "      <th></th>\n",
       "      <th>AAPL</th>\n",
       "      <th>GOOGL</th>\n",
       "      <th>JNJ</th>\n",
       "      <th>JPM</th>\n",
       "      <th>META</th>\n",
       "      <th>MSFT</th>\n",
       "      <th>NAFTRAC.MX</th>\n",
       "      <th>NVDA</th>\n",
       "      <th>TSLA</th>\n",
       "      <th>VOO</th>\n",
       "    </tr>\n",
       "    <tr>\n",
       "      <th>Date</th>\n",
       "      <th></th>\n",
       "      <th></th>\n",
       "      <th></th>\n",
       "      <th></th>\n",
       "      <th></th>\n",
       "      <th></th>\n",
       "      <th></th>\n",
       "      <th></th>\n",
       "      <th></th>\n",
       "      <th></th>\n",
       "    </tr>\n",
       "  </thead>\n",
       "  <tbody>\n",
       "    <tr>\n",
       "      <th>2015-01-05</th>\n",
       "      <td>-0.028172</td>\n",
       "      <td>-0.019054</td>\n",
       "      <td>-0.006984</td>\n",
       "      <td>-0.031045</td>\n",
       "      <td>-0.016061</td>\n",
       "      <td>-0.009196</td>\n",
       "      <td>-0.024709</td>\n",
       "      <td>-0.016890</td>\n",
       "      <td>-0.042041</td>\n",
       "      <td>-0.017569</td>\n",
       "    </tr>\n",
       "    <tr>\n",
       "      <th>2015-01-06</th>\n",
       "      <td>0.000094</td>\n",
       "      <td>-0.024679</td>\n",
       "      <td>-0.004914</td>\n",
       "      <td>-0.025929</td>\n",
       "      <td>-0.013473</td>\n",
       "      <td>-0.014677</td>\n",
       "      <td>0.006334</td>\n",
       "      <td>-0.030318</td>\n",
       "      <td>0.005664</td>\n",
       "      <td>-0.009833</td>\n",
       "    </tr>\n",
       "    <tr>\n",
       "      <th>2015-01-07</th>\n",
       "      <td>0.014022</td>\n",
       "      <td>-0.002941</td>\n",
       "      <td>0.022076</td>\n",
       "      <td>0.001526</td>\n",
       "      <td>0.000000</td>\n",
       "      <td>0.012705</td>\n",
       "      <td>0.012104</td>\n",
       "      <td>-0.002606</td>\n",
       "      <td>-0.001562</td>\n",
       "      <td>0.012495</td>\n",
       "    </tr>\n",
       "    <tr>\n",
       "      <th>2015-01-08</th>\n",
       "      <td>0.038422</td>\n",
       "      <td>0.003484</td>\n",
       "      <td>0.007863</td>\n",
       "      <td>0.022347</td>\n",
       "      <td>0.026658</td>\n",
       "      <td>0.029418</td>\n",
       "      <td>0.014351</td>\n",
       "      <td>0.037618</td>\n",
       "      <td>-0.001564</td>\n",
       "      <td>0.017569</td>\n",
       "    </tr>\n",
       "    <tr>\n",
       "      <th>2015-01-09</th>\n",
       "      <td>0.001073</td>\n",
       "      <td>-0.012211</td>\n",
       "      <td>-0.013629</td>\n",
       "      <td>-0.017387</td>\n",
       "      <td>-0.005628</td>\n",
       "      <td>-0.008405</td>\n",
       "      <td>-0.000707</td>\n",
       "      <td>0.004028</td>\n",
       "      <td>-0.018802</td>\n",
       "      <td>-0.008421</td>\n",
       "    </tr>\n",
       "    <tr>\n",
       "      <th>...</th>\n",
       "      <td>...</td>\n",
       "      <td>...</td>\n",
       "      <td>...</td>\n",
       "      <td>...</td>\n",
       "      <td>...</td>\n",
       "      <td>...</td>\n",
       "      <td>...</td>\n",
       "      <td>...</td>\n",
       "      <td>...</td>\n",
       "      <td>...</td>\n",
       "    </tr>\n",
       "    <tr>\n",
       "      <th>2020-12-24</th>\n",
       "      <td>0.007712</td>\n",
       "      <td>0.003431</td>\n",
       "      <td>0.003488</td>\n",
       "      <td>-0.004398</td>\n",
       "      <td>-0.002648</td>\n",
       "      <td>0.007827</td>\n",
       "      <td>-0.005023</td>\n",
       "      <td>-0.001191</td>\n",
       "      <td>0.024443</td>\n",
       "      <td>0.003996</td>\n",
       "    </tr>\n",
       "    <tr>\n",
       "      <th>2020-12-28</th>\n",
       "      <td>0.035765</td>\n",
       "      <td>0.022951</td>\n",
       "      <td>0.004722</td>\n",
       "      <td>0.006585</td>\n",
       "      <td>0.035901</td>\n",
       "      <td>0.009922</td>\n",
       "      <td>0.011473</td>\n",
       "      <td>-0.007215</td>\n",
       "      <td>0.002901</td>\n",
       "      <td>0.008698</td>\n",
       "    </tr>\n",
       "    <tr>\n",
       "      <th>2020-12-29</th>\n",
       "      <td>-0.013315</td>\n",
       "      <td>-0.009132</td>\n",
       "      <td>0.006201</td>\n",
       "      <td>-0.002633</td>\n",
       "      <td>-0.000794</td>\n",
       "      <td>-0.003601</td>\n",
       "      <td>0.013838</td>\n",
       "      <td>0.003353</td>\n",
       "      <td>0.003466</td>\n",
       "      <td>-0.002105</td>\n",
       "    </tr>\n",
       "    <tr>\n",
       "      <th>2020-12-30</th>\n",
       "      <td>-0.008527</td>\n",
       "      <td>-0.012237</td>\n",
       "      <td>0.012392</td>\n",
       "      <td>0.002800</td>\n",
       "      <td>-0.017740</td>\n",
       "      <td>-0.011019</td>\n",
       "      <td>0.000000</td>\n",
       "      <td>0.015645</td>\n",
       "      <td>0.043229</td>\n",
       "      <td>0.001347</td>\n",
       "    </tr>\n",
       "    <tr>\n",
       "      <th>2020-12-31</th>\n",
       "      <td>-0.007703</td>\n",
       "      <td>0.009440</td>\n",
       "      <td>0.008523</td>\n",
       "      <td>0.013641</td>\n",
       "      <td>0.004745</td>\n",
       "      <td>0.003338</td>\n",
       "      <td>-0.012083</td>\n",
       "      <td>-0.006903</td>\n",
       "      <td>0.015674</td>\n",
       "      <td>0.005383</td>\n",
       "    </tr>\n",
       "  </tbody>\n",
       "</table>\n",
       "<p>1510 rows × 10 columns</p>\n",
       "</div>"
      ],
      "text/plain": [
       "                AAPL     GOOGL       JNJ       JPM      META      MSFT  \\\n",
       "Date                                                                     \n",
       "2015-01-05 -0.028172 -0.019054 -0.006984 -0.031045 -0.016061 -0.009196   \n",
       "2015-01-06  0.000094 -0.024679 -0.004914 -0.025929 -0.013473 -0.014677   \n",
       "2015-01-07  0.014022 -0.002941  0.022076  0.001526  0.000000  0.012705   \n",
       "2015-01-08  0.038422  0.003484  0.007863  0.022347  0.026658  0.029418   \n",
       "2015-01-09  0.001073 -0.012211 -0.013629 -0.017387 -0.005628 -0.008405   \n",
       "...              ...       ...       ...       ...       ...       ...   \n",
       "2020-12-24  0.007712  0.003431  0.003488 -0.004398 -0.002648  0.007827   \n",
       "2020-12-28  0.035765  0.022951  0.004722  0.006585  0.035901  0.009922   \n",
       "2020-12-29 -0.013315 -0.009132  0.006201 -0.002633 -0.000794 -0.003601   \n",
       "2020-12-30 -0.008527 -0.012237  0.012392  0.002800 -0.017740 -0.011019   \n",
       "2020-12-31 -0.007703  0.009440  0.008523  0.013641  0.004745  0.003338   \n",
       "\n",
       "            NAFTRAC.MX      NVDA      TSLA       VOO  \n",
       "Date                                                  \n",
       "2015-01-05   -0.024709 -0.016890 -0.042041 -0.017569  \n",
       "2015-01-06    0.006334 -0.030318  0.005664 -0.009833  \n",
       "2015-01-07    0.012104 -0.002606 -0.001562  0.012495  \n",
       "2015-01-08    0.014351  0.037618 -0.001564  0.017569  \n",
       "2015-01-09   -0.000707  0.004028 -0.018802 -0.008421  \n",
       "...                ...       ...       ...       ...  \n",
       "2020-12-24   -0.005023 -0.001191  0.024443  0.003996  \n",
       "2020-12-28    0.011473 -0.007215  0.002901  0.008698  \n",
       "2020-12-29    0.013838  0.003353  0.003466 -0.002105  \n",
       "2020-12-30    0.000000  0.015645  0.043229  0.001347  \n",
       "2020-12-31   -0.012083 -0.006903  0.015674  0.005383  \n",
       "\n",
       "[1510 rows x 10 columns]"
      ]
     },
     "execution_count": 93,
     "metadata": {},
     "output_type": "execute_result"
    }
   ],
   "source": [
    "df =  St.copy() \n",
    "ren = df.pct_change().dropna()\n",
    "ren"
   ]
  },
  {
   "cell_type": "markdown",
   "metadata": {},
   "source": [
    "## Rendimiento aritmetico "
   ]
  },
  {
   "cell_type": "markdown",
   "metadata": {},
   "source": [
    "El rendimiento aritmetico es cuanto crece tu inversion expresado en dinero, por lo que multplicamos nuestro dinero por el rendimiento aritmetico nos dara el valor final de nuestra inversion. "
   ]
  },
  {
   "cell_type": "markdown",
   "metadata": {},
   "source": [
    "Sacamos el rendimiento aritmetico de todos los valores "
   ]
  },
  {
   "cell_type": "code",
   "execution_count": 95,
   "metadata": {
    "scrolled": true
   },
   "outputs": [
    {
     "data": {
      "text/html": [
       "<div>\n",
       "<style scoped>\n",
       "    .dataframe tbody tr th:only-of-type {\n",
       "        vertical-align: middle;\n",
       "    }\n",
       "\n",
       "    .dataframe tbody tr th {\n",
       "        vertical-align: top;\n",
       "    }\n",
       "\n",
       "    .dataframe thead th {\n",
       "        text-align: right;\n",
       "    }\n",
       "</style>\n",
       "<table border=\"1\" class=\"dataframe\">\n",
       "  <thead>\n",
       "    <tr style=\"text-align: right;\">\n",
       "      <th></th>\n",
       "      <th>Rendimiento aritmetico</th>\n",
       "    </tr>\n",
       "  </thead>\n",
       "  <tbody>\n",
       "    <tr>\n",
       "      <th>0</th>\n",
       "      <td>5.329226</td>\n",
       "    </tr>\n",
       "    <tr>\n",
       "      <th>1</th>\n",
       "      <td>3.309678</td>\n",
       "    </tr>\n",
       "    <tr>\n",
       "      <th>2</th>\n",
       "      <td>1.774285</td>\n",
       "    </tr>\n",
       "    <tr>\n",
       "      <th>3</th>\n",
       "      <td>2.388699</td>\n",
       "    </tr>\n",
       "    <tr>\n",
       "      <th>4</th>\n",
       "      <td>3.481963</td>\n",
       "    </tr>\n",
       "    <tr>\n",
       "      <th>5</th>\n",
       "      <td>5.354467</td>\n",
       "    </tr>\n",
       "    <tr>\n",
       "      <th>6</th>\n",
       "      <td>1.048943</td>\n",
       "    </tr>\n",
       "    <tr>\n",
       "      <th>7</th>\n",
       "      <td>26.952555</td>\n",
       "    </tr>\n",
       "    <tr>\n",
       "      <th>8</th>\n",
       "      <td>16.088412</td>\n",
       "    </tr>\n",
       "    <tr>\n",
       "      <th>9</th>\n",
       "      <td>2.054417</td>\n",
       "    </tr>\n",
       "  </tbody>\n",
       "</table>\n",
       "</div>"
      ],
      "text/plain": [
       "   Rendimiento aritmetico\n",
       "0                5.329226\n",
       "1                3.309678\n",
       "2                1.774285\n",
       "3                2.388699\n",
       "4                3.481963\n",
       "5                5.354467\n",
       "6                1.048943\n",
       "7               26.952555\n",
       "8               16.088412\n",
       "9                2.054417"
      ]
     },
     "execution_count": 95,
     "metadata": {},
     "output_type": "execute_result"
    }
   ],
   "source": [
    "ra_app = (1 + ren.AAPL).prod()\n",
    "ra_goo = (1 + ren.GOOGL).prod()\n",
    "ra_jnj = (1 + ren.JNJ).prod()\n",
    "ra_jpm = (1 + ren.JPM).prod()\n",
    "ra_meta = (1 + ren.META).prod()\n",
    "ra_msft = (1 + ren.MSFT).prod()\n",
    "ra_naft = (1 + ren['NAFTRAC.MX']).prod()\n",
    "ra_nvda = (1 + ren.NVDA).prod()\n",
    "ra_tsla = (1 + ren.TSLA).prod()\n",
    "ra_voo = (1 + ren.VOO).prod()\n",
    "\n",
    "ren_arit_tabla = pd.DataFrame( {'Rendimiento aritmetico' : [ra_app, ra_goo, ra_jnj, ra_jpm, ra_meta, ra_msft, ra_naft, ra_nvda, ra_tsla, ra_voo] \n",
    "    \n",
    "                   })\n",
    "\n",
    "ren_arit_tabla"
   ]
  },
  {
   "cell_type": "code",
   "execution_count": 99,
   "metadata": {},
   "outputs": [
    {
     "data": {
      "text/plain": [
       "Date\n",
       "2015-01-02    14.620667\n",
       "2015-01-05    14.006000\n",
       "2015-01-06    14.085333\n",
       "2015-01-07    14.063333\n",
       "2015-01-08    14.041333\n",
       "Name: TSLA, dtype: float64"
      ]
     },
     "execution_count": 99,
     "metadata": {},
     "output_type": "execute_result"
    }
   ],
   "source": [
    "St['TSLA'].head()"
   ]
  },
  {
   "cell_type": "code",
   "execution_count": 98,
   "metadata": {},
   "outputs": [
    {
     "data": {
      "text/plain": [
       "Date\n",
       "2020-12-24    220.589996\n",
       "2020-12-28    221.229996\n",
       "2020-12-29    221.996674\n",
       "2020-12-30    231.593338\n",
       "2020-12-31    235.223328\n",
       "Name: TSLA, dtype: float64"
      ]
     },
     "execution_count": 98,
     "metadata": {},
     "output_type": "execute_result"
    }
   ],
   "source": [
    "St['TSLA'].tail() "
   ]
  },
  {
   "cell_type": "markdown",
   "metadata": {},
   "source": [
    "Eso significa que si invertimos TSLA y tenemos 100 pesos, al final tendremos del periodo tendremos 100 * 2.05 \n"
   ]
  },
  {
   "cell_type": "markdown",
   "metadata": {},
   "source": [
    "## Explicacion "
   ]
  },
  {
   "cell_type": "markdown",
   "metadata": {},
   "source": [
    "El rendimiento artimetico es que tanto crecera tu inversion, en dinero. El rendimiento aritmetico te una un numero que si lo multplicas por la cantidad de dinero que tienes, te dara el promedio de cuando dinero probablemente tendras en base a los que rendimientos que tuviste. "
   ]
  },
  {
   "cell_type": "markdown",
   "metadata": {},
   "source": [
    "## Rendimiento Geometrico \n"
   ]
  },
  {
   "cell_type": "code",
   "execution_count": 96,
   "metadata": {},
   "outputs": [
    {
     "data": {
      "text/html": [
       "<div>\n",
       "<style scoped>\n",
       "    .dataframe tbody tr th:only-of-type {\n",
       "        vertical-align: middle;\n",
       "    }\n",
       "\n",
       "    .dataframe tbody tr th {\n",
       "        vertical-align: top;\n",
       "    }\n",
       "\n",
       "    .dataframe thead th {\n",
       "        text-align: right;\n",
       "    }\n",
       "</style>\n",
       "<table border=\"1\" class=\"dataframe\">\n",
       "  <thead>\n",
       "    <tr style=\"text-align: right;\">\n",
       "      <th></th>\n",
       "      <th>Rendimiento geometrico</th>\n",
       "    </tr>\n",
       "  </thead>\n",
       "  <tbody>\n",
       "    <tr>\n",
       "      <th>0</th>\n",
       "      <td>0.001109</td>\n",
       "    </tr>\n",
       "    <tr>\n",
       "      <th>1</th>\n",
       "      <td>0.000793</td>\n",
       "    </tr>\n",
       "    <tr>\n",
       "      <th>2</th>\n",
       "      <td>0.000380</td>\n",
       "    </tr>\n",
       "    <tr>\n",
       "      <th>3</th>\n",
       "      <td>0.000577</td>\n",
       "    </tr>\n",
       "    <tr>\n",
       "      <th>4</th>\n",
       "      <td>0.000827</td>\n",
       "    </tr>\n",
       "    <tr>\n",
       "      <th>5</th>\n",
       "      <td>0.001112</td>\n",
       "    </tr>\n",
       "    <tr>\n",
       "      <th>6</th>\n",
       "      <td>0.000032</td>\n",
       "    </tr>\n",
       "    <tr>\n",
       "      <th>7</th>\n",
       "      <td>0.002184</td>\n",
       "    </tr>\n",
       "    <tr>\n",
       "      <th>8</th>\n",
       "      <td>0.001841</td>\n",
       "    </tr>\n",
       "    <tr>\n",
       "      <th>9</th>\n",
       "      <td>0.000477</td>\n",
       "    </tr>\n",
       "  </tbody>\n",
       "</table>\n",
       "</div>"
      ],
      "text/plain": [
       "   Rendimiento geometrico\n",
       "0                0.001109\n",
       "1                0.000793\n",
       "2                0.000380\n",
       "3                0.000577\n",
       "4                0.000827\n",
       "5                0.001112\n",
       "6                0.000032\n",
       "7                0.002184\n",
       "8                0.001841\n",
       "9                0.000477"
      ]
     },
     "execution_count": 96,
     "metadata": {},
     "output_type": "execute_result"
    }
   ],
   "source": [
    "rg_app = ((1 + ren.AAPL).prod())**(1/len(ren.AAPL)) - 1\n",
    "rg_goo = ((1 + ren.GOOGL).prod())**(1/len(ren.GOOGL)) - 1\n",
    "rg_jnj = ((1 + ren.JNJ).prod())**(1/len(ren.JNJ)) - 1\n",
    "rg_jpm = ((1 + ren.JPM).prod())**(1/len(ren.JPM)) - 1\n",
    "rg_meta = ((1 + ren.META).prod())**(1/len(ren.META)) - 1\n",
    "rg_msft = ((1 + ren.MSFT).prod())**(1/len(ren.MSFT)) - 1\n",
    "rg_naft = ((1 + ren['NAFTRAC.MX']).prod())**(1/len(ren['NAFTRAC.MX'])) - 1\n",
    "rg_nvda = ((1 + ren.NVDA).prod())**(1/len(ren.NVDA)) - 1\n",
    "rg_tsla = ((1 + ren.TSLA).prod())**(1/len(ren.TSLA)) - 1\n",
    "rg_voo = ((1 + ren.VOO).prod())**(1/len(ren.VOO)) - 1\n",
    "\n",
    "\n",
    "ren_geo_tabla = pd.DataFrame( {'Rendimiento geometrico' : [rg_app, rg_goo, rg_jnj, rg_jpm, rg_meta, rg_msft, rg_naft, rg_nvda, rg_tsla, rg_voo] \n",
    "    \n",
    "                   })\n",
    "\n",
    "ren_geo_tabla"
   ]
  },
  {
   "cell_type": "markdown",
   "metadata": {},
   "source": [
    "EL rendimiento geometrico es la tasa bajo la cual en la formula del interes compuesto puedes llegar a un valor futuro(que en este caso seria el ultimo valor de la tabla de datos). "
   ]
  },
  {
   "cell_type": "markdown",
   "metadata": {},
   "source": [
    "Una inversion con interes compuesto es cuando al final de una inversion reinviertes el dinero que ganaste, asi, al final, teniendo mas dinero el porcentaje de lo que te estaban dando agarra una mayor magnitud, por lo tanto tendras mas. Por ejemplo, si tienes 100 pesos, y los invertes a una tasa de 10% tendras 110 al final de un ano, si la tasa es anual. Pero que pasa si en vez de que te dieran el dinero al final de un ano, te lo dieron al final del mes. Te darian 100 mas un poquito, y luego eso lo vuelves a invertir, y haces lo mismo hasta llegar al ano. De este modo tendrias mas dinero al final, al final seguiste invirtiendo a la tasa del 10% anual, sin embargo, al final del termino, tendrias mas. "
   ]
  },
  {
   "cell_type": "markdown",
   "metadata": {},
   "source": [
    "Formula del interes compuesto \n",
    "$$ Capital * (1 + i)^n $$"
   ]
  },
  {
   "cell_type": "markdown",
   "metadata": {},
   "source": [
    "**Pregunta 3**\n",
    "Explica que es la covarianza, porque la formula tiene sentido y de donde sale. ¿Cuál es su intuición?:\n",
    "\n",
    "$$Cov(r_1,r_2) = E[(r_1 - E[r_1])(r_2 - E[r_2])] $$"
   ]
  },
  {
   "cell_type": "markdown",
   "metadata": {},
   "source": [
    "Porque la covarianza se optiene a partir de la multplicacion de dos diferencias, osea una resta. Por tanto si tenemos que la varianza es la sumatoria de las diferencias de nuestros datos menos sus medias multplicadas por los datos, optenemos la formula de arriba. Excepto por la E de al final, pero por eso tenemos la n del denominador, que nos dice que la covarianza es un calculo ponderado, es decir que se le saca un promedio. Y como la esperanza y la media se asemejan, podemos decir que la covarianza de un portafolio es el promdeio de las diferencias de los valores menos su media, para luego multplicarlos, y al final sacarles el promedio  "
   ]
  },
  {
   "cell_type": "markdown",
   "metadata": {},
   "source": [
    "$$\\sigma_(xy) = \\frac{\\sum (x_i - x(media))(y_i - y(media))}{n} $$"
   ]
  },
  {
   "cell_type": "markdown",
   "metadata": {},
   "source": [
    "**Pregunta 4.** Considere la siguiente distribución de rendimientos de los activos A, B y C:\n",
    "\n",
    "| Probabilidad     | Rendimiento A       | Rendimiento B         | Rendimiento C         |\n",
    "| ---------------- | ------------------  | -------------------   | ------------------    |\n",
    "| 30%              | 0.10                | 0.03                  | 0.08                  |\n",
    "| 30%              | 0.20                | 0.15                  | -0.13                 |\n",
    "| 40%              | -0.15               | -0.10                 | 0.02                  |\n",
    "\n",
    "\n",
    "¿Cuál es la el rendimiento esperado y la volatilidad de un portafolio compuesto 20% por el activo A, 20% por el activo B y 60% por el activo C?\n",
    "\n"
   ]
  },
  {
   "cell_type": "code",
   "execution_count": 38,
   "metadata": {
    "scrolled": true
   },
   "outputs": [
    {
     "data": {
      "text/html": [
       "<div>\n",
       "<style scoped>\n",
       "    .dataframe tbody tr th:only-of-type {\n",
       "        vertical-align: middle;\n",
       "    }\n",
       "\n",
       "    .dataframe tbody tr th {\n",
       "        vertical-align: top;\n",
       "    }\n",
       "\n",
       "    .dataframe thead th {\n",
       "        text-align: right;\n",
       "    }\n",
       "</style>\n",
       "<table border=\"1\" class=\"dataframe\">\n",
       "  <thead>\n",
       "    <tr style=\"text-align: right;\">\n",
       "      <th></th>\n",
       "      <th>Probabilidad</th>\n",
       "      <th>Rendimiento A</th>\n",
       "      <th>Rendimiento B</th>\n",
       "      <th>Rendimiento C</th>\n",
       "    </tr>\n",
       "    <tr>\n",
       "      <th>Tabla</th>\n",
       "      <th></th>\n",
       "      <th></th>\n",
       "      <th></th>\n",
       "      <th></th>\n",
       "    </tr>\n",
       "  </thead>\n",
       "  <tbody>\n",
       "    <tr>\n",
       "      <th>0</th>\n",
       "      <td>0.3</td>\n",
       "      <td>0.10</td>\n",
       "      <td>0.03</td>\n",
       "      <td>0.08</td>\n",
       "    </tr>\n",
       "    <tr>\n",
       "      <th>1</th>\n",
       "      <td>0.3</td>\n",
       "      <td>0.20</td>\n",
       "      <td>0.15</td>\n",
       "      <td>-0.13</td>\n",
       "    </tr>\n",
       "    <tr>\n",
       "      <th>2</th>\n",
       "      <td>0.4</td>\n",
       "      <td>-0.15</td>\n",
       "      <td>-0.10</td>\n",
       "      <td>0.02</td>\n",
       "    </tr>\n",
       "  </tbody>\n",
       "</table>\n",
       "</div>"
      ],
      "text/plain": [
       "       Probabilidad  Rendimiento A  Rendimiento B  Rendimiento C\n",
       "Tabla                                                           \n",
       "0               0.3           0.10           0.03           0.08\n",
       "1               0.3           0.20           0.15          -0.13\n",
       "2               0.4          -0.15          -0.10           0.02"
      ]
     },
     "execution_count": 38,
     "metadata": {},
     "output_type": "execute_result"
    }
   ],
   "source": [
    "# Creamos tabla\n",
    "tabla = pd.DataFrame()\n",
    "tabla.index.name = 'Tabla'\n",
    "tabla['Probabilidad']=np.array([0.3, 0.3, 0.4])\n",
    "tabla['Rendimiento A']=np.array([0.1, 0.2, -0.15])\n",
    "tabla['Rendimiento B']=np.array([0.03, 0.15, -0.10])\n",
    "tabla['Rendimiento C']=np.array([0.08, -0.13, 0.02])\n",
    "\n",
    "tabla.round(6)"
   ]
  },
  {
   "cell_type": "markdown",
   "metadata": {},
   "source": [
    "# Valor esperado "
   ]
  },
  {
   "cell_type": "code",
   "execution_count": 112,
   "metadata": {},
   "outputs": [
    {
     "data": {
      "text/plain": [
       "0.03699999999999999"
      ]
     },
     "execution_count": 112,
     "metadata": {},
     "output_type": "execute_result"
    }
   ],
   "source": [
    "rendimiento_portafolio = (tabla['Probabilidad'] * (tabla['Rendimiento A'] + tabla['Rendimiento B'] + tabla['Rendimiento C'])).sum()\n",
    "rendimiento_portafolio"
   ]
  },
  {
   "cell_type": "code",
   "execution_count": 117,
   "metadata": {},
   "outputs": [
    {
     "name": "stdout",
     "output_type": "stream",
     "text": [
      "El rendimiento esperado del portafolio es: 0.0370\n",
      "La varianza del portafolio es: 0.0056\n",
      "La volatilidad del portafolio es: 0.0750\n"
     ]
    }
   ],
   "source": [
    "## Volatilidad\n",
    "#Como habia explicado en el inciso anterior la varianza tambien se puede hacer de forma matricial, por ello\n",
    "#para multplicar matricez necesitaremos el .dot\n",
    "cov_matrix = tabla[['Rendimiento A', 'Rendimiento B', 'Rendimiento C']].cov()\n",
    "#Aqui los pesos serian las probabilidades \n",
    "weights = tabla['Probabilidad'].values\n",
    "varianza_portafolio = np.dot(weights.T, np.dot(cov_matrix, weights))\n",
    "\n",
    "# Calcular la desviación estándar del portafolio (volatilidad)\n",
    "volatilidad_portafolio = np.sqrt(varianza_portafolio)\n",
    "\n",
    "print(f'El rendimiento esperado del portafolio es: {rendimiento_portafolio:.4f}')\n",
    "print(f'La varianza del portafolio es: {varianza_portafolio:.4f}')\n",
    "print(f'La volatilidad del portafolio es: {volatilidad_portafolio:.4f}')\n"
   ]
  },
  {
   "cell_type": "markdown",
   "metadata": {},
   "source": [
    "# Justificación \n",
    "Una forma mas efectiva de sacar la volatilidad de varios activos es haer una multplicacion matricial, ya que la formula de la varianza es"
   ]
  },
  {
   "cell_type": "markdown",
   "metadata": {},
   "source": [
    "$$Var(p) = W^T \\sum W    $$"
   ]
  },
  {
   "cell_type": "markdown",
   "metadata": {},
   "source": [
    "Por tanto, podemos hacer esta operacion, normalmente es dificil o tardado a mano, pero con el .dot, se hace casi automatico. Al final solo le sacamos la raiz cuadrada a la variana y optenemos la v"
   ]
  },
  {
   "cell_type": "markdown",
   "metadata": {},
   "source": [
    "## **Pregunta 5.** ¿Cuál es la correlación del A con B?\n",
    "\n"
   ]
  },
  {
   "cell_type": "code",
   "execution_count": 64,
   "metadata": {},
   "outputs": [
    {
     "data": {
      "text/plain": [
       "0.976012110153764"
      ]
     },
     "execution_count": 64,
     "metadata": {},
     "output_type": "execute_result"
    }
   ],
   "source": [
    "\n",
    "# Correlacion\n",
    "corr_A_B =  tabla.corr()['Rendimiento A']['Rendimiento B']\n",
    "corr_A_B\n",
    "\n"
   ]
  },
  {
   "cell_type": "markdown",
   "metadata": {},
   "source": [
    "Esto nos da un numero que nos dice que tannto cambia un activo con respecto al otro "
   ]
  },
  {
   "cell_type": "markdown",
   "metadata": {},
   "source": [
    "## **Pregunta 6.** ¿Por qué a mayor riesgo mayor rendimiento? ¿Qué tiene que ver una cosa con la otra?\n",
    "\n"
   ]
  },
  {
   "cell_type": "markdown",
   "metadata": {},
   "source": [
    "# Respuesta "
   ]
  },
  {
   "cell_type": "markdown",
   "metadata": {},
   "source": [
    "Los inversores esperan ser compensados por asumir riesgos. Si estás dispuesto a invertir en activos más riesgosos, como acciones de empresas emergentes o volátiles, los inversores esperan recibir una prima de riesgo, es decir, un rendimiento adicional, para compensar el mayor riesgo asumido.\n",
    "\n",
    "Asimismo los activos menos riesgosos suelen ser mas caros, ya que estos representan una inversion segura. Tal es el caso de invertir en un indice como el S&p 500, pero como invertir en un indice es muy costoso debido a la cantidad de capital que se necesita para invertir en el indice completo, los inversionistas normalmente suelen invertir en un parte de este, lo que aumenta el riesgo, ya que esta estrategia es menos segura. "
   ]
  },
  {
   "cell_type": "markdown",
   "metadata": {},
   "source": [
    "___\n",
    "## II. Segunda parte (50%)\n",
    "\n",
    "En lo que llevamos del curso hemos hablado que la teoría de portafolios moderna tiene que ver con un concepto base principal: **la diversificación**.\n",
    "\n",
    "Baje los siguientes ETF's desde 2015 a la fecha:\n",
    "- VTI\n",
    "- VWO\n",
    "- VEA\n",
    "- VNQ\n",
    "- NAFTRAC.MX\n",
    "- VT\n",
    "- VGT\n",
    "\n",
    "5% Obtenga el rendimiento geometrico y aritmetico de cada una"
   ]
  },
  {
   "cell_type": "markdown",
   "metadata": {},
   "source": [
    "# Geometrico "
   ]
  },
  {
   "cell_type": "code",
   "execution_count": 67,
   "metadata": {},
   "outputs": [
    {
     "name": "stdout",
     "output_type": "stream",
     "text": [
      "[*********************100%%**********************]  7 of 7 completed\n"
     ]
    },
    {
     "data": {
      "text/html": [
       "<div>\n",
       "<style scoped>\n",
       "    .dataframe tbody tr th:only-of-type {\n",
       "        vertical-align: middle;\n",
       "    }\n",
       "\n",
       "    .dataframe tbody tr th {\n",
       "        vertical-align: top;\n",
       "    }\n",
       "\n",
       "    .dataframe thead th {\n",
       "        text-align: right;\n",
       "    }\n",
       "</style>\n",
       "<table border=\"1\" class=\"dataframe\">\n",
       "  <thead>\n",
       "    <tr style=\"text-align: right;\">\n",
       "      <th></th>\n",
       "      <th>NAFTRAC.MX</th>\n",
       "      <th>VEA</th>\n",
       "      <th>VGT</th>\n",
       "      <th>VNQ</th>\n",
       "      <th>VT</th>\n",
       "      <th>VTI</th>\n",
       "      <th>VWO</th>\n",
       "    </tr>\n",
       "    <tr>\n",
       "      <th>Date</th>\n",
       "      <th></th>\n",
       "      <th></th>\n",
       "      <th></th>\n",
       "      <th></th>\n",
       "      <th></th>\n",
       "      <th></th>\n",
       "      <th></th>\n",
       "    </tr>\n",
       "  </thead>\n",
       "  <tbody>\n",
       "    <tr>\n",
       "      <th>2015-01-02</th>\n",
       "      <td>42.090000</td>\n",
       "      <td>29.212173</td>\n",
       "      <td>94.817894</td>\n",
       "      <td>58.097229</td>\n",
       "      <td>49.418427</td>\n",
       "      <td>90.753296</td>\n",
       "      <td>31.074417</td>\n",
       "    </tr>\n",
       "    <tr>\n",
       "      <th>2015-01-05</th>\n",
       "      <td>41.049999</td>\n",
       "      <td>28.561123</td>\n",
       "      <td>93.189690</td>\n",
       "      <td>58.415192</td>\n",
       "      <td>48.462387</td>\n",
       "      <td>89.193893</td>\n",
       "      <td>30.579540</td>\n",
       "    </tr>\n",
       "    <tr>\n",
       "      <th>2015-01-06</th>\n",
       "      <td>41.310001</td>\n",
       "      <td>28.243351</td>\n",
       "      <td>91.988991</td>\n",
       "      <td>58.994598</td>\n",
       "      <td>47.976101</td>\n",
       "      <td>88.319962</td>\n",
       "      <td>30.430300</td>\n",
       "    </tr>\n",
       "    <tr>\n",
       "      <th>2015-01-07</th>\n",
       "      <td>41.810001</td>\n",
       "      <td>28.545631</td>\n",
       "      <td>92.807655</td>\n",
       "      <td>59.899059</td>\n",
       "      <td>48.594238</td>\n",
       "      <td>89.373833</td>\n",
       "      <td>31.129404</td>\n",
       "    </tr>\n",
       "    <tr>\n",
       "      <th>2015-01-08</th>\n",
       "      <td>42.410000</td>\n",
       "      <td>28.979666</td>\n",
       "      <td>94.899773</td>\n",
       "      <td>60.125183</td>\n",
       "      <td>49.327774</td>\n",
       "      <td>90.950363</td>\n",
       "      <td>31.655682</td>\n",
       "    </tr>\n",
       "    <tr>\n",
       "      <th>...</th>\n",
       "      <td>...</td>\n",
       "      <td>...</td>\n",
       "      <td>...</td>\n",
       "      <td>...</td>\n",
       "      <td>...</td>\n",
       "      <td>...</td>\n",
       "      <td>...</td>\n",
       "    </tr>\n",
       "    <tr>\n",
       "      <th>2021-09-22</th>\n",
       "      <td>51.419998</td>\n",
       "      <td>48.558086</td>\n",
       "      <td>409.606445</td>\n",
       "      <td>98.318054</td>\n",
       "      <td>99.687073</td>\n",
       "      <td>219.642303</td>\n",
       "      <td>47.565868</td>\n",
       "    </tr>\n",
       "    <tr>\n",
       "      <th>2021-09-23</th>\n",
       "      <td>51.549999</td>\n",
       "      <td>49.148663</td>\n",
       "      <td>414.899200</td>\n",
       "      <td>98.124779</td>\n",
       "      <td>100.807358</td>\n",
       "      <td>222.318741</td>\n",
       "      <td>47.790981</td>\n",
       "    </tr>\n",
       "    <tr>\n",
       "      <th>2021-09-24</th>\n",
       "      <td>51.230000</td>\n",
       "      <td>48.698704</td>\n",
       "      <td>414.938477</td>\n",
       "      <td>97.075592</td>\n",
       "      <td>100.443504</td>\n",
       "      <td>222.584351</td>\n",
       "      <td>47.265709</td>\n",
       "    </tr>\n",
       "    <tr>\n",
       "      <th>2021-09-27</th>\n",
       "      <td>51.720001</td>\n",
       "      <td>48.698704</td>\n",
       "      <td>410.873260</td>\n",
       "      <td>95.769890</td>\n",
       "      <td>100.376488</td>\n",
       "      <td>222.099701</td>\n",
       "      <td>47.518963</td>\n",
       "    </tr>\n",
       "    <tr>\n",
       "      <th>2021-09-28</th>\n",
       "      <td>50.930000</td>\n",
       "      <td>47.620670</td>\n",
       "      <td>398.029144</td>\n",
       "      <td>95.121674</td>\n",
       "      <td>98.289093</td>\n",
       "      <td>217.447174</td>\n",
       "      <td>46.965542</td>\n",
       "    </tr>\n",
       "  </tbody>\n",
       "</table>\n",
       "<p>1697 rows × 7 columns</p>\n",
       "</div>"
      ],
      "text/plain": [
       "            NAFTRAC.MX        VEA         VGT        VNQ          VT  \\\n",
       "Date                                                                   \n",
       "2015-01-02   42.090000  29.212173   94.817894  58.097229   49.418427   \n",
       "2015-01-05   41.049999  28.561123   93.189690  58.415192   48.462387   \n",
       "2015-01-06   41.310001  28.243351   91.988991  58.994598   47.976101   \n",
       "2015-01-07   41.810001  28.545631   92.807655  59.899059   48.594238   \n",
       "2015-01-08   42.410000  28.979666   94.899773  60.125183   49.327774   \n",
       "...                ...        ...         ...        ...         ...   \n",
       "2021-09-22   51.419998  48.558086  409.606445  98.318054   99.687073   \n",
       "2021-09-23   51.549999  49.148663  414.899200  98.124779  100.807358   \n",
       "2021-09-24   51.230000  48.698704  414.938477  97.075592  100.443504   \n",
       "2021-09-27   51.720001  48.698704  410.873260  95.769890  100.376488   \n",
       "2021-09-28   50.930000  47.620670  398.029144  95.121674   98.289093   \n",
       "\n",
       "                   VTI        VWO  \n",
       "Date                               \n",
       "2015-01-02   90.753296  31.074417  \n",
       "2015-01-05   89.193893  30.579540  \n",
       "2015-01-06   88.319962  30.430300  \n",
       "2015-01-07   89.373833  31.129404  \n",
       "2015-01-08   90.950363  31.655682  \n",
       "...                ...        ...  \n",
       "2021-09-22  219.642303  47.565868  \n",
       "2021-09-23  222.318741  47.790981  \n",
       "2021-09-24  222.584351  47.265709  \n",
       "2021-09-27  222.099701  47.518963  \n",
       "2021-09-28  217.447174  46.965542  \n",
       "\n",
       "[1697 rows x 7 columns]"
      ]
     },
     "execution_count": 67,
     "metadata": {},
     "output_type": "execute_result"
    }
   ],
   "source": [
    "tickers = ['VTI', 'VWO', 'VEA', 'VNQ', 'NAFTRAC.MX', 'VT', 'VGT']\n",
    "start_date = '2015-01-01'\n",
    "end_date = '2021-09-29'\n",
    "df = yf.download(tickers, start=start_date, end=end_date)['Adj Close']\n",
    "df"
   ]
  },
  {
   "cell_type": "code",
   "execution_count": 70,
   "metadata": {},
   "outputs": [
    {
     "data": {
      "text/html": [
       "<div>\n",
       "<style scoped>\n",
       "    .dataframe tbody tr th:only-of-type {\n",
       "        vertical-align: middle;\n",
       "    }\n",
       "\n",
       "    .dataframe tbody tr th {\n",
       "        vertical-align: top;\n",
       "    }\n",
       "\n",
       "    .dataframe thead th {\n",
       "        text-align: right;\n",
       "    }\n",
       "</style>\n",
       "<table border=\"1\" class=\"dataframe\">\n",
       "  <thead>\n",
       "    <tr style=\"text-align: right;\">\n",
       "      <th></th>\n",
       "      <th>NAFTRAC.MX</th>\n",
       "      <th>VEA</th>\n",
       "      <th>VGT</th>\n",
       "      <th>VNQ</th>\n",
       "      <th>VT</th>\n",
       "      <th>VTI</th>\n",
       "      <th>VWO</th>\n",
       "    </tr>\n",
       "    <tr>\n",
       "      <th>Date</th>\n",
       "      <th></th>\n",
       "      <th></th>\n",
       "      <th></th>\n",
       "      <th></th>\n",
       "      <th></th>\n",
       "      <th></th>\n",
       "      <th></th>\n",
       "    </tr>\n",
       "  </thead>\n",
       "  <tbody>\n",
       "    <tr>\n",
       "      <th>2015-01-05</th>\n",
       "      <td>-0.024709</td>\n",
       "      <td>-0.022287</td>\n",
       "      <td>-0.017172</td>\n",
       "      <td>0.005473</td>\n",
       "      <td>-0.019346</td>\n",
       "      <td>-0.017183</td>\n",
       "      <td>-0.015926</td>\n",
       "    </tr>\n",
       "    <tr>\n",
       "      <th>2015-01-06</th>\n",
       "      <td>0.006334</td>\n",
       "      <td>-0.011126</td>\n",
       "      <td>-0.012884</td>\n",
       "      <td>0.009919</td>\n",
       "      <td>-0.010034</td>\n",
       "      <td>-0.009798</td>\n",
       "      <td>-0.004880</td>\n",
       "    </tr>\n",
       "    <tr>\n",
       "      <th>2015-01-07</th>\n",
       "      <td>0.012104</td>\n",
       "      <td>0.010703</td>\n",
       "      <td>0.008900</td>\n",
       "      <td>0.015331</td>\n",
       "      <td>0.012884</td>\n",
       "      <td>0.011932</td>\n",
       "      <td>0.022974</td>\n",
       "    </tr>\n",
       "    <tr>\n",
       "      <th>2015-01-08</th>\n",
       "      <td>0.014351</td>\n",
       "      <td>0.015205</td>\n",
       "      <td>0.022543</td>\n",
       "      <td>0.003775</td>\n",
       "      <td>0.015095</td>\n",
       "      <td>0.017640</td>\n",
       "      <td>0.016906</td>\n",
       "    </tr>\n",
       "    <tr>\n",
       "      <th>2015-01-09</th>\n",
       "      <td>-0.000707</td>\n",
       "      <td>-0.004814</td>\n",
       "      <td>-0.002588</td>\n",
       "      <td>0.000470</td>\n",
       "      <td>-0.006683</td>\n",
       "      <td>-0.008290</td>\n",
       "      <td>-0.004963</td>\n",
       "    </tr>\n",
       "    <tr>\n",
       "      <th>...</th>\n",
       "      <td>...</td>\n",
       "      <td>...</td>\n",
       "      <td>...</td>\n",
       "      <td>...</td>\n",
       "      <td>...</td>\n",
       "      <td>...</td>\n",
       "      <td>...</td>\n",
       "    </tr>\n",
       "    <tr>\n",
       "      <th>2021-09-22</th>\n",
       "      <td>0.010415</td>\n",
       "      <td>0.005435</td>\n",
       "      <td>0.014791</td>\n",
       "      <td>0.009735</td>\n",
       "      <td>0.009600</td>\n",
       "      <td>0.010087</td>\n",
       "      <td>0.014403</td>\n",
       "    </tr>\n",
       "    <tr>\n",
       "      <th>2021-09-23</th>\n",
       "      <td>0.002528</td>\n",
       "      <td>0.012162</td>\n",
       "      <td>0.012922</td>\n",
       "      <td>-0.001966</td>\n",
       "      <td>0.011238</td>\n",
       "      <td>0.012185</td>\n",
       "      <td>0.004733</td>\n",
       "    </tr>\n",
       "    <tr>\n",
       "      <th>2021-09-24</th>\n",
       "      <td>-0.006208</td>\n",
       "      <td>-0.009155</td>\n",
       "      <td>0.000095</td>\n",
       "      <td>-0.010692</td>\n",
       "      <td>-0.003609</td>\n",
       "      <td>0.001195</td>\n",
       "      <td>-0.010991</td>\n",
       "    </tr>\n",
       "    <tr>\n",
       "      <th>2021-09-27</th>\n",
       "      <td>0.009565</td>\n",
       "      <td>0.000000</td>\n",
       "      <td>-0.009797</td>\n",
       "      <td>-0.013450</td>\n",
       "      <td>-0.000667</td>\n",
       "      <td>-0.002177</td>\n",
       "      <td>0.005358</td>\n",
       "    </tr>\n",
       "    <tr>\n",
       "      <th>2021-09-28</th>\n",
       "      <td>-0.015275</td>\n",
       "      <td>-0.022137</td>\n",
       "      <td>-0.031261</td>\n",
       "      <td>-0.006768</td>\n",
       "      <td>-0.020796</td>\n",
       "      <td>-0.020948</td>\n",
       "      <td>-0.011646</td>\n",
       "    </tr>\n",
       "  </tbody>\n",
       "</table>\n",
       "<p>1696 rows × 7 columns</p>\n",
       "</div>"
      ],
      "text/plain": [
       "            NAFTRAC.MX       VEA       VGT       VNQ        VT       VTI  \\\n",
       "Date                                                                       \n",
       "2015-01-05   -0.024709 -0.022287 -0.017172  0.005473 -0.019346 -0.017183   \n",
       "2015-01-06    0.006334 -0.011126 -0.012884  0.009919 -0.010034 -0.009798   \n",
       "2015-01-07    0.012104  0.010703  0.008900  0.015331  0.012884  0.011932   \n",
       "2015-01-08    0.014351  0.015205  0.022543  0.003775  0.015095  0.017640   \n",
       "2015-01-09   -0.000707 -0.004814 -0.002588  0.000470 -0.006683 -0.008290   \n",
       "...                ...       ...       ...       ...       ...       ...   \n",
       "2021-09-22    0.010415  0.005435  0.014791  0.009735  0.009600  0.010087   \n",
       "2021-09-23    0.002528  0.012162  0.012922 -0.001966  0.011238  0.012185   \n",
       "2021-09-24   -0.006208 -0.009155  0.000095 -0.010692 -0.003609  0.001195   \n",
       "2021-09-27    0.009565  0.000000 -0.009797 -0.013450 -0.000667 -0.002177   \n",
       "2021-09-28   -0.015275 -0.022137 -0.031261 -0.006768 -0.020796 -0.020948   \n",
       "\n",
       "                 VWO  \n",
       "Date                  \n",
       "2015-01-05 -0.015926  \n",
       "2015-01-06 -0.004880  \n",
       "2015-01-07  0.022974  \n",
       "2015-01-08  0.016906  \n",
       "2015-01-09 -0.004963  \n",
       "...              ...  \n",
       "2021-09-22  0.014403  \n",
       "2021-09-23  0.004733  \n",
       "2021-09-24 -0.010991  \n",
       "2021-09-27  0.005358  \n",
       "2021-09-28 -0.011646  \n",
       "\n",
       "[1696 rows x 7 columns]"
      ]
     },
     "execution_count": 70,
     "metadata": {},
     "output_type": "execute_result"
    }
   ],
   "source": [
    "rt = df.pct_change().dropna()\n",
    "rt"
   ]
  },
  {
   "cell_type": "code",
   "execution_count": 72,
   "metadata": {},
   "outputs": [
    {
     "data": {
      "text/html": [
       "<div>\n",
       "<style scoped>\n",
       "    .dataframe tbody tr th:only-of-type {\n",
       "        vertical-align: middle;\n",
       "    }\n",
       "\n",
       "    .dataframe tbody tr th {\n",
       "        vertical-align: top;\n",
       "    }\n",
       "\n",
       "    .dataframe thead th {\n",
       "        text-align: right;\n",
       "    }\n",
       "</style>\n",
       "<table border=\"1\" class=\"dataframe\">\n",
       "  <thead>\n",
       "    <tr style=\"text-align: right;\">\n",
       "      <th></th>\n",
       "      <th>Rendimiento geometrico</th>\n",
       "    </tr>\n",
       "  </thead>\n",
       "  <tbody>\n",
       "    <tr>\n",
       "      <th>0</th>\n",
       "      <td>0.000112</td>\n",
       "    </tr>\n",
       "    <tr>\n",
       "      <th>1</th>\n",
       "      <td>0.000288</td>\n",
       "    </tr>\n",
       "    <tr>\n",
       "      <th>2</th>\n",
       "      <td>0.000846</td>\n",
       "    </tr>\n",
       "    <tr>\n",
       "      <th>3</th>\n",
       "      <td>0.000291</td>\n",
       "    </tr>\n",
       "    <tr>\n",
       "      <th>4</th>\n",
       "      <td>0.000406</td>\n",
       "    </tr>\n",
       "    <tr>\n",
       "      <th>5</th>\n",
       "      <td>0.000515</td>\n",
       "    </tr>\n",
       "    <tr>\n",
       "      <th>6</th>\n",
       "      <td>0.000244</td>\n",
       "    </tr>\n",
       "  </tbody>\n",
       "</table>\n",
       "</div>"
      ],
      "text/plain": [
       "   Rendimiento geometrico\n",
       "0                0.000112\n",
       "1                0.000288\n",
       "2                0.000846\n",
       "3                0.000291\n",
       "4                0.000406\n",
       "5                0.000515\n",
       "6                0.000244"
      ]
     },
     "execution_count": 72,
     "metadata": {},
     "output_type": "execute_result"
    }
   ],
   "source": [
    "rg_NAF = ((1 + rt['NAFTRAC.MX']).prod())**(1/len(rt['NAFTRAC.MX'])) - 1\n",
    "rg_VEA = ((1 + rt.VEA).prod())**(1/len(rt.VEA)) - 1\n",
    "rg_VGT = ((1 + rt.VGT).prod())**(1/len(rt.VGT)) - 1\n",
    "rg_VNQ = ((1 + rt.VNQ).prod())**(1/len(rt.VNQ)) - 1\n",
    "rg_VT = ((1 + rt.VT).prod())**(1/len(rt.VT)) - 1\n",
    "rg_VTI = ((1 + rt.VTI).prod())**(1/len(rt.VTI)) - 1\n",
    "rg_VWO = ((1 + rt.VWO).prod())**(1/len(rt.VWO)) - 1\n",
    "\n",
    "\n",
    "\n",
    "ren_geo_tabla = pd.DataFrame( {'Rendimiento geometrico' : [rg_NAF, rg_VEA, rg_VGT, rg_VNQ, rg_VT, rg_VTI, rg_VWO] \n",
    "    \n",
    "                   })\n",
    "\n",
    "ren_geo_tabla\n",
    "\n"
   ]
  },
  {
   "cell_type": "markdown",
   "metadata": {},
   "source": [
    "# Arimetico"
   ]
  },
  {
   "cell_type": "code",
   "execution_count": 73,
   "metadata": {},
   "outputs": [
    {
     "data": {
      "text/html": [
       "<div>\n",
       "<style scoped>\n",
       "    .dataframe tbody tr th:only-of-type {\n",
       "        vertical-align: middle;\n",
       "    }\n",
       "\n",
       "    .dataframe tbody tr th {\n",
       "        vertical-align: top;\n",
       "    }\n",
       "\n",
       "    .dataframe thead th {\n",
       "        text-align: right;\n",
       "    }\n",
       "</style>\n",
       "<table border=\"1\" class=\"dataframe\">\n",
       "  <thead>\n",
       "    <tr style=\"text-align: right;\">\n",
       "      <th></th>\n",
       "      <th>Rendimiento aritmetico</th>\n",
       "    </tr>\n",
       "  </thead>\n",
       "  <tbody>\n",
       "    <tr>\n",
       "      <th>0</th>\n",
       "      <td>1.630165</td>\n",
       "    </tr>\n",
       "    <tr>\n",
       "      <th>1</th>\n",
       "      <td>4.197827</td>\n",
       "    </tr>\n",
       "    <tr>\n",
       "      <th>2</th>\n",
       "      <td>1.637284</td>\n",
       "    </tr>\n",
       "    <tr>\n",
       "      <th>3</th>\n",
       "      <td>1.988916</td>\n",
       "    </tr>\n",
       "    <tr>\n",
       "      <th>4</th>\n",
       "      <td>2.396025</td>\n",
       "    </tr>\n",
       "    <tr>\n",
       "      <th>5</th>\n",
       "      <td>1.511389</td>\n",
       "    </tr>\n",
       "    <tr>\n",
       "      <th>6</th>\n",
       "      <td>1.210026</td>\n",
       "    </tr>\n",
       "  </tbody>\n",
       "</table>\n",
       "</div>"
      ],
      "text/plain": [
       "   Rendimiento aritmetico\n",
       "0                1.630165\n",
       "1                4.197827\n",
       "2                1.637284\n",
       "3                1.988916\n",
       "4                2.396025\n",
       "5                1.511389\n",
       "6                1.210026"
      ]
     },
     "execution_count": 73,
     "metadata": {},
     "output_type": "execute_result"
    }
   ],
   "source": [
    "ra_NAF = (1 + rt.VEA).prod()\n",
    "ra_VEA = (1 + rt.VGT).prod()\n",
    "ra_VGT = (1 + rt.VNQ).prod()\n",
    "ra_VNQ = (1 + rt.VT).prod()\n",
    "ra_VT = (1 + rt.VTI).prod()\n",
    "ra_VTI = (1 + rt.VWO).prod()\n",
    "ra_VWO = (1 + rt['NAFTRAC.MX']).prod()\n",
    "\n",
    "\n",
    "ren_arit_tabla = pd.DataFrame( {'Rendimiento aritmetico' : [ra_NAF, ra_VEA, ra_VGT, ra_VNQ, ra_VT, ra_VTI, ra_VWO] \n",
    "    \n",
    "                   })\n",
    "\n",
    "ren_arit_tabla\n"
   ]
  },
  {
   "cell_type": "markdown",
   "metadata": {},
   "source": [
    "\n",
    "5%, Grafique cada una de las acciones, eje X volatilidad, eje Y valor esperado\n"
   ]
  },
  {
   "cell_type": "code",
   "execution_count": 77,
   "metadata": {},
   "outputs": [
    {
     "data": {
      "text/html": [
       "<div>\n",
       "<style scoped>\n",
       "    .dataframe tbody tr th:only-of-type {\n",
       "        vertical-align: middle;\n",
       "    }\n",
       "\n",
       "    .dataframe tbody tr th {\n",
       "        vertical-align: top;\n",
       "    }\n",
       "\n",
       "    .dataframe thead th {\n",
       "        text-align: right;\n",
       "    }\n",
       "</style>\n",
       "<table border=\"1\" class=\"dataframe\">\n",
       "  <thead>\n",
       "    <tr style=\"text-align: right;\">\n",
       "      <th></th>\n",
       "      <th>valor_esperado</th>\n",
       "      <th>volatilidad</th>\n",
       "    </tr>\n",
       "  </thead>\n",
       "  <tbody>\n",
       "    <tr>\n",
       "      <th>NAFTRAC.MX</th>\n",
       "      <td>0.040573</td>\n",
       "      <td>0.156325</td>\n",
       "    </tr>\n",
       "    <tr>\n",
       "      <th>VEA</th>\n",
       "      <td>0.088472</td>\n",
       "      <td>0.177063</td>\n",
       "    </tr>\n",
       "    <tr>\n",
       "      <th>VGT</th>\n",
       "      <td>0.238731</td>\n",
       "      <td>0.225314</td>\n",
       "    </tr>\n",
       "    <tr>\n",
       "      <th>VNQ</th>\n",
       "      <td>0.095854</td>\n",
       "      <td>0.210813</td>\n",
       "    </tr>\n",
       "    <tr>\n",
       "      <th>VT</th>\n",
       "      <td>0.117759</td>\n",
       "      <td>0.175726</td>\n",
       "    </tr>\n",
       "    <tr>\n",
       "      <th>VTI</th>\n",
       "      <td>0.146369</td>\n",
       "      <td>0.181139</td>\n",
       "    </tr>\n",
       "    <tr>\n",
       "      <th>VWO</th>\n",
       "      <td>0.083457</td>\n",
       "      <td>0.209279</td>\n",
       "    </tr>\n",
       "  </tbody>\n",
       "</table>\n",
       "</div>"
      ],
      "text/plain": [
       "            valor_esperado  volatilidad\n",
       "NAFTRAC.MX        0.040573     0.156325\n",
       "VEA               0.088472     0.177063\n",
       "VGT               0.238731     0.225314\n",
       "VNQ               0.095854     0.210813\n",
       "VT                0.117759     0.175726\n",
       "VTI               0.146369     0.181139\n",
       "VWO               0.083457     0.209279"
      ]
     },
     "execution_count": 77,
     "metadata": {},
     "output_type": "execute_result"
    }
   ],
   "source": [
    "p_acciones = pd.DataFrame() \n",
    "\n",
    "p_acciones['valor_esperado'] = ve_p = rt.mean() * 252\n",
    "p_acciones['volatilidad'] = sd_p = rt.std() * np.sqrt(252)\n",
    "\n",
    "p_acciones"
   ]
  },
  {
   "cell_type": "code",
   "execution_count": 78,
   "metadata": {
    "scrolled": true
   },
   "outputs": [
    {
     "data": {
      "text/plain": [
       "Text(0, 0.5, 'Expected value')"
      ]
     },
     "execution_count": 78,
     "metadata": {},
     "output_type": "execute_result"
    },
    {
     "data": {
      "image/png": "[encoded data removed]",
      "text/plain": [
       "<Figure size 640x480 with 1 Axes>"
      ]
     },
     "metadata": {},
     "output_type": "display_data"
    }
   ],
   "source": [
    "# Inversión en el 100% de los activos\n",
    "plt.scatter(p_acciones.volatilidad, p_acciones.valor_esperado, c=\"r\")\n",
    "plt.text(p_acciones.volatilidad[0], p_acciones.valor_esperado[0], 'NAFTRAC.MX')\n",
    "plt.text(p_acciones.volatilidad[1], p_acciones.valor_esperado[1], 'VEA')\n",
    "plt.text(p_acciones.volatilidad[2], p_acciones.valor_esperado[2], 'VGT')\n",
    "plt.text(p_acciones.volatilidad[3], p_acciones.valor_esperado[3], 'VNQ')\n",
    "plt.text(p_acciones.volatilidad[4], p_acciones.valor_esperado[4], 'VT')\n",
    "plt.text(p_acciones.volatilidad[5], p_acciones.valor_esperado[5], 'VTI')\n",
    "plt.text(p_acciones.volatilidad[6], p_acciones.valor_esperado[6], 'VWO')\n",
    "plt.grid()\n",
    "plt.xlabel(\"$\\sigma$\")\n",
    "plt.ylabel(\"Expected value\")"
   ]
  },
  {
   "cell_type": "markdown",
   "metadata": {},
   "source": [
    "# Explicacion "
   ]
  },
  {
   "cell_type": "markdown",
   "metadata": {},
   "source": [
    "Como podemos ver primero tenemos que dejar que los datos nos hablen, antes de hacer nuestras interpretaciones. En este caso podemos ver como El indice NAFTRAC.MX es de los que tiene una volatilidad mas baja, por lo que algo el activo mexicano resulta ser el que tiene menor riesgo, aunque tambien presenta el menor rendimiento. \n",
    "\n",
    "Caso contrario al VGT que pese a que presente un rendimiento o ganancia esperado muy alta, tambien tiene mucha volatilidad, por que aqui comprabamos que a mayor ganancia hay mayor riesgo, aunque esto no es una ley."
   ]
  },
  {
   "cell_type": "markdown",
   "metadata": {},
   "source": [
    "20% Crea 10000 portafolios con los 3 ETF's y grafique los resultados\n",
    "\n",
    "Explica la gráfica, porque es importante o interesante esta visualización"
   ]
  },
  {
   "cell_type": "code",
   "execution_count": 100,
   "metadata": {},
   "outputs": [
    {
     "data": {
      "text/plain": [
       "(0.11176170134496945,\n",
       " 0.16715781859967532,\n",
       " array([0.1604543 , 0.18581491, 0.12210766, 0.04609763, 0.07832181,\n",
       "        0.1913106 , 0.21589309]))"
      ]
     },
     "execution_count": 100,
     "metadata": {},
     "output_type": "execute_result"
    }
   ],
   "source": [
    "# Crea una función que retorne el rendimiento esperado y la varianza de un portafolio\n",
    "def random_portafolio(returns):\n",
    "    def rand_weights(n):\n",
    "        k = np.random.rand(n)\n",
    "        return k / sum(k)\n",
    "    # Definimos las constantes\n",
    "    means = rt.mean()\n",
    "    sigma = returns.cov()\n",
    "    # Obtenemos pesos\n",
    "    n_act = len(rt.keys())\n",
    "    w = rand_weights(n_act)\n",
    "    # Rendimiento esperado\n",
    "    re = w.dot(means) * 252\n",
    "    # Varianza\n",
    "    variance = w.dot(sigma).dot(w.T) \n",
    "    vol = np.sqrt(variance) * np.sqrt(252)\n",
    "    return re, vol, w\n",
    "random_portafolio(rt)"
   ]
  },
  {
   "cell_type": "code",
   "execution_count": 101,
   "metadata": {},
   "outputs": [],
   "source": [
    "# Simula 500 portafolios \n",
    "portafolio4_act_returns = []\n",
    "portafolio4_act_vol = []\n",
    "weigths = []\n",
    "for i in range(500):\n",
    "    mu, sigma, w = random_portafolio(rt)\n",
    "    portafolio4_act_returns.append(mu)\n",
    "    portafolio4_act_vol.append(sigma)\n",
    "    weigths.append(w)\n",
    "\n",
    "    \n",
    "df_final = pd.DataFrame()\n",
    "df_final['returns'] = portafolio4_act_returns\n",
    "df_final['sigma'] = portafolio4_act_vol\n",
    "df_final['w'] = weigths"
   ]
  },
  {
   "cell_type": "code",
   "execution_count": 102,
   "metadata": {},
   "outputs": [
    {
     "data": {
      "text/plain": [
       "<matplotlib.collections.PathCollection at 0x7faa595ea380>"
      ]
     },
     "execution_count": 102,
     "metadata": {},
     "output_type": "execute_result"
    },
    {
     "data": {
      "image/png": "[encoded data removed]",
      "text/plain": [
       "<Figure size 640x480 with 1 Axes>"
      ]
     },
     "metadata": {},
     "output_type": "display_data"
    }
   ],
   "source": [
    "plt.scatter(df_final.sigma, df_final.returns)"
   ]
  },
  {
   "cell_type": "markdown",
   "metadata": {},
   "source": [
    "10% ¿Cuál es el portafolio de mínima varianza?"
   ]
  },
  {
   "cell_type": "code",
   "execution_count": 103,
   "metadata": {},
   "outputs": [
    {
     "data": {
      "text/plain": [
       "array([array([0.30586477, 0.14131476, 0.09873122, 0.15263443, 0.14622295,\n",
       "              0.14063578, 0.01459609])                                   ],\n",
       "      dtype=object)"
      ]
     },
     "execution_count": 103,
     "metadata": {},
     "output_type": "execute_result"
    }
   ],
   "source": [
    "df_final[df_final.sigma == df_final.sigma.min()].w.values"
   ]
  },
  {
   "cell_type": "markdown",
   "metadata": {},
   "source": [
    "10% Crea una regresiíon lineal con estos activos, calcula el R2, y dame la ecuación\n"
   ]
  },
  {
   "cell_type": "code",
   "execution_count": 82,
   "metadata": {},
   "outputs": [],
   "source": [
    "from sklearn.linear_model import LinearRegression"
   ]
  },
  {
   "cell_type": "code",
   "execution_count": 83,
   "metadata": {},
   "outputs": [],
   "source": [
    "resultados_final = pd.DataFrame()\n",
    "resultados_final['valor_esperado'] = rt.mean()*252\n",
    "resultados_final['volatilidad'] = rt.std() * np.sqrt(252)"
   ]
  },
  {
   "cell_type": "code",
   "execution_count": 84,
   "metadata": {},
   "outputs": [],
   "source": [
    "y = resultados_final[['valor_esperado']]\n",
    "X = resultados_final[['volatilidad']]\n",
    "model = LinearRegression().fit(X,y)"
   ]
  },
  {
   "cell_type": "code",
   "execution_count": 85,
   "metadata": {},
   "outputs": [
    {
     "data": {
      "text/plain": [
       "<matplotlib.collections.PathCollection at 0x7faa20521630>"
      ]
     },
     "execution_count": 85,
     "metadata": {},
     "output_type": "execute_result"
    },
    {
     "data": {
      "image/png": "[encoded data removed]",
      "text/plain": [
       "<Figure size 640x480 with 1 Axes>"
      ]
     },
     "metadata": {},
     "output_type": "display_data"
    }
   ],
   "source": [
    "plt.scatter(resultados_final.volatilidad, resultados_final.valor_esperado)"
   ]
  },
  {
   "cell_type": "code",
   "execution_count": 86,
   "metadata": {},
   "outputs": [],
   "source": [
    "resultados_final['predicciones'] = model.predict(X)"
   ]
  },
  {
   "cell_type": "code",
   "execution_count": 87,
   "metadata": {},
   "outputs": [
    {
     "data": {
      "text/plain": [
       "[<matplotlib.lines.Line2D at 0x7faa20334a90>]"
      ]
     },
     "execution_count": 87,
     "metadata": {},
     "output_type": "execute_result"
    },
    {
     "data": {
      "image/png": "[encoded data removed]",
      "text/plain": [
       "<Figure size 640x480 with 1 Axes>"
      ]
     },
     "metadata": {},
     "output_type": "display_data"
    }
   ],
   "source": [
    "plt.scatter(resultados_final.volatilidad, resultados_final.valor_esperado)\n",
    "plt.plot(resultados_final.volatilidad, resultados_final.predicciones)"
   ]
  }
 ],
 "metadata": {
  "kernelspec": {
   "display_name": "Python 3 (ipykernel)",
   "language": "python",
   "name": "python3"
  },
  "language_info": {
   "codemirror_mode": {
    "name": "ipython",
    "version": 3
   },
   "file_extension": ".py",
   "mimetype": "text/x-python",
   "name": "python",
   "nbconvert_exporter": "python",
   "pygments_lexer": "ipython3",
   "version": "3.10.12"
  }
 },
 "nbformat": 4,
 "nbformat_minor": 4
}
