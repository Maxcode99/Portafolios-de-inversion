{
 "cells": [
  {
   "cell_type": "markdown",
   "id": "f89771ed-dd8e-4d94-940d-0585ce65de81",
   "metadata": {},
   "source": [
    "# 1 "
   ]
  },
  {
   "cell_type": "markdown",
   "id": "a72a4c36-9643-4d0f-a701-72dc30064d01",
   "metadata": {},
   "source": [
    "Tome esta referencia\n",
    "\n",
    "inicio: 2015-01-01\n",
    "\n",
    "fin: 2023-01-01\n",
    "\n",
    " \n",
    "\n",
    "¿Cuál es la beta de Amazon respecto al mercado de Estados Unidos?\n",
    "\n",
    "Utiliza el Adj Close, no el Close\n"
   ]
  },
  {
   "cell_type": "code",
   "execution_count": 1,
   "id": "94224ee2-aaf5-4c80-a0db-06bf86c5ed80",
   "metadata": {},
   "outputs": [
    {
     "name": "stdout",
     "output_type": "stream",
     "text": [
      "[*********************100%%**********************]  2 of 2 completed\n"
     ]
    },
    {
     "data": {
      "text/html": [
       "<div>\n",
       "<style scoped>\n",
       "    .dataframe tbody tr th:only-of-type {\n",
       "        vertical-align: middle;\n",
       "    }\n",
       "\n",
       "    .dataframe tbody tr th {\n",
       "        vertical-align: top;\n",
       "    }\n",
       "\n",
       "    .dataframe thead th {\n",
       "        text-align: right;\n",
       "    }\n",
       "</style>\n",
       "<table border=\"1\" class=\"dataframe\">\n",
       "  <thead>\n",
       "    <tr style=\"text-align: right;\">\n",
       "      <th></th>\n",
       "      <th>AMZN</th>\n",
       "      <th>VTI</th>\n",
       "    </tr>\n",
       "    <tr>\n",
       "      <th>Date</th>\n",
       "      <th></th>\n",
       "      <th></th>\n",
       "    </tr>\n",
       "  </thead>\n",
       "  <tbody>\n",
       "    <tr>\n",
       "      <th>1997-05-15</th>\n",
       "      <td>0.097917</td>\n",
       "      <td>NaN</td>\n",
       "    </tr>\n",
       "    <tr>\n",
       "      <th>1997-05-16</th>\n",
       "      <td>0.086458</td>\n",
       "      <td>NaN</td>\n",
       "    </tr>\n",
       "    <tr>\n",
       "      <th>1997-05-19</th>\n",
       "      <td>0.085417</td>\n",
       "      <td>NaN</td>\n",
       "    </tr>\n",
       "    <tr>\n",
       "      <th>1997-05-20</th>\n",
       "      <td>0.081771</td>\n",
       "      <td>NaN</td>\n",
       "    </tr>\n",
       "    <tr>\n",
       "      <th>1997-05-21</th>\n",
       "      <td>0.071354</td>\n",
       "      <td>NaN</td>\n",
       "    </tr>\n",
       "    <tr>\n",
       "      <th>...</th>\n",
       "      <td>...</td>\n",
       "      <td>...</td>\n",
       "    </tr>\n",
       "    <tr>\n",
       "      <th>2022-12-23</th>\n",
       "      <td>85.250000</td>\n",
       "      <td>189.234634</td>\n",
       "    </tr>\n",
       "    <tr>\n",
       "      <th>2022-12-27</th>\n",
       "      <td>83.040001</td>\n",
       "      <td>188.443756</td>\n",
       "    </tr>\n",
       "    <tr>\n",
       "      <th>2022-12-28</th>\n",
       "      <td>81.820000</td>\n",
       "      <td>186.071167</td>\n",
       "    </tr>\n",
       "    <tr>\n",
       "      <th>2022-12-29</th>\n",
       "      <td>84.180000</td>\n",
       "      <td>189.491669</td>\n",
       "    </tr>\n",
       "    <tr>\n",
       "      <th>2022-12-30</th>\n",
       "      <td>84.000000</td>\n",
       "      <td>189.007263</td>\n",
       "    </tr>\n",
       "  </tbody>\n",
       "</table>\n",
       "<p>6451 rows × 2 columns</p>\n",
       "</div>"
      ],
      "text/plain": [
       "                 AMZN         VTI\n",
       "Date                             \n",
       "1997-05-15   0.097917         NaN\n",
       "1997-05-16   0.086458         NaN\n",
       "1997-05-19   0.085417         NaN\n",
       "1997-05-20   0.081771         NaN\n",
       "1997-05-21   0.071354         NaN\n",
       "...               ...         ...\n",
       "2022-12-23  85.250000  189.234634\n",
       "2022-12-27  83.040001  188.443756\n",
       "2022-12-28  81.820000  186.071167\n",
       "2022-12-29  84.180000  189.491669\n",
       "2022-12-30  84.000000  189.007263\n",
       "\n",
       "[6451 rows x 2 columns]"
      ]
     },
     "execution_count": 1,
     "metadata": {},
     "output_type": "execute_result"
    }
   ],
   "source": [
    "# Bajamos los ETF de yahoo\n",
    "import yfinance as yf\n",
    "import pandas as pd\n",
    "import numpy as np \n",
    "import matplotlib.pyplot as plt\n",
    "\n",
    "#VTI, es el indice que tiene todas las empresas del mercado gringo \n",
    "\n",
    "\n",
    "tickers = ['VTI','AMZN']\n",
    "start_date = '2015-01-01'\n",
    "end_date = \"2023-01-01\"\n",
    "\n",
    "\n",
    "St = yf.download(tickers, end=end_date)['Adj Close']\n",
    "St"
   ]
  },
  {
   "cell_type": "code",
   "execution_count": 2,
   "id": "afd35ecd-c4e6-4106-9b25-40fdd06796b1",
   "metadata": {},
   "outputs": [
    {
     "data": {
      "text/plain": [
       "1.089"
      ]
     },
     "execution_count": 2,
     "metadata": {},
     "output_type": "execute_result"
    }
   ],
   "source": [
    "rt = St.pct_change().dropna()\n",
    "\n",
    "market_beta_google = rt.cov()['AMZN']['VTI'] / rt.VTI.var()\n",
    "np.round(market_beta_google, 3) "
   ]
  },
  {
   "cell_type": "markdown",
   "id": "b9d8a216-202e-4406-b99a-a077b30f8c55",
   "metadata": {},
   "source": [
    "# 2 "
   ]
  },
  {
   "cell_type": "markdown",
   "id": "dc89eb1c-0413-48c8-97f0-239ab847445e",
   "metadata": {},
   "source": [
    "¿Cuál es el ratio de sharpe de Amazon usando un rendimiento de 3% anual?"
   ]
  },
  {
   "cell_type": "code",
   "execution_count": 3,
   "id": "2ee2c9e6-cf04-498d-af72-f2b2cc1d74d1",
   "metadata": {},
   "outputs": [],
   "source": [
    "sigma = rt.cov() \n",
    "rf = 0.03"
   ]
  },
  {
   "cell_type": "code",
   "execution_count": 4,
   "id": "7ab0f394-ffdb-491e-af7e-2aa44011c057",
   "metadata": {},
   "outputs": [
    {
     "data": {
      "text/plain": [
       "0.713"
      ]
     },
     "execution_count": 4,
     "metadata": {},
     "output_type": "execute_result"
    }
   ],
   "source": [
    "m_anual = rt.mean() * 252 \n",
    "std_anual = rt.std() * np.sqrt(252) \n",
    "\n",
    "rs = ( m_anual - rf ) /  std_anual\n",
    "np.round(rs['AMZN'], 3) "
   ]
  },
  {
   "cell_type": "code",
   "execution_count": 5,
   "id": "1e8fb51e-2148-4814-85e5-5c282a17e2fe",
   "metadata": {},
   "outputs": [
    {
     "data": {
      "text/plain": [
       "AMZN    0.712818\n",
       "VTI     0.421083\n",
       "dtype: float64"
      ]
     },
     "execution_count": 5,
     "metadata": {},
     "output_type": "execute_result"
    }
   ],
   "source": [
    "rs "
   ]
  },
  {
   "cell_type": "code",
   "execution_count": 6,
   "id": "6332717c-ab45-4ae4-848b-b3c8ef4c8728",
   "metadata": {},
   "outputs": [
    {
     "data": {
      "text/plain": [
       "0.421"
      ]
     },
     "execution_count": 6,
     "metadata": {},
     "output_type": "execute_result"
    }
   ],
   "source": [
    "np.round(rs['VTI'], 3) "
   ]
  },
  {
   "cell_type": "markdown",
   "id": "cea9dfa1-b8af-4a46-baa0-2a9c1ac5294c",
   "metadata": {},
   "source": [
    "# 5\n"
   ]
  },
  {
   "cell_type": "markdown",
   "id": "fb6864bc-92c2-42dd-867b-b7e260c9c422",
   "metadata": {},
   "source": [
    "Según el modelo CAPM, con un rendimiento fijo de 3% y 9% en el largo plazo, cuál es el rendimiento esperado según el CAPM"
   ]
  },
  {
   "cell_type": "code",
   "execution_count": 7,
   "id": "489654d2-1d20-464b-88b9-41a23434f2e8",
   "metadata": {},
   "outputs": [],
   "source": [
    "### Ejemplo\n",
    "rf = 0.03\n",
    "activo = 0.11\n",
    "mercado = 0.9"
   ]
  },
  {
   "cell_type": "code",
   "execution_count": null,
   "id": "5cb3e760-d99a-492b-a9e4-a2935a81f618",
   "metadata": {},
   "outputs": [],
   "source": []
  },
  {
   "cell_type": "code",
   "execution_count": null,
   "id": "a41d386c-c125-4d99-a21d-987949d87cb6",
   "metadata": {},
   "outputs": [],
   "source": []
  }
 ],
 "metadata": {
  "kernelspec": {
   "display_name": "Python 3 (ipykernel)",
   "language": "python",
   "name": "python3"
  },
  "language_info": {
   "codemirror_mode": {
    "name": "ipython",
    "version": 3
   },
   "file_extension": ".py",
   "mimetype": "text/x-python",
   "name": "python",
   "nbconvert_exporter": "python",
   "pygments_lexer": "ipython3",
   "version": "3.10.12"
  }
 },
 "nbformat": 4,
 "nbformat_minor": 5
}
