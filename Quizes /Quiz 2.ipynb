{
 "cells": [
  {
   "cell_type": "markdown",
   "id": "cd9f47b4-750b-4d64-8b9c-6e76d7f86093",
   "metadata": {},
   "source": [
    "# Quiz 2"
   ]
  },
  {
   "cell_type": "code",
   "execution_count": 2,
   "id": "7b157c9d-bfcc-4be7-8b62-f8f295e5bd4d",
   "metadata": {},
   "outputs": [],
   "source": [
    "import yfinance as yf\n",
    "import pandas as pd\n",
    "import numpy as np \n",
    "import matplotlib.pyplot as plt"
   ]
  },
  {
   "cell_type": "markdown",
   "id": "1461a35d-5ec2-4936-831c-7ca24399b806",
   "metadata": {},
   "source": [
    "Calcule el rendimiento esperado de un portafolio compuesto 40% por el activo A, 40% por el activo B y 20% por el activo C."
   ]
  },
  {
   "cell_type": "code",
   "execution_count": 11,
   "id": "c78f1331-2973-47f6-875b-ef820980d340",
   "metadata": {},
   "outputs": [
    {
     "data": {
      "text/html": [
       "<div>\n",
       "<style scoped>\n",
       "    .dataframe tbody tr th:only-of-type {\n",
       "        vertical-align: middle;\n",
       "    }\n",
       "\n",
       "    .dataframe tbody tr th {\n",
       "        vertical-align: top;\n",
       "    }\n",
       "\n",
       "    .dataframe thead th {\n",
       "        text-align: right;\n",
       "    }\n",
       "</style>\n",
       "<table border=\"1\" class=\"dataframe\">\n",
       "  <thead>\n",
       "    <tr style=\"text-align: right;\">\n",
       "      <th></th>\n",
       "      <th>prob</th>\n",
       "      <th>a</th>\n",
       "      <th>b</th>\n",
       "      <th>c</th>\n",
       "    </tr>\n",
       "  </thead>\n",
       "  <tbody>\n",
       "    <tr>\n",
       "      <th>0</th>\n",
       "      <td>0.2</td>\n",
       "      <td>-0.20</td>\n",
       "      <td>-0.05</td>\n",
       "      <td>0.05</td>\n",
       "    </tr>\n",
       "    <tr>\n",
       "      <th>1</th>\n",
       "      <td>0.3</td>\n",
       "      <td>0.05</td>\n",
       "      <td>0.10</td>\n",
       "      <td>0.03</td>\n",
       "    </tr>\n",
       "    <tr>\n",
       "      <th>2</th>\n",
       "      <td>0.5</td>\n",
       "      <td>0.40</td>\n",
       "      <td>0.15</td>\n",
       "      <td>0.02</td>\n",
       "    </tr>\n",
       "  </tbody>\n",
       "</table>\n",
       "</div>"
      ],
      "text/plain": [
       "   prob     a     b     c\n",
       "0   0.2 -0.20 -0.05  0.05\n",
       "1   0.3  0.05  0.10  0.03\n",
       "2   0.5  0.40  0.15  0.02"
      ]
     },
     "execution_count": 11,
     "metadata": {},
     "output_type": "execute_result"
    }
   ],
   "source": [
    "tabla = pd.DataFrame({\n",
    "    'prob': [0.2, 0.3, 0.5],\n",
    "    'a': [-0.2, 0.05, 0.4],\n",
    "    'b': [-0.05, 0.1, 0.15],\n",
    "    'c': [0.05, 0.03, 0.02]\n",
    "})\n",
    "tabla "
   ]
  },
  {
   "cell_type": "code",
   "execution_count": 12,
   "id": "67fe7a76-f0a0-4ccf-8e97-c9118259e516",
   "metadata": {},
   "outputs": [
    {
     "data": {
      "text/html": [
       "<div>\n",
       "<style scoped>\n",
       "    .dataframe tbody tr th:only-of-type {\n",
       "        vertical-align: middle;\n",
       "    }\n",
       "\n",
       "    .dataframe tbody tr th {\n",
       "        vertical-align: top;\n",
       "    }\n",
       "\n",
       "    .dataframe thead th {\n",
       "        text-align: right;\n",
       "    }\n",
       "</style>\n",
       "<table border=\"1\" class=\"dataframe\">\n",
       "  <thead>\n",
       "    <tr style=\"text-align: right;\">\n",
       "      <th></th>\n",
       "      <th>prob</th>\n",
       "      <th>a</th>\n",
       "      <th>b</th>\n",
       "      <th>c</th>\n",
       "      <th>tabla_abc</th>\n",
       "    </tr>\n",
       "  </thead>\n",
       "  <tbody>\n",
       "    <tr>\n",
       "      <th>0</th>\n",
       "      <td>0.2</td>\n",
       "      <td>-0.20</td>\n",
       "      <td>-0.05</td>\n",
       "      <td>0.05</td>\n",
       "      <td>-0.090</td>\n",
       "    </tr>\n",
       "    <tr>\n",
       "      <th>1</th>\n",
       "      <td>0.3</td>\n",
       "      <td>0.05</td>\n",
       "      <td>0.10</td>\n",
       "      <td>0.03</td>\n",
       "      <td>0.066</td>\n",
       "    </tr>\n",
       "    <tr>\n",
       "      <th>2</th>\n",
       "      <td>0.5</td>\n",
       "      <td>0.40</td>\n",
       "      <td>0.15</td>\n",
       "      <td>0.02</td>\n",
       "      <td>0.224</td>\n",
       "    </tr>\n",
       "  </tbody>\n",
       "</table>\n",
       "</div>"
      ],
      "text/plain": [
       "   prob     a     b     c  tabla_abc\n",
       "0   0.2 -0.20 -0.05  0.05     -0.090\n",
       "1   0.3  0.05  0.10  0.03      0.066\n",
       "2   0.5  0.40  0.15  0.02      0.224"
      ]
     },
     "execution_count": 12,
     "metadata": {},
     "output_type": "execute_result"
    }
   ],
   "source": [
    "tabla['tabla_abc'] = 0.4 * tabla.a + 0.4 * tabla.b + 0.2 * tabla.c\n",
    "tabla"
   ]
  },
  {
   "cell_type": "code",
   "execution_count": 15,
   "id": "fb0b4580-dff2-40bc-8ab5-5c06c6f0a2fb",
   "metadata": {},
   "outputs": [
    {
     "data": {
      "text/plain": [
       "0.114"
      ]
     },
     "execution_count": 15,
     "metadata": {},
     "output_type": "execute_result"
    }
   ],
   "source": [
    "veP  = (tabla.prob * tabla.tabla_abc).sum()\n",
    "np.round(veP, 3) "
   ]
  },
  {
   "cell_type": "markdown",
   "id": "5a09f12d-feec-4642-8863-5af4e1418817",
   "metadata": {},
   "source": [
    "Un inversionista tiene un capital total para invertir de 50,000, y quiere invertir en un portafolio con tres activos A, B y C, cuyos rendimientos esperados son:\n",
    "\n",
    "E[RA]=20%\n",
    "\n",
    "E[RB]=15%\n",
    "\n",
    "E[RC]=17%\n",
    "\n",
    "respectivamente. Si el inversionista elige invertir 5,000 en el activo A, $22,500 en el activo B y 22,500 en el activo C, ¿cuál es el rendimiento esperado de su portafolio?\n"
   ]
  },
  {
   "cell_type": "code",
   "execution_count": 21,
   "id": "377cb649-4acd-48e2-a7a3-7b8c73139973",
   "metadata": {},
   "outputs": [],
   "source": [
    "erA = 0.20\n",
    "erB = 0.15\n",
    "erC = 0.17\n"
   ]
  },
  {
   "cell_type": "code",
   "execution_count": 28,
   "id": "d54988b4-f68e-49c1-b113-055723eb0366",
   "metadata": {},
   "outputs": [
    {
     "ename": "IndentationError",
     "evalue": "unexpected indent (2147148173.py, line 2)",
     "output_type": "error",
     "traceback": [
      "\u001b[0;36m  Cell \u001b[0;32mIn[28], line 2\u001b[0;36m\u001b[0m\n\u001b[0;31m    'RE': [0.20, 0.15, 0.17]\u001b[0m\n\u001b[0m    ^\u001b[0m\n\u001b[0;31mIndentationError\u001b[0m\u001b[0;31m:\u001b[0m unexpected indent\n"
     ]
    }
   ],
   "source": [
    "df = pd.DataFrame(index=['Expansion', 'Normal', 'Recesion', 'Depresion'])\n",
    "    'RE': [0.20, 0.15, 0.17]\n",
    "    \n",
    ")\n",
    "df"
   ]
  },
  {
   "cell_type": "code",
   "execution_count": null,
   "id": "5a309e1d-0d83-451d-a873-fc192793fadd",
   "metadata": {},
   "outputs": [],
   "source": []
  },
  {
   "cell_type": "code",
   "execution_count": null,
   "id": "62119967-bf17-4c40-9b80-9ec0b8798796",
   "metadata": {},
   "outputs": [],
   "source": []
  },
  {
   "cell_type": "code",
   "execution_count": null,
   "id": "f849a08e-0df8-48ea-b3cd-fc8392ad71f8",
   "metadata": {},
   "outputs": [],
   "source": []
  }
 ],
 "metadata": {
  "kernelspec": {
   "display_name": "Python 3 (ipykernel)",
   "language": "python",
   "name": "python3"
  },
  "language_info": {
   "codemirror_mode": {
    "name": "ipython",
    "version": 3
   },
   "file_extension": ".py",
   "mimetype": "text/x-python",
   "name": "python",
   "nbconvert_exporter": "python",
   "pygments_lexer": "ipython3",
   "version": "3.10.12"
  }
 },
 "nbformat": 4,
 "nbformat_minor": 5
}
